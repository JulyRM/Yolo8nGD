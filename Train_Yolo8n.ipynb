{
 "cells": [
  {
   "cell_type": "code",
   "execution_count": 1,
   "metadata": {
    "collapsed": true,
    "pycharm": {
     "name": "#%%\n"
    }
   },
   "outputs": [
    {
     "name": "stdout",
     "output_type": "stream",
     "text": [
      "Looking in indexes: https://download.pytorch.org/whl/cu121\n",
      "Collecting torch\n",
      "  Using cached https://download.pytorch.org/whl/cu121/torch-2.1.2%2Bcu121-cp311-cp311-win_amd64.whl (2474.0 MB)\n",
      "Collecting torchvision\n",
      "  Using cached https://download.pytorch.org/whl/cu121/torchvision-0.16.2%2Bcu121-cp311-cp311-win_amd64.whl (5.6 MB)\n",
      "Collecting torchaudio\n",
      "  Using cached https://download.pytorch.org/whl/cu121/torchaudio-2.1.2%2Bcu121-cp311-cp311-win_amd64.whl (4.0 MB)\n",
      "Collecting networkx\n",
      "  Using cached https://download.pytorch.org/whl/networkx-3.0-py3-none-any.whl (2.0 MB)\n",
      "Requirement already satisfied: jinja2 in c:\\users\\gibad\\pycharmprojects\\yolo8ngd\\venv\\lib\\site-packages (from torch) (3.1.3)\n",
      "Collecting sympy\n",
      "  Using cached https://download.pytorch.org/whl/sympy-1.12-py3-none-any.whl (5.7 MB)\n",
      "Collecting typing-extensions\n",
      "  Using cached https://download.pytorch.org/whl/typing_extensions-4.4.0-py3-none-any.whl (26 kB)\n",
      "Collecting fsspec\n",
      "  Using cached https://download.pytorch.org/whl/fsspec-2023.4.0-py3-none-any.whl (153 kB)\n",
      "Collecting filelock\n",
      "  Using cached https://download.pytorch.org/whl/filelock-3.9.0-py3-none-any.whl (9.7 kB)\n",
      "Requirement already satisfied: requests in c:\\users\\gibad\\pycharmprojects\\yolo8ngd\\venv\\lib\\site-packages (from torchvision) (2.31.0)\n",
      "Collecting pillow!=8.3.*,>=5.3.0\n",
      "  Using cached https://download.pytorch.org/whl/Pillow-9.3.0-cp311-cp311-win_amd64.whl (2.5 MB)\n",
      "Collecting numpy\n",
      "  Using cached https://download.pytorch.org/whl/numpy-1.24.1-cp311-cp311-win_amd64.whl (14.8 MB)\n",
      "Requirement already satisfied: MarkupSafe>=2.0 in c:\\users\\gibad\\pycharmprojects\\yolo8ngd\\venv\\lib\\site-packages (from jinja2->torch) (2.1.3)\n",
      "Requirement already satisfied: idna<4,>=2.5 in c:\\users\\gibad\\pycharmprojects\\yolo8ngd\\venv\\lib\\site-packages (from requests->torchvision) (3.6)\n",
      "Requirement already satisfied: charset-normalizer<4,>=2 in c:\\users\\gibad\\pycharmprojects\\yolo8ngd\\venv\\lib\\site-packages (from requests->torchvision) (3.3.2)\n",
      "Requirement already satisfied: urllib3<3,>=1.21.1 in c:\\users\\gibad\\pycharmprojects\\yolo8ngd\\venv\\lib\\site-packages (from requests->torchvision) (2.1.0)\n",
      "Requirement already satisfied: certifi>=2017.4.17 in c:\\users\\gibad\\pycharmprojects\\yolo8ngd\\venv\\lib\\site-packages (from requests->torchvision) (2023.11.17)\n",
      "Collecting mpmath>=0.19\n",
      "  Using cached https://download.pytorch.org/whl/mpmath-1.3.0-py3-none-any.whl (536 kB)\n",
      "Installing collected packages: mpmath, typing-extensions, sympy, networkx, fsspec, filelock, torch, pillow, numpy, torchvision, torchaudio\n",
      "Successfully installed filelock-3.9.0 fsspec-2023.4.0 mpmath-1.3.0 networkx-3.0 numpy-1.24.1 pillow-9.3.0 sympy-1.12 torch-2.1.2+cu121 torchaudio-2.1.2+cu121 torchvision-0.16.2+cu121 typing-extensions-4.4.0\n"
     ]
    },
    {
     "name": "stderr",
     "output_type": "stream",
     "text": [
      "WARNING: You are using pip version 21.3.1; however, version 23.3.2 is available.\n",
      "You should consider upgrading via the 'C:\\Users\\gibad\\PycharmProjects\\Yolo8nGD\\venv\\Scripts\\python.exe -m pip install --upgrade pip' command.\n"
     ]
    }
   ],
   "source": [
    "#Подключение Torch\n",
    "!pip3 install torch torchvision torchaudio --index-url https://download.pytorch.org/whl/cu121"
   ]
  },
  {
   "cell_type": "code",
   "execution_count": 1,
   "outputs": [
    {
     "name": "stdout",
     "output_type": "stream",
     "text": [
      "True\n"
     ]
    }
   ],
   "source": [
    "import torch\n",
    "print(torch.cuda.is_available())    #Проверка доступности для обучения видеокарты"
   ],
   "metadata": {
    "collapsed": false,
    "pycharm": {
     "name": "#%%\n"
    }
   }
  },
  {
   "cell_type": "code",
   "execution_count": 3,
   "outputs": [
    {
     "name": "stdout",
     "output_type": "stream",
     "text": [
      "Пакеты YOLO и ClearML установлены\n"
     ]
    }
   ],
   "source": [
    "#Установка пакетов YOLO и ClearML\n",
    "!pip install ultralytics\n",
    "!pip install clearml\n",
    "#Библиотека для очистки экрана\n",
    "from IPython import display\n",
    "# Очистить экран.\n",
    "display.clear_output()\n",
    "print('Пакеты YOLO и ClearML установлены')"
   ],
   "metadata": {
    "collapsed": false,
    "pycharm": {
     "name": "#%%\n"
    }
   }
  },
  {
   "cell_type": "code",
   "execution_count": 2,
   "outputs": [],
   "source": [
    "#Импорт библиотек\n",
    "from ultralytics import YOLO\n",
    "from clearml import Task"
   ],
   "metadata": {
    "collapsed": false,
    "pycharm": {
     "name": "#%%\n"
    }
   }
  },
  {
   "cell_type": "code",
   "execution_count": 3,
   "outputs": [
    {
     "name": "stdout",
     "output_type": "stream",
     "text": [
      "env: CLEARML_WEB_HOST=https://app.clear.ml\n",
      "env: CLEARML_API_HOST=https://api.clear.ml\n",
      "env: CLEARML_FILES_HOST=https://files.clear.ml\n",
      "env: CLEARML_API_ACCESS_KEY=DQOUT5JZW5R9B632MD9C\n",
      "env: CLEARML_API_SECRET_KEY=E4uim6ziCuKyOj7l4qmTBu1mGoC6MudDrMGstFF5wTZoaYEq7m\n"
     ]
    }
   ],
   "source": [
    "%env CLEARML_WEB_HOST=https://app.clear.ml\n",
    "%env CLEARML_API_HOST=https://api.clear.ml\n",
    "%env CLEARML_FILES_HOST=https://files.clear.ml\n",
    "%env CLEARML_API_ACCESS_KEY=DQOUT5JZW5R9B632MD9C\n",
    "%env CLEARML_API_SECRET_KEY=E4uim6ziCuKyOj7l4qmTBu1mGoC6MudDrMGstFF5wTZoaYEq7m\n"
   ],
   "metadata": {
    "collapsed": false,
    "pycharm": {
     "name": "#%%\n"
    }
   }
  },
  {
   "cell_type": "code",
   "execution_count": 4,
   "outputs": [
    {
     "name": "stdout",
     "output_type": "stream",
     "text": [
      "ClearML Task: created new task id=47255dcf022b480b8d0e736ed1eae154\n",
      "2024-01-18 22:40:44,342 - clearml.Task - INFO - Storing jupyter notebook directly as code\n",
      "ClearML results page: https://app.clear.ml/projects/2262de1bd95b4c66b95f82fb49d5b21f/experiments/47255dcf022b480b8d0e736ed1eae154/output/log\n"
     ]
    }
   ],
   "source": [
    "#Создание задачи в ClearML\n",
    "task = Task.init(\n",
    "    project_name='Gun_detection',\n",
    "    task_name='Train_YOLOv8n_200',\n",
    "    tags=['Train','YOLOv8n'])"
   ],
   "metadata": {
    "collapsed": false,
    "pycharm": {
     "name": "#%%\n"
    }
   }
  },
  {
   "cell_type": "code",
   "execution_count": 5,
   "outputs": [],
   "source": [
    "dataset_path = 'E:\\dataset.zip'\n",
    "data_path = 'E:\\dataset'"
   ],
   "metadata": {
    "collapsed": false,
    "pycharm": {
     "name": "#%%\n"
    }
   }
  },
  {
   "cell_type": "code",
   "execution_count": 6,
   "outputs": [
    {
     "data": {
      "text/plain": "True"
     },
     "execution_count": 6,
     "metadata": {},
     "output_type": "execute_result"
    }
   ],
   "source": [
    "#Выгрузка датасета в задачу ClearML\n",
    "task.upload_artifact(name='dataset', artifact_object=dataset_path)"
   ],
   "metadata": {
    "collapsed": false,
    "pycharm": {
     "name": "#%%\n"
    }
   }
  },
  {
   "cell_type": "code",
   "execution_count": 7,
   "outputs": [],
   "source": [
    "# Выбор типа модели YOLO.\n",
    "model = 'yolov8n' # yolov8n, yolov8s, yolov8m, yolov8l, yolov8x\n",
    "# Создание параметра типа модели в эксперименте ClearML.\n",
    "task.set_parameter('model', model)"
   ],
   "metadata": {
    "collapsed": false,
    "pycharm": {
     "name": "#%%\n"
    }
   }
  },
  {
   "cell_type": "code",
   "execution_count": 8,
   "outputs": [],
   "source": [
    "# Создание словаря переменных используемых в YOLO.\n",
    "# Через словарь есть возможность передавать данные из ClearML при клонировании эксперимента с новыми параметрами.\n",
    "args = dict(data = data_path + '/data.yaml',                          #путь к файлу данных, например coco128.yaml\n",
    "            epochs = 200,\t                                          #количество эпох для тренировок\n",
    "            patience =\t100,\t                                      #эпохи, чтобы дождаться отсутствия заметного улучшения для раннего прекращения тренировок\n",
    "            batch = 16,                                               #количество изображений в пакете (-1 для AutoBatch)\n",
    "            imgsz\t= 640,\t                                          #размер входных изображений как целое число\n",
    "            optimizer =\t'Adam',\t                                      #используемый оптимизатор, choice=[SGD, Adam, Adamax, AdamW, NAdam, RAdam, RMSProp, auto]\n",
    "            lr0\t= 1E-3,                                               #начальная скорость обучения (т.е. SGD=1E-2, Adam=1E-3)\n",
    "            lrf\t= 1E-3,\t                                              #конечная скорость обучения (lr0 * lrf)\n",
    "            verbose = True,\t                                          #печатать ли подробный вывод\n",
    "            val =\tTrue,\t                                          #проверить/проверить во время обучения\n",
    "            plots = True\n",
    "            )"
   ],
   "metadata": {
    "collapsed": false,
    "pycharm": {
     "name": "#%%\n"
    }
   }
  },
  {
   "cell_type": "code",
   "execution_count": 9,
   "outputs": [
    {
     "name": "stdout",
     "output_type": "stream",
     "text": [
      "\n",
      "                   from  n    params  module                                       arguments                     \n",
      "  0                  -1  1       464  ultralytics.nn.modules.conv.Conv             [3, 16, 3, 2]                 \n",
      "  1                  -1  1      4672  ultralytics.nn.modules.conv.Conv             [16, 32, 3, 2]                \n",
      "  2                  -1  1      7360  ultralytics.nn.modules.block.C2f             [32, 32, 1, True]             \n",
      "  3                  -1  1     18560  ultralytics.nn.modules.conv.Conv             [32, 64, 3, 2]                \n",
      "  4                  -1  2     49664  ultralytics.nn.modules.block.C2f             [64, 64, 2, True]             \n",
      "  5                  -1  1     73984  ultralytics.nn.modules.conv.Conv             [64, 128, 3, 2]               \n",
      "  6                  -1  2    197632  ultralytics.nn.modules.block.C2f             [128, 128, 2, True]           \n",
      "  7                  -1  1    295424  ultralytics.nn.modules.conv.Conv             [128, 256, 3, 2]              \n",
      "  8                  -1  1    460288  ultralytics.nn.modules.block.C2f             [256, 256, 1, True]           \n",
      "  9                  -1  1    164608  ultralytics.nn.modules.block.SPPF            [256, 256, 5]                 \n",
      " 10                  -1  1         0  torch.nn.modules.upsampling.Upsample         [None, 2, 'nearest']          \n",
      " 11             [-1, 6]  1         0  ultralytics.nn.modules.conv.Concat           [1]                           \n",
      " 12                  -1  1    148224  ultralytics.nn.modules.block.C2f             [384, 128, 1]                 \n",
      " 13                  -1  1         0  torch.nn.modules.upsampling.Upsample         [None, 2, 'nearest']          \n",
      " 14             [-1, 4]  1         0  ultralytics.nn.modules.conv.Concat           [1]                           \n",
      " 15                  -1  1     37248  ultralytics.nn.modules.block.C2f             [192, 64, 1]                  \n",
      " 16                  -1  1     36992  ultralytics.nn.modules.conv.Conv             [64, 64, 3, 2]                \n",
      " 17            [-1, 12]  1         0  ultralytics.nn.modules.conv.Concat           [1]                           \n",
      " 18                  -1  1    123648  ultralytics.nn.modules.block.C2f             [192, 128, 1]                 \n",
      " 19                  -1  1    147712  ultralytics.nn.modules.conv.Conv             [128, 128, 3, 2]              \n",
      " 20             [-1, 9]  1         0  ultralytics.nn.modules.conv.Concat           [1]                           \n",
      " 21                  -1  1    493056  ultralytics.nn.modules.block.C2f             [384, 256, 1]                 \n",
      " 22        [15, 18, 21]  1    897664  ultralytics.nn.modules.head.Detect           [80, [64, 128, 256]]          \n",
      "YOLOv8n summary: 225 layers, 3157200 parameters, 3157184 gradients, 8.9 GFLOPs\n",
      "\n",
      "Ultralytics YOLOv8.1.2 🚀 Python-3.11.5 torch-2.1.2+cu121 CUDA:0 (NVIDIA GeForce RTX 3070 Ti, 8191MiB)\n",
      "\u001B[34m\u001B[1mengine\\trainer: \u001B[0mtask=detect, mode=train, model=yolov8n.yaml, data=E:\\dataset/data.yaml, epochs=200, time=None, patience=100, batch=16, imgsz=640, save=True, save_period=-1, cache=False, device=None, workers=8, project=None, name=train2, exist_ok=False, pretrained=True, optimizer=Adam, verbose=True, seed=0, deterministic=True, single_cls=False, rect=False, cos_lr=False, close_mosaic=10, resume=False, amp=True, fraction=1.0, profile=False, freeze=None, multi_scale=False, overlap_mask=True, mask_ratio=4, dropout=0.0, val=True, split=val, save_json=False, save_hybrid=False, conf=None, iou=0.7, max_det=300, half=False, dnn=False, plots=True, source=None, vid_stride=1, stream_buffer=False, visualize=False, augment=False, agnostic_nms=False, classes=None, retina_masks=False, embed=None, show=False, save_frames=False, save_txt=False, save_conf=False, save_crop=False, show_labels=True, show_conf=True, show_boxes=True, line_width=None, format=torchscript, keras=False, optimize=False, int8=False, dynamic=False, simplify=False, opset=None, workspace=4, nms=False, lr0=0.001, lrf=0.001, momentum=0.937, weight_decay=0.0005, warmup_epochs=3.0, warmup_momentum=0.8, warmup_bias_lr=0.1, box=7.5, cls=0.5, dfl=1.5, pose=12.0, kobj=1.0, label_smoothing=0.0, nbs=64, hsv_h=0.015, hsv_s=0.7, hsv_v=0.4, degrees=0.0, translate=0.1, scale=0.5, shear=0.0, perspective=0.0, flipud=0.0, fliplr=0.5, mosaic=1.0, mixup=0.0, copy_paste=0.0, auto_augment=randaugment, erasing=0.4, crop_fraction=1.0, cfg=None, tracker=botsort.yaml, save_dir=runs\\detect\\train2\n",
      "Overriding model.yaml nc=80 with nc=2\n",
      "\n",
      "                   from  n    params  module                                       arguments                     \n",
      "  0                  -1  1       464  ultralytics.nn.modules.conv.Conv             [3, 16, 3, 2]                 \n",
      "  1                  -1  1      4672  ultralytics.nn.modules.conv.Conv             [16, 32, 3, 2]                \n",
      "  2                  -1  1      7360  ultralytics.nn.modules.block.C2f             [32, 32, 1, True]             \n",
      "  3                  -1  1     18560  ultralytics.nn.modules.conv.Conv             [32, 64, 3, 2]                \n",
      "  4                  -1  2     49664  ultralytics.nn.modules.block.C2f             [64, 64, 2, True]             \n",
      "  5                  -1  1     73984  ultralytics.nn.modules.conv.Conv             [64, 128, 3, 2]               \n",
      "  6                  -1  2    197632  ultralytics.nn.modules.block.C2f             [128, 128, 2, True]           \n",
      "  7                  -1  1    295424  ultralytics.nn.modules.conv.Conv             [128, 256, 3, 2]              \n",
      "  8                  -1  1    460288  ultralytics.nn.modules.block.C2f             [256, 256, 1, True]           \n",
      "  9                  -1  1    164608  ultralytics.nn.modules.block.SPPF            [256, 256, 5]                 \n",
      " 10                  -1  1         0  torch.nn.modules.upsampling.Upsample         [None, 2, 'nearest']          \n",
      " 11             [-1, 6]  1         0  ultralytics.nn.modules.conv.Concat           [1]                           \n",
      " 12                  -1  1    148224  ultralytics.nn.modules.block.C2f             [384, 128, 1]                 \n",
      " 13                  -1  1         0  torch.nn.modules.upsampling.Upsample         [None, 2, 'nearest']          \n",
      " 14             [-1, 4]  1         0  ultralytics.nn.modules.conv.Concat           [1]                           \n",
      " 15                  -1  1     37248  ultralytics.nn.modules.block.C2f             [192, 64, 1]                  \n",
      " 16                  -1  1     36992  ultralytics.nn.modules.conv.Conv             [64, 64, 3, 2]                \n",
      " 17            [-1, 12]  1         0  ultralytics.nn.modules.conv.Concat           [1]                           \n",
      " 18                  -1  1    123648  ultralytics.nn.modules.block.C2f             [192, 128, 1]                 \n",
      " 19                  -1  1    147712  ultralytics.nn.modules.conv.Conv             [128, 128, 3, 2]              \n",
      " 20             [-1, 9]  1         0  ultralytics.nn.modules.conv.Concat           [1]                           \n",
      " 21                  -1  1    493056  ultralytics.nn.modules.block.C2f             [384, 256, 1]                 \n",
      " 22        [15, 18, 21]  1    751702  ultralytics.nn.modules.head.Detect           [2, [64, 128, 256]]           \n",
      "YOLOv8n summary: 225 layers, 3011238 parameters, 3011222 gradients, 8.2 GFLOPs\n",
      "\n",
      "Freezing layer 'model.22.dfl.conv.weight'\n",
      "\u001B[34m\u001B[1mAMP: \u001B[0mrunning Automatic Mixed Precision (AMP) checks with YOLOv8n...\n",
      "\u001B[34m\u001B[1mAMP: \u001B[0mchecks passed ✅\n"
     ]
    },
    {
     "name": "stderr",
     "output_type": "stream",
     "text": [
      "\u001B[34m\u001B[1mtrain: \u001B[0mScanning E:\\dataset\\train\\labels.cache... 5406 images, 0 backgrounds, 0 corrupt: 100%|██████████| 5406/5406 [00:00<?, ?it/s]\n",
      "\u001B[34m\u001B[1mval: \u001B[0mScanning E:\\dataset\\train\\labels.cache... 5406 images, 0 backgrounds, 0 corrupt: 100%|██████████| 5406/5406 [00:00<?, ?it/s]\n"
     ]
    },
    {
     "name": "stdout",
     "output_type": "stream",
     "text": [
      "Plotting labels to runs\\detect\\train2\\labels.jpg... \n",
      "\u001B[34m\u001B[1moptimizer:\u001B[0m Adam(lr=0.001, momentum=0.937) with parameter groups 57 weight(decay=0.0), 64 weight(decay=0.0005), 63 bias(decay=0.0)\n",
      "200 epochs...\n",
      "\n",
      "      Epoch    GPU_mem   box_loss   cls_loss   dfl_loss  Instances       Size\n"
     ]
    },
    {
     "name": "stderr",
     "output_type": "stream",
     "text": [
      "      1/200       2.4G      2.802      2.987      3.026         45        640: 100%|██████████| 338/338 [00:34<00:00,  9.69it/s]\n",
      "                 Class     Images  Instances      Box(P          R      mAP50  mAP50-95): 100%|██████████| 169/169 [00:26<00:00,  6.43it/s]\n"
     ]
    },
    {
     "name": "stdout",
     "output_type": "stream",
     "text": [
      "                   all       5406      12905      0.189      0.262      0.102     0.0287\n",
      "\n",
      "      Epoch    GPU_mem   box_loss   cls_loss   dfl_loss  Instances       Size\n"
     ]
    },
    {
     "name": "stderr",
     "output_type": "stream",
     "text": [
      "      2/200      2.45G      2.152        2.4      2.431         70        640: 100%|██████████| 338/338 [00:32<00:00, 10.42it/s]\n",
      "                 Class     Images  Instances      Box(P          R      mAP50  mAP50-95): 100%|██████████| 169/169 [00:25<00:00,  6.59it/s]\n"
     ]
    },
    {
     "name": "stdout",
     "output_type": "stream",
     "text": [
      "                   all       5406      12905      0.447      0.274      0.282      0.109\n",
      "\n",
      "      Epoch    GPU_mem   box_loss   cls_loss   dfl_loss  Instances       Size\n"
     ]
    },
    {
     "name": "stderr",
     "output_type": "stream",
     "text": [
      "      3/200      2.54G      1.959      2.148      2.241         64        640: 100%|██████████| 338/338 [00:31<00:00, 10.81it/s]\n",
      "                 Class     Images  Instances      Box(P          R      mAP50  mAP50-95): 100%|██████████| 169/169 [00:23<00:00,  7.07it/s]\n"
     ]
    },
    {
     "name": "stdout",
     "output_type": "stream",
     "text": [
      "                   all       5406      12905      0.452      0.402      0.391      0.166\n",
      "\n",
      "      Epoch    GPU_mem   box_loss   cls_loss   dfl_loss  Instances       Size\n"
     ]
    },
    {
     "name": "stderr",
     "output_type": "stream",
     "text": [
      "      4/200      2.43G      1.849      1.979      2.121         58        640: 100%|██████████| 338/338 [00:31<00:00, 10.84it/s]\n",
      "                 Class     Images  Instances      Box(P          R      mAP50  mAP50-95): 100%|██████████| 169/169 [00:23<00:00,  7.26it/s]\n"
     ]
    },
    {
     "name": "stdout",
     "output_type": "stream",
     "text": [
      "                   all       5406      12905      0.646      0.478      0.551      0.273\n",
      "\n",
      "      Epoch    GPU_mem   box_loss   cls_loss   dfl_loss  Instances       Size\n"
     ]
    },
    {
     "name": "stderr",
     "output_type": "stream",
     "text": [
      "      5/200      2.52G      1.759      1.838      2.028         58        640: 100%|██████████| 338/338 [00:31<00:00, 10.85it/s]\n",
      "                 Class     Images  Instances      Box(P          R      mAP50  mAP50-95): 100%|██████████| 169/169 [00:23<00:00,  7.33it/s]\n"
     ]
    },
    {
     "name": "stdout",
     "output_type": "stream",
     "text": [
      "                   all       5406      12905      0.676      0.484      0.556      0.282\n",
      "\n",
      "      Epoch    GPU_mem   box_loss   cls_loss   dfl_loss  Instances       Size\n"
     ]
    },
    {
     "name": "stderr",
     "output_type": "stream",
     "text": [
      "      6/200      2.41G      1.704      1.756      1.975         63        640: 100%|██████████| 338/338 [00:31<00:00, 10.88it/s]\n",
      "                 Class     Images  Instances      Box(P          R      mAP50  mAP50-95): 100%|██████████| 169/169 [00:23<00:00,  7.23it/s]\n"
     ]
    },
    {
     "name": "stdout",
     "output_type": "stream",
     "text": [
      "                   all       5406      12905      0.559      0.468      0.504      0.268\n",
      "\n",
      "      Epoch    GPU_mem   box_loss   cls_loss   dfl_loss  Instances       Size\n"
     ]
    },
    {
     "name": "stderr",
     "output_type": "stream",
     "text": [
      "      7/200      2.52G       1.65      1.651      1.916         52        640: 100%|██████████| 338/338 [00:31<00:00, 10.84it/s]\n",
      "                 Class     Images  Instances      Box(P          R      mAP50  mAP50-95): 100%|██████████| 169/169 [00:23<00:00,  7.33it/s]\n"
     ]
    },
    {
     "name": "stdout",
     "output_type": "stream",
     "text": [
      "                   all       5406      12905       0.75      0.574      0.667      0.368\n",
      "\n",
      "      Epoch    GPU_mem   box_loss   cls_loss   dfl_loss  Instances       Size\n"
     ]
    },
    {
     "name": "stderr",
     "output_type": "stream",
     "text": [
      "      8/200      2.41G      1.602       1.57      1.866         76        640: 100%|██████████| 338/338 [00:31<00:00, 10.89it/s]\n",
      "                 Class     Images  Instances      Box(P          R      mAP50  mAP50-95): 100%|██████████| 169/169 [00:23<00:00,  7.24it/s]\n"
     ]
    },
    {
     "name": "stdout",
     "output_type": "stream",
     "text": [
      "                   all       5406      12905      0.722      0.614      0.695      0.378\n",
      "\n",
      "      Epoch    GPU_mem   box_loss   cls_loss   dfl_loss  Instances       Size\n"
     ]
    },
    {
     "name": "stderr",
     "output_type": "stream",
     "text": [
      "      9/200      2.52G      1.579      1.514      1.842         70        640: 100%|██████████| 338/338 [00:31<00:00, 10.88it/s]\n",
      "                 Class     Images  Instances      Box(P          R      mAP50  mAP50-95): 100%|██████████| 169/169 [00:22<00:00,  7.54it/s]\n"
     ]
    },
    {
     "name": "stdout",
     "output_type": "stream",
     "text": [
      "                   all       5406      12905       0.79      0.587      0.701      0.396\n",
      "\n",
      "      Epoch    GPU_mem   box_loss   cls_loss   dfl_loss  Instances       Size\n"
     ]
    },
    {
     "name": "stderr",
     "output_type": "stream",
     "text": [
      "     10/200       2.4G      1.553      1.472      1.822         55        640: 100%|██████████| 338/338 [00:31<00:00, 10.88it/s]\n",
      "                 Class     Images  Instances      Box(P          R      mAP50  mAP50-95): 100%|██████████| 169/169 [00:23<00:00,  7.31it/s]\n"
     ]
    },
    {
     "name": "stdout",
     "output_type": "stream",
     "text": [
      "                   all       5406      12905      0.798      0.666       0.77      0.426\n",
      "\n",
      "      Epoch    GPU_mem   box_loss   cls_loss   dfl_loss  Instances       Size\n"
     ]
    },
    {
     "name": "stderr",
     "output_type": "stream",
     "text": [
      "     11/200      2.51G      1.517      1.406      1.791         82        640: 100%|██████████| 338/338 [00:31<00:00, 10.87it/s]\n",
      "                 Class     Images  Instances      Box(P          R      mAP50  mAP50-95): 100%|██████████| 169/169 [00:22<00:00,  7.38it/s]\n"
     ]
    },
    {
     "name": "stdout",
     "output_type": "stream",
     "text": [
      "                   all       5406      12905      0.836      0.667      0.777      0.444\n",
      "\n",
      "      Epoch    GPU_mem   box_loss   cls_loss   dfl_loss  Instances       Size\n"
     ]
    },
    {
     "name": "stderr",
     "output_type": "stream",
     "text": [
      "     12/200      2.41G      1.497      1.375      1.761         59        640: 100%|██████████| 338/338 [00:31<00:00, 10.87it/s]\n",
      "                 Class     Images  Instances      Box(P          R      mAP50  mAP50-95): 100%|██████████| 169/169 [00:23<00:00,  7.13it/s]\n"
     ]
    },
    {
     "name": "stdout",
     "output_type": "stream",
     "text": [
      "                   all       5406      12905       0.81      0.688      0.795      0.458\n",
      "\n",
      "      Epoch    GPU_mem   box_loss   cls_loss   dfl_loss  Instances       Size\n"
     ]
    },
    {
     "name": "stderr",
     "output_type": "stream",
     "text": [
      "     13/200      2.52G      1.491      1.349      1.759         78        640: 100%|██████████| 338/338 [00:31<00:00, 10.83it/s]\n",
      "                 Class     Images  Instances      Box(P          R      mAP50  mAP50-95): 100%|██████████| 169/169 [00:22<00:00,  7.53it/s]\n"
     ]
    },
    {
     "name": "stdout",
     "output_type": "stream",
     "text": [
      "                   all       5406      12905      0.846      0.691      0.804      0.468\n",
      "\n",
      "      Epoch    GPU_mem   box_loss   cls_loss   dfl_loss  Instances       Size\n"
     ]
    },
    {
     "name": "stderr",
     "output_type": "stream",
     "text": [
      "     14/200       2.4G      1.477      1.303      1.735         71        640: 100%|██████████| 338/338 [00:31<00:00, 10.86it/s]\n",
      "                 Class     Images  Instances      Box(P          R      mAP50  mAP50-95): 100%|██████████| 169/169 [00:23<00:00,  7.34it/s]\n"
     ]
    },
    {
     "name": "stdout",
     "output_type": "stream",
     "text": [
      "                   all       5406      12905      0.841      0.706      0.815      0.461\n",
      "\n",
      "      Epoch    GPU_mem   box_loss   cls_loss   dfl_loss  Instances       Size\n"
     ]
    },
    {
     "name": "stderr",
     "output_type": "stream",
     "text": [
      "     15/200      2.51G      1.466      1.277       1.72         64        640: 100%|██████████| 338/338 [00:31<00:00, 10.88it/s]\n",
      "                 Class     Images  Instances      Box(P          R      mAP50  mAP50-95): 100%|██████████| 169/169 [00:22<00:00,  7.51it/s]\n"
     ]
    },
    {
     "name": "stdout",
     "output_type": "stream",
     "text": [
      "                   all       5406      12905       0.86      0.736      0.837      0.496\n",
      "\n",
      "      Epoch    GPU_mem   box_loss   cls_loss   dfl_loss  Instances       Size\n"
     ]
    },
    {
     "name": "stderr",
     "output_type": "stream",
     "text": [
      "     16/200       2.4G      1.434       1.25      1.698         66        640: 100%|██████████| 338/338 [00:31<00:00, 10.65it/s]\n",
      "                 Class     Images  Instances      Box(P          R      mAP50  mAP50-95): 100%|██████████| 169/169 [00:22<00:00,  7.55it/s]\n"
     ]
    },
    {
     "name": "stdout",
     "output_type": "stream",
     "text": [
      "                   all       5406      12905      0.866      0.757      0.858       0.51\n",
      "\n",
      "      Epoch    GPU_mem   box_loss   cls_loss   dfl_loss  Instances       Size\n"
     ]
    },
    {
     "name": "stderr",
     "output_type": "stream",
     "text": [
      "     17/200      2.51G       1.43      1.218      1.688         62        640: 100%|██████████| 338/338 [00:30<00:00, 10.97it/s]\n",
      "                 Class     Images  Instances      Box(P          R      mAP50  mAP50-95): 100%|██████████| 169/169 [00:22<00:00,  7.62it/s]\n"
     ]
    },
    {
     "name": "stdout",
     "output_type": "stream",
     "text": [
      "                   all       5406      12905      0.873       0.76       0.86      0.506\n",
      "\n",
      "      Epoch    GPU_mem   box_loss   cls_loss   dfl_loss  Instances       Size\n"
     ]
    },
    {
     "name": "stderr",
     "output_type": "stream",
     "text": [
      "     18/200       2.4G      1.421        1.2      1.683         69        640: 100%|██████████| 338/338 [00:30<00:00, 10.97it/s]\n",
      "                 Class     Images  Instances      Box(P          R      mAP50  mAP50-95): 100%|██████████| 169/169 [00:21<00:00,  7.75it/s]\n"
     ]
    },
    {
     "name": "stdout",
     "output_type": "stream",
     "text": [
      "                   all       5406      12905      0.834      0.735      0.831      0.486\n",
      "\n",
      "      Epoch    GPU_mem   box_loss   cls_loss   dfl_loss  Instances       Size\n"
     ]
    },
    {
     "name": "stderr",
     "output_type": "stream",
     "text": [
      "     19/200       2.5G      1.392      1.168      1.656         60        640: 100%|██████████| 338/338 [00:30<00:00, 11.01it/s]\n",
      "                 Class     Images  Instances      Box(P          R      mAP50  mAP50-95): 100%|██████████| 169/169 [00:21<00:00,  7.69it/s]\n"
     ]
    },
    {
     "name": "stdout",
     "output_type": "stream",
     "text": [
      "                   all       5406      12905      0.872      0.762      0.863      0.511\n",
      "\n",
      "      Epoch    GPU_mem   box_loss   cls_loss   dfl_loss  Instances       Size\n"
     ]
    },
    {
     "name": "stderr",
     "output_type": "stream",
     "text": [
      "     20/200       2.4G      1.391      1.157      1.654         62        640: 100%|██████████| 338/338 [00:30<00:00, 11.00it/s]\n",
      "                 Class     Images  Instances      Box(P          R      mAP50  mAP50-95): 100%|██████████| 169/169 [00:21<00:00,  7.73it/s]\n"
     ]
    },
    {
     "name": "stdout",
     "output_type": "stream",
     "text": [
      "                   all       5406      12905      0.897      0.777      0.883      0.549\n",
      "\n",
      "      Epoch    GPU_mem   box_loss   cls_loss   dfl_loss  Instances       Size\n"
     ]
    },
    {
     "name": "stderr",
     "output_type": "stream",
     "text": [
      "     21/200       2.5G      1.381      1.135      1.642         72        640: 100%|██████████| 338/338 [00:30<00:00, 11.26it/s]\n",
      "                 Class     Images  Instances      Box(P          R      mAP50  mAP50-95): 100%|██████████| 169/169 [00:21<00:00,  7.76it/s]\n"
     ]
    },
    {
     "name": "stdout",
     "output_type": "stream",
     "text": [
      "                   all       5406      12905      0.863      0.784      0.874      0.532\n",
      "\n",
      "      Epoch    GPU_mem   box_loss   cls_loss   dfl_loss  Instances       Size\n"
     ]
    },
    {
     "name": "stderr",
     "output_type": "stream",
     "text": [
      "     22/200      2.39G      1.381      1.126       1.64         71        640: 100%|██████████| 338/338 [00:30<00:00, 11.26it/s]\n",
      "                 Class     Images  Instances      Box(P          R      mAP50  mAP50-95): 100%|██████████| 169/169 [00:21<00:00,  7.78it/s]\n"
     ]
    },
    {
     "name": "stdout",
     "output_type": "stream",
     "text": [
      "                   all       5406      12905      0.873        0.8      0.892      0.539\n",
      "\n",
      "      Epoch    GPU_mem   box_loss   cls_loss   dfl_loss  Instances       Size\n"
     ]
    },
    {
     "name": "stderr",
     "output_type": "stream",
     "text": [
      "     23/200       2.5G      1.367      1.105      1.619         56        640: 100%|██████████| 338/338 [00:30<00:00, 11.23it/s]\n",
      "                 Class     Images  Instances      Box(P          R      mAP50  mAP50-95): 100%|██████████| 169/169 [00:21<00:00,  7.89it/s]\n"
     ]
    },
    {
     "name": "stdout",
     "output_type": "stream",
     "text": [
      "                   all       5406      12905      0.889      0.807      0.901      0.545\n",
      "\n",
      "      Epoch    GPU_mem   box_loss   cls_loss   dfl_loss  Instances       Size\n"
     ]
    },
    {
     "name": "stderr",
     "output_type": "stream",
     "text": [
      "     24/200       2.4G      1.355      1.081      1.615         55        640: 100%|██████████| 338/338 [00:30<00:00, 11.24it/s]\n",
      "                 Class     Images  Instances      Box(P          R      mAP50  mAP50-95): 100%|██████████| 169/169 [00:21<00:00,  7.75it/s]\n"
     ]
    },
    {
     "name": "stdout",
     "output_type": "stream",
     "text": [
      "                   all       5406      12905      0.901      0.804      0.907      0.562\n",
      "\n",
      "      Epoch    GPU_mem   box_loss   cls_loss   dfl_loss  Instances       Size\n"
     ]
    },
    {
     "name": "stderr",
     "output_type": "stream",
     "text": [
      "     25/200       2.5G      1.346      1.075      1.609         65        640: 100%|██████████| 338/338 [00:30<00:00, 11.24it/s]\n",
      "                 Class     Images  Instances      Box(P          R      mAP50  mAP50-95): 100%|██████████| 169/169 [00:21<00:00,  7.74it/s]\n"
     ]
    },
    {
     "name": "stdout",
     "output_type": "stream",
     "text": [
      "                   all       5406      12905      0.903      0.815      0.909      0.575\n",
      "\n",
      "      Epoch    GPU_mem   box_loss   cls_loss   dfl_loss  Instances       Size\n"
     ]
    },
    {
     "name": "stderr",
     "output_type": "stream",
     "text": [
      "     26/200      2.39G      1.336      1.048      1.599         87        640: 100%|██████████| 338/338 [00:30<00:00, 11.26it/s]\n",
      "                 Class     Images  Instances      Box(P          R      mAP50  mAP50-95): 100%|██████████| 169/169 [00:21<00:00,  7.72it/s]\n"
     ]
    },
    {
     "name": "stdout",
     "output_type": "stream",
     "text": [
      "                   all       5406      12905        0.9       0.84      0.919      0.577\n",
      "\n",
      "      Epoch    GPU_mem   box_loss   cls_loss   dfl_loss  Instances       Size\n"
     ]
    },
    {
     "name": "stderr",
     "output_type": "stream",
     "text": [
      "     27/200       2.5G      1.331      1.037      1.591         61        640: 100%|██████████| 338/338 [00:30<00:00, 11.25it/s]\n",
      "                 Class     Images  Instances      Box(P          R      mAP50  mAP50-95): 100%|██████████| 169/169 [00:21<00:00,  7.85it/s]\n"
     ]
    },
    {
     "name": "stdout",
     "output_type": "stream",
     "text": [
      "                   all       5406      12905      0.899      0.826      0.912      0.552\n",
      "\n",
      "      Epoch    GPU_mem   box_loss   cls_loss   dfl_loss  Instances       Size\n"
     ]
    },
    {
     "name": "stderr",
     "output_type": "stream",
     "text": [
      "     28/200      2.39G      1.327      1.034      1.581         70        640: 100%|██████████| 338/338 [00:30<00:00, 11.22it/s]\n",
      "                 Class     Images  Instances      Box(P          R      mAP50  mAP50-95): 100%|██████████| 169/169 [00:21<00:00,  7.80it/s]\n"
     ]
    },
    {
     "name": "stdout",
     "output_type": "stream",
     "text": [
      "                   all       5406      12905      0.909      0.844      0.927      0.578\n",
      "\n",
      "      Epoch    GPU_mem   box_loss   cls_loss   dfl_loss  Instances       Size\n"
     ]
    },
    {
     "name": "stderr",
     "output_type": "stream",
     "text": [
      "     29/200       2.5G      1.313      1.024      1.577         55        640: 100%|██████████| 338/338 [00:29<00:00, 11.27it/s]\n",
      "                 Class     Images  Instances      Box(P          R      mAP50  mAP50-95): 100%|██████████| 169/169 [00:21<00:00,  7.80it/s]\n"
     ]
    },
    {
     "name": "stdout",
     "output_type": "stream",
     "text": [
      "                   all       5406      12905      0.918      0.859      0.934        0.6\n",
      "\n",
      "      Epoch    GPU_mem   box_loss   cls_loss   dfl_loss  Instances       Size\n"
     ]
    },
    {
     "name": "stderr",
     "output_type": "stream",
     "text": [
      "     30/200      2.39G      1.303     0.9999      1.568         52        640: 100%|██████████| 338/338 [00:30<00:00, 11.21it/s]\n",
      "                 Class     Images  Instances      Box(P          R      mAP50  mAP50-95): 100%|██████████| 169/169 [00:21<00:00,  7.78it/s]\n"
     ]
    },
    {
     "name": "stdout",
     "output_type": "stream",
     "text": [
      "                   all       5406      12905      0.914      0.849      0.931      0.594\n",
      "\n",
      "      Epoch    GPU_mem   box_loss   cls_loss   dfl_loss  Instances       Size\n"
     ]
    },
    {
     "name": "stderr",
     "output_type": "stream",
     "text": [
      "     31/200       2.5G       1.31      1.007      1.571         72        640: 100%|██████████| 338/338 [00:30<00:00, 11.23it/s]\n",
      "                 Class     Images  Instances      Box(P          R      mAP50  mAP50-95): 100%|██████████| 169/169 [00:21<00:00,  7.74it/s]\n"
     ]
    },
    {
     "name": "stdout",
     "output_type": "stream",
     "text": [
      "                   all       5406      12905      0.907      0.852      0.933      0.597\n",
      "\n",
      "      Epoch    GPU_mem   box_loss   cls_loss   dfl_loss  Instances       Size\n"
     ]
    },
    {
     "name": "stderr",
     "output_type": "stream",
     "text": [
      "     32/200       2.4G      1.299     0.9911      1.561         63        640: 100%|██████████| 338/338 [00:30<00:00, 11.23it/s]\n",
      "                 Class     Images  Instances      Box(P          R      mAP50  mAP50-95): 100%|██████████| 169/169 [00:21<00:00,  7.82it/s]\n"
     ]
    },
    {
     "name": "stdout",
     "output_type": "stream",
     "text": [
      "                   all       5406      12905      0.912      0.864      0.938      0.595\n",
      "\n",
      "      Epoch    GPU_mem   box_loss   cls_loss   dfl_loss  Instances       Size\n"
     ]
    },
    {
     "name": "stderr",
     "output_type": "stream",
     "text": [
      "     33/200       2.5G      1.293     0.9847      1.558         78        640: 100%|██████████| 338/338 [00:29<00:00, 11.27it/s]\n",
      "                 Class     Images  Instances      Box(P          R      mAP50  mAP50-95): 100%|██████████| 169/169 [00:21<00:00,  7.77it/s]"
     ]
    },
    {
     "name": "stdout",
     "output_type": "stream",
     "text": [
      "                   all       5406      12905      0.919      0.854      0.935      0.607\n"
     ]
    },
    {
     "name": "stderr",
     "output_type": "stream",
     "text": [
      "\n"
     ]
    },
    {
     "name": "stdout",
     "output_type": "stream",
     "text": [
      "\n",
      "      Epoch    GPU_mem   box_loss   cls_loss   dfl_loss  Instances       Size\n"
     ]
    },
    {
     "name": "stderr",
     "output_type": "stream",
     "text": [
      "     34/200      2.39G      1.279     0.9681      1.544         65        640: 100%|██████████| 338/338 [00:30<00:00, 11.24it/s]\n",
      "                 Class     Images  Instances      Box(P          R      mAP50  mAP50-95): 100%|██████████| 169/169 [00:21<00:00,  7.69it/s]\n"
     ]
    },
    {
     "name": "stdout",
     "output_type": "stream",
     "text": [
      "                   all       5406      12905      0.908      0.867      0.941      0.607\n",
      "\n",
      "      Epoch    GPU_mem   box_loss   cls_loss   dfl_loss  Instances       Size\n"
     ]
    },
    {
     "name": "stderr",
     "output_type": "stream",
     "text": [
      "     35/200       2.5G      1.284     0.9715      1.542         75        640: 100%|██████████| 338/338 [00:30<00:00, 11.20it/s]\n",
      "                 Class     Images  Instances      Box(P          R      mAP50  mAP50-95): 100%|██████████| 169/169 [00:21<00:00,  7.79it/s]\n"
     ]
    },
    {
     "name": "stdout",
     "output_type": "stream",
     "text": [
      "                   all       5406      12905      0.927      0.875      0.946       0.62\n",
      "\n",
      "      Epoch    GPU_mem   box_loss   cls_loss   dfl_loss  Instances       Size\n"
     ]
    },
    {
     "name": "stderr",
     "output_type": "stream",
     "text": [
      "     36/200      2.39G       1.27     0.9435       1.53         59        640: 100%|██████████| 338/338 [00:30<00:00, 11.26it/s]\n",
      "                 Class     Images  Instances      Box(P          R      mAP50  mAP50-95): 100%|██████████| 169/169 [00:21<00:00,  7.85it/s]"
     ]
    },
    {
     "name": "stdout",
     "output_type": "stream",
     "text": [
      "                   all       5406      12905      0.924      0.874      0.946      0.619\n"
     ]
    },
    {
     "name": "stderr",
     "output_type": "stream",
     "text": [
      "\n"
     ]
    },
    {
     "name": "stdout",
     "output_type": "stream",
     "text": [
      "\n",
      "      Epoch    GPU_mem   box_loss   cls_loss   dfl_loss  Instances       Size\n"
     ]
    },
    {
     "name": "stderr",
     "output_type": "stream",
     "text": [
      "     37/200       2.5G       1.26     0.9289      1.521         68        640: 100%|██████████| 338/338 [00:30<00:00, 11.26it/s]\n",
      "                 Class     Images  Instances      Box(P          R      mAP50  mAP50-95): 100%|██████████| 169/169 [00:21<00:00,  7.87it/s]"
     ]
    },
    {
     "name": "stdout",
     "output_type": "stream",
     "text": [
      "                   all       5406      12905      0.929      0.888      0.954      0.636\n"
     ]
    },
    {
     "name": "stderr",
     "output_type": "stream",
     "text": [
      "\n"
     ]
    },
    {
     "name": "stdout",
     "output_type": "stream",
     "text": [
      "\n",
      "      Epoch    GPU_mem   box_loss   cls_loss   dfl_loss  Instances       Size\n"
     ]
    },
    {
     "name": "stderr",
     "output_type": "stream",
     "text": [
      "     38/200      2.39G      1.251     0.9252      1.516         75        640: 100%|██████████| 338/338 [00:29<00:00, 11.27it/s]\n",
      "                 Class     Images  Instances      Box(P          R      mAP50  mAP50-95): 100%|██████████| 169/169 [00:21<00:00,  7.76it/s]\n"
     ]
    },
    {
     "name": "stdout",
     "output_type": "stream",
     "text": [
      "                   all       5406      12905      0.926      0.893      0.951      0.629\n",
      "\n",
      "      Epoch    GPU_mem   box_loss   cls_loss   dfl_loss  Instances       Size\n"
     ]
    },
    {
     "name": "stderr",
     "output_type": "stream",
     "text": [
      "     39/200       2.5G      1.242     0.9169      1.513         66        640: 100%|██████████| 338/338 [00:30<00:00, 11.23it/s]\n",
      "                 Class     Images  Instances      Box(P          R      mAP50  mAP50-95): 100%|██████████| 169/169 [00:21<00:00,  7.85it/s]\n"
     ]
    },
    {
     "name": "stdout",
     "output_type": "stream",
     "text": [
      "                   all       5406      12905      0.935        0.9      0.957       0.64\n",
      "\n",
      "      Epoch    GPU_mem   box_loss   cls_loss   dfl_loss  Instances       Size\n"
     ]
    },
    {
     "name": "stderr",
     "output_type": "stream",
     "text": [
      "     40/200      2.39G      1.239     0.9206      1.513         55        640: 100%|██████████| 338/338 [00:30<00:00, 11.24it/s]\n",
      "                 Class     Images  Instances      Box(P          R      mAP50  mAP50-95): 100%|██████████| 169/169 [00:21<00:00,  7.76it/s]"
     ]
    },
    {
     "name": "stdout",
     "output_type": "stream",
     "text": [
      "                   all       5406      12905      0.933      0.896      0.958      0.633\n"
     ]
    },
    {
     "name": "stderr",
     "output_type": "stream",
     "text": [
      "\n"
     ]
    },
    {
     "name": "stdout",
     "output_type": "stream",
     "text": [
      "\n",
      "      Epoch    GPU_mem   box_loss   cls_loss   dfl_loss  Instances       Size\n"
     ]
    },
    {
     "name": "stderr",
     "output_type": "stream",
     "text": [
      "     41/200       2.5G      1.243     0.9183      1.513         59        640: 100%|██████████| 338/338 [00:30<00:00, 11.25it/s]\n",
      "                 Class     Images  Instances      Box(P          R      mAP50  mAP50-95): 100%|██████████| 169/169 [00:21<00:00,  7.81it/s]"
     ]
    },
    {
     "name": "stdout",
     "output_type": "stream",
     "text": [
      "                   all       5406      12905      0.937       0.89      0.954      0.638\n"
     ]
    },
    {
     "name": "stderr",
     "output_type": "stream",
     "text": [
      "\n"
     ]
    },
    {
     "name": "stdout",
     "output_type": "stream",
     "text": [
      "\n",
      "      Epoch    GPU_mem   box_loss   cls_loss   dfl_loss  Instances       Size\n"
     ]
    },
    {
     "name": "stderr",
     "output_type": "stream",
     "text": [
      "     42/200      2.39G      1.233     0.9081      1.509         58        640: 100%|██████████| 338/338 [00:30<00:00, 11.26it/s]\n",
      "                 Class     Images  Instances      Box(P          R      mAP50  mAP50-95): 100%|██████████| 169/169 [00:21<00:00,  7.79it/s]\n"
     ]
    },
    {
     "name": "stdout",
     "output_type": "stream",
     "text": [
      "                   all       5406      12905      0.933      0.895      0.959      0.636\n",
      "\n",
      "      Epoch    GPU_mem   box_loss   cls_loss   dfl_loss  Instances       Size\n"
     ]
    },
    {
     "name": "stderr",
     "output_type": "stream",
     "text": [
      "     43/200       2.5G      1.239     0.9083      1.504         51        640: 100%|██████████| 338/338 [00:30<00:00, 11.24it/s]\n",
      "                 Class     Images  Instances      Box(P          R      mAP50  mAP50-95): 100%|██████████| 169/169 [00:21<00:00,  7.82it/s]\n"
     ]
    },
    {
     "name": "stdout",
     "output_type": "stream",
     "text": [
      "                   all       5406      12905      0.941      0.897      0.962      0.636\n",
      "\n",
      "      Epoch    GPU_mem   box_loss   cls_loss   dfl_loss  Instances       Size\n"
     ]
    },
    {
     "name": "stderr",
     "output_type": "stream",
     "text": [
      "     44/200      2.39G      1.234     0.8952      1.504         75        640: 100%|██████████| 338/338 [00:31<00:00, 10.77it/s]\n",
      "                 Class     Images  Instances      Box(P          R      mAP50  mAP50-95): 100%|██████████| 169/169 [00:21<00:00,  7.71it/s]\n"
     ]
    },
    {
     "name": "stdout",
     "output_type": "stream",
     "text": [
      "                   all       5406      12905      0.932      0.908      0.963       0.64\n",
      "\n",
      "      Epoch    GPU_mem   box_loss   cls_loss   dfl_loss  Instances       Size\n"
     ]
    },
    {
     "name": "stderr",
     "output_type": "stream",
     "text": [
      "     45/200       2.5G      1.229     0.8813      1.491         57        640: 100%|██████████| 338/338 [00:31<00:00, 10.90it/s]\n",
      "                 Class     Images  Instances      Box(P          R      mAP50  mAP50-95): 100%|██████████| 169/169 [00:21<00:00,  7.75it/s]\n"
     ]
    },
    {
     "name": "stdout",
     "output_type": "stream",
     "text": [
      "                   all       5406      12905      0.937      0.909      0.965      0.655\n",
      "\n",
      "      Epoch    GPU_mem   box_loss   cls_loss   dfl_loss  Instances       Size\n"
     ]
    },
    {
     "name": "stderr",
     "output_type": "stream",
     "text": [
      "     46/200      2.39G      1.216     0.8763      1.484         68        640: 100%|██████████| 338/338 [00:30<00:00, 10.97it/s]\n",
      "                 Class     Images  Instances      Box(P          R      mAP50  mAP50-95): 100%|██████████| 169/169 [00:21<00:00,  7.75it/s]"
     ]
    },
    {
     "name": "stdout",
     "output_type": "stream",
     "text": [
      "                   all       5406      12905      0.938      0.914      0.968      0.657\n"
     ]
    },
    {
     "name": "stderr",
     "output_type": "stream",
     "text": [
      "\n"
     ]
    },
    {
     "name": "stdout",
     "output_type": "stream",
     "text": [
      "\n",
      "      Epoch    GPU_mem   box_loss   cls_loss   dfl_loss  Instances       Size\n"
     ]
    },
    {
     "name": "stderr",
     "output_type": "stream",
     "text": [
      "     47/200       2.5G      1.219     0.8704      1.488         61        640: 100%|██████████| 338/338 [00:30<00:00, 10.94it/s]\n",
      "                 Class     Images  Instances      Box(P          R      mAP50  mAP50-95): 100%|██████████| 169/169 [00:21<00:00,  7.85it/s]"
     ]
    },
    {
     "name": "stdout",
     "output_type": "stream",
     "text": [
      "                   all       5406      12905       0.94      0.908      0.966      0.649\n"
     ]
    },
    {
     "name": "stderr",
     "output_type": "stream",
     "text": [
      "\n"
     ]
    },
    {
     "name": "stdout",
     "output_type": "stream",
     "text": [
      "\n",
      "      Epoch    GPU_mem   box_loss   cls_loss   dfl_loss  Instances       Size\n"
     ]
    },
    {
     "name": "stderr",
     "output_type": "stream",
     "text": [
      "     48/200      2.39G      1.198     0.8616      1.475         59        640: 100%|██████████| 338/338 [00:29<00:00, 11.52it/s]\n",
      "                 Class     Images  Instances      Box(P          R      mAP50  mAP50-95): 100%|██████████| 169/169 [00:21<00:00,  7.93it/s]"
     ]
    },
    {
     "name": "stdout",
     "output_type": "stream",
     "text": [
      "                   all       5406      12905      0.943      0.919       0.97      0.659\n"
     ]
    },
    {
     "name": "stderr",
     "output_type": "stream",
     "text": [
      "\n"
     ]
    },
    {
     "name": "stdout",
     "output_type": "stream",
     "text": [
      "\n",
      "      Epoch    GPU_mem   box_loss   cls_loss   dfl_loss  Instances       Size\n"
     ]
    },
    {
     "name": "stderr",
     "output_type": "stream",
     "text": [
      "     49/200       2.5G      1.212     0.8666      1.476         52        640: 100%|██████████| 338/338 [00:29<00:00, 11.45it/s]\n",
      "                 Class     Images  Instances      Box(P          R      mAP50  mAP50-95): 100%|██████████| 169/169 [00:21<00:00,  7.98it/s]"
     ]
    },
    {
     "name": "stdout",
     "output_type": "stream",
     "text": [
      "                   all       5406      12905      0.939      0.916      0.965      0.658\n"
     ]
    },
    {
     "name": "stderr",
     "output_type": "stream",
     "text": [
      "\n"
     ]
    },
    {
     "name": "stdout",
     "output_type": "stream",
     "text": [
      "\n",
      "      Epoch    GPU_mem   box_loss   cls_loss   dfl_loss  Instances       Size\n"
     ]
    },
    {
     "name": "stderr",
     "output_type": "stream",
     "text": [
      "     50/200      2.39G      1.188     0.8503       1.47         60        640: 100%|██████████| 338/338 [00:29<00:00, 11.54it/s]\n",
      "                 Class     Images  Instances      Box(P          R      mAP50  mAP50-95): 100%|██████████| 169/169 [00:21<00:00,  8.00it/s]"
     ]
    },
    {
     "name": "stdout",
     "output_type": "stream",
     "text": [
      "                   all       5406      12905       0.94      0.925      0.971      0.666\n"
     ]
    },
    {
     "name": "stderr",
     "output_type": "stream",
     "text": [
      "\n"
     ]
    },
    {
     "name": "stdout",
     "output_type": "stream",
     "text": [
      "\n",
      "      Epoch    GPU_mem   box_loss   cls_loss   dfl_loss  Instances       Size\n"
     ]
    },
    {
     "name": "stderr",
     "output_type": "stream",
     "text": [
      "     51/200       2.5G      1.198     0.8581      1.479         73        640: 100%|██████████| 338/338 [00:29<00:00, 11.49it/s]\n",
      "                 Class     Images  Instances      Box(P          R      mAP50  mAP50-95): 100%|██████████| 169/169 [00:21<00:00,  7.90it/s]"
     ]
    },
    {
     "name": "stdout",
     "output_type": "stream",
     "text": [
      "                   all       5406      12905      0.947      0.926      0.972      0.673\n"
     ]
    },
    {
     "name": "stderr",
     "output_type": "stream",
     "text": [
      "\n"
     ]
    },
    {
     "name": "stdout",
     "output_type": "stream",
     "text": [
      "\n",
      "      Epoch    GPU_mem   box_loss   cls_loss   dfl_loss  Instances       Size\n"
     ]
    },
    {
     "name": "stderr",
     "output_type": "stream",
     "text": [
      "     52/200      2.39G      1.201     0.8422      1.474         59        640: 100%|██████████| 338/338 [00:29<00:00, 11.52it/s]\n",
      "                 Class     Images  Instances      Box(P          R      mAP50  mAP50-95): 100%|██████████| 169/169 [00:21<00:00,  7.90it/s]"
     ]
    },
    {
     "name": "stdout",
     "output_type": "stream",
     "text": [
      "                   all       5406      12905      0.941      0.919      0.968      0.662\n"
     ]
    },
    {
     "name": "stderr",
     "output_type": "stream",
     "text": [
      "\n"
     ]
    },
    {
     "name": "stdout",
     "output_type": "stream",
     "text": [
      "\n",
      "      Epoch    GPU_mem   box_loss   cls_loss   dfl_loss  Instances       Size\n"
     ]
    },
    {
     "name": "stderr",
     "output_type": "stream",
     "text": [
      "     53/200       2.5G      1.189     0.8343       1.46         66        640: 100%|██████████| 338/338 [00:29<00:00, 11.57it/s]\n",
      "                 Class     Images  Instances      Box(P          R      mAP50  mAP50-95): 100%|██████████| 169/169 [00:21<00:00,  7.92it/s]"
     ]
    },
    {
     "name": "stdout",
     "output_type": "stream",
     "text": [
      "                   all       5406      12905      0.948       0.93      0.975      0.676\n"
     ]
    },
    {
     "name": "stderr",
     "output_type": "stream",
     "text": [
      "\n"
     ]
    },
    {
     "name": "stdout",
     "output_type": "stream",
     "text": [
      "\n",
      "      Epoch    GPU_mem   box_loss   cls_loss   dfl_loss  Instances       Size\n"
     ]
    },
    {
     "name": "stderr",
     "output_type": "stream",
     "text": [
      "     54/200      2.39G       1.18     0.8286      1.465         64        640: 100%|██████████| 338/338 [00:29<00:00, 11.56it/s]\n",
      "                 Class     Images  Instances      Box(P          R      mAP50  mAP50-95): 100%|██████████| 169/169 [00:21<00:00,  8.03it/s]\n"
     ]
    },
    {
     "name": "stdout",
     "output_type": "stream",
     "text": [
      "                   all       5406      12905       0.95      0.932      0.976      0.671\n",
      "\n",
      "      Epoch    GPU_mem   box_loss   cls_loss   dfl_loss  Instances       Size\n"
     ]
    },
    {
     "name": "stderr",
     "output_type": "stream",
     "text": [
      "     55/200       2.5G      1.184      0.827      1.458         64        640: 100%|██████████| 338/338 [00:29<00:00, 11.51it/s]\n",
      "                 Class     Images  Instances      Box(P          R      mAP50  mAP50-95): 100%|██████████| 169/169 [00:21<00:00,  7.97it/s]\n"
     ]
    },
    {
     "name": "stdout",
     "output_type": "stream",
     "text": [
      "                   all       5406      12905      0.942       0.93      0.975      0.679\n",
      "\n",
      "      Epoch    GPU_mem   box_loss   cls_loss   dfl_loss  Instances       Size\n"
     ]
    },
    {
     "name": "stderr",
     "output_type": "stream",
     "text": [
      "     56/200      2.39G      1.166      0.821      1.454         62        640: 100%|██████████| 338/338 [00:29<00:00, 11.50it/s]\n",
      "                 Class     Images  Instances      Box(P          R      mAP50  mAP50-95): 100%|██████████| 169/169 [00:21<00:00,  7.97it/s]\n"
     ]
    },
    {
     "name": "stdout",
     "output_type": "stream",
     "text": [
      "                   all       5406      12905      0.953      0.926      0.976      0.678\n",
      "\n",
      "      Epoch    GPU_mem   box_loss   cls_loss   dfl_loss  Instances       Size\n"
     ]
    },
    {
     "name": "stderr",
     "output_type": "stream",
     "text": [
      "     57/200       2.5G      1.184     0.8316      1.459         59        640: 100%|██████████| 338/338 [00:29<00:00, 11.54it/s]\n",
      "                 Class     Images  Instances      Box(P          R      mAP50  mAP50-95): 100%|██████████| 169/169 [00:21<00:00,  7.99it/s]"
     ]
    },
    {
     "name": "stdout",
     "output_type": "stream",
     "text": [
      "                   all       5406      12905      0.949      0.939      0.978      0.684\n"
     ]
    },
    {
     "name": "stderr",
     "output_type": "stream",
     "text": [
      "\n"
     ]
    },
    {
     "name": "stdout",
     "output_type": "stream",
     "text": [
      "\n",
      "      Epoch    GPU_mem   box_loss   cls_loss   dfl_loss  Instances       Size\n"
     ]
    },
    {
     "name": "stderr",
     "output_type": "stream",
     "text": [
      "     58/200      2.39G      1.158     0.8055      1.444         46        640: 100%|██████████| 338/338 [00:29<00:00, 11.55it/s]\n",
      "                 Class     Images  Instances      Box(P          R      mAP50  mAP50-95): 100%|██████████| 169/169 [00:21<00:00,  8.04it/s]"
     ]
    },
    {
     "name": "stdout",
     "output_type": "stream",
     "text": [
      "                   all       5406      12905      0.952      0.935      0.979      0.679\n"
     ]
    },
    {
     "name": "stderr",
     "output_type": "stream",
     "text": [
      "\n"
     ]
    },
    {
     "name": "stdout",
     "output_type": "stream",
     "text": [
      "\n",
      "      Epoch    GPU_mem   box_loss   cls_loss   dfl_loss  Instances       Size\n"
     ]
    },
    {
     "name": "stderr",
     "output_type": "stream",
     "text": [
      "     59/200       2.5G      1.168     0.8089      1.446         49        640: 100%|██████████| 338/338 [00:29<00:00, 11.54it/s]\n",
      "                 Class     Images  Instances      Box(P          R      mAP50  mAP50-95): 100%|██████████| 169/169 [00:21<00:00,  8.01it/s]"
     ]
    },
    {
     "name": "stdout",
     "output_type": "stream",
     "text": [
      "                   all       5406      12905       0.95       0.94      0.977      0.689\n"
     ]
    },
    {
     "name": "stderr",
     "output_type": "stream",
     "text": [
      "\n"
     ]
    },
    {
     "name": "stdout",
     "output_type": "stream",
     "text": [
      "\n",
      "      Epoch    GPU_mem   box_loss   cls_loss   dfl_loss  Instances       Size\n"
     ]
    },
    {
     "name": "stderr",
     "output_type": "stream",
     "text": [
      "     60/200      2.39G      1.158     0.8207      1.444         79        640: 100%|██████████| 338/338 [00:29<00:00, 11.62it/s]\n",
      "                 Class     Images  Instances      Box(P          R      mAP50  mAP50-95): 100%|██████████| 169/169 [00:21<00:00,  7.98it/s]"
     ]
    },
    {
     "name": "stdout",
     "output_type": "stream",
     "text": [
      "                   all       5406      12905      0.955      0.935      0.978      0.686\n"
     ]
    },
    {
     "name": "stderr",
     "output_type": "stream",
     "text": [
      "\n"
     ]
    },
    {
     "name": "stdout",
     "output_type": "stream",
     "text": [
      "\n",
      "      Epoch    GPU_mem   box_loss   cls_loss   dfl_loss  Instances       Size\n"
     ]
    },
    {
     "name": "stderr",
     "output_type": "stream",
     "text": [
      "     61/200       2.5G      1.154     0.7988      1.434         72        640: 100%|██████████| 338/338 [00:29<00:00, 11.61it/s]\n",
      "                 Class     Images  Instances      Box(P          R      mAP50  mAP50-95): 100%|██████████| 169/169 [00:21<00:00,  8.00it/s]"
     ]
    },
    {
     "name": "stdout",
     "output_type": "stream",
     "text": [
      "                   all       5406      12905      0.958      0.939       0.98      0.687\n"
     ]
    },
    {
     "name": "stderr",
     "output_type": "stream",
     "text": [
      "\n"
     ]
    },
    {
     "name": "stdout",
     "output_type": "stream",
     "text": [
      "\n",
      "      Epoch    GPU_mem   box_loss   cls_loss   dfl_loss  Instances       Size\n"
     ]
    },
    {
     "name": "stderr",
     "output_type": "stream",
     "text": [
      "     62/200      2.39G      1.159     0.7997      1.438         48        640: 100%|██████████| 338/338 [00:29<00:00, 11.59it/s]\n",
      "                 Class     Images  Instances      Box(P          R      mAP50  mAP50-95): 100%|██████████| 169/169 [00:21<00:00,  7.89it/s]"
     ]
    },
    {
     "name": "stdout",
     "output_type": "stream",
     "text": [
      "                   all       5406      12905      0.956      0.943       0.98      0.688\n"
     ]
    },
    {
     "name": "stderr",
     "output_type": "stream",
     "text": [
      "\n"
     ]
    },
    {
     "name": "stdout",
     "output_type": "stream",
     "text": [
      "\n",
      "      Epoch    GPU_mem   box_loss   cls_loss   dfl_loss  Instances       Size\n"
     ]
    },
    {
     "name": "stderr",
     "output_type": "stream",
     "text": [
      "     63/200       2.4G      1.149     0.7898      1.432         78        640: 100%|██████████| 338/338 [00:29<00:00, 11.62it/s]\n",
      "                 Class     Images  Instances      Box(P          R      mAP50  mAP50-95): 100%|██████████| 169/169 [00:20<00:00,  8.08it/s]"
     ]
    },
    {
     "name": "stdout",
     "output_type": "stream",
     "text": [
      "                   all       5406      12905      0.954      0.944       0.98      0.694\n"
     ]
    },
    {
     "name": "stderr",
     "output_type": "stream",
     "text": [
      "\n"
     ]
    },
    {
     "name": "stdout",
     "output_type": "stream",
     "text": [
      "\n",
      "      Epoch    GPU_mem   box_loss   cls_loss   dfl_loss  Instances       Size\n"
     ]
    },
    {
     "name": "stderr",
     "output_type": "stream",
     "text": [
      "     64/200      2.39G      1.145     0.7863      1.428         77        640: 100%|██████████| 338/338 [00:29<00:00, 11.61it/s]\n",
      "                 Class     Images  Instances      Box(P          R      mAP50  mAP50-95): 100%|██████████| 169/169 [00:21<00:00,  8.04it/s]"
     ]
    },
    {
     "name": "stdout",
     "output_type": "stream",
     "text": [
      "                   all       5406      12905      0.961      0.939      0.983      0.698\n"
     ]
    },
    {
     "name": "stderr",
     "output_type": "stream",
     "text": [
      "\n"
     ]
    },
    {
     "name": "stdout",
     "output_type": "stream",
     "text": [
      "\n",
      "      Epoch    GPU_mem   box_loss   cls_loss   dfl_loss  Instances       Size\n"
     ]
    },
    {
     "name": "stderr",
     "output_type": "stream",
     "text": [
      "     65/200      2.49G      1.149     0.7876      1.426         71        640: 100%|██████████| 338/338 [00:29<00:00, 11.62it/s]\n",
      "                 Class     Images  Instances      Box(P          R      mAP50  mAP50-95): 100%|██████████| 169/169 [00:21<00:00,  8.02it/s]"
     ]
    },
    {
     "name": "stdout",
     "output_type": "stream",
     "text": [
      "                   all       5406      12905      0.955      0.945      0.982      0.704\n"
     ]
    },
    {
     "name": "stderr",
     "output_type": "stream",
     "text": [
      "\n"
     ]
    },
    {
     "name": "stdout",
     "output_type": "stream",
     "text": [
      "\n",
      "      Epoch    GPU_mem   box_loss   cls_loss   dfl_loss  Instances       Size\n"
     ]
    },
    {
     "name": "stderr",
     "output_type": "stream",
     "text": [
      "     66/200      2.39G      1.138     0.7793      1.419         72        640: 100%|██████████| 338/338 [00:29<00:00, 11.62it/s]\n",
      "                 Class     Images  Instances      Box(P          R      mAP50  mAP50-95): 100%|██████████| 169/169 [00:21<00:00,  7.99it/s]"
     ]
    },
    {
     "name": "stdout",
     "output_type": "stream",
     "text": [
      "                   all       5406      12905      0.955      0.948      0.982      0.699\n"
     ]
    },
    {
     "name": "stderr",
     "output_type": "stream",
     "text": [
      "\n"
     ]
    },
    {
     "name": "stdout",
     "output_type": "stream",
     "text": [
      "\n",
      "      Epoch    GPU_mem   box_loss   cls_loss   dfl_loss  Instances       Size\n"
     ]
    },
    {
     "name": "stderr",
     "output_type": "stream",
     "text": [
      "     67/200       2.5G      1.137     0.7777       1.42         73        640: 100%|██████████| 338/338 [00:29<00:00, 11.65it/s]\n",
      "                 Class     Images  Instances      Box(P          R      mAP50  mAP50-95): 100%|██████████| 169/169 [00:21<00:00,  7.95it/s]\n"
     ]
    },
    {
     "name": "stdout",
     "output_type": "stream",
     "text": [
      "                   all       5406      12905      0.954      0.947      0.982      0.695\n",
      "\n",
      "      Epoch    GPU_mem   box_loss   cls_loss   dfl_loss  Instances       Size\n"
     ]
    },
    {
     "name": "stderr",
     "output_type": "stream",
     "text": [
      "     68/200      2.39G      1.138     0.7736      1.422         55        640: 100%|██████████| 338/338 [00:29<00:00, 11.62it/s]\n",
      "                 Class     Images  Instances      Box(P          R      mAP50  mAP50-95): 100%|██████████| 169/169 [00:21<00:00,  8.04it/s]"
     ]
    },
    {
     "name": "stdout",
     "output_type": "stream",
     "text": [
      "                   all       5406      12905      0.958      0.951      0.984      0.707\n"
     ]
    },
    {
     "name": "stderr",
     "output_type": "stream",
     "text": [
      "\n"
     ]
    },
    {
     "name": "stdout",
     "output_type": "stream",
     "text": [
      "\n",
      "      Epoch    GPU_mem   box_loss   cls_loss   dfl_loss  Instances       Size\n"
     ]
    },
    {
     "name": "stderr",
     "output_type": "stream",
     "text": [
      "     69/200      2.49G      1.126     0.7697      1.412         67        640: 100%|██████████| 338/338 [00:29<00:00, 11.65it/s]\n",
      "                 Class     Images  Instances      Box(P          R      mAP50  mAP50-95): 100%|██████████| 169/169 [00:21<00:00,  8.01it/s]"
     ]
    },
    {
     "name": "stdout",
     "output_type": "stream",
     "text": [
      "                   all       5406      12905      0.957       0.95      0.981      0.699\n"
     ]
    },
    {
     "name": "stderr",
     "output_type": "stream",
     "text": [
      "\n"
     ]
    },
    {
     "name": "stdout",
     "output_type": "stream",
     "text": [
      "\n",
      "      Epoch    GPU_mem   box_loss   cls_loss   dfl_loss  Instances       Size\n"
     ]
    },
    {
     "name": "stderr",
     "output_type": "stream",
     "text": [
      "     70/200      2.39G      1.124     0.7719      1.407         61        640: 100%|██████████| 338/338 [00:29<00:00, 11.60it/s]\n",
      "                 Class     Images  Instances      Box(P          R      mAP50  mAP50-95): 100%|██████████| 169/169 [00:21<00:00,  8.01it/s]"
     ]
    },
    {
     "name": "stdout",
     "output_type": "stream",
     "text": [
      "                   all       5406      12905      0.961      0.947      0.983      0.705\n"
     ]
    },
    {
     "name": "stderr",
     "output_type": "stream",
     "text": [
      "\n"
     ]
    },
    {
     "name": "stdout",
     "output_type": "stream",
     "text": [
      "\n",
      "      Epoch    GPU_mem   box_loss   cls_loss   dfl_loss  Instances       Size\n"
     ]
    },
    {
     "name": "stderr",
     "output_type": "stream",
     "text": [
      "     71/200       2.5G      1.118     0.7595      1.404         69        640: 100%|██████████| 338/338 [00:29<00:00, 11.61it/s]\n",
      "                 Class     Images  Instances      Box(P          R      mAP50  mAP50-95): 100%|██████████| 169/169 [00:21<00:00,  8.03it/s]"
     ]
    },
    {
     "name": "stdout",
     "output_type": "stream",
     "text": [
      "                   all       5406      12905      0.958      0.952      0.984      0.707\n"
     ]
    },
    {
     "name": "stderr",
     "output_type": "stream",
     "text": [
      "\n"
     ]
    },
    {
     "name": "stdout",
     "output_type": "stream",
     "text": [
      "\n",
      "      Epoch    GPU_mem   box_loss   cls_loss   dfl_loss  Instances       Size\n"
     ]
    },
    {
     "name": "stderr",
     "output_type": "stream",
     "text": [
      "     72/200      2.39G      1.122     0.7617       1.41         56        640: 100%|██████████| 338/338 [00:29<00:00, 11.64it/s]\n",
      "                 Class     Images  Instances      Box(P          R      mAP50  mAP50-95): 100%|██████████| 169/169 [00:20<00:00,  8.06it/s]"
     ]
    },
    {
     "name": "stdout",
     "output_type": "stream",
     "text": [
      "                   all       5406      12905      0.964       0.95      0.984      0.704\n"
     ]
    },
    {
     "name": "stderr",
     "output_type": "stream",
     "text": [
      "\n"
     ]
    },
    {
     "name": "stdout",
     "output_type": "stream",
     "text": [
      "\n",
      "      Epoch    GPU_mem   box_loss   cls_loss   dfl_loss  Instances       Size\n"
     ]
    },
    {
     "name": "stderr",
     "output_type": "stream",
     "text": [
      "     73/200      2.49G      1.115     0.7577      1.398         67        640: 100%|██████████| 338/338 [00:29<00:00, 11.60it/s]\n",
      "                 Class     Images  Instances      Box(P          R      mAP50  mAP50-95): 100%|██████████| 169/169 [00:21<00:00,  8.01it/s]"
     ]
    },
    {
     "name": "stdout",
     "output_type": "stream",
     "text": [
      "                   all       5406      12905      0.965       0.95      0.985      0.711\n"
     ]
    },
    {
     "name": "stderr",
     "output_type": "stream",
     "text": [
      "\n"
     ]
    },
    {
     "name": "stdout",
     "output_type": "stream",
     "text": [
      "\n",
      "      Epoch    GPU_mem   box_loss   cls_loss   dfl_loss  Instances       Size\n"
     ]
    },
    {
     "name": "stderr",
     "output_type": "stream",
     "text": [
      "     74/200      2.39G      1.112     0.7543      1.396         84        640: 100%|██████████| 338/338 [00:29<00:00, 11.60it/s]\n",
      "                 Class     Images  Instances      Box(P          R      mAP50  mAP50-95): 100%|██████████| 169/169 [00:21<00:00,  7.98it/s]"
     ]
    },
    {
     "name": "stdout",
     "output_type": "stream",
     "text": [
      "                   all       5406      12905      0.963      0.955      0.987       0.72\n"
     ]
    },
    {
     "name": "stderr",
     "output_type": "stream",
     "text": [
      "\n"
     ]
    },
    {
     "name": "stdout",
     "output_type": "stream",
     "text": [
      "\n",
      "      Epoch    GPU_mem   box_loss   cls_loss   dfl_loss  Instances       Size\n"
     ]
    },
    {
     "name": "stderr",
     "output_type": "stream",
     "text": [
      "     75/200      2.49G      1.117     0.7583      1.402         76        640: 100%|██████████| 338/338 [00:29<00:00, 11.61it/s]\n",
      "                 Class     Images  Instances      Box(P          R      mAP50  mAP50-95): 100%|██████████| 169/169 [00:21<00:00,  8.02it/s]"
     ]
    },
    {
     "name": "stdout",
     "output_type": "stream",
     "text": [
      "                   all       5406      12905      0.968      0.951      0.985      0.718\n"
     ]
    },
    {
     "name": "stderr",
     "output_type": "stream",
     "text": [
      "\n"
     ]
    },
    {
     "name": "stdout",
     "output_type": "stream",
     "text": [
      "\n",
      "      Epoch    GPU_mem   box_loss   cls_loss   dfl_loss  Instances       Size\n"
     ]
    },
    {
     "name": "stderr",
     "output_type": "stream",
     "text": [
      "     76/200      2.39G      1.106     0.7368      1.395         71        640: 100%|██████████| 338/338 [00:29<00:00, 11.59it/s]\n",
      "                 Class     Images  Instances      Box(P          R      mAP50  mAP50-95): 100%|██████████| 169/169 [00:21<00:00,  8.00it/s]"
     ]
    },
    {
     "name": "stdout",
     "output_type": "stream",
     "text": [
      "                   all       5406      12905       0.96      0.958      0.985      0.719\n"
     ]
    },
    {
     "name": "stderr",
     "output_type": "stream",
     "text": [
      "\n"
     ]
    },
    {
     "name": "stdout",
     "output_type": "stream",
     "text": [
      "\n",
      "      Epoch    GPU_mem   box_loss   cls_loss   dfl_loss  Instances       Size\n"
     ]
    },
    {
     "name": "stderr",
     "output_type": "stream",
     "text": [
      "     77/200      2.49G      1.102     0.7331      1.386         64        640: 100%|██████████| 338/338 [00:29<00:00, 11.60it/s]\n",
      "                 Class     Images  Instances      Box(P          R      mAP50  mAP50-95): 100%|██████████| 169/169 [00:21<00:00,  8.02it/s]"
     ]
    },
    {
     "name": "stdout",
     "output_type": "stream",
     "text": [
      "                   all       5406      12905      0.967      0.955      0.986      0.723\n"
     ]
    },
    {
     "name": "stderr",
     "output_type": "stream",
     "text": [
      "\n"
     ]
    },
    {
     "name": "stdout",
     "output_type": "stream",
     "text": [
      "\n",
      "      Epoch    GPU_mem   box_loss   cls_loss   dfl_loss  Instances       Size\n"
     ]
    },
    {
     "name": "stderr",
     "output_type": "stream",
     "text": [
      "     78/200      2.39G      1.105     0.7357      1.393         55        640: 100%|██████████| 338/338 [00:29<00:00, 11.61it/s]\n",
      "                 Class     Images  Instances      Box(P          R      mAP50  mAP50-95): 100%|██████████| 169/169 [00:21<00:00,  8.00it/s]"
     ]
    },
    {
     "name": "stdout",
     "output_type": "stream",
     "text": [
      "                   all       5406      12905      0.963      0.957      0.986      0.718\n"
     ]
    },
    {
     "name": "stderr",
     "output_type": "stream",
     "text": [
      "\n"
     ]
    },
    {
     "name": "stdout",
     "output_type": "stream",
     "text": [
      "\n",
      "      Epoch    GPU_mem   box_loss   cls_loss   dfl_loss  Instances       Size\n"
     ]
    },
    {
     "name": "stderr",
     "output_type": "stream",
     "text": [
      "     79/200      2.49G      1.094     0.7331      1.386         55        640: 100%|██████████| 338/338 [00:29<00:00, 11.59it/s]\n",
      "                 Class     Images  Instances      Box(P          R      mAP50  mAP50-95): 100%|██████████| 169/169 [00:21<00:00,  7.96it/s]"
     ]
    },
    {
     "name": "stdout",
     "output_type": "stream",
     "text": [
      "                   all       5406      12905      0.965       0.96      0.985      0.722\n"
     ]
    },
    {
     "name": "stderr",
     "output_type": "stream",
     "text": [
      "\n"
     ]
    },
    {
     "name": "stdout",
     "output_type": "stream",
     "text": [
      "\n",
      "      Epoch    GPU_mem   box_loss   cls_loss   dfl_loss  Instances       Size\n"
     ]
    },
    {
     "name": "stderr",
     "output_type": "stream",
     "text": [
      "     80/200      2.39G      1.096     0.7293      1.382         62        640: 100%|██████████| 338/338 [00:29<00:00, 11.61it/s]\n",
      "                 Class     Images  Instances      Box(P          R      mAP50  mAP50-95): 100%|██████████| 169/169 [00:21<00:00,  8.00it/s]"
     ]
    },
    {
     "name": "stdout",
     "output_type": "stream",
     "text": [
      "                   all       5406      12905      0.964      0.959      0.986      0.724\n"
     ]
    },
    {
     "name": "stderr",
     "output_type": "stream",
     "text": [
      "\n"
     ]
    },
    {
     "name": "stdout",
     "output_type": "stream",
     "text": [
      "\n",
      "      Epoch    GPU_mem   box_loss   cls_loss   dfl_loss  Instances       Size\n"
     ]
    },
    {
     "name": "stderr",
     "output_type": "stream",
     "text": [
      "     81/200      2.49G      1.099     0.7363      1.387         53        640: 100%|██████████| 338/338 [00:29<00:00, 11.64it/s]\n",
      "                 Class     Images  Instances      Box(P          R      mAP50  mAP50-95): 100%|██████████| 169/169 [00:21<00:00,  8.01it/s]"
     ]
    },
    {
     "name": "stdout",
     "output_type": "stream",
     "text": [
      "                   all       5406      12905      0.969      0.959      0.988       0.73\n"
     ]
    },
    {
     "name": "stderr",
     "output_type": "stream",
     "text": [
      "\n"
     ]
    },
    {
     "name": "stdout",
     "output_type": "stream",
     "text": [
      "\n",
      "      Epoch    GPU_mem   box_loss   cls_loss   dfl_loss  Instances       Size\n"
     ]
    },
    {
     "name": "stderr",
     "output_type": "stream",
     "text": [
      "     82/200      2.39G      1.094     0.7266      1.382         75        640: 100%|██████████| 338/338 [00:29<00:00, 11.61it/s]\n",
      "                 Class     Images  Instances      Box(P          R      mAP50  mAP50-95): 100%|██████████| 169/169 [00:21<00:00,  8.03it/s]"
     ]
    },
    {
     "name": "stdout",
     "output_type": "stream",
     "text": [
      "                   all       5406      12905      0.964      0.961      0.986      0.725\n"
     ]
    },
    {
     "name": "stderr",
     "output_type": "stream",
     "text": [
      "\n"
     ]
    },
    {
     "name": "stdout",
     "output_type": "stream",
     "text": [
      "\n",
      "      Epoch    GPU_mem   box_loss   cls_loss   dfl_loss  Instances       Size\n"
     ]
    },
    {
     "name": "stderr",
     "output_type": "stream",
     "text": [
      "     83/200      2.49G      1.093     0.7233      1.379         56        640: 100%|██████████| 338/338 [00:29<00:00, 11.62it/s]\n",
      "                 Class     Images  Instances      Box(P          R      mAP50  mAP50-95): 100%|██████████| 169/169 [00:21<00:00,  8.00it/s]"
     ]
    },
    {
     "name": "stdout",
     "output_type": "stream",
     "text": [
      "                   all       5406      12905      0.968      0.964      0.987      0.732\n"
     ]
    },
    {
     "name": "stderr",
     "output_type": "stream",
     "text": [
      "\n"
     ]
    },
    {
     "name": "stdout",
     "output_type": "stream",
     "text": [
      "\n",
      "      Epoch    GPU_mem   box_loss   cls_loss   dfl_loss  Instances       Size\n"
     ]
    },
    {
     "name": "stderr",
     "output_type": "stream",
     "text": [
      "     84/200      2.39G      1.087     0.7228      1.377         49        640: 100%|██████████| 338/338 [00:29<00:00, 11.63it/s]\n",
      "                 Class     Images  Instances      Box(P          R      mAP50  mAP50-95): 100%|██████████| 169/169 [00:21<00:00,  7.97it/s]"
     ]
    },
    {
     "name": "stdout",
     "output_type": "stream",
     "text": [
      "                   all       5406      12905      0.965      0.965      0.988      0.729\n"
     ]
    },
    {
     "name": "stderr",
     "output_type": "stream",
     "text": [
      "\n"
     ]
    },
    {
     "name": "stdout",
     "output_type": "stream",
     "text": [
      "\n",
      "      Epoch    GPU_mem   box_loss   cls_loss   dfl_loss  Instances       Size\n"
     ]
    },
    {
     "name": "stderr",
     "output_type": "stream",
     "text": [
      "     85/200      2.49G      1.075     0.7165      1.369         72        640: 100%|██████████| 338/338 [00:29<00:00, 11.61it/s]\n",
      "                 Class     Images  Instances      Box(P          R      mAP50  mAP50-95): 100%|██████████| 169/169 [00:21<00:00,  8.00it/s]"
     ]
    },
    {
     "name": "stdout",
     "output_type": "stream",
     "text": [
      "                   all       5406      12905       0.97      0.963      0.987      0.733\n"
     ]
    },
    {
     "name": "stderr",
     "output_type": "stream",
     "text": [
      "\n"
     ]
    },
    {
     "name": "stdout",
     "output_type": "stream",
     "text": [
      "\n",
      "      Epoch    GPU_mem   box_loss   cls_loss   dfl_loss  Instances       Size\n"
     ]
    },
    {
     "name": "stderr",
     "output_type": "stream",
     "text": [
      "     86/200      2.39G       1.08     0.7071      1.372         53        640: 100%|██████████| 338/338 [00:29<00:00, 11.57it/s]\n",
      "                 Class     Images  Instances      Box(P          R      mAP50  mAP50-95): 100%|██████████| 169/169 [00:21<00:00,  8.00it/s]"
     ]
    },
    {
     "name": "stdout",
     "output_type": "stream",
     "text": [
      "                   all       5406      12905      0.971       0.96      0.988      0.737\n"
     ]
    },
    {
     "name": "stderr",
     "output_type": "stream",
     "text": [
      "\n"
     ]
    },
    {
     "name": "stdout",
     "output_type": "stream",
     "text": [
      "\n",
      "      Epoch    GPU_mem   box_loss   cls_loss   dfl_loss  Instances       Size\n"
     ]
    },
    {
     "name": "stderr",
     "output_type": "stream",
     "text": [
      "     87/200      2.49G      1.075     0.7181      1.371         62        640: 100%|██████████| 338/338 [00:29<00:00, 11.62it/s]\n",
      "                 Class     Images  Instances      Box(P          R      mAP50  mAP50-95): 100%|██████████| 169/169 [00:21<00:00,  7.96it/s]"
     ]
    },
    {
     "name": "stdout",
     "output_type": "stream",
     "text": [
      "                   all       5406      12905      0.966      0.964      0.988      0.735\n"
     ]
    },
    {
     "name": "stderr",
     "output_type": "stream",
     "text": [
      "\n"
     ]
    },
    {
     "name": "stdout",
     "output_type": "stream",
     "text": [
      "\n",
      "      Epoch    GPU_mem   box_loss   cls_loss   dfl_loss  Instances       Size\n"
     ]
    },
    {
     "name": "stderr",
     "output_type": "stream",
     "text": [
      "     88/200      2.39G      1.076     0.7184      1.367         64        640: 100%|██████████| 338/338 [00:29<00:00, 11.64it/s]\n",
      "                 Class     Images  Instances      Box(P          R      mAP50  mAP50-95): 100%|██████████| 169/169 [00:21<00:00,  7.98it/s]"
     ]
    },
    {
     "name": "stdout",
     "output_type": "stream",
     "text": [
      "                   all       5406      12905      0.966      0.966      0.989       0.74\n"
     ]
    },
    {
     "name": "stderr",
     "output_type": "stream",
     "text": [
      "\n"
     ]
    },
    {
     "name": "stdout",
     "output_type": "stream",
     "text": [
      "\n",
      "      Epoch    GPU_mem   box_loss   cls_loss   dfl_loss  Instances       Size\n"
     ]
    },
    {
     "name": "stderr",
     "output_type": "stream",
     "text": [
      "     89/200      2.49G      1.067     0.7051      1.368         60        640: 100%|██████████| 338/338 [00:29<00:00, 11.61it/s]\n",
      "                 Class     Images  Instances      Box(P          R      mAP50  mAP50-95): 100%|██████████| 169/169 [00:21<00:00,  8.02it/s]"
     ]
    },
    {
     "name": "stdout",
     "output_type": "stream",
     "text": [
      "                   all       5406      12905      0.968      0.967      0.988      0.737\n"
     ]
    },
    {
     "name": "stderr",
     "output_type": "stream",
     "text": [
      "\n"
     ]
    },
    {
     "name": "stdout",
     "output_type": "stream",
     "text": [
      "\n",
      "      Epoch    GPU_mem   box_loss   cls_loss   dfl_loss  Instances       Size\n"
     ]
    },
    {
     "name": "stderr",
     "output_type": "stream",
     "text": [
      "     90/200      2.39G      1.073     0.7161      1.361         65        640: 100%|██████████| 338/338 [00:29<00:00, 11.57it/s]\n",
      "                 Class     Images  Instances      Box(P          R      mAP50  mAP50-95): 100%|██████████| 169/169 [00:21<00:00,  7.98it/s]"
     ]
    },
    {
     "name": "stdout",
     "output_type": "stream",
     "text": [
      "                   all       5406      12905      0.971      0.965      0.988      0.736\n"
     ]
    },
    {
     "name": "stderr",
     "output_type": "stream",
     "text": [
      "\n"
     ]
    },
    {
     "name": "stdout",
     "output_type": "stream",
     "text": [
      "\n",
      "      Epoch    GPU_mem   box_loss   cls_loss   dfl_loss  Instances       Size\n"
     ]
    },
    {
     "name": "stderr",
     "output_type": "stream",
     "text": [
      "     91/200      2.49G      1.065     0.7032      1.359         69        640: 100%|██████████| 338/338 [00:29<00:00, 11.63it/s]\n",
      "                 Class     Images  Instances      Box(P          R      mAP50  mAP50-95): 100%|██████████| 169/169 [00:21<00:00,  8.04it/s]"
     ]
    },
    {
     "name": "stdout",
     "output_type": "stream",
     "text": [
      "                   all       5406      12905      0.969      0.969      0.989      0.742\n"
     ]
    },
    {
     "name": "stderr",
     "output_type": "stream",
     "text": [
      "\n"
     ]
    },
    {
     "name": "stdout",
     "output_type": "stream",
     "text": [
      "\n",
      "      Epoch    GPU_mem   box_loss   cls_loss   dfl_loss  Instances       Size\n"
     ]
    },
    {
     "name": "stderr",
     "output_type": "stream",
     "text": [
      "     92/200      2.39G      1.058     0.6919      1.353         75        640: 100%|██████████| 338/338 [00:29<00:00, 11.58it/s]\n",
      "                 Class     Images  Instances      Box(P          R      mAP50  mAP50-95): 100%|██████████| 169/169 [00:21<00:00,  7.88it/s]"
     ]
    },
    {
     "name": "stdout",
     "output_type": "stream",
     "text": [
      "                   all       5406      12905       0.97      0.968      0.988      0.741\n"
     ]
    },
    {
     "name": "stderr",
     "output_type": "stream",
     "text": [
      "\n"
     ]
    },
    {
     "name": "stdout",
     "output_type": "stream",
     "text": [
      "\n",
      "      Epoch    GPU_mem   box_loss   cls_loss   dfl_loss  Instances       Size\n"
     ]
    },
    {
     "name": "stderr",
     "output_type": "stream",
     "text": [
      "     93/200      2.49G      1.065     0.6952      1.356         69        640: 100%|██████████| 338/338 [00:29<00:00, 11.56it/s]\n",
      "                 Class     Images  Instances      Box(P          R      mAP50  mAP50-95): 100%|██████████| 169/169 [00:21<00:00,  7.97it/s]"
     ]
    },
    {
     "name": "stdout",
     "output_type": "stream",
     "text": [
      "                   all       5406      12905      0.968      0.968      0.987       0.74\n"
     ]
    },
    {
     "name": "stderr",
     "output_type": "stream",
     "text": [
      "\n"
     ]
    },
    {
     "name": "stdout",
     "output_type": "stream",
     "text": [
      "\n",
      "      Epoch    GPU_mem   box_loss   cls_loss   dfl_loss  Instances       Size\n"
     ]
    },
    {
     "name": "stderr",
     "output_type": "stream",
     "text": [
      "     94/200      2.39G      1.061     0.6922      1.357         62        640: 100%|██████████| 338/338 [00:29<00:00, 11.62it/s]\n",
      "                 Class     Images  Instances      Box(P          R      mAP50  mAP50-95): 100%|██████████| 169/169 [00:21<00:00,  7.97it/s]"
     ]
    },
    {
     "name": "stdout",
     "output_type": "stream",
     "text": [
      "                   all       5406      12905       0.97      0.967      0.987      0.739\n"
     ]
    },
    {
     "name": "stderr",
     "output_type": "stream",
     "text": [
      "\n"
     ]
    },
    {
     "name": "stdout",
     "output_type": "stream",
     "text": [
      "\n",
      "      Epoch    GPU_mem   box_loss   cls_loss   dfl_loss  Instances       Size\n"
     ]
    },
    {
     "name": "stderr",
     "output_type": "stream",
     "text": [
      "     95/200      2.49G      1.058     0.6882      1.351         58        640: 100%|██████████| 338/338 [00:29<00:00, 11.58it/s]\n",
      "                 Class     Images  Instances      Box(P          R      mAP50  mAP50-95): 100%|██████████| 169/169 [00:21<00:00,  7.98it/s]"
     ]
    },
    {
     "name": "stdout",
     "output_type": "stream",
     "text": [
      "                   all       5406      12905      0.975      0.964      0.989      0.744\n"
     ]
    },
    {
     "name": "stderr",
     "output_type": "stream",
     "text": [
      "\n"
     ]
    },
    {
     "name": "stdout",
     "output_type": "stream",
     "text": [
      "\n",
      "      Epoch    GPU_mem   box_loss   cls_loss   dfl_loss  Instances       Size\n"
     ]
    },
    {
     "name": "stderr",
     "output_type": "stream",
     "text": [
      "     96/200      2.39G      1.056     0.6917      1.349         48        640: 100%|██████████| 338/338 [00:29<00:00, 11.62it/s]\n",
      "                 Class     Images  Instances      Box(P          R      mAP50  mAP50-95): 100%|██████████| 169/169 [00:21<00:00,  7.97it/s]"
     ]
    },
    {
     "name": "stdout",
     "output_type": "stream",
     "text": [
      "                   all       5406      12905       0.97      0.968      0.988      0.741\n"
     ]
    },
    {
     "name": "stderr",
     "output_type": "stream",
     "text": [
      "\n"
     ]
    },
    {
     "name": "stdout",
     "output_type": "stream",
     "text": [
      "\n",
      "      Epoch    GPU_mem   box_loss   cls_loss   dfl_loss  Instances       Size\n"
     ]
    },
    {
     "name": "stderr",
     "output_type": "stream",
     "text": [
      "     97/200      2.49G      1.049     0.6833      1.349         82        640: 100%|██████████| 338/338 [00:29<00:00, 11.58it/s]\n",
      "                 Class     Images  Instances      Box(P          R      mAP50  mAP50-95): 100%|██████████| 169/169 [00:21<00:00,  7.98it/s]"
     ]
    },
    {
     "name": "stdout",
     "output_type": "stream",
     "text": [
      "                   all       5406      12905      0.969       0.97       0.99      0.746\n"
     ]
    },
    {
     "name": "stderr",
     "output_type": "stream",
     "text": [
      "\n"
     ]
    },
    {
     "name": "stdout",
     "output_type": "stream",
     "text": [
      "\n",
      "      Epoch    GPU_mem   box_loss   cls_loss   dfl_loss  Instances       Size\n"
     ]
    },
    {
     "name": "stderr",
     "output_type": "stream",
     "text": [
      "     98/200      2.39G      1.045     0.6778      1.342         62        640: 100%|██████████| 338/338 [00:29<00:00, 11.61it/s]\n",
      "                 Class     Images  Instances      Box(P          R      mAP50  mAP50-95): 100%|██████████| 169/169 [00:21<00:00,  7.97it/s]"
     ]
    },
    {
     "name": "stdout",
     "output_type": "stream",
     "text": [
      "                   all       5406      12905      0.972      0.972       0.99      0.746\n"
     ]
    },
    {
     "name": "stderr",
     "output_type": "stream",
     "text": [
      "\n"
     ]
    },
    {
     "name": "stdout",
     "output_type": "stream",
     "text": [
      "\n",
      "      Epoch    GPU_mem   box_loss   cls_loss   dfl_loss  Instances       Size\n"
     ]
    },
    {
     "name": "stderr",
     "output_type": "stream",
     "text": [
      "     99/200      2.49G      1.048      0.682      1.346         47        640: 100%|██████████| 338/338 [00:29<00:00, 11.65it/s]\n",
      "                 Class     Images  Instances      Box(P          R      mAP50  mAP50-95): 100%|██████████| 169/169 [00:21<00:00,  8.04it/s]"
     ]
    },
    {
     "name": "stdout",
     "output_type": "stream",
     "text": [
      "                   all       5406      12905      0.974      0.967       0.99       0.75\n"
     ]
    },
    {
     "name": "stderr",
     "output_type": "stream",
     "text": [
      "\n"
     ]
    },
    {
     "name": "stdout",
     "output_type": "stream",
     "text": [
      "\n",
      "      Epoch    GPU_mem   box_loss   cls_loss   dfl_loss  Instances       Size\n"
     ]
    },
    {
     "name": "stderr",
     "output_type": "stream",
     "text": [
      "    100/200      2.39G      1.048     0.6806       1.34         67        640: 100%|██████████| 338/338 [00:29<00:00, 11.61it/s]\n",
      "                 Class     Images  Instances      Box(P          R      mAP50  mAP50-95): 100%|██████████| 169/169 [00:21<00:00,  7.96it/s]"
     ]
    },
    {
     "name": "stdout",
     "output_type": "stream",
     "text": [
      "                   all       5406      12905      0.972      0.968       0.99       0.75\n"
     ]
    },
    {
     "name": "stderr",
     "output_type": "stream",
     "text": [
      "\n"
     ]
    },
    {
     "name": "stdout",
     "output_type": "stream",
     "text": [
      "\n",
      "      Epoch    GPU_mem   box_loss   cls_loss   dfl_loss  Instances       Size\n"
     ]
    },
    {
     "name": "stderr",
     "output_type": "stream",
     "text": [
      "    101/200      2.49G      1.034     0.6692       1.33         52        640: 100%|██████████| 338/338 [00:29<00:00, 11.62it/s]\n",
      "                 Class     Images  Instances      Box(P          R      mAP50  mAP50-95): 100%|██████████| 169/169 [00:21<00:00,  7.95it/s]"
     ]
    },
    {
     "name": "stdout",
     "output_type": "stream",
     "text": [
      "                   all       5406      12905      0.974      0.969       0.99      0.748\n"
     ]
    },
    {
     "name": "stderr",
     "output_type": "stream",
     "text": [
      "\n"
     ]
    },
    {
     "name": "stdout",
     "output_type": "stream",
     "text": [
      "\n",
      "      Epoch    GPU_mem   box_loss   cls_loss   dfl_loss  Instances       Size\n"
     ]
    },
    {
     "name": "stderr",
     "output_type": "stream",
     "text": [
      "    102/200      2.39G      1.039     0.6708      1.336         88        640: 100%|██████████| 338/338 [00:29<00:00, 11.57it/s]\n",
      "                 Class     Images  Instances      Box(P          R      mAP50  mAP50-95): 100%|██████████| 169/169 [00:21<00:00,  8.01it/s]"
     ]
    },
    {
     "name": "stdout",
     "output_type": "stream",
     "text": [
      "                   all       5406      12905      0.971       0.97       0.99       0.75\n"
     ]
    },
    {
     "name": "stderr",
     "output_type": "stream",
     "text": [
      "\n"
     ]
    },
    {
     "name": "stdout",
     "output_type": "stream",
     "text": [
      "\n",
      "      Epoch    GPU_mem   box_loss   cls_loss   dfl_loss  Instances       Size\n"
     ]
    },
    {
     "name": "stderr",
     "output_type": "stream",
     "text": [
      "    103/200      2.49G      1.043     0.6789      1.343         70        640: 100%|██████████| 338/338 [00:29<00:00, 11.62it/s]\n",
      "                 Class     Images  Instances      Box(P          R      mAP50  mAP50-95): 100%|██████████| 169/169 [00:21<00:00,  7.95it/s]"
     ]
    },
    {
     "name": "stdout",
     "output_type": "stream",
     "text": [
      "                   all       5406      12905      0.974      0.969       0.99      0.752\n"
     ]
    },
    {
     "name": "stderr",
     "output_type": "stream",
     "text": [
      "\n"
     ]
    },
    {
     "name": "stdout",
     "output_type": "stream",
     "text": [
      "\n",
      "      Epoch    GPU_mem   box_loss   cls_loss   dfl_loss  Instances       Size\n"
     ]
    },
    {
     "name": "stderr",
     "output_type": "stream",
     "text": [
      "    104/200      2.39G       1.03     0.6661      1.329         62        640: 100%|██████████| 338/338 [00:29<00:00, 11.60it/s]\n",
      "                 Class     Images  Instances      Box(P          R      mAP50  mAP50-95): 100%|██████████| 169/169 [00:21<00:00,  7.96it/s]"
     ]
    },
    {
     "name": "stdout",
     "output_type": "stream",
     "text": [
      "                   all       5406      12905      0.973       0.97       0.99      0.753\n"
     ]
    },
    {
     "name": "stderr",
     "output_type": "stream",
     "text": [
      "\n"
     ]
    },
    {
     "name": "stdout",
     "output_type": "stream",
     "text": [
      "\n",
      "      Epoch    GPU_mem   box_loss   cls_loss   dfl_loss  Instances       Size\n"
     ]
    },
    {
     "name": "stderr",
     "output_type": "stream",
     "text": [
      "    105/200      2.49G      1.028     0.6589      1.326         67        640: 100%|██████████| 338/338 [00:29<00:00, 11.59it/s]\n",
      "                 Class     Images  Instances      Box(P          R      mAP50  mAP50-95): 100%|██████████| 169/169 [00:21<00:00,  7.94it/s]"
     ]
    },
    {
     "name": "stdout",
     "output_type": "stream",
     "text": [
      "                   all       5406      12905      0.974      0.969      0.991      0.754\n"
     ]
    },
    {
     "name": "stderr",
     "output_type": "stream",
     "text": [
      "\n"
     ]
    },
    {
     "name": "stdout",
     "output_type": "stream",
     "text": [
      "\n",
      "      Epoch    GPU_mem   box_loss   cls_loss   dfl_loss  Instances       Size\n"
     ]
    },
    {
     "name": "stderr",
     "output_type": "stream",
     "text": [
      "    106/200      2.39G      1.034     0.6719      1.334         65        640: 100%|██████████| 338/338 [00:29<00:00, 11.57it/s]\n",
      "                 Class     Images  Instances      Box(P          R      mAP50  mAP50-95): 100%|██████████| 169/169 [00:21<00:00,  7.98it/s]"
     ]
    },
    {
     "name": "stdout",
     "output_type": "stream",
     "text": [
      "                   all       5406      12905      0.974       0.97       0.99      0.754\n"
     ]
    },
    {
     "name": "stderr",
     "output_type": "stream",
     "text": [
      "\n"
     ]
    },
    {
     "name": "stdout",
     "output_type": "stream",
     "text": [
      "\n",
      "      Epoch    GPU_mem   box_loss   cls_loss   dfl_loss  Instances       Size\n"
     ]
    },
    {
     "name": "stderr",
     "output_type": "stream",
     "text": [
      "    107/200      2.49G      1.027     0.6614       1.33         69        640: 100%|██████████| 338/338 [00:29<00:00, 11.60it/s]\n",
      "                 Class     Images  Instances      Box(P          R      mAP50  mAP50-95): 100%|██████████| 169/169 [00:20<00:00,  8.06it/s]"
     ]
    },
    {
     "name": "stdout",
     "output_type": "stream",
     "text": [
      "                   all       5406      12905      0.977      0.967       0.99      0.756\n"
     ]
    },
    {
     "name": "stderr",
     "output_type": "stream",
     "text": [
      "\n"
     ]
    },
    {
     "name": "stdout",
     "output_type": "stream",
     "text": [
      "\n",
      "      Epoch    GPU_mem   box_loss   cls_loss   dfl_loss  Instances       Size\n"
     ]
    },
    {
     "name": "stderr",
     "output_type": "stream",
     "text": [
      "    108/200      2.39G      1.032      0.666      1.332         75        640: 100%|██████████| 338/338 [00:29<00:00, 11.56it/s]\n",
      "                 Class     Images  Instances      Box(P          R      mAP50  mAP50-95): 100%|██████████| 169/169 [00:21<00:00,  7.96it/s]"
     ]
    },
    {
     "name": "stdout",
     "output_type": "stream",
     "text": [
      "                   all       5406      12905      0.974      0.974      0.991      0.759\n"
     ]
    },
    {
     "name": "stderr",
     "output_type": "stream",
     "text": [
      "\n"
     ]
    },
    {
     "name": "stdout",
     "output_type": "stream",
     "text": [
      "\n",
      "      Epoch    GPU_mem   box_loss   cls_loss   dfl_loss  Instances       Size\n"
     ]
    },
    {
     "name": "stderr",
     "output_type": "stream",
     "text": [
      "    109/200      2.49G      1.028     0.6609      1.324         74        640: 100%|██████████| 338/338 [00:29<00:00, 11.52it/s]\n",
      "                 Class     Images  Instances      Box(P          R      mAP50  mAP50-95): 100%|██████████| 169/169 [00:21<00:00,  7.90it/s]"
     ]
    },
    {
     "name": "stdout",
     "output_type": "stream",
     "text": [
      "                   all       5406      12905      0.972      0.974       0.99       0.76\n"
     ]
    },
    {
     "name": "stderr",
     "output_type": "stream",
     "text": [
      "\n"
     ]
    },
    {
     "name": "stdout",
     "output_type": "stream",
     "text": [
      "\n",
      "      Epoch    GPU_mem   box_loss   cls_loss   dfl_loss  Instances       Size\n"
     ]
    },
    {
     "name": "stderr",
     "output_type": "stream",
     "text": [
      "    110/200      2.39G      1.027      0.665      1.329         59        640: 100%|██████████| 338/338 [00:29<00:00, 11.57it/s]\n",
      "                 Class     Images  Instances      Box(P          R      mAP50  mAP50-95): 100%|██████████| 169/169 [00:21<00:00,  7.96it/s]"
     ]
    },
    {
     "name": "stdout",
     "output_type": "stream",
     "text": [
      "                   all       5406      12905      0.972      0.974       0.99      0.761\n"
     ]
    },
    {
     "name": "stderr",
     "output_type": "stream",
     "text": [
      "\n"
     ]
    },
    {
     "name": "stdout",
     "output_type": "stream",
     "text": [
      "\n",
      "      Epoch    GPU_mem   box_loss   cls_loss   dfl_loss  Instances       Size\n"
     ]
    },
    {
     "name": "stderr",
     "output_type": "stream",
     "text": [
      "    111/200      2.49G      1.017     0.6543      1.317         54        640: 100%|██████████| 338/338 [00:29<00:00, 11.60it/s]\n",
      "                 Class     Images  Instances      Box(P          R      mAP50  mAP50-95): 100%|██████████| 169/169 [00:21<00:00,  7.97it/s]"
     ]
    },
    {
     "name": "stdout",
     "output_type": "stream",
     "text": [
      "                   all       5406      12905      0.972      0.975       0.99      0.761\n"
     ]
    },
    {
     "name": "stderr",
     "output_type": "stream",
     "text": [
      "\n"
     ]
    },
    {
     "name": "stdout",
     "output_type": "stream",
     "text": [
      "\n",
      "      Epoch    GPU_mem   box_loss   cls_loss   dfl_loss  Instances       Size\n"
     ]
    },
    {
     "name": "stderr",
     "output_type": "stream",
     "text": [
      "    112/200      2.39G      1.024     0.6552      1.325         76        640: 100%|██████████| 338/338 [00:29<00:00, 11.57it/s]\n",
      "                 Class     Images  Instances      Box(P          R      mAP50  mAP50-95): 100%|██████████| 169/169 [00:21<00:00,  8.00it/s]"
     ]
    },
    {
     "name": "stdout",
     "output_type": "stream",
     "text": [
      "                   all       5406      12905      0.974      0.974      0.989       0.76\n"
     ]
    },
    {
     "name": "stderr",
     "output_type": "stream",
     "text": [
      "\n"
     ]
    },
    {
     "name": "stdout",
     "output_type": "stream",
     "text": [
      "\n",
      "      Epoch    GPU_mem   box_loss   cls_loss   dfl_loss  Instances       Size\n"
     ]
    },
    {
     "name": "stderr",
     "output_type": "stream",
     "text": [
      "    113/200      2.49G      1.024     0.6505      1.326         58        640: 100%|██████████| 338/338 [00:29<00:00, 11.52it/s]\n",
      "                 Class     Images  Instances      Box(P          R      mAP50  mAP50-95): 100%|██████████| 169/169 [00:21<00:00,  7.97it/s]"
     ]
    },
    {
     "name": "stdout",
     "output_type": "stream",
     "text": [
      "                   all       5406      12905      0.972      0.977      0.989      0.763\n"
     ]
    },
    {
     "name": "stderr",
     "output_type": "stream",
     "text": [
      "\n"
     ]
    },
    {
     "name": "stdout",
     "output_type": "stream",
     "text": [
      "\n",
      "      Epoch    GPU_mem   box_loss   cls_loss   dfl_loss  Instances       Size\n"
     ]
    },
    {
     "name": "stderr",
     "output_type": "stream",
     "text": [
      "    114/200      2.39G      1.014     0.6499      1.314         56        640: 100%|██████████| 338/338 [00:29<00:00, 11.55it/s]\n",
      "                 Class     Images  Instances      Box(P          R      mAP50  mAP50-95): 100%|██████████| 169/169 [00:21<00:00,  7.99it/s]"
     ]
    },
    {
     "name": "stdout",
     "output_type": "stream",
     "text": [
      "                   all       5406      12905      0.975      0.974       0.99      0.763\n"
     ]
    },
    {
     "name": "stderr",
     "output_type": "stream",
     "text": [
      "\n"
     ]
    },
    {
     "name": "stdout",
     "output_type": "stream",
     "text": [
      "\n",
      "      Epoch    GPU_mem   box_loss   cls_loss   dfl_loss  Instances       Size\n"
     ]
    },
    {
     "name": "stderr",
     "output_type": "stream",
     "text": [
      "    115/200      2.49G       1.01     0.6495      1.316         67        640: 100%|██████████| 338/338 [00:29<00:00, 11.57it/s]\n",
      "                 Class     Images  Instances      Box(P          R      mAP50  mAP50-95): 100%|██████████| 169/169 [00:21<00:00,  7.98it/s]"
     ]
    },
    {
     "name": "stdout",
     "output_type": "stream",
     "text": [
      "                   all       5406      12905      0.975      0.976      0.991      0.765\n"
     ]
    },
    {
     "name": "stderr",
     "output_type": "stream",
     "text": [
      "\n"
     ]
    },
    {
     "name": "stdout",
     "output_type": "stream",
     "text": [
      "\n",
      "      Epoch    GPU_mem   box_loss   cls_loss   dfl_loss  Instances       Size\n"
     ]
    },
    {
     "name": "stderr",
     "output_type": "stream",
     "text": [
      "    116/200      2.39G      1.012     0.6458      1.322         61        640: 100%|██████████| 338/338 [00:29<00:00, 11.58it/s]\n",
      "                 Class     Images  Instances      Box(P          R      mAP50  mAP50-95): 100%|██████████| 169/169 [00:21<00:00,  7.98it/s]"
     ]
    },
    {
     "name": "stdout",
     "output_type": "stream",
     "text": [
      "                   all       5406      12905      0.976      0.976      0.991      0.766\n"
     ]
    },
    {
     "name": "stderr",
     "output_type": "stream",
     "text": [
      "\n"
     ]
    },
    {
     "name": "stdout",
     "output_type": "stream",
     "text": [
      "\n",
      "      Epoch    GPU_mem   box_loss   cls_loss   dfl_loss  Instances       Size\n"
     ]
    },
    {
     "name": "stderr",
     "output_type": "stream",
     "text": [
      "    117/200      2.49G      1.008     0.6415      1.314         51        640: 100%|██████████| 338/338 [00:29<00:00, 11.53it/s]\n",
      "                 Class     Images  Instances      Box(P          R      mAP50  mAP50-95): 100%|██████████| 169/169 [00:21<00:00,  7.98it/s]"
     ]
    },
    {
     "name": "stdout",
     "output_type": "stream",
     "text": [
      "                   all       5406      12905      0.976      0.977      0.992       0.77\n"
     ]
    },
    {
     "name": "stderr",
     "output_type": "stream",
     "text": [
      "\n"
     ]
    },
    {
     "name": "stdout",
     "output_type": "stream",
     "text": [
      "\n",
      "      Epoch    GPU_mem   box_loss   cls_loss   dfl_loss  Instances       Size\n"
     ]
    },
    {
     "name": "stderr",
     "output_type": "stream",
     "text": [
      "    118/200      2.39G      1.009     0.6458      1.317         85        640: 100%|██████████| 338/338 [00:29<00:00, 11.60it/s]\n",
      "                 Class     Images  Instances      Box(P          R      mAP50  mAP50-95): 100%|██████████| 169/169 [00:21<00:00,  7.97it/s]"
     ]
    },
    {
     "name": "stdout",
     "output_type": "stream",
     "text": [
      "                   all       5406      12905      0.977      0.976      0.992      0.769\n"
     ]
    },
    {
     "name": "stderr",
     "output_type": "stream",
     "text": [
      "\n"
     ]
    },
    {
     "name": "stdout",
     "output_type": "stream",
     "text": [
      "\n",
      "      Epoch    GPU_mem   box_loss   cls_loss   dfl_loss  Instances       Size\n"
     ]
    },
    {
     "name": "stderr",
     "output_type": "stream",
     "text": [
      "    119/200      2.49G      1.005     0.6402      1.312         64        640: 100%|██████████| 338/338 [00:29<00:00, 11.55it/s]\n",
      "                 Class     Images  Instances      Box(P          R      mAP50  mAP50-95): 100%|██████████| 169/169 [00:21<00:00,  7.95it/s]"
     ]
    },
    {
     "name": "stdout",
     "output_type": "stream",
     "text": [
      "                   all       5406      12905      0.978      0.975      0.992      0.772\n"
     ]
    },
    {
     "name": "stderr",
     "output_type": "stream",
     "text": [
      "\n"
     ]
    },
    {
     "name": "stdout",
     "output_type": "stream",
     "text": [
      "\n",
      "      Epoch    GPU_mem   box_loss   cls_loss   dfl_loss  Instances       Size\n"
     ]
    },
    {
     "name": "stderr",
     "output_type": "stream",
     "text": [
      "    120/200      2.39G     0.9994     0.6313      1.303         72        640: 100%|██████████| 338/338 [00:29<00:00, 11.52it/s]\n",
      "                 Class     Images  Instances      Box(P          R      mAP50  mAP50-95): 100%|██████████| 169/169 [00:21<00:00,  7.95it/s]"
     ]
    },
    {
     "name": "stdout",
     "output_type": "stream",
     "text": [
      "                   all       5406      12905      0.976      0.976      0.991      0.771\n"
     ]
    },
    {
     "name": "stderr",
     "output_type": "stream",
     "text": [
      "\n"
     ]
    },
    {
     "name": "stdout",
     "output_type": "stream",
     "text": [
      "\n",
      "      Epoch    GPU_mem   box_loss   cls_loss   dfl_loss  Instances       Size\n"
     ]
    },
    {
     "name": "stderr",
     "output_type": "stream",
     "text": [
      "    121/200      2.49G     0.9851     0.6324        1.3         67        640: 100%|██████████| 338/338 [00:29<00:00, 11.54it/s]\n",
      "                 Class     Images  Instances      Box(P          R      mAP50  mAP50-95): 100%|██████████| 169/169 [00:21<00:00,  7.93it/s]"
     ]
    },
    {
     "name": "stdout",
     "output_type": "stream",
     "text": [
      "                   all       5406      12905      0.978      0.975      0.992      0.771\n"
     ]
    },
    {
     "name": "stderr",
     "output_type": "stream",
     "text": [
      "\n"
     ]
    },
    {
     "name": "stdout",
     "output_type": "stream",
     "text": [
      "\n",
      "      Epoch    GPU_mem   box_loss   cls_loss   dfl_loss  Instances       Size\n"
     ]
    },
    {
     "name": "stderr",
     "output_type": "stream",
     "text": [
      "    122/200      2.39G     0.9924     0.6338      1.304         65        640: 100%|██████████| 338/338 [00:29<00:00, 11.52it/s]\n",
      "                 Class     Images  Instances      Box(P          R      mAP50  mAP50-95): 100%|██████████| 169/169 [00:21<00:00,  7.92it/s]"
     ]
    },
    {
     "name": "stdout",
     "output_type": "stream",
     "text": [
      "                   all       5406      12905      0.975      0.978      0.992      0.774\n"
     ]
    },
    {
     "name": "stderr",
     "output_type": "stream",
     "text": [
      "\n"
     ]
    },
    {
     "name": "stdout",
     "output_type": "stream",
     "text": [
      "\n",
      "      Epoch    GPU_mem   box_loss   cls_loss   dfl_loss  Instances       Size\n"
     ]
    },
    {
     "name": "stderr",
     "output_type": "stream",
     "text": [
      "    123/200      2.49G     0.9967     0.6349      1.306         75        640: 100%|██████████| 338/338 [00:29<00:00, 11.57it/s]\n",
      "                 Class     Images  Instances      Box(P          R      mAP50  mAP50-95): 100%|██████████| 169/169 [00:21<00:00,  7.94it/s]"
     ]
    },
    {
     "name": "stdout",
     "output_type": "stream",
     "text": [
      "                   all       5406      12905      0.975      0.979      0.991      0.774\n"
     ]
    },
    {
     "name": "stderr",
     "output_type": "stream",
     "text": [
      "\n"
     ]
    },
    {
     "name": "stdout",
     "output_type": "stream",
     "text": [
      "\n",
      "      Epoch    GPU_mem   box_loss   cls_loss   dfl_loss  Instances       Size\n"
     ]
    },
    {
     "name": "stderr",
     "output_type": "stream",
     "text": [
      "    124/200      2.39G     0.9948     0.6289      1.304         37        640: 100%|██████████| 338/338 [00:29<00:00, 11.54it/s]\n",
      "                 Class     Images  Instances      Box(P          R      mAP50  mAP50-95): 100%|██████████| 169/169 [00:21<00:00,  7.94it/s]"
     ]
    },
    {
     "name": "stdout",
     "output_type": "stream",
     "text": [
      "                   all       5406      12905      0.976      0.978      0.992      0.774\n"
     ]
    },
    {
     "name": "stderr",
     "output_type": "stream",
     "text": [
      "\n"
     ]
    },
    {
     "name": "stdout",
     "output_type": "stream",
     "text": [
      "\n",
      "      Epoch    GPU_mem   box_loss   cls_loss   dfl_loss  Instances       Size\n"
     ]
    },
    {
     "name": "stderr",
     "output_type": "stream",
     "text": [
      "    125/200      2.49G      0.984      0.625      1.299         55        640: 100%|██████████| 338/338 [00:29<00:00, 11.60it/s]\n",
      "                 Class     Images  Instances      Box(P          R      mAP50  mAP50-95): 100%|██████████| 169/169 [00:21<00:00,  7.97it/s]"
     ]
    },
    {
     "name": "stdout",
     "output_type": "stream",
     "text": [
      "                   all       5406      12905      0.976      0.978      0.992      0.775\n"
     ]
    },
    {
     "name": "stderr",
     "output_type": "stream",
     "text": [
      "\n"
     ]
    },
    {
     "name": "stdout",
     "output_type": "stream",
     "text": [
      "\n",
      "      Epoch    GPU_mem   box_loss   cls_loss   dfl_loss  Instances       Size\n"
     ]
    },
    {
     "name": "stderr",
     "output_type": "stream",
     "text": [
      "    126/200      2.39G     0.9918     0.6293      1.298         83        640: 100%|██████████| 338/338 [00:29<00:00, 11.58it/s]\n",
      "                 Class     Images  Instances      Box(P          R      mAP50  mAP50-95): 100%|██████████| 169/169 [00:21<00:00,  7.94it/s]"
     ]
    },
    {
     "name": "stdout",
     "output_type": "stream",
     "text": [
      "                   all       5406      12905      0.977      0.979      0.992      0.775\n"
     ]
    },
    {
     "name": "stderr",
     "output_type": "stream",
     "text": [
      "\n"
     ]
    },
    {
     "name": "stdout",
     "output_type": "stream",
     "text": [
      "\n",
      "      Epoch    GPU_mem   box_loss   cls_loss   dfl_loss  Instances       Size\n"
     ]
    },
    {
     "name": "stderr",
     "output_type": "stream",
     "text": [
      "    127/200      2.49G     0.9859     0.6263      1.299         64        640: 100%|██████████| 338/338 [00:29<00:00, 11.59it/s]\n",
      "                 Class     Images  Instances      Box(P          R      mAP50  mAP50-95): 100%|██████████| 169/169 [00:21<00:00,  7.96it/s]"
     ]
    },
    {
     "name": "stdout",
     "output_type": "stream",
     "text": [
      "                   all       5406      12905      0.977      0.979      0.992      0.777\n"
     ]
    },
    {
     "name": "stderr",
     "output_type": "stream",
     "text": [
      "\n"
     ]
    },
    {
     "name": "stdout",
     "output_type": "stream",
     "text": [
      "\n",
      "      Epoch    GPU_mem   box_loss   cls_loss   dfl_loss  Instances       Size\n"
     ]
    },
    {
     "name": "stderr",
     "output_type": "stream",
     "text": [
      "    128/200      2.39G     0.9847     0.6226      1.297         61        640: 100%|██████████| 338/338 [00:29<00:00, 11.59it/s]\n",
      "                 Class     Images  Instances      Box(P          R      mAP50  mAP50-95): 100%|██████████| 169/169 [00:21<00:00,  7.90it/s]"
     ]
    },
    {
     "name": "stdout",
     "output_type": "stream",
     "text": [
      "                   all       5406      12905      0.979      0.978      0.992      0.777\n"
     ]
    },
    {
     "name": "stderr",
     "output_type": "stream",
     "text": [
      "\n"
     ]
    },
    {
     "name": "stdout",
     "output_type": "stream",
     "text": [
      "\n",
      "      Epoch    GPU_mem   box_loss   cls_loss   dfl_loss  Instances       Size\n"
     ]
    },
    {
     "name": "stderr",
     "output_type": "stream",
     "text": [
      "    129/200      2.49G     0.9862     0.6227      1.294         68        640: 100%|██████████| 338/338 [00:29<00:00, 11.55it/s]\n",
      "                 Class     Images  Instances      Box(P          R      mAP50  mAP50-95): 100%|██████████| 169/169 [00:21<00:00,  7.95it/s]"
     ]
    },
    {
     "name": "stdout",
     "output_type": "stream",
     "text": [
      "                   all       5406      12905      0.979      0.977      0.992      0.778\n"
     ]
    },
    {
     "name": "stderr",
     "output_type": "stream",
     "text": [
      "\n"
     ]
    },
    {
     "name": "stdout",
     "output_type": "stream",
     "text": [
      "\n",
      "      Epoch    GPU_mem   box_loss   cls_loss   dfl_loss  Instances       Size\n"
     ]
    },
    {
     "name": "stderr",
     "output_type": "stream",
     "text": [
      "    130/200      2.39G     0.9754     0.6162       1.29         57        640: 100%|██████████| 338/338 [00:29<00:00, 11.53it/s]\n",
      "                 Class     Images  Instances      Box(P          R      mAP50  mAP50-95): 100%|██████████| 169/169 [00:21<00:00,  7.88it/s]"
     ]
    },
    {
     "name": "stdout",
     "output_type": "stream",
     "text": [
      "                   all       5406      12905      0.979      0.976      0.992      0.779\n"
     ]
    },
    {
     "name": "stderr",
     "output_type": "stream",
     "text": [
      "\n"
     ]
    },
    {
     "name": "stdout",
     "output_type": "stream",
     "text": [
      "\n",
      "      Epoch    GPU_mem   box_loss   cls_loss   dfl_loss  Instances       Size\n"
     ]
    },
    {
     "name": "stderr",
     "output_type": "stream",
     "text": [
      "    131/200      2.49G     0.9828     0.6193      1.292         43        640: 100%|██████████| 338/338 [00:29<00:00, 11.54it/s]\n",
      "                 Class     Images  Instances      Box(P          R      mAP50  mAP50-95): 100%|██████████| 169/169 [00:21<00:00,  7.92it/s]"
     ]
    },
    {
     "name": "stdout",
     "output_type": "stream",
     "text": [
      "                   all       5406      12905      0.977      0.978      0.992       0.78\n"
     ]
    },
    {
     "name": "stderr",
     "output_type": "stream",
     "text": [
      "\n"
     ]
    },
    {
     "name": "stdout",
     "output_type": "stream",
     "text": [
      "\n",
      "      Epoch    GPU_mem   box_loss   cls_loss   dfl_loss  Instances       Size\n"
     ]
    },
    {
     "name": "stderr",
     "output_type": "stream",
     "text": [
      "    132/200      2.39G     0.9781     0.6164      1.288         64        640: 100%|██████████| 338/338 [00:29<00:00, 11.61it/s]\n",
      "                 Class     Images  Instances      Box(P          R      mAP50  mAP50-95): 100%|██████████| 169/169 [00:21<00:00,  7.91it/s]"
     ]
    },
    {
     "name": "stdout",
     "output_type": "stream",
     "text": [
      "                   all       5406      12905      0.978      0.978      0.992      0.781\n"
     ]
    },
    {
     "name": "stderr",
     "output_type": "stream",
     "text": [
      "\n"
     ]
    },
    {
     "name": "stdout",
     "output_type": "stream",
     "text": [
      "\n",
      "      Epoch    GPU_mem   box_loss   cls_loss   dfl_loss  Instances       Size\n"
     ]
    },
    {
     "name": "stderr",
     "output_type": "stream",
     "text": [
      "    133/200      2.49G     0.9669     0.6114      1.281         69        640: 100%|██████████| 338/338 [00:29<00:00, 11.58it/s]\n",
      "                 Class     Images  Instances      Box(P          R      mAP50  mAP50-95): 100%|██████████| 169/169 [00:21<00:00,  7.93it/s]"
     ]
    },
    {
     "name": "stdout",
     "output_type": "stream",
     "text": [
      "                   all       5406      12905      0.978      0.979      0.992      0.781\n"
     ]
    },
    {
     "name": "stderr",
     "output_type": "stream",
     "text": [
      "\n"
     ]
    },
    {
     "name": "stdout",
     "output_type": "stream",
     "text": [
      "\n",
      "      Epoch    GPU_mem   box_loss   cls_loss   dfl_loss  Instances       Size\n"
     ]
    },
    {
     "name": "stderr",
     "output_type": "stream",
     "text": [
      "    134/200      2.39G     0.9642     0.6076      1.285         90        640: 100%|██████████| 338/338 [00:29<00:00, 11.51it/s]\n",
      "                 Class     Images  Instances      Box(P          R      mAP50  mAP50-95): 100%|██████████| 169/169 [00:21<00:00,  7.96it/s]"
     ]
    },
    {
     "name": "stdout",
     "output_type": "stream",
     "text": [
      "                   all       5406      12905      0.976       0.98      0.992      0.782\n"
     ]
    },
    {
     "name": "stderr",
     "output_type": "stream",
     "text": [
      "\n"
     ]
    },
    {
     "name": "stdout",
     "output_type": "stream",
     "text": [
      "\n",
      "      Epoch    GPU_mem   box_loss   cls_loss   dfl_loss  Instances       Size\n"
     ]
    },
    {
     "name": "stderr",
     "output_type": "stream",
     "text": [
      "    135/200      2.49G     0.9643     0.6022       1.28         52        640: 100%|██████████| 338/338 [00:29<00:00, 11.59it/s]\n",
      "                 Class     Images  Instances      Box(P          R      mAP50  mAP50-95): 100%|██████████| 169/169 [00:21<00:00,  8.01it/s]"
     ]
    },
    {
     "name": "stdout",
     "output_type": "stream",
     "text": [
      "                   all       5406      12905      0.976      0.981      0.992      0.783\n"
     ]
    },
    {
     "name": "stderr",
     "output_type": "stream",
     "text": [
      "\n"
     ]
    },
    {
     "name": "stdout",
     "output_type": "stream",
     "text": [
      "\n",
      "      Epoch    GPU_mem   box_loss   cls_loss   dfl_loss  Instances       Size\n"
     ]
    },
    {
     "name": "stderr",
     "output_type": "stream",
     "text": [
      "    136/200      2.39G     0.9686     0.6066      1.281         50        640: 100%|██████████| 338/338 [00:29<00:00, 11.56it/s]\n",
      "                 Class     Images  Instances      Box(P          R      mAP50  mAP50-95): 100%|██████████| 169/169 [00:21<00:00,  7.89it/s]"
     ]
    },
    {
     "name": "stdout",
     "output_type": "stream",
     "text": [
      "                   all       5406      12905       0.98      0.976      0.992      0.784\n"
     ]
    },
    {
     "name": "stderr",
     "output_type": "stream",
     "text": [
      "\n"
     ]
    },
    {
     "name": "stdout",
     "output_type": "stream",
     "text": [
      "\n",
      "      Epoch    GPU_mem   box_loss   cls_loss   dfl_loss  Instances       Size\n"
     ]
    },
    {
     "name": "stderr",
     "output_type": "stream",
     "text": [
      "    137/200      2.49G     0.9545     0.5976       1.27         65        640: 100%|██████████| 338/338 [00:29<00:00, 11.57it/s]\n",
      "                 Class     Images  Instances      Box(P          R      mAP50  mAP50-95): 100%|██████████| 169/169 [00:21<00:00,  7.99it/s]"
     ]
    },
    {
     "name": "stdout",
     "output_type": "stream",
     "text": [
      "                   all       5406      12905      0.981      0.977      0.992      0.785\n"
     ]
    },
    {
     "name": "stderr",
     "output_type": "stream",
     "text": [
      "\n"
     ]
    },
    {
     "name": "stdout",
     "output_type": "stream",
     "text": [
      "\n",
      "      Epoch    GPU_mem   box_loss   cls_loss   dfl_loss  Instances       Size\n"
     ]
    },
    {
     "name": "stderr",
     "output_type": "stream",
     "text": [
      "    138/200      2.39G     0.9675     0.6079      1.278         58        640: 100%|██████████| 338/338 [00:29<00:00, 11.60it/s]\n",
      "                 Class     Images  Instances      Box(P          R      mAP50  mAP50-95): 100%|██████████| 169/169 [00:21<00:00,  7.93it/s]"
     ]
    },
    {
     "name": "stdout",
     "output_type": "stream",
     "text": [
      "                   all       5406      12905      0.981      0.976      0.992      0.785\n"
     ]
    },
    {
     "name": "stderr",
     "output_type": "stream",
     "text": [
      "\n"
     ]
    },
    {
     "name": "stdout",
     "output_type": "stream",
     "text": [
      "\n",
      "      Epoch    GPU_mem   box_loss   cls_loss   dfl_loss  Instances       Size\n"
     ]
    },
    {
     "name": "stderr",
     "output_type": "stream",
     "text": [
      "    139/200      2.49G     0.9538     0.5971      1.278         70        640: 100%|██████████| 338/338 [00:29<00:00, 11.60it/s]\n",
      "                 Class     Images  Instances      Box(P          R      mAP50  mAP50-95): 100%|██████████| 169/169 [00:21<00:00,  7.96it/s]"
     ]
    },
    {
     "name": "stdout",
     "output_type": "stream",
     "text": [
      "                   all       5406      12905      0.979      0.978      0.992      0.786\n"
     ]
    },
    {
     "name": "stderr",
     "output_type": "stream",
     "text": [
      "\n"
     ]
    },
    {
     "name": "stdout",
     "output_type": "stream",
     "text": [
      "\n",
      "      Epoch    GPU_mem   box_loss   cls_loss   dfl_loss  Instances       Size\n"
     ]
    },
    {
     "name": "stderr",
     "output_type": "stream",
     "text": [
      "    140/200      2.39G     0.9612     0.6079      1.279         66        640: 100%|██████████| 338/338 [00:29<00:00, 11.58it/s]\n",
      "                 Class     Images  Instances      Box(P          R      mAP50  mAP50-95): 100%|██████████| 169/169 [00:21<00:00,  7.93it/s]"
     ]
    },
    {
     "name": "stdout",
     "output_type": "stream",
     "text": [
      "                   all       5406      12905       0.98      0.977      0.992      0.787\n"
     ]
    },
    {
     "name": "stderr",
     "output_type": "stream",
     "text": [
      "\n"
     ]
    },
    {
     "name": "stdout",
     "output_type": "stream",
     "text": [
      "\n",
      "      Epoch    GPU_mem   box_loss   cls_loss   dfl_loss  Instances       Size\n"
     ]
    },
    {
     "name": "stderr",
     "output_type": "stream",
     "text": [
      "    141/200      2.49G     0.9557     0.6046      1.278         64        640: 100%|██████████| 338/338 [00:29<00:00, 11.55it/s]\n",
      "                 Class     Images  Instances      Box(P          R      mAP50  mAP50-95): 100%|██████████| 169/169 [00:21<00:00,  7.94it/s]"
     ]
    },
    {
     "name": "stdout",
     "output_type": "stream",
     "text": [
      "                   all       5406      12905       0.98      0.977      0.992      0.788\n"
     ]
    },
    {
     "name": "stderr",
     "output_type": "stream",
     "text": [
      "\n"
     ]
    },
    {
     "name": "stdout",
     "output_type": "stream",
     "text": [
      "\n",
      "      Epoch    GPU_mem   box_loss   cls_loss   dfl_loss  Instances       Size\n"
     ]
    },
    {
     "name": "stderr",
     "output_type": "stream",
     "text": [
      "    142/200      2.39G     0.9519     0.5955      1.273         54        640: 100%|██████████| 338/338 [00:29<00:00, 11.58it/s]\n",
      "                 Class     Images  Instances      Box(P          R      mAP50  mAP50-95): 100%|██████████| 169/169 [00:21<00:00,  7.93it/s]"
     ]
    },
    {
     "name": "stdout",
     "output_type": "stream",
     "text": [
      "                   all       5406      12905       0.98      0.978      0.992       0.79\n"
     ]
    },
    {
     "name": "stderr",
     "output_type": "stream",
     "text": [
      "\n"
     ]
    },
    {
     "name": "stdout",
     "output_type": "stream",
     "text": [
      "\n",
      "      Epoch    GPU_mem   box_loss   cls_loss   dfl_loss  Instances       Size\n"
     ]
    },
    {
     "name": "stderr",
     "output_type": "stream",
     "text": [
      "    143/200      2.49G     0.9477     0.5956      1.266         79        640: 100%|██████████| 338/338 [00:29<00:00, 11.60it/s]\n",
      "                 Class     Images  Instances      Box(P          R      mAP50  mAP50-95): 100%|██████████| 169/169 [00:21<00:00,  7.99it/s]"
     ]
    },
    {
     "name": "stdout",
     "output_type": "stream",
     "text": [
      "                   all       5406      12905       0.98      0.978      0.992       0.79\n"
     ]
    },
    {
     "name": "stderr",
     "output_type": "stream",
     "text": [
      "\n"
     ]
    },
    {
     "name": "stdout",
     "output_type": "stream",
     "text": [
      "\n",
      "      Epoch    GPU_mem   box_loss   cls_loss   dfl_loss  Instances       Size\n"
     ]
    },
    {
     "name": "stderr",
     "output_type": "stream",
     "text": [
      "    144/200      2.39G     0.9456     0.5918      1.269         61        640: 100%|██████████| 338/338 [00:29<00:00, 11.57it/s]\n",
      "                 Class     Images  Instances      Box(P          R      mAP50  mAP50-95): 100%|██████████| 169/169 [00:21<00:00,  7.95it/s]"
     ]
    },
    {
     "name": "stdout",
     "output_type": "stream",
     "text": [
      "                   all       5406      12905       0.98      0.979      0.992      0.791\n"
     ]
    },
    {
     "name": "stderr",
     "output_type": "stream",
     "text": [
      "\n"
     ]
    },
    {
     "name": "stdout",
     "output_type": "stream",
     "text": [
      "\n",
      "      Epoch    GPU_mem   box_loss   cls_loss   dfl_loss  Instances       Size\n"
     ]
    },
    {
     "name": "stderr",
     "output_type": "stream",
     "text": [
      "    145/200      2.49G     0.9509     0.5902      1.262         73        640: 100%|██████████| 338/338 [00:29<00:00, 11.55it/s]\n",
      "                 Class     Images  Instances      Box(P          R      mAP50  mAP50-95): 100%|██████████| 169/169 [00:21<00:00,  7.96it/s]"
     ]
    },
    {
     "name": "stdout",
     "output_type": "stream",
     "text": [
      "                   all       5406      12905      0.981      0.978      0.992      0.791\n"
     ]
    },
    {
     "name": "stderr",
     "output_type": "stream",
     "text": [
      "\n"
     ]
    },
    {
     "name": "stdout",
     "output_type": "stream",
     "text": [
      "\n",
      "      Epoch    GPU_mem   box_loss   cls_loss   dfl_loss  Instances       Size\n"
     ]
    },
    {
     "name": "stderr",
     "output_type": "stream",
     "text": [
      "    146/200      2.39G     0.9374     0.5789      1.263         94        640: 100%|██████████| 338/338 [00:29<00:00, 11.56it/s]\n",
      "                 Class     Images  Instances      Box(P          R      mAP50  mAP50-95): 100%|██████████| 169/169 [00:21<00:00,  7.90it/s]"
     ]
    },
    {
     "name": "stdout",
     "output_type": "stream",
     "text": [
      "                   all       5406      12905       0.98      0.978      0.992      0.791\n"
     ]
    },
    {
     "name": "stderr",
     "output_type": "stream",
     "text": [
      "\n"
     ]
    },
    {
     "name": "stdout",
     "output_type": "stream",
     "text": [
      "\n",
      "      Epoch    GPU_mem   box_loss   cls_loss   dfl_loss  Instances       Size\n"
     ]
    },
    {
     "name": "stderr",
     "output_type": "stream",
     "text": [
      "    147/200      2.49G     0.9461     0.5839       1.26         67        640: 100%|██████████| 338/338 [00:29<00:00, 11.54it/s]\n",
      "                 Class     Images  Instances      Box(P          R      mAP50  mAP50-95): 100%|██████████| 169/169 [00:21<00:00,  7.96it/s]"
     ]
    },
    {
     "name": "stdout",
     "output_type": "stream",
     "text": [
      "                   all       5406      12905      0.978       0.98      0.992      0.793\n"
     ]
    },
    {
     "name": "stderr",
     "output_type": "stream",
     "text": [
      "\n"
     ]
    },
    {
     "name": "stdout",
     "output_type": "stream",
     "text": [
      "\n",
      "      Epoch    GPU_mem   box_loss   cls_loss   dfl_loss  Instances       Size\n"
     ]
    },
    {
     "name": "stderr",
     "output_type": "stream",
     "text": [
      "    148/200      2.39G     0.9385     0.5829      1.259         63        640: 100%|██████████| 338/338 [00:29<00:00, 11.62it/s]\n",
      "                 Class     Images  Instances      Box(P          R      mAP50  mAP50-95): 100%|██████████| 169/169 [00:21<00:00,  7.94it/s]"
     ]
    },
    {
     "name": "stdout",
     "output_type": "stream",
     "text": [
      "                   all       5406      12905      0.977      0.981      0.992      0.793\n"
     ]
    },
    {
     "name": "stderr",
     "output_type": "stream",
     "text": [
      "\n"
     ]
    },
    {
     "name": "stdout",
     "output_type": "stream",
     "text": [
      "\n",
      "      Epoch    GPU_mem   box_loss   cls_loss   dfl_loss  Instances       Size\n"
     ]
    },
    {
     "name": "stderr",
     "output_type": "stream",
     "text": [
      "    149/200      2.49G      0.942     0.5811      1.262         64        640: 100%|██████████| 338/338 [00:29<00:00, 11.56it/s]\n",
      "                 Class     Images  Instances      Box(P          R      mAP50  mAP50-95): 100%|██████████| 169/169 [00:21<00:00,  7.99it/s]"
     ]
    },
    {
     "name": "stdout",
     "output_type": "stream",
     "text": [
      "                   all       5406      12905      0.978      0.982      0.992      0.794\n"
     ]
    },
    {
     "name": "stderr",
     "output_type": "stream",
     "text": [
      "\n"
     ]
    },
    {
     "name": "stdout",
     "output_type": "stream",
     "text": [
      "\n",
      "      Epoch    GPU_mem   box_loss   cls_loss   dfl_loss  Instances       Size\n"
     ]
    },
    {
     "name": "stderr",
     "output_type": "stream",
     "text": [
      "    150/200      2.39G     0.9372     0.5837      1.259         56        640: 100%|██████████| 338/338 [00:29<00:00, 11.59it/s]\n",
      "                 Class     Images  Instances      Box(P          R      mAP50  mAP50-95): 100%|██████████| 169/169 [00:21<00:00,  7.86it/s]"
     ]
    },
    {
     "name": "stdout",
     "output_type": "stream",
     "text": [
      "                   all       5406      12905      0.978      0.981      0.992      0.794\n"
     ]
    },
    {
     "name": "stderr",
     "output_type": "stream",
     "text": [
      "\n"
     ]
    },
    {
     "name": "stdout",
     "output_type": "stream",
     "text": [
      "\n",
      "      Epoch    GPU_mem   box_loss   cls_loss   dfl_loss  Instances       Size\n"
     ]
    },
    {
     "name": "stderr",
     "output_type": "stream",
     "text": [
      "    151/200      2.49G     0.9399     0.5844      1.258         70        640: 100%|██████████| 338/338 [00:29<00:00, 11.58it/s]\n",
      "                 Class     Images  Instances      Box(P          R      mAP50  mAP50-95): 100%|██████████| 169/169 [00:21<00:00,  7.97it/s]"
     ]
    },
    {
     "name": "stdout",
     "output_type": "stream",
     "text": [
      "                   all       5406      12905       0.98      0.979      0.992      0.794\n"
     ]
    },
    {
     "name": "stderr",
     "output_type": "stream",
     "text": [
      "\n"
     ]
    },
    {
     "name": "stdout",
     "output_type": "stream",
     "text": [
      "\n",
      "      Epoch    GPU_mem   box_loss   cls_loss   dfl_loss  Instances       Size\n"
     ]
    },
    {
     "name": "stderr",
     "output_type": "stream",
     "text": [
      "    152/200      2.39G      0.929     0.5781      1.253         67        640: 100%|██████████| 338/338 [00:29<00:00, 11.56it/s]\n",
      "                 Class     Images  Instances      Box(P          R      mAP50  mAP50-95): 100%|██████████| 169/169 [00:21<00:00,  7.96it/s]"
     ]
    },
    {
     "name": "stdout",
     "output_type": "stream",
     "text": [
      "                   all       5406      12905       0.98      0.979      0.992      0.794\n"
     ]
    },
    {
     "name": "stderr",
     "output_type": "stream",
     "text": [
      "\n"
     ]
    },
    {
     "name": "stdout",
     "output_type": "stream",
     "text": [
      "\n",
      "      Epoch    GPU_mem   box_loss   cls_loss   dfl_loss  Instances       Size\n"
     ]
    },
    {
     "name": "stderr",
     "output_type": "stream",
     "text": [
      "    153/200      2.49G     0.9257     0.5757      1.249         94        640: 100%|██████████| 338/338 [00:29<00:00, 11.57it/s]\n",
      "                 Class     Images  Instances      Box(P          R      mAP50  mAP50-95): 100%|██████████| 169/169 [00:21<00:00,  7.98it/s]"
     ]
    },
    {
     "name": "stdout",
     "output_type": "stream",
     "text": [
      "                   all       5406      12905      0.981      0.979      0.993      0.796\n"
     ]
    },
    {
     "name": "stderr",
     "output_type": "stream",
     "text": [
      "\n"
     ]
    },
    {
     "name": "stdout",
     "output_type": "stream",
     "text": [
      "\n",
      "      Epoch    GPU_mem   box_loss   cls_loss   dfl_loss  Instances       Size\n"
     ]
    },
    {
     "name": "stderr",
     "output_type": "stream",
     "text": [
      "    154/200      2.39G     0.9273     0.5723      1.247         58        640: 100%|██████████| 338/338 [00:29<00:00, 11.56it/s]\n",
      "                 Class     Images  Instances      Box(P          R      mAP50  mAP50-95): 100%|██████████| 169/169 [00:21<00:00,  7.98it/s]"
     ]
    },
    {
     "name": "stdout",
     "output_type": "stream",
     "text": [
      "                   all       5406      12905      0.981      0.979      0.993      0.797\n"
     ]
    },
    {
     "name": "stderr",
     "output_type": "stream",
     "text": [
      "\n"
     ]
    },
    {
     "name": "stdout",
     "output_type": "stream",
     "text": [
      "\n",
      "      Epoch    GPU_mem   box_loss   cls_loss   dfl_loss  Instances       Size\n"
     ]
    },
    {
     "name": "stderr",
     "output_type": "stream",
     "text": [
      "    155/200      2.49G     0.9231     0.5706      1.251         44        640: 100%|██████████| 338/338 [00:29<00:00, 11.54it/s]\n",
      "                 Class     Images  Instances      Box(P          R      mAP50  mAP50-95): 100%|██████████| 169/169 [00:21<00:00,  7.96it/s]"
     ]
    },
    {
     "name": "stdout",
     "output_type": "stream",
     "text": [
      "                   all       5406      12905      0.981      0.978      0.993      0.797\n"
     ]
    },
    {
     "name": "stderr",
     "output_type": "stream",
     "text": [
      "\n"
     ]
    },
    {
     "name": "stdout",
     "output_type": "stream",
     "text": [
      "\n",
      "      Epoch    GPU_mem   box_loss   cls_loss   dfl_loss  Instances       Size\n"
     ]
    },
    {
     "name": "stderr",
     "output_type": "stream",
     "text": [
      "    156/200      2.39G     0.9302     0.5695      1.254         65        640: 100%|██████████| 338/338 [00:29<00:00, 11.53it/s]\n",
      "                 Class     Images  Instances      Box(P          R      mAP50  mAP50-95): 100%|██████████| 169/169 [00:21<00:00,  7.97it/s]"
     ]
    },
    {
     "name": "stdout",
     "output_type": "stream",
     "text": [
      "                   all       5406      12905       0.98      0.979      0.992      0.797\n"
     ]
    },
    {
     "name": "stderr",
     "output_type": "stream",
     "text": [
      "\n"
     ]
    },
    {
     "name": "stdout",
     "output_type": "stream",
     "text": [
      "\n",
      "      Epoch    GPU_mem   box_loss   cls_loss   dfl_loss  Instances       Size\n"
     ]
    },
    {
     "name": "stderr",
     "output_type": "stream",
     "text": [
      "    157/200      2.49G     0.9254     0.5701      1.252         67        640: 100%|██████████| 338/338 [00:29<00:00, 11.51it/s]\n",
      "                 Class     Images  Instances      Box(P          R      mAP50  mAP50-95): 100%|██████████| 169/169 [00:21<00:00,  8.01it/s]"
     ]
    },
    {
     "name": "stdout",
     "output_type": "stream",
     "text": [
      "                   all       5406      12905       0.98      0.978      0.992      0.797\n"
     ]
    },
    {
     "name": "stderr",
     "output_type": "stream",
     "text": [
      "\n"
     ]
    },
    {
     "name": "stdout",
     "output_type": "stream",
     "text": [
      "\n",
      "      Epoch    GPU_mem   box_loss   cls_loss   dfl_loss  Instances       Size\n"
     ]
    },
    {
     "name": "stderr",
     "output_type": "stream",
     "text": [
      "    158/200      2.39G     0.9177     0.5658      1.249         72        640: 100%|██████████| 338/338 [00:29<00:00, 11.56it/s]\n",
      "                 Class     Images  Instances      Box(P          R      mAP50  mAP50-95): 100%|██████████| 169/169 [00:21<00:00,  7.98it/s]"
     ]
    },
    {
     "name": "stdout",
     "output_type": "stream",
     "text": [
      "                   all       5406      12905       0.98      0.979      0.992      0.797\n"
     ]
    },
    {
     "name": "stderr",
     "output_type": "stream",
     "text": [
      "\n"
     ]
    },
    {
     "name": "stdout",
     "output_type": "stream",
     "text": [
      "\n",
      "      Epoch    GPU_mem   box_loss   cls_loss   dfl_loss  Instances       Size\n"
     ]
    },
    {
     "name": "stderr",
     "output_type": "stream",
     "text": [
      "    159/200      2.49G     0.9214     0.5673       1.25         50        640: 100%|██████████| 338/338 [00:29<00:00, 11.55it/s]\n",
      "                 Class     Images  Instances      Box(P          R      mAP50  mAP50-95): 100%|██████████| 169/169 [00:21<00:00,  7.90it/s]"
     ]
    },
    {
     "name": "stdout",
     "output_type": "stream",
     "text": [
      "                   all       5406      12905      0.979      0.979      0.992      0.798\n"
     ]
    },
    {
     "name": "stderr",
     "output_type": "stream",
     "text": [
      "\n"
     ]
    },
    {
     "name": "stdout",
     "output_type": "stream",
     "text": [
      "\n",
      "      Epoch    GPU_mem   box_loss   cls_loss   dfl_loss  Instances       Size\n"
     ]
    },
    {
     "name": "stderr",
     "output_type": "stream",
     "text": [
      "    160/200      2.39G     0.9168     0.5584      1.241         73        640: 100%|██████████| 338/338 [00:29<00:00, 11.53it/s]\n",
      "                 Class     Images  Instances      Box(P          R      mAP50  mAP50-95): 100%|██████████| 169/169 [00:21<00:00,  7.99it/s]"
     ]
    },
    {
     "name": "stdout",
     "output_type": "stream",
     "text": [
      "                   all       5406      12905       0.98       0.98      0.992      0.799\n"
     ]
    },
    {
     "name": "stderr",
     "output_type": "stream",
     "text": [
      "\n"
     ]
    },
    {
     "name": "stdout",
     "output_type": "stream",
     "text": [
      "\n",
      "      Epoch    GPU_mem   box_loss   cls_loss   dfl_loss  Instances       Size\n"
     ]
    },
    {
     "name": "stderr",
     "output_type": "stream",
     "text": [
      "    161/200      2.49G     0.9161     0.5629      1.238         62        640: 100%|██████████| 338/338 [00:29<00:00, 11.64it/s]\n",
      "                 Class     Images  Instances      Box(P          R      mAP50  mAP50-95): 100%|██████████| 169/169 [00:21<00:00,  8.02it/s]"
     ]
    },
    {
     "name": "stdout",
     "output_type": "stream",
     "text": [
      "                   all       5406      12905      0.981      0.979      0.993        0.8\n"
     ]
    },
    {
     "name": "stderr",
     "output_type": "stream",
     "text": [
      "\n"
     ]
    },
    {
     "name": "stdout",
     "output_type": "stream",
     "text": [
      "\n",
      "      Epoch    GPU_mem   box_loss   cls_loss   dfl_loss  Instances       Size\n"
     ]
    },
    {
     "name": "stderr",
     "output_type": "stream",
     "text": [
      "    162/200      2.39G     0.9026     0.5531      1.228         75        640: 100%|██████████| 338/338 [00:29<00:00, 11.55it/s]\n",
      "                 Class     Images  Instances      Box(P          R      mAP50  mAP50-95): 100%|██████████| 169/169 [00:21<00:00,  7.98it/s]"
     ]
    },
    {
     "name": "stdout",
     "output_type": "stream",
     "text": [
      "                   all       5406      12905      0.978      0.982      0.992        0.8\n"
     ]
    },
    {
     "name": "stderr",
     "output_type": "stream",
     "text": [
      "\n"
     ]
    },
    {
     "name": "stdout",
     "output_type": "stream",
     "text": [
      "\n",
      "      Epoch    GPU_mem   box_loss   cls_loss   dfl_loss  Instances       Size\n"
     ]
    },
    {
     "name": "stderr",
     "output_type": "stream",
     "text": [
      "    163/200      2.49G     0.9125     0.5622       1.24         79        640: 100%|██████████| 338/338 [00:29<00:00, 11.48it/s]\n",
      "                 Class     Images  Instances      Box(P          R      mAP50  mAP50-95): 100%|██████████| 169/169 [00:21<00:00,  7.93it/s]"
     ]
    },
    {
     "name": "stdout",
     "output_type": "stream",
     "text": [
      "                   all       5406      12905      0.979      0.982      0.992        0.8\n"
     ]
    },
    {
     "name": "stderr",
     "output_type": "stream",
     "text": [
      "\n"
     ]
    },
    {
     "name": "stdout",
     "output_type": "stream",
     "text": [
      "\n",
      "      Epoch    GPU_mem   box_loss   cls_loss   dfl_loss  Instances       Size\n"
     ]
    },
    {
     "name": "stderr",
     "output_type": "stream",
     "text": [
      "    164/200      2.39G     0.9106     0.5582      1.241         48        640: 100%|██████████| 338/338 [00:29<00:00, 11.51it/s]\n",
      "                 Class     Images  Instances      Box(P          R      mAP50  mAP50-95): 100%|██████████| 169/169 [00:21<00:00,  7.99it/s]"
     ]
    },
    {
     "name": "stdout",
     "output_type": "stream",
     "text": [
      "                   all       5406      12905      0.978      0.984      0.992      0.801\n"
     ]
    },
    {
     "name": "stderr",
     "output_type": "stream",
     "text": [
      "\n"
     ]
    },
    {
     "name": "stdout",
     "output_type": "stream",
     "text": [
      "\n",
      "      Epoch    GPU_mem   box_loss   cls_loss   dfl_loss  Instances       Size\n"
     ]
    },
    {
     "name": "stderr",
     "output_type": "stream",
     "text": [
      "    165/200      2.49G     0.8984     0.5476      1.232         66        640: 100%|██████████| 338/338 [00:29<00:00, 11.50it/s]\n",
      "                 Class     Images  Instances      Box(P          R      mAP50  mAP50-95): 100%|██████████| 169/169 [00:21<00:00,  7.96it/s]"
     ]
    },
    {
     "name": "stdout",
     "output_type": "stream",
     "text": [
      "                   all       5406      12905      0.979      0.983      0.992      0.802\n"
     ]
    },
    {
     "name": "stderr",
     "output_type": "stream",
     "text": [
      "\n"
     ]
    },
    {
     "name": "stdout",
     "output_type": "stream",
     "text": [
      "\n",
      "      Epoch    GPU_mem   box_loss   cls_loss   dfl_loss  Instances       Size\n"
     ]
    },
    {
     "name": "stderr",
     "output_type": "stream",
     "text": [
      "    166/200      2.39G     0.9069     0.5556      1.238         72        640: 100%|██████████| 338/338 [00:29<00:00, 11.53it/s]\n",
      "                 Class     Images  Instances      Box(P          R      mAP50  mAP50-95): 100%|██████████| 169/169 [00:21<00:00,  8.01it/s]"
     ]
    },
    {
     "name": "stdout",
     "output_type": "stream",
     "text": [
      "                   all       5406      12905      0.979      0.982      0.992      0.801\n"
     ]
    },
    {
     "name": "stderr",
     "output_type": "stream",
     "text": [
      "\n"
     ]
    },
    {
     "name": "stdout",
     "output_type": "stream",
     "text": [
      "\n",
      "      Epoch    GPU_mem   box_loss   cls_loss   dfl_loss  Instances       Size\n"
     ]
    },
    {
     "name": "stderr",
     "output_type": "stream",
     "text": [
      "    167/200      2.49G     0.8958     0.5492      1.232         49        640: 100%|██████████| 338/338 [00:29<00:00, 11.51it/s]\n",
      "                 Class     Images  Instances      Box(P          R      mAP50  mAP50-95): 100%|██████████| 169/169 [00:21<00:00,  7.85it/s]"
     ]
    },
    {
     "name": "stdout",
     "output_type": "stream",
     "text": [
      "                   all       5406      12905      0.978      0.983      0.992      0.802\n"
     ]
    },
    {
     "name": "stderr",
     "output_type": "stream",
     "text": [
      "\n"
     ]
    },
    {
     "name": "stdout",
     "output_type": "stream",
     "text": [
      "\n",
      "      Epoch    GPU_mem   box_loss   cls_loss   dfl_loss  Instances       Size\n"
     ]
    },
    {
     "name": "stderr",
     "output_type": "stream",
     "text": [
      "    168/200      2.39G      0.901      0.551      1.233         53        640: 100%|██████████| 338/338 [00:29<00:00, 11.48it/s]\n",
      "                 Class     Images  Instances      Box(P          R      mAP50  mAP50-95): 100%|██████████| 169/169 [00:21<00:00,  7.89it/s]"
     ]
    },
    {
     "name": "stdout",
     "output_type": "stream",
     "text": [
      "                   all       5406      12905      0.978      0.983      0.992      0.803\n"
     ]
    },
    {
     "name": "stderr",
     "output_type": "stream",
     "text": [
      "\n"
     ]
    },
    {
     "name": "stdout",
     "output_type": "stream",
     "text": [
      "\n",
      "      Epoch    GPU_mem   box_loss   cls_loss   dfl_loss  Instances       Size\n"
     ]
    },
    {
     "name": "stderr",
     "output_type": "stream",
     "text": [
      "    169/200      2.49G     0.8965     0.5528       1.23         43        640: 100%|██████████| 338/338 [00:29<00:00, 11.49it/s]\n",
      "                 Class     Images  Instances      Box(P          R      mAP50  mAP50-95): 100%|██████████| 169/169 [00:21<00:00,  7.95it/s]"
     ]
    },
    {
     "name": "stdout",
     "output_type": "stream",
     "text": [
      "                   all       5406      12905      0.978      0.983      0.992      0.804\n"
     ]
    },
    {
     "name": "stderr",
     "output_type": "stream",
     "text": [
      "\n"
     ]
    },
    {
     "name": "stdout",
     "output_type": "stream",
     "text": [
      "\n",
      "      Epoch    GPU_mem   box_loss   cls_loss   dfl_loss  Instances       Size\n"
     ]
    },
    {
     "name": "stderr",
     "output_type": "stream",
     "text": [
      "    170/200      2.39G     0.8962     0.5504      1.233         51        640: 100%|██████████| 338/338 [00:29<00:00, 11.52it/s]\n",
      "                 Class     Images  Instances      Box(P          R      mAP50  mAP50-95): 100%|██████████| 169/169 [00:21<00:00,  7.97it/s]"
     ]
    },
    {
     "name": "stdout",
     "output_type": "stream",
     "text": [
      "                   all       5406      12905      0.979      0.983      0.992      0.804\n"
     ]
    },
    {
     "name": "stderr",
     "output_type": "stream",
     "text": [
      "\n"
     ]
    },
    {
     "name": "stdout",
     "output_type": "stream",
     "text": [
      "\n",
      "      Epoch    GPU_mem   box_loss   cls_loss   dfl_loss  Instances       Size\n"
     ]
    },
    {
     "name": "stderr",
     "output_type": "stream",
     "text": [
      "    171/200      2.49G     0.8933     0.5469       1.23         54        640: 100%|██████████| 338/338 [00:29<00:00, 11.55it/s]\n",
      "                 Class     Images  Instances      Box(P          R      mAP50  mAP50-95): 100%|██████████| 169/169 [00:21<00:00,  7.96it/s]"
     ]
    },
    {
     "name": "stdout",
     "output_type": "stream",
     "text": [
      "                   all       5406      12905      0.979      0.982      0.992      0.805\n"
     ]
    },
    {
     "name": "stderr",
     "output_type": "stream",
     "text": [
      "\n"
     ]
    },
    {
     "name": "stdout",
     "output_type": "stream",
     "text": [
      "\n",
      "      Epoch    GPU_mem   box_loss   cls_loss   dfl_loss  Instances       Size\n"
     ]
    },
    {
     "name": "stderr",
     "output_type": "stream",
     "text": [
      "    172/200      2.39G     0.8915     0.5411      1.223         59        640: 100%|██████████| 338/338 [00:29<00:00, 11.52it/s]\n",
      "                 Class     Images  Instances      Box(P          R      mAP50  mAP50-95): 100%|██████████| 169/169 [00:21<00:00,  7.94it/s]"
     ]
    },
    {
     "name": "stdout",
     "output_type": "stream",
     "text": [
      "                   all       5406      12905      0.979      0.982      0.992      0.805\n"
     ]
    },
    {
     "name": "stderr",
     "output_type": "stream",
     "text": [
      "\n"
     ]
    },
    {
     "name": "stdout",
     "output_type": "stream",
     "text": [
      "\n",
      "      Epoch    GPU_mem   box_loss   cls_loss   dfl_loss  Instances       Size\n"
     ]
    },
    {
     "name": "stderr",
     "output_type": "stream",
     "text": [
      "    173/200      2.49G     0.8876     0.5391      1.221         43        640: 100%|██████████| 338/338 [00:29<00:00, 11.57it/s]\n",
      "                 Class     Images  Instances      Box(P          R      mAP50  mAP50-95): 100%|██████████| 169/169 [00:21<00:00,  7.86it/s]"
     ]
    },
    {
     "name": "stdout",
     "output_type": "stream",
     "text": [
      "                   all       5406      12905       0.98      0.981      0.992      0.805\n"
     ]
    },
    {
     "name": "stderr",
     "output_type": "stream",
     "text": [
      "\n"
     ]
    },
    {
     "name": "stdout",
     "output_type": "stream",
     "text": [
      "\n",
      "      Epoch    GPU_mem   box_loss   cls_loss   dfl_loss  Instances       Size\n"
     ]
    },
    {
     "name": "stderr",
     "output_type": "stream",
     "text": [
      "    174/200      2.39G     0.8864     0.5394       1.22         45        640: 100%|██████████| 338/338 [00:29<00:00, 11.47it/s]\n",
      "                 Class     Images  Instances      Box(P          R      mAP50  mAP50-95): 100%|██████████| 169/169 [00:21<00:00,  8.01it/s]"
     ]
    },
    {
     "name": "stdout",
     "output_type": "stream",
     "text": [
      "                   all       5406      12905      0.978      0.983      0.992      0.806\n"
     ]
    },
    {
     "name": "stderr",
     "output_type": "stream",
     "text": [
      "\n"
     ]
    },
    {
     "name": "stdout",
     "output_type": "stream",
     "text": [
      "\n",
      "      Epoch    GPU_mem   box_loss   cls_loss   dfl_loss  Instances       Size\n"
     ]
    },
    {
     "name": "stderr",
     "output_type": "stream",
     "text": [
      "    175/200      2.49G     0.8792      0.535      1.215         59        640: 100%|██████████| 338/338 [00:29<00:00, 11.49it/s]\n",
      "                 Class     Images  Instances      Box(P          R      mAP50  mAP50-95): 100%|██████████| 169/169 [00:21<00:00,  7.84it/s]"
     ]
    },
    {
     "name": "stdout",
     "output_type": "stream",
     "text": [
      "                   all       5406      12905       0.98      0.982      0.993      0.806\n"
     ]
    },
    {
     "name": "stderr",
     "output_type": "stream",
     "text": [
      "\n"
     ]
    },
    {
     "name": "stdout",
     "output_type": "stream",
     "text": [
      "\n",
      "      Epoch    GPU_mem   box_loss   cls_loss   dfl_loss  Instances       Size\n"
     ]
    },
    {
     "name": "stderr",
     "output_type": "stream",
     "text": [
      "    176/200      2.39G     0.8811     0.5378      1.221         70        640: 100%|██████████| 338/338 [00:29<00:00, 11.47it/s]\n",
      "                 Class     Images  Instances      Box(P          R      mAP50  mAP50-95): 100%|██████████| 169/169 [00:21<00:00,  7.91it/s]"
     ]
    },
    {
     "name": "stdout",
     "output_type": "stream",
     "text": [
      "                   all       5406      12905      0.979      0.982      0.993      0.807\n"
     ]
    },
    {
     "name": "stderr",
     "output_type": "stream",
     "text": [
      "\n"
     ]
    },
    {
     "name": "stdout",
     "output_type": "stream",
     "text": [
      "\n",
      "      Epoch    GPU_mem   box_loss   cls_loss   dfl_loss  Instances       Size\n"
     ]
    },
    {
     "name": "stderr",
     "output_type": "stream",
     "text": [
      "    177/200      2.49G     0.8812     0.5321      1.216         45        640: 100%|██████████| 338/338 [00:29<00:00, 11.52it/s]\n",
      "                 Class     Images  Instances      Box(P          R      mAP50  mAP50-95): 100%|██████████| 169/169 [00:21<00:00,  7.92it/s]"
     ]
    },
    {
     "name": "stdout",
     "output_type": "stream",
     "text": [
      "                   all       5406      12905       0.98      0.981      0.993      0.807\n"
     ]
    },
    {
     "name": "stderr",
     "output_type": "stream",
     "text": [
      "\n"
     ]
    },
    {
     "name": "stdout",
     "output_type": "stream",
     "text": [
      "\n",
      "      Epoch    GPU_mem   box_loss   cls_loss   dfl_loss  Instances       Size\n"
     ]
    },
    {
     "name": "stderr",
     "output_type": "stream",
     "text": [
      "    178/200      2.39G     0.8794     0.5342      1.216         54        640: 100%|██████████| 338/338 [00:29<00:00, 11.55it/s]\n",
      "                 Class     Images  Instances      Box(P          R      mAP50  mAP50-95): 100%|██████████| 169/169 [00:21<00:00,  7.95it/s]"
     ]
    },
    {
     "name": "stdout",
     "output_type": "stream",
     "text": [
      "                   all       5406      12905       0.98      0.982      0.993      0.807\n"
     ]
    },
    {
     "name": "stderr",
     "output_type": "stream",
     "text": [
      "\n"
     ]
    },
    {
     "name": "stdout",
     "output_type": "stream",
     "text": [
      "\n",
      "      Epoch    GPU_mem   box_loss   cls_loss   dfl_loss  Instances       Size\n"
     ]
    },
    {
     "name": "stderr",
     "output_type": "stream",
     "text": [
      "    179/200      2.49G     0.8774     0.5344      1.216         72        640: 100%|██████████| 338/338 [00:29<00:00, 11.53it/s]\n",
      "                 Class     Images  Instances      Box(P          R      mAP50  mAP50-95): 100%|██████████| 169/169 [00:21<00:00,  7.92it/s]"
     ]
    },
    {
     "name": "stdout",
     "output_type": "stream",
     "text": [
      "                   all       5406      12905       0.98      0.982      0.993      0.808\n"
     ]
    },
    {
     "name": "stderr",
     "output_type": "stream",
     "text": [
      "\n"
     ]
    },
    {
     "name": "stdout",
     "output_type": "stream",
     "text": [
      "\n",
      "      Epoch    GPU_mem   box_loss   cls_loss   dfl_loss  Instances       Size\n"
     ]
    },
    {
     "name": "stderr",
     "output_type": "stream",
     "text": [
      "    180/200      2.39G     0.8704      0.525      1.209         57        640: 100%|██████████| 338/338 [00:29<00:00, 11.49it/s]\n",
      "                 Class     Images  Instances      Box(P          R      mAP50  mAP50-95): 100%|██████████| 169/169 [00:21<00:00,  7.90it/s]"
     ]
    },
    {
     "name": "stdout",
     "output_type": "stream",
     "text": [
      "                   all       5406      12905       0.98      0.982      0.993      0.808\n"
     ]
    },
    {
     "name": "stderr",
     "output_type": "stream",
     "text": [
      "\n"
     ]
    },
    {
     "name": "stdout",
     "output_type": "stream",
     "text": [
      "\n",
      "      Epoch    GPU_mem   box_loss   cls_loss   dfl_loss  Instances       Size\n"
     ]
    },
    {
     "name": "stderr",
     "output_type": "stream",
     "text": [
      "    181/200      2.49G      0.874     0.5321      1.216         61        640: 100%|██████████| 338/338 [00:29<00:00, 11.54it/s]\n",
      "                 Class     Images  Instances      Box(P          R      mAP50  mAP50-95): 100%|██████████| 169/169 [00:21<00:00,  7.91it/s]"
     ]
    },
    {
     "name": "stdout",
     "output_type": "stream",
     "text": [
      "                   all       5406      12905       0.98      0.982      0.993      0.809\n"
     ]
    },
    {
     "name": "stderr",
     "output_type": "stream",
     "text": [
      "\n"
     ]
    },
    {
     "name": "stdout",
     "output_type": "stream",
     "text": [
      "\n",
      "      Epoch    GPU_mem   box_loss   cls_loss   dfl_loss  Instances       Size\n"
     ]
    },
    {
     "name": "stderr",
     "output_type": "stream",
     "text": [
      "    182/200      2.39G     0.8666     0.5223       1.21         60        640: 100%|██████████| 338/338 [00:29<00:00, 11.55it/s]\n",
      "                 Class     Images  Instances      Box(P          R      mAP50  mAP50-95): 100%|██████████| 169/169 [00:21<00:00,  7.70it/s]"
     ]
    },
    {
     "name": "stdout",
     "output_type": "stream",
     "text": [
      "                   all       5406      12905      0.981      0.982      0.993      0.809\n"
     ]
    },
    {
     "name": "stderr",
     "output_type": "stream",
     "text": [
      "\n"
     ]
    },
    {
     "name": "stdout",
     "output_type": "stream",
     "text": [
      "\n",
      "      Epoch    GPU_mem   box_loss   cls_loss   dfl_loss  Instances       Size\n"
     ]
    },
    {
     "name": "stderr",
     "output_type": "stream",
     "text": [
      "    183/200      2.49G     0.8735     0.5291      1.214         60        640: 100%|██████████| 338/338 [00:33<00:00, 10.16it/s]\n",
      "                 Class     Images  Instances      Box(P          R      mAP50  mAP50-95): 100%|██████████| 169/169 [00:22<00:00,  7.65it/s]"
     ]
    },
    {
     "name": "stdout",
     "output_type": "stream",
     "text": [
      "                   all       5406      12905      0.981      0.982      0.993      0.809\n"
     ]
    },
    {
     "name": "stderr",
     "output_type": "stream",
     "text": [
      "\n"
     ]
    },
    {
     "name": "stdout",
     "output_type": "stream",
     "text": [
      "\n",
      "      Epoch    GPU_mem   box_loss   cls_loss   dfl_loss  Instances       Size\n"
     ]
    },
    {
     "name": "stderr",
     "output_type": "stream",
     "text": [
      "    184/200      2.39G     0.8628     0.5212      1.203         54        640: 100%|██████████| 338/338 [00:30<00:00, 10.94it/s]\n",
      "                 Class     Images  Instances      Box(P          R      mAP50  mAP50-95): 100%|██████████| 169/169 [00:22<00:00,  7.61it/s]"
     ]
    },
    {
     "name": "stdout",
     "output_type": "stream",
     "text": [
      "                   all       5406      12905      0.981      0.982      0.993      0.809\n"
     ]
    },
    {
     "name": "stderr",
     "output_type": "stream",
     "text": [
      "\n"
     ]
    },
    {
     "name": "stdout",
     "output_type": "stream",
     "text": [
      "\n",
      "      Epoch    GPU_mem   box_loss   cls_loss   dfl_loss  Instances       Size\n"
     ]
    },
    {
     "name": "stderr",
     "output_type": "stream",
     "text": [
      "    185/200      2.49G     0.8657     0.5239      1.211         70        640: 100%|██████████| 338/338 [00:30<00:00, 10.97it/s]\n",
      "                 Class     Images  Instances      Box(P          R      mAP50  mAP50-95): 100%|██████████| 169/169 [00:22<00:00,  7.59it/s]"
     ]
    },
    {
     "name": "stdout",
     "output_type": "stream",
     "text": [
      "                   all       5406      12905      0.981      0.982      0.993       0.81\n"
     ]
    },
    {
     "name": "stderr",
     "output_type": "stream",
     "text": [
      "\n"
     ]
    },
    {
     "name": "stdout",
     "output_type": "stream",
     "text": [
      "\n",
      "      Epoch    GPU_mem   box_loss   cls_loss   dfl_loss  Instances       Size\n"
     ]
    },
    {
     "name": "stderr",
     "output_type": "stream",
     "text": [
      "    186/200      2.39G      0.857     0.5232      1.205         66        640: 100%|██████████| 338/338 [00:30<00:00, 10.95it/s]\n",
      "                 Class     Images  Instances      Box(P          R      mAP50  mAP50-95): 100%|██████████| 169/169 [00:22<00:00,  7.61it/s]"
     ]
    },
    {
     "name": "stdout",
     "output_type": "stream",
     "text": [
      "                   all       5406      12905      0.982      0.981      0.993       0.81\n"
     ]
    },
    {
     "name": "stderr",
     "output_type": "stream",
     "text": [
      "\n"
     ]
    },
    {
     "name": "stdout",
     "output_type": "stream",
     "text": [
      "\n",
      "      Epoch    GPU_mem   box_loss   cls_loss   dfl_loss  Instances       Size\n"
     ]
    },
    {
     "name": "stderr",
     "output_type": "stream",
     "text": [
      "    187/200      2.49G      0.861     0.5163      1.206         53        640: 100%|██████████| 338/338 [00:30<00:00, 11.16it/s]\n",
      "                 Class     Images  Instances      Box(P          R      mAP50  mAP50-95): 100%|██████████| 169/169 [00:21<00:00,  7.70it/s]"
     ]
    },
    {
     "name": "stdout",
     "output_type": "stream",
     "text": [
      "                   all       5406      12905      0.982      0.982      0.993       0.81\n"
     ]
    },
    {
     "name": "stderr",
     "output_type": "stream",
     "text": [
      "\n"
     ]
    },
    {
     "name": "stdout",
     "output_type": "stream",
     "text": [
      "\n",
      "      Epoch    GPU_mem   box_loss   cls_loss   dfl_loss  Instances       Size\n"
     ]
    },
    {
     "name": "stderr",
     "output_type": "stream",
     "text": [
      "    188/200      2.39G     0.8546     0.5175      1.203         56        640: 100%|██████████| 338/338 [00:30<00:00, 11.00it/s]\n",
      "                 Class     Images  Instances      Box(P          R      mAP50  mAP50-95): 100%|██████████| 169/169 [00:22<00:00,  7.68it/s]"
     ]
    },
    {
     "name": "stdout",
     "output_type": "stream",
     "text": [
      "                   all       5406      12905      0.982      0.982      0.993       0.81\n"
     ]
    },
    {
     "name": "stderr",
     "output_type": "stream",
     "text": [
      "\n"
     ]
    },
    {
     "name": "stdout",
     "output_type": "stream",
     "text": [
      "\n",
      "      Epoch    GPU_mem   box_loss   cls_loss   dfl_loss  Instances       Size\n"
     ]
    },
    {
     "name": "stderr",
     "output_type": "stream",
     "text": [
      "    189/200      2.49G     0.8609     0.5235      1.205         77        640: 100%|██████████| 338/338 [00:30<00:00, 10.98it/s]\n",
      "                 Class     Images  Instances      Box(P          R      mAP50  mAP50-95): 100%|██████████| 169/169 [00:21<00:00,  7.75it/s]"
     ]
    },
    {
     "name": "stdout",
     "output_type": "stream",
     "text": [
      "                   all       5406      12905      0.981      0.983      0.993      0.811\n"
     ]
    },
    {
     "name": "stderr",
     "output_type": "stream",
     "text": [
      "\n"
     ]
    },
    {
     "name": "stdout",
     "output_type": "stream",
     "text": [
      "\n",
      "      Epoch    GPU_mem   box_loss   cls_loss   dfl_loss  Instances       Size\n"
     ]
    },
    {
     "name": "stderr",
     "output_type": "stream",
     "text": [
      "    190/200      2.39G     0.8582      0.515      1.206         60        640: 100%|██████████| 338/338 [00:29<00:00, 11.28it/s]\n",
      "                 Class     Images  Instances      Box(P          R      mAP50  mAP50-95): 100%|██████████| 169/169 [00:21<00:00,  7.87it/s]"
     ]
    },
    {
     "name": "stdout",
     "output_type": "stream",
     "text": [
      "                   all       5406      12905      0.981      0.983      0.993      0.811\n"
     ]
    },
    {
     "name": "stderr",
     "output_type": "stream",
     "text": [
      "\n"
     ]
    },
    {
     "name": "stdout",
     "output_type": "stream",
     "text": [
      "Closing dataloader mosaic\n",
      "\n",
      "      Epoch    GPU_mem   box_loss   cls_loss   dfl_loss  Instances       Size\n"
     ]
    },
    {
     "name": "stderr",
     "output_type": "stream",
     "text": [
      "    191/200      2.49G     0.7877     0.4027      1.194         33        640: 100%|██████████| 338/338 [00:29<00:00, 11.44it/s]\n",
      "                 Class     Images  Instances      Box(P          R      mAP50  mAP50-95): 100%|██████████| 169/169 [00:21<00:00,  7.72it/s]"
     ]
    },
    {
     "name": "stdout",
     "output_type": "stream",
     "text": [
      "                   all       5406      12905      0.984       0.98      0.993      0.812\n"
     ]
    },
    {
     "name": "stderr",
     "output_type": "stream",
     "text": [
      "\n"
     ]
    },
    {
     "name": "stdout",
     "output_type": "stream",
     "text": [
      "\n",
      "      Epoch    GPU_mem   box_loss   cls_loss   dfl_loss  Instances       Size\n"
     ]
    },
    {
     "name": "stderr",
     "output_type": "stream",
     "text": [
      "    192/200      2.39G     0.7663     0.3891      1.185         32        640: 100%|██████████| 338/338 [00:29<00:00, 11.53it/s]\n",
      "                 Class     Images  Instances      Box(P          R      mAP50  mAP50-95): 100%|██████████| 169/169 [00:21<00:00,  7.78it/s]"
     ]
    },
    {
     "name": "stdout",
     "output_type": "stream",
     "text": [
      "                   all       5406      12905      0.984       0.98      0.993      0.812\n"
     ]
    },
    {
     "name": "stderr",
     "output_type": "stream",
     "text": [
      "\n"
     ]
    },
    {
     "name": "stdout",
     "output_type": "stream",
     "text": [
      "\n",
      "      Epoch    GPU_mem   box_loss   cls_loss   dfl_loss  Instances       Size\n"
     ]
    },
    {
     "name": "stderr",
     "output_type": "stream",
     "text": [
      "    193/200      2.49G     0.7671     0.3857      1.181         35        640: 100%|██████████| 338/338 [00:29<00:00, 11.52it/s]\n",
      "                 Class     Images  Instances      Box(P          R      mAP50  mAP50-95): 100%|██████████| 169/169 [00:22<00:00,  7.57it/s]"
     ]
    },
    {
     "name": "stdout",
     "output_type": "stream",
     "text": [
      "                   all       5406      12905      0.984       0.98      0.993      0.812\n"
     ]
    },
    {
     "name": "stderr",
     "output_type": "stream",
     "text": [
      "\n"
     ]
    },
    {
     "name": "stdout",
     "output_type": "stream",
     "text": [
      "\n",
      "      Epoch    GPU_mem   box_loss   cls_loss   dfl_loss  Instances       Size\n"
     ]
    },
    {
     "name": "stderr",
     "output_type": "stream",
     "text": [
      "    194/200      2.39G     0.7582     0.3805      1.177         30        640: 100%|██████████| 338/338 [00:30<00:00, 11.25it/s]\n",
      "                 Class     Images  Instances      Box(P          R      mAP50  mAP50-95): 100%|██████████| 169/169 [00:22<00:00,  7.51it/s]"
     ]
    },
    {
     "name": "stdout",
     "output_type": "stream",
     "text": [
      "                   all       5406      12905      0.982      0.982      0.993      0.812\n"
     ]
    },
    {
     "name": "stderr",
     "output_type": "stream",
     "text": [
      "\n"
     ]
    },
    {
     "name": "stdout",
     "output_type": "stream",
     "text": [
      "\n",
      "      Epoch    GPU_mem   box_loss   cls_loss   dfl_loss  Instances       Size\n"
     ]
    },
    {
     "name": "stderr",
     "output_type": "stream",
     "text": [
      "    195/200      2.49G     0.7501     0.3781      1.169         33        640: 100%|██████████| 338/338 [00:30<00:00, 11.17it/s]\n",
      "                 Class     Images  Instances      Box(P          R      mAP50  mAP50-95): 100%|██████████| 169/169 [00:21<00:00,  7.71it/s]"
     ]
    },
    {
     "name": "stdout",
     "output_type": "stream",
     "text": [
      "                   all       5406      12905      0.982      0.982      0.993      0.813\n"
     ]
    },
    {
     "name": "stderr",
     "output_type": "stream",
     "text": [
      "\n"
     ]
    },
    {
     "name": "stdout",
     "output_type": "stream",
     "text": [
      "\n",
      "      Epoch    GPU_mem   box_loss   cls_loss   dfl_loss  Instances       Size\n"
     ]
    },
    {
     "name": "stderr",
     "output_type": "stream",
     "text": [
      "    196/200      2.39G     0.7455     0.3774       1.17         35        640: 100%|██████████| 338/338 [00:29<00:00, 11.54it/s]\n",
      "                 Class     Images  Instances      Box(P          R      mAP50  mAP50-95): 100%|██████████| 169/169 [00:21<00:00,  7.80it/s]"
     ]
    },
    {
     "name": "stdout",
     "output_type": "stream",
     "text": [
      "                   all       5406      12905      0.983      0.982      0.993      0.813\n"
     ]
    },
    {
     "name": "stderr",
     "output_type": "stream",
     "text": [
      "\n"
     ]
    },
    {
     "name": "stdout",
     "output_type": "stream",
     "text": [
      "\n",
      "      Epoch    GPU_mem   box_loss   cls_loss   dfl_loss  Instances       Size\n"
     ]
    },
    {
     "name": "stderr",
     "output_type": "stream",
     "text": [
      "    197/200      2.49G      0.748     0.3752      1.169         33        640: 100%|██████████| 338/338 [00:29<00:00, 11.53it/s]\n",
      "                 Class     Images  Instances      Box(P          R      mAP50  mAP50-95): 100%|██████████| 169/169 [00:22<00:00,  7.58it/s]"
     ]
    },
    {
     "name": "stdout",
     "output_type": "stream",
     "text": [
      "                   all       5406      12905      0.982      0.983      0.993      0.813\n"
     ]
    },
    {
     "name": "stderr",
     "output_type": "stream",
     "text": [
      "\n"
     ]
    },
    {
     "name": "stdout",
     "output_type": "stream",
     "text": [
      "\n",
      "      Epoch    GPU_mem   box_loss   cls_loss   dfl_loss  Instances       Size\n"
     ]
    },
    {
     "name": "stderr",
     "output_type": "stream",
     "text": [
      "    198/200      2.39G     0.7406     0.3722      1.164         35        640: 100%|██████████| 338/338 [00:29<00:00, 11.56it/s]\n",
      "                 Class     Images  Instances      Box(P          R      mAP50  mAP50-95): 100%|██████████| 169/169 [00:20<00:00,  8.21it/s]"
     ]
    },
    {
     "name": "stdout",
     "output_type": "stream",
     "text": [
      "                   all       5406      12905      0.982      0.983      0.993      0.813\n"
     ]
    },
    {
     "name": "stderr",
     "output_type": "stream",
     "text": [
      "\n"
     ]
    },
    {
     "name": "stdout",
     "output_type": "stream",
     "text": [
      "\n",
      "      Epoch    GPU_mem   box_loss   cls_loss   dfl_loss  Instances       Size\n"
     ]
    },
    {
     "name": "stderr",
     "output_type": "stream",
     "text": [
      "    199/200      2.49G     0.7404      0.375      1.167         31        640: 100%|██████████| 338/338 [00:28<00:00, 11.83it/s]\n",
      "                 Class     Images  Instances      Box(P          R      mAP50  mAP50-95): 100%|██████████| 169/169 [00:20<00:00,  8.29it/s]"
     ]
    },
    {
     "name": "stdout",
     "output_type": "stream",
     "text": [
      "                   all       5406      12905      0.982      0.983      0.993      0.814\n"
     ]
    },
    {
     "name": "stderr",
     "output_type": "stream",
     "text": [
      "\n"
     ]
    },
    {
     "name": "stdout",
     "output_type": "stream",
     "text": [
      "\n",
      "      Epoch    GPU_mem   box_loss   cls_loss   dfl_loss  Instances       Size\n"
     ]
    },
    {
     "name": "stderr",
     "output_type": "stream",
     "text": [
      "    200/200      2.39G     0.7433     0.3749      1.169         30        640: 100%|██████████| 338/338 [00:28<00:00, 11.89it/s]\n",
      "                 Class     Images  Instances      Box(P          R      mAP50  mAP50-95): 100%|██████████| 169/169 [00:20<00:00,  8.23it/s]"
     ]
    },
    {
     "name": "stdout",
     "output_type": "stream",
     "text": [
      "                   all       5406      12905      0.982      0.983      0.993      0.814\n"
     ]
    },
    {
     "name": "stderr",
     "output_type": "stream",
     "text": [
      "\n"
     ]
    },
    {
     "name": "stdout",
     "output_type": "stream",
     "text": [
      "\n",
      "200 epochs completed in 2.875 hours.\n",
      "Optimizer stripped from runs\\detect\\train2\\weights\\last.pt, 6.3MB\n",
      "Optimizer stripped from runs\\detect\\train2\\weights\\best.pt, 6.3MB\n",
      "\n",
      "Validating runs\\detect\\train2\\weights\\best.pt...\n",
      "Ultralytics YOLOv8.1.2 🚀 Python-3.11.5 torch-2.1.2+cu121 CUDA:0 (NVIDIA GeForce RTX 3070 Ti, 8191MiB)\n",
      "YOLOv8n summary (fused): 168 layers, 3006038 parameters, 0 gradients, 8.1 GFLOPs\n"
     ]
    },
    {
     "name": "stderr",
     "output_type": "stream",
     "text": [
      "                 Class     Images  Instances      Box(P          R      mAP50  mAP50-95): 100%|██████████| 169/169 [00:23<00:00,  7.22it/s]\n"
     ]
    },
    {
     "name": "stdout",
     "output_type": "stream",
     "text": [
      "                   all       5406      12905      0.982      0.983      0.993      0.814\n",
      "                  guns       5406       5840      0.975      0.973      0.992      0.766\n",
      "                person       5406       7065      0.988      0.993      0.995      0.862\n",
      "Speed: 0.1ms preprocess, 1.0ms inference, 0.0ms loss, 0.7ms postprocess per image\n",
      "Results saved to \u001B[1mruns\\detect\\train2\u001B[0m\n",
      "2024-01-19 01:35:39,150 - clearml.storage - INFO - Starting upload: runs\\detect\\train2\\weights\\best.pt => https://files.clear.ml/Gun_detection/Train_YOLOv8n_200.47255dcf022b480b8d0e736ed1eae154/models/best.pt\n"
     ]
    }
   ],
   "source": [
    "# Отправка параметров ClearML.\n",
    "task.connect(args)\n",
    "# Загрузка модели\n",
    "train_model = YOLO('yolov8n.yaml')\n",
    "# Запуск обучения\n",
    "result = train_model.train(**args)"
   ],
   "metadata": {
    "collapsed": false,
    "pycharm": {
     "name": "#%%\n"
    }
   }
  },
  {
   "cell_type": "code",
   "execution_count": 10,
   "outputs": [
    {
     "data": {
      "text/plain": "True"
     },
     "execution_count": 10,
     "metadata": {},
     "output_type": "execute_result"
    }
   ],
   "source": [
    "# Load a pretrained YOLOv8n model\n",
    "model = 'C:\\\\Users\\gibad\\PycharmProjects\\Yolo8nGD\\\\runs\\detect\\\\train2\\weights\\\\best.pt'\n",
    "\n",
    "# Define path to video file\n",
    "source = 'D:\\Predict\\\\test_video.mp4'\n",
    "task.upload_artifact(name='test_video', artifact_object=source)"
   ],
   "metadata": {
    "collapsed": false,
    "pycharm": {
     "name": "#%%\n"
    }
   }
  },
  {
   "cell_type": "code",
   "execution_count": 11,
   "outputs": [
    {
     "name": "stdout",
     "output_type": "stream",
     "text": [
      "Ultralytics YOLOv8.1.2 рџљЂ Python-3.11.5 torch-2.1.2+cu121 CUDA:0 (NVIDIA GeForce RTX 3070 Ti, 8191MiB)\n",
      "YOLOv8n summary (fused): 168 layers, 3006038 parameters, 0 gradients, 8.1 GFLOPs\n",
      "\n",
      "video 1/1 (1/4362) D:\\Predict\\test_video.mp4: 384x640 1 guns, 1 person, 84.0ms\n",
      "video 1/1 (2/4362) D:\\Predict\\test_video.mp4: 384x640 1 person, 5.0ms\n",
      "video 1/1 (3/4362) D:\\Predict\\test_video.mp4: 384x640 1 person, 6.0ms\n",
      "video 1/1 (4/4362) D:\\Predict\\test_video.mp4: 384x640 1 person, 7.0ms\n",
      "video 1/1 (5/4362) D:\\Predict\\test_video.mp4: 384x640 1 person, 6.0ms\n",
      "video 1/1 (6/4362) D:\\Predict\\test_video.mp4: 384x640 1 person, 6.0ms\n",
      "video 1/1 (7/4362) D:\\Predict\\test_video.mp4: 384x640 1 person, 5.0ms\n",
      "video 1/1 (8/4362) D:\\Predict\\test_video.mp4: 384x640 1 person, 6.0ms\n",
      "video 1/1 (9/4362) D:\\Predict\\test_video.mp4: 384x640 1 person, 6.0ms\n",
      "video 1/1 (10/4362) D:\\Predict\\test_video.mp4: 384x640 1 person, 5.0ms\n",
      "video 1/1 (11/4362) D:\\Predict\\test_video.mp4: 384x640 1 person, 5.0ms\n",
      "video 1/1 (12/4362) D:\\Predict\\test_video.mp4: 384x640 1 person, 6.0ms\n",
      "video 1/1 (13/4362) D:\\Predict\\test_video.mp4: 384x640 1 person, 5.0ms\n",
      "video 1/1 (14/4362) D:\\Predict\\test_video.mp4: 384x640 1 person, 5.0ms\n",
      "video 1/1 (15/4362) D:\\Predict\\test_video.mp4: 384x640 1 person, 6.0ms\n",
      "video 1/1 (16/4362) D:\\Predict\\test_video.mp4: 384x640 1 person, 5.0ms\n",
      "video 1/1 (17/4362) D:\\Predict\\test_video.mp4: 384x640 1 person, 6.0ms\n",
      "video 1/1 (18/4362) D:\\Predict\\test_video.mp4: 384x640 1 person, 5.0ms\n",
      "video 1/1 (19/4362) D:\\Predict\\test_video.mp4: 384x640 1 person, 5.0ms\n",
      "video 1/1 (20/4362) D:\\Predict\\test_video.mp4: 384x640 1 person, 6.0ms\n",
      "video 1/1 (21/4362) D:\\Predict\\test_video.mp4: 384x640 1 guns, 1 person, 5.0ms\n",
      "video 1/1 (22/4362) D:\\Predict\\test_video.mp4: 384x640 1 guns, 1 person, 6.0ms\n",
      "video 1/1 (23/4362) D:\\Predict\\test_video.mp4: 384x640 1 guns, 1 person, 6.0ms\n",
      "video 1/1 (24/4362) D:\\Predict\\test_video.mp4: 384x640 1 guns, 1 person, 7.0ms\n",
      "video 1/1 (25/4362) D:\\Predict\\test_video.mp4: 384x640 1 guns, 1 person, 5.0ms\n",
      "video 1/1 (26/4362) D:\\Predict\\test_video.mp4: 384x640 1 guns, 1 person, 5.0ms\n",
      "video 1/1 (27/4362) D:\\Predict\\test_video.mp4: 384x640 1 guns, 1 person, 6.0ms\n",
      "video 1/1 (28/4362) D:\\Predict\\test_video.mp4: 384x640 1 guns, 1 person, 5.0ms\n",
      "video 1/1 (29/4362) D:\\Predict\\test_video.mp4: 384x640 1 guns, 1 person, 6.0ms\n",
      "video 1/1 (30/4362) D:\\Predict\\test_video.mp4: 384x640 1 guns, 1 person, 6.0ms\n",
      "video 1/1 (31/4362) D:\\Predict\\test_video.mp4: 384x640 1 guns, 1 person, 5.0ms\n",
      "video 1/1 (32/4362) D:\\Predict\\test_video.mp4: 384x640 1 guns, 1 person, 5.0ms\n",
      "video 1/1 (33/4362) D:\\Predict\\test_video.mp4: 384x640 1 guns, 1 person, 5.0ms\n",
      "video 1/1 (34/4362) D:\\Predict\\test_video.mp4: 384x640 1 guns, 1 person, 6.0ms\n",
      "video 1/1 (35/4362) D:\\Predict\\test_video.mp4: 384x640 1 guns, 1 person, 5.0ms\n",
      "video 1/1 (36/4362) D:\\Predict\\test_video.mp4: 384x640 1 guns, 1 person, 5.0ms\n",
      "video 1/1 (37/4362) D:\\Predict\\test_video.mp4: 384x640 1 guns, 1 person, 5.0ms\n",
      "video 1/1 (38/4362) D:\\Predict\\test_video.mp4: 384x640 1 guns, 1 person, 5.0ms\n",
      "video 1/1 (39/4362) D:\\Predict\\test_video.mp4: 384x640 1 guns, 1 person, 5.0ms\n",
      "video 1/1 (40/4362) D:\\Predict\\test_video.mp4: 384x640 1 guns, 1 person, 5.0ms\n",
      "video 1/1 (41/4362) D:\\Predict\\test_video.mp4: 384x640 1 guns, 1 person, 5.0ms\n",
      "video 1/1 (42/4362) D:\\Predict\\test_video.mp4: 384x640 1 guns, 1 person, 5.0ms\n",
      "video 1/1 (43/4362) D:\\Predict\\test_video.mp4: 384x640 1 guns, 1 person, 5.0ms\n",
      "video 1/1 (44/4362) D:\\Predict\\test_video.mp4: 384x640 1 guns, 1 person, 5.0ms\n",
      "video 1/1 (45/4362) D:\\Predict\\test_video.mp4: 384x640 1 guns, 1 person, 5.0ms\n",
      "video 1/1 (46/4362) D:\\Predict\\test_video.mp4: 384x640 1 guns, 1 person, 6.0ms\n",
      "video 1/1 (47/4362) D:\\Predict\\test_video.mp4: 384x640 1 guns, 1 person, 5.0ms\n",
      "video 1/1 (48/4362) D:\\Predict\\test_video.mp4: 384x640 1 guns, 1 person, 5.0ms\n",
      "video 1/1 (49/4362) D:\\Predict\\test_video.mp4: 384x640 1 guns, 1 person, 6.0ms\n",
      "video 1/1 (50/4362) D:\\Predict\\test_video.mp4: 384x640 1 guns, 1 person, 6.0ms\n",
      "video 1/1 (51/4362) D:\\Predict\\test_video.mp4: 384x640 1 guns, 1 person, 6.0ms\n",
      "video 1/1 (52/4362) D:\\Predict\\test_video.mp4: 384x640 1 guns, 1 person, 6.0ms\n",
      "video 1/1 (53/4362) D:\\Predict\\test_video.mp4: 384x640 1 guns, 1 person, 5.0ms\n",
      "video 1/1 (54/4362) D:\\Predict\\test_video.mp4: 384x640 1 guns, 1 person, 5.0ms\n",
      "video 1/1 (55/4362) D:\\Predict\\test_video.mp4: 384x640 1 guns, 1 person, 6.0ms\n",
      "video 1/1 (56/4362) D:\\Predict\\test_video.mp4: 384x640 1 guns, 1 person, 5.0ms\n",
      "video 1/1 (57/4362) D:\\Predict\\test_video.mp4: 384x640 1 guns, 1 person, 6.0ms\n",
      "video 1/1 (58/4362) D:\\Predict\\test_video.mp4: 384x640 1 guns, 1 person, 5.0ms\n",
      "video 1/1 (59/4362) D:\\Predict\\test_video.mp4: 384x640 1 guns, 1 person, 5.0ms\n",
      "video 1/1 (60/4362) D:\\Predict\\test_video.mp4: 384x640 1 guns, 1 person, 6.0ms\n",
      "video 1/1 (61/4362) D:\\Predict\\test_video.mp4: 384x640 1 guns, 1 person, 6.0ms\n",
      "video 1/1 (62/4362) D:\\Predict\\test_video.mp4: 384x640 1 guns, 1 person, 7.0ms\n",
      "video 1/1 (63/4362) D:\\Predict\\test_video.mp4: 384x640 1 guns, 1 person, 7.0ms\n",
      "video 1/1 (64/4362) D:\\Predict\\test_video.mp4: 384x640 1 guns, 1 person, 7.0ms\n",
      "video 1/1 (65/4362) D:\\Predict\\test_video.mp4: 384x640 1 guns, 1 person, 5.0ms\n",
      "video 1/1 (66/4362) D:\\Predict\\test_video.mp4: 384x640 1 guns, 1 person, 5.0ms\n",
      "video 1/1 (67/4362) D:\\Predict\\test_video.mp4: 384x640 1 guns, 1 person, 6.0ms\n",
      "video 1/1 (68/4362) D:\\Predict\\test_video.mp4: 384x640 1 guns, 1 person, 5.0ms\n",
      "video 1/1 (69/4362) D:\\Predict\\test_video.mp4: 384x640 1 guns, 1 person, 5.0ms\n",
      "video 1/1 (70/4362) D:\\Predict\\test_video.mp4: 384x640 1 guns, 1 person, 5.0ms\n",
      "video 1/1 (71/4362) D:\\Predict\\test_video.mp4: 384x640 1 guns, 1 person, 5.0ms\n",
      "video 1/1 (72/4362) D:\\Predict\\test_video.mp4: 384x640 1 guns, 1 person, 6.0ms\n",
      "video 1/1 (73/4362) D:\\Predict\\test_video.mp4: 384x640 1 guns, 1 person, 6.0ms\n",
      "video 1/1 (74/4362) D:\\Predict\\test_video.mp4: 384x640 1 guns, 1 person, 5.0ms\n",
      "video 1/1 (75/4362) D:\\Predict\\test_video.mp4: 384x640 1 guns, 1 person, 6.0ms\n",
      "video 1/1 (76/4362) D:\\Predict\\test_video.mp4: 384x640 1 guns, 1 person, 5.0ms\n",
      "video 1/1 (77/4362) D:\\Predict\\test_video.mp4: 384x640 1 guns, 1 person, 5.0ms\n",
      "video 1/1 (78/4362) D:\\Predict\\test_video.mp4: 384x640 1 guns, 1 person, 5.0ms\n",
      "video 1/1 (79/4362) D:\\Predict\\test_video.mp4: 384x640 1 guns, 1 person, 5.0ms\n",
      "video 1/1 (80/4362) D:\\Predict\\test_video.mp4: 384x640 1 guns, 1 person, 6.0ms\n",
      "video 1/1 (81/4362) D:\\Predict\\test_video.mp4: 384x640 1 guns, 1 person, 7.0ms\n",
      "video 1/1 (82/4362) D:\\Predict\\test_video.mp4: 384x640 1 guns, 1 person, 6.0ms\n",
      "video 1/1 (83/4362) D:\\Predict\\test_video.mp4: 384x640 1 guns, 1 person, 6.0ms\n",
      "video 1/1 (84/4362) D:\\Predict\\test_video.mp4: 384x640 1 guns, 1 person, 6.0ms\n",
      "video 1/1 (85/4362) D:\\Predict\\test_video.mp4: 384x640 1 guns, 1 person, 6.0ms\n",
      "video 1/1 (86/4362) D:\\Predict\\test_video.mp4: 384x640 1 guns, 1 person, 6.0ms\n",
      "video 1/1 (87/4362) D:\\Predict\\test_video.mp4: 384x640 1 guns, 1 person, 6.0ms\n",
      "video 1/1 (88/4362) D:\\Predict\\test_video.mp4: 384x640 1 guns, 1 person, 5.0ms\n",
      "video 1/1 (89/4362) D:\\Predict\\test_video.mp4: 384x640 1 person, 6.0ms\n",
      "video 1/1 (90/4362) D:\\Predict\\test_video.mp4: 384x640 1 person, 7.0ms\n",
      "video 1/1 (91/4362) D:\\Predict\\test_video.mp4: 384x640 1 person, 6.0ms\n",
      "video 1/1 (92/4362) D:\\Predict\\test_video.mp4: 384x640 1 person, 6.0ms\n",
      "video 1/1 (93/4362) D:\\Predict\\test_video.mp4: 384x640 1 person, 5.0ms\n",
      "video 1/1 (94/4362) D:\\Predict\\test_video.mp4: 384x640 1 person, 6.0ms\n",
      "video 1/1 (95/4362) D:\\Predict\\test_video.mp4: 384x640 1 person, 5.0ms\n",
      "video 1/1 (96/4362) D:\\Predict\\test_video.mp4: 384x640 1 person, 5.0ms\n",
      "video 1/1 (97/4362) D:\\Predict\\test_video.mp4: 384x640 1 person, 6.0ms\n",
      "video 1/1 (98/4362) D:\\Predict\\test_video.mp4: 384x640 1 person, 6.0ms\n",
      "video 1/1 (99/4362) D:\\Predict\\test_video.mp4: 384x640 1 person, 6.0ms\n",
      "video 1/1 (100/4362) D:\\Predict\\test_video.mp4: 384x640 1 person, 5.0ms\n",
      "video 1/1 (101/4362) D:\\Predict\\test_video.mp4: 384x640 1 person, 7.0ms\n",
      "video 1/1 (102/4362) D:\\Predict\\test_video.mp4: 384x640 1 person, 5.0ms\n",
      "video 1/1 (103/4362) D:\\Predict\\test_video.mp4: 384x640 1 person, 5.0ms\n",
      "video 1/1 (104/4362) D:\\Predict\\test_video.mp4: 384x640 1 person, 6.0ms\n",
      "video 1/1 (105/4362) D:\\Predict\\test_video.mp4: 384x640 1 person, 5.0ms\n",
      "video 1/1 (106/4362) D:\\Predict\\test_video.mp4: 384x640 1 person, 7.0ms\n",
      "video 1/1 (107/4362) D:\\Predict\\test_video.mp4: 384x640 1 person, 6.0ms\n",
      "video 1/1 (108/4362) D:\\Predict\\test_video.mp4: 384x640 1 person, 6.0ms\n",
      "video 1/1 (109/4362) D:\\Predict\\test_video.mp4: 384x640 1 person, 6.0ms\n",
      "video 1/1 (110/4362) D:\\Predict\\test_video.mp4: 384x640 1 guns, 1 person, 6.0ms\n",
      "video 1/1 (111/4362) D:\\Predict\\test_video.mp4: 384x640 1 guns, 1 person, 7.0ms\n",
      "video 1/1 (112/4362) D:\\Predict\\test_video.mp4: 384x640 1 guns, 1 person, 6.0ms\n",
      "video 1/1 (113/4362) D:\\Predict\\test_video.mp4: 384x640 1 guns, 1 person, 6.0ms\n",
      "video 1/1 (114/4362) D:\\Predict\\test_video.mp4: 384x640 1 guns, 1 person, 6.0ms\n",
      "video 1/1 (115/4362) D:\\Predict\\test_video.mp4: 384x640 1 guns, 1 person, 7.0ms\n",
      "video 1/1 (116/4362) D:\\Predict\\test_video.mp4: 384x640 1 guns, 1 person, 6.0ms\n",
      "video 1/1 (117/4362) D:\\Predict\\test_video.mp4: 384x640 1 guns, 1 person, 6.0ms\n",
      "video 1/1 (118/4362) D:\\Predict\\test_video.mp4: 384x640 1 guns, 1 person, 6.0ms\n",
      "video 1/1 (119/4362) D:\\Predict\\test_video.mp4: 384x640 1 guns, 1 person, 6.0ms\n",
      "video 1/1 (120/4362) D:\\Predict\\test_video.mp4: 384x640 1 person, 6.0ms\n",
      "video 1/1 (121/4362) D:\\Predict\\test_video.mp4: 384x640 1 person, 6.0ms\n",
      "video 1/1 (122/4362) D:\\Predict\\test_video.mp4: 384x640 (no detections), 6.0ms\n",
      "video 1/1 (123/4362) D:\\Predict\\test_video.mp4: 384x640 1 guns, 6.0ms\n",
      "video 1/1 (124/4362) D:\\Predict\\test_video.mp4: 384x640 1 guns, 1 person, 6.0ms\n",
      "video 1/1 (125/4362) D:\\Predict\\test_video.mp4: 384x640 1 guns, 1 person, 5.0ms\n",
      "video 1/1 (126/4362) D:\\Predict\\test_video.mp4: 384x640 1 person, 6.0ms\n",
      "video 1/1 (127/4362) D:\\Predict\\test_video.mp4: 384x640 1 person, 5.0ms\n",
      "video 1/1 (128/4362) D:\\Predict\\test_video.mp4: 384x640 1 person, 6.0ms\n",
      "video 1/1 (129/4362) D:\\Predict\\test_video.mp4: 384x640 1 person, 5.0ms\n",
      "video 1/1 (130/4362) D:\\Predict\\test_video.mp4: 384x640 1 guns, 1 person, 6.0ms\n",
      "video 1/1 (131/4362) D:\\Predict\\test_video.mp4: 384x640 1 guns, 1 person, 7.0ms\n",
      "video 1/1 (132/4362) D:\\Predict\\test_video.mp4: 384x640 1 guns, 1 person, 6.0ms\n",
      "video 1/1 (133/4362) D:\\Predict\\test_video.mp4: 384x640 1 guns, 1 person, 5.0ms\n",
      "video 1/1 (134/4362) D:\\Predict\\test_video.mp4: 384x640 1 guns, 1 person, 5.0ms\n",
      "video 1/1 (135/4362) D:\\Predict\\test_video.mp4: 384x640 1 guns, 1 person, 6.0ms\n",
      "video 1/1 (136/4362) D:\\Predict\\test_video.mp4: 384x640 1 guns, 1 person, 6.0ms\n",
      "video 1/1 (137/4362) D:\\Predict\\test_video.mp4: 384x640 1 guns, 1 person, 6.0ms\n",
      "video 1/1 (138/4362) D:\\Predict\\test_video.mp4: 384x640 1 guns, 1 person, 7.0ms\n",
      "video 1/1 (139/4362) D:\\Predict\\test_video.mp4: 384x640 1 guns, 1 person, 6.0ms\n",
      "video 1/1 (140/4362) D:\\Predict\\test_video.mp4: 384x640 1 guns, 1 person, 5.0ms\n",
      "video 1/1 (141/4362) D:\\Predict\\test_video.mp4: 384x640 1 guns, 1 person, 5.0ms\n",
      "video 1/1 (142/4362) D:\\Predict\\test_video.mp4: 384x640 1 guns, 1 person, 5.0ms\n",
      "video 1/1 (143/4362) D:\\Predict\\test_video.mp4: 384x640 1 guns, 1 person, 6.0ms\n",
      "video 1/1 (144/4362) D:\\Predict\\test_video.mp4: 384x640 1 guns, 1 person, 6.0ms\n",
      "video 1/1 (145/4362) D:\\Predict\\test_video.mp4: 384x640 1 guns, 1 person, 6.0ms\n",
      "video 1/1 (146/4362) D:\\Predict\\test_video.mp4: 384x640 1 person, 5.0ms\n",
      "video 1/1 (147/4362) D:\\Predict\\test_video.mp4: 384x640 1 person, 5.0ms\n",
      "video 1/1 (148/4362) D:\\Predict\\test_video.mp4: 384x640 1 person, 5.0ms\n",
      "video 1/1 (149/4362) D:\\Predict\\test_video.mp4: 384x640 1 person, 5.0ms\n",
      "video 1/1 (150/4362) D:\\Predict\\test_video.mp4: 384x640 1 person, 6.0ms\n",
      "video 1/1 (151/4362) D:\\Predict\\test_video.mp4: 384x640 1 person, 5.0ms\n",
      "video 1/1 (152/4362) D:\\Predict\\test_video.mp4: 384x640 1 guns, 1 person, 6.0ms\n",
      "video 1/1 (153/4362) D:\\Predict\\test_video.mp4: 384x640 1 person, 6.0ms\n",
      "video 1/1 (154/4362) D:\\Predict\\test_video.mp4: 384x640 1 person, 5.0ms\n",
      "video 1/1 (155/4362) D:\\Predict\\test_video.mp4: 384x640 1 guns, 1 person, 5.0ms\n",
      "video 1/1 (156/4362) D:\\Predict\\test_video.mp4: 384x640 1 guns, 1 person, 6.0ms\n",
      "video 1/1 (157/4362) D:\\Predict\\test_video.mp4: 384x640 1 guns, 1 person, 5.0ms\n",
      "video 1/1 (158/4362) D:\\Predict\\test_video.mp4: 384x640 1 guns, 1 person, 6.0ms\n",
      "video 1/1 (159/4362) D:\\Predict\\test_video.mp4: 384x640 1 guns, 1 person, 6.0ms\n",
      "video 1/1 (160/4362) D:\\Predict\\test_video.mp4: 384x640 1 guns, 1 person, 5.0ms\n",
      "video 1/1 (161/4362) D:\\Predict\\test_video.mp4: 384x640 1 guns, 1 person, 5.0ms\n",
      "video 1/1 (162/4362) D:\\Predict\\test_video.mp4: 384x640 1 guns, 1 person, 6.0ms\n",
      "video 1/1 (163/4362) D:\\Predict\\test_video.mp4: 384x640 1 guns, 1 person, 7.0ms\n",
      "video 1/1 (164/4362) D:\\Predict\\test_video.mp4: 384x640 1 guns, 1 person, 6.0ms\n",
      "video 1/1 (165/4362) D:\\Predict\\test_video.mp4: 384x640 1 guns, 1 person, 5.0ms\n",
      "video 1/1 (166/4362) D:\\Predict\\test_video.mp4: 384x640 1 guns, 1 person, 5.0ms\n",
      "video 1/1 (167/4362) D:\\Predict\\test_video.mp4: 384x640 1 guns, 1 person, 5.0ms\n",
      "video 1/1 (168/4362) D:\\Predict\\test_video.mp4: 384x640 1 person, 5.0ms\n",
      "video 1/1 (169/4362) D:\\Predict\\test_video.mp4: 384x640 1 person, 11.0ms\n",
      "video 1/1 (170/4362) D:\\Predict\\test_video.mp4: 384x640 1 person, 10.0ms\n",
      "video 1/1 (171/4362) D:\\Predict\\test_video.mp4: 384x640 (no detections), 9.0ms\n",
      "video 1/1 (172/4362) D:\\Predict\\test_video.mp4: 384x640 1 person, 8.0ms\n",
      "video 1/1 (173/4362) D:\\Predict\\test_video.mp4: 384x640 1 person, 8.0ms\n",
      "video 1/1 (174/4362) D:\\Predict\\test_video.mp4: 384x640 1 person, 5.0ms\n",
      "video 1/1 (175/4362) D:\\Predict\\test_video.mp4: 384x640 1 person, 7.0ms\n",
      "video 1/1 (176/4362) D:\\Predict\\test_video.mp4: 384x640 1 guns, 1 person, 8.0ms\n",
      "video 1/1 (177/4362) D:\\Predict\\test_video.mp4: 384x640 1 guns, 1 person, 8.0ms\n",
      "video 1/1 (178/4362) D:\\Predict\\test_video.mp4: 384x640 1 guns, 1 person, 5.0ms\n",
      "video 1/1 (179/4362) D:\\Predict\\test_video.mp4: 384x640 1 guns, 1 person, 5.0ms\n",
      "video 1/1 (180/4362) D:\\Predict\\test_video.mp4: 384x640 1 person, 6.0ms\n",
      "video 1/1 (181/4362) D:\\Predict\\test_video.mp4: 384x640 1 person, 6.0ms\n",
      "video 1/1 (182/4362) D:\\Predict\\test_video.mp4: 384x640 1 person, 6.0ms\n",
      "video 1/1 (183/4362) D:\\Predict\\test_video.mp4: 384x640 1 person, 5.0ms\n",
      "video 1/1 (184/4362) D:\\Predict\\test_video.mp4: 384x640 1 person, 6.0ms\n",
      "video 1/1 (185/4362) D:\\Predict\\test_video.mp4: 384x640 1 person, 5.0ms\n",
      "video 1/1 (186/4362) D:\\Predict\\test_video.mp4: 384x640 1 person, 5.0ms\n",
      "video 1/1 (187/4362) D:\\Predict\\test_video.mp4: 384x640 1 person, 6.0ms\n",
      "video 1/1 (188/4362) D:\\Predict\\test_video.mp4: 384x640 1 person, 6.0ms\n",
      "video 1/1 (189/4362) D:\\Predict\\test_video.mp4: 384x640 1 person, 6.0ms\n",
      "video 1/1 (190/4362) D:\\Predict\\test_video.mp4: 384x640 1 person, 5.0ms\n",
      "video 1/1 (191/4362) D:\\Predict\\test_video.mp4: 384x640 1 person, 5.0ms\n",
      "video 1/1 (192/4362) D:\\Predict\\test_video.mp4: 384x640 1 person, 5.0ms\n",
      "video 1/1 (193/4362) D:\\Predict\\test_video.mp4: 384x640 1 person, 5.0ms\n",
      "video 1/1 (194/4362) D:\\Predict\\test_video.mp4: 384x640 1 person, 5.0ms\n",
      "video 1/1 (195/4362) D:\\Predict\\test_video.mp4: 384x640 1 person, 5.0ms\n",
      "video 1/1 (196/4362) D:\\Predict\\test_video.mp4: 384x640 1 person, 5.0ms\n",
      "video 1/1 (197/4362) D:\\Predict\\test_video.mp4: 384x640 1 person, 5.0ms\n",
      "video 1/1 (198/4362) D:\\Predict\\test_video.mp4: 384x640 1 person, 5.0ms\n",
      "video 1/1 (199/4362) D:\\Predict\\test_video.mp4: 384x640 1 person, 5.0ms\n",
      "video 1/1 (200/4362) D:\\Predict\\test_video.mp4: 384x640 (no detections), 5.0ms\n",
      "video 1/1 (201/4362) D:\\Predict\\test_video.mp4: 384x640 (no detections), 5.0ms\n",
      "video 1/1 (202/4362) D:\\Predict\\test_video.mp4: 384x640 (no detections), 6.0ms\n",
      "video 1/1 (203/4362) D:\\Predict\\test_video.mp4: 384x640 (no detections), 5.0ms\n",
      "video 1/1 (204/4362) D:\\Predict\\test_video.mp4: 384x640 1 guns, 1 person, 5.0ms\n",
      "video 1/1 (205/4362) D:\\Predict\\test_video.mp4: 384x640 1 guns, 1 person, 5.0ms\n",
      "video 1/1 (206/4362) D:\\Predict\\test_video.mp4: 384x640 1 guns, 1 person, 5.0ms\n",
      "video 1/1 (207/4362) D:\\Predict\\test_video.mp4: 384x640 1 guns, 1 person, 5.0ms\n",
      "video 1/1 (208/4362) D:\\Predict\\test_video.mp4: 384x640 1 guns, 1 person, 5.0ms\n",
      "video 1/1 (209/4362) D:\\Predict\\test_video.mp4: 384x640 1 guns, 1 person, 5.0ms\n",
      "video 1/1 (210/4362) D:\\Predict\\test_video.mp4: 384x640 1 guns, 1 person, 5.0ms\n",
      "video 1/1 (211/4362) D:\\Predict\\test_video.mp4: 384x640 1 guns, 1 person, 6.0ms\n",
      "video 1/1 (212/4362) D:\\Predict\\test_video.mp4: 384x640 1 guns, 1 person, 5.0ms\n",
      "video 1/1 (213/4362) D:\\Predict\\test_video.mp4: 384x640 1 guns, 1 person, 6.0ms\n",
      "video 1/1 (214/4362) D:\\Predict\\test_video.mp4: 384x640 1 guns, 1 person, 5.0ms\n",
      "video 1/1 (215/4362) D:\\Predict\\test_video.mp4: 384x640 1 guns, 1 person, 5.0ms\n",
      "video 1/1 (216/4362) D:\\Predict\\test_video.mp4: 384x640 1 person, 6.0ms\n",
      "video 1/1 (217/4362) D:\\Predict\\test_video.mp4: 384x640 1 person, 7.0ms\n",
      "video 1/1 (218/4362) D:\\Predict\\test_video.mp4: 384x640 1 person, 7.0ms\n",
      "video 1/1 (219/4362) D:\\Predict\\test_video.mp4: 384x640 1 person, 8.0ms\n",
      "video 1/1 (220/4362) D:\\Predict\\test_video.mp4: 384x640 1 person, 6.0ms\n",
      "video 1/1 (221/4362) D:\\Predict\\test_video.mp4: 384x640 1 person, 7.0ms\n",
      "video 1/1 (222/4362) D:\\Predict\\test_video.mp4: 384x640 1 person, 6.0ms\n",
      "video 1/1 (223/4362) D:\\Predict\\test_video.mp4: 384x640 1 person, 5.0ms\n",
      "video 1/1 (224/4362) D:\\Predict\\test_video.mp4: 384x640 1 person, 7.0ms\n",
      "video 1/1 (225/4362) D:\\Predict\\test_video.mp4: 384x640 1 person, 6.0ms\n",
      "video 1/1 (226/4362) D:\\Predict\\test_video.mp4: 384x640 1 guns, 1 person, 6.0ms\n",
      "video 1/1 (227/4362) D:\\Predict\\test_video.mp4: 384x640 1 guns, 1 person, 6.0ms\n",
      "video 1/1 (228/4362) D:\\Predict\\test_video.mp4: 384x640 1 person, 6.0ms\n",
      "video 1/1 (229/4362) D:\\Predict\\test_video.mp4: 384x640 1 person, 6.0ms\n",
      "video 1/1 (230/4362) D:\\Predict\\test_video.mp4: 384x640 1 guns, 1 person, 5.0ms\n",
      "video 1/1 (231/4362) D:\\Predict\\test_video.mp4: 384x640 1 guns, 1 person, 6.0ms\n",
      "video 1/1 (232/4362) D:\\Predict\\test_video.mp4: 384x640 1 guns, 1 person, 6.0ms\n",
      "video 1/1 (233/4362) D:\\Predict\\test_video.mp4: 384x640 2 gunss, 1 person, 6.0ms\n",
      "video 1/1 (234/4362) D:\\Predict\\test_video.mp4: 384x640 1 guns, 1 person, 5.0ms\n",
      "video 1/1 (235/4362) D:\\Predict\\test_video.mp4: 384x640 1 guns, 1 person, 6.0ms\n",
      "video 1/1 (236/4362) D:\\Predict\\test_video.mp4: 384x640 1 guns, 1 person, 7.0ms\n",
      "video 1/1 (237/4362) D:\\Predict\\test_video.mp4: 384x640 1 guns, 1 person, 6.0ms\n",
      "video 1/1 (238/4362) D:\\Predict\\test_video.mp4: 384x640 1 guns, 1 person, 6.0ms\n",
      "video 1/1 (239/4362) D:\\Predict\\test_video.mp4: 384x640 1 person, 7.0ms\n",
      "video 1/1 (240/4362) D:\\Predict\\test_video.mp4: 384x640 1 guns, 1 person, 5.0ms\n",
      "video 1/1 (241/4362) D:\\Predict\\test_video.mp4: 384x640 1 person, 6.0ms\n",
      "video 1/1 (242/4362) D:\\Predict\\test_video.mp4: 384x640 1 person, 7.0ms\n",
      "video 1/1 (243/4362) D:\\Predict\\test_video.mp4: 384x640 1 person, 6.0ms\n",
      "video 1/1 (244/4362) D:\\Predict\\test_video.mp4: 384x640 1 person, 6.0ms\n",
      "video 1/1 (245/4362) D:\\Predict\\test_video.mp4: 384x640 1 guns, 1 person, 6.0ms\n",
      "video 1/1 (246/4362) D:\\Predict\\test_video.mp4: 384x640 1 guns, 1 person, 6.0ms\n",
      "video 1/1 (247/4362) D:\\Predict\\test_video.mp4: 384x640 1 guns, 1 person, 5.0ms\n",
      "video 1/1 (248/4362) D:\\Predict\\test_video.mp4: 384x640 1 guns, 1 person, 5.0ms\n",
      "video 1/1 (249/4362) D:\\Predict\\test_video.mp4: 384x640 1 guns, 1 person, 5.0ms\n",
      "video 1/1 (250/4362) D:\\Predict\\test_video.mp4: 384x640 1 guns, 1 person, 6.0ms\n",
      "video 1/1 (251/4362) D:\\Predict\\test_video.mp4: 384x640 1 guns, 1 person, 5.0ms\n",
      "video 1/1 (252/4362) D:\\Predict\\test_video.mp4: 384x640 1 guns, 1 person, 6.0ms\n",
      "video 1/1 (253/4362) D:\\Predict\\test_video.mp4: 384x640 1 guns, 1 person, 5.0ms\n",
      "video 1/1 (254/4362) D:\\Predict\\test_video.mp4: 384x640 1 guns, 1 person, 6.0ms\n",
      "video 1/1 (255/4362) D:\\Predict\\test_video.mp4: 384x640 1 guns, 1 person, 6.0ms\n",
      "video 1/1 (256/4362) D:\\Predict\\test_video.mp4: 384x640 1 guns, 1 person, 6.0ms\n",
      "video 1/1 (257/4362) D:\\Predict\\test_video.mp4: 384x640 1 guns, 1 person, 5.0ms\n",
      "video 1/1 (258/4362) D:\\Predict\\test_video.mp4: 384x640 1 guns, 1 person, 5.0ms\n",
      "video 1/1 (259/4362) D:\\Predict\\test_video.mp4: 384x640 1 guns, 1 person, 6.0ms\n",
      "video 1/1 (260/4362) D:\\Predict\\test_video.mp4: 384x640 1 guns, 1 person, 5.0ms\n",
      "video 1/1 (261/4362) D:\\Predict\\test_video.mp4: 384x640 1 guns, 1 person, 5.0ms\n",
      "video 1/1 (262/4362) D:\\Predict\\test_video.mp4: 384x640 1 guns, 1 person, 5.0ms\n",
      "video 1/1 (263/4362) D:\\Predict\\test_video.mp4: 384x640 1 guns, 1 person, 6.0ms\n",
      "video 1/1 (264/4362) D:\\Predict\\test_video.mp4: 384x640 1 guns, 1 person, 5.0ms\n",
      "video 1/1 (265/4362) D:\\Predict\\test_video.mp4: 384x640 1 guns, 1 person, 5.0ms\n",
      "video 1/1 (266/4362) D:\\Predict\\test_video.mp4: 384x640 1 person, 5.0ms\n",
      "video 1/1 (267/4362) D:\\Predict\\test_video.mp4: 384x640 1 guns, 1 person, 5.0ms\n",
      "video 1/1 (268/4362) D:\\Predict\\test_video.mp4: 384x640 1 guns, 1 person, 5.0ms\n",
      "video 1/1 (269/4362) D:\\Predict\\test_video.mp4: 384x640 1 guns, 1 person, 6.0ms\n",
      "video 1/1 (270/4362) D:\\Predict\\test_video.mp4: 384x640 1 guns, 1 person, 6.0ms\n",
      "video 1/1 (271/4362) D:\\Predict\\test_video.mp4: 384x640 1 guns, 1 person, 6.0ms\n",
      "video 1/1 (272/4362) D:\\Predict\\test_video.mp4: 384x640 1 person, 5.0ms\n",
      "video 1/1 (273/4362) D:\\Predict\\test_video.mp4: 384x640 1 person, 6.0ms\n",
      "video 1/1 (274/4362) D:\\Predict\\test_video.mp4: 384x640 1 person, 5.0ms\n",
      "video 1/1 (275/4362) D:\\Predict\\test_video.mp4: 384x640 1 person, 8.0ms\n",
      "video 1/1 (276/4362) D:\\Predict\\test_video.mp4: 384x640 1 guns, 1 person, 6.0ms\n",
      "video 1/1 (277/4362) D:\\Predict\\test_video.mp4: 384x640 1 guns, 1 person, 7.0ms\n",
      "video 1/1 (278/4362) D:\\Predict\\test_video.mp4: 384x640 1 guns, 1 person, 6.0ms\n",
      "video 1/1 (279/4362) D:\\Predict\\test_video.mp4: 384x640 1 guns, 1 person, 5.0ms\n",
      "video 1/1 (280/4362) D:\\Predict\\test_video.mp4: 384x640 1 guns, 1 person, 6.0ms\n",
      "video 1/1 (281/4362) D:\\Predict\\test_video.mp4: 384x640 1 guns, 1 person, 5.0ms\n",
      "video 1/1 (282/4362) D:\\Predict\\test_video.mp4: 384x640 1 person, 6.0ms\n",
      "video 1/1 (283/4362) D:\\Predict\\test_video.mp4: 384x640 1 person, 7.0ms\n",
      "video 1/1 (284/4362) D:\\Predict\\test_video.mp4: 384x640 1 person, 5.0ms\n",
      "video 1/1 (285/4362) D:\\Predict\\test_video.mp4: 384x640 (no detections), 6.0ms\n",
      "video 1/1 (286/4362) D:\\Predict\\test_video.mp4: 384x640 (no detections), 6.0ms\n",
      "video 1/1 (287/4362) D:\\Predict\\test_video.mp4: 384x640 (no detections), 7.0ms\n",
      "video 1/1 (288/4362) D:\\Predict\\test_video.mp4: 384x640 (no detections), 5.0ms\n",
      "video 1/1 (289/4362) D:\\Predict\\test_video.mp4: 384x640 (no detections), 6.0ms\n",
      "video 1/1 (290/4362) D:\\Predict\\test_video.mp4: 384x640 (no detections), 23.0ms\n",
      "video 1/1 (291/4362) D:\\Predict\\test_video.mp4: 384x640 1 person, 10.0ms\n",
      "video 1/1 (292/4362) D:\\Predict\\test_video.mp4: 384x640 1 person, 6.0ms\n",
      "video 1/1 (293/4362) D:\\Predict\\test_video.mp4: 384x640 (no detections), 6.0ms\n",
      "video 1/1 (294/4362) D:\\Predict\\test_video.mp4: 384x640 (no detections), 17.0ms\n",
      "video 1/1 (295/4362) D:\\Predict\\test_video.mp4: 384x640 (no detections), 5.0ms\n",
      "video 1/1 (296/4362) D:\\Predict\\test_video.mp4: 384x640 (no detections), 7.0ms\n",
      "video 1/1 (297/4362) D:\\Predict\\test_video.mp4: 384x640 (no detections), 5.0ms\n",
      "video 1/1 (298/4362) D:\\Predict\\test_video.mp4: 384x640 (no detections), 7.0ms\n",
      "video 1/1 (299/4362) D:\\Predict\\test_video.mp4: 384x640 (no detections), 6.0ms\n",
      "video 1/1 (300/4362) D:\\Predict\\test_video.mp4: 384x640 1 guns, 7.0ms\n",
      "video 1/1 (301/4362) D:\\Predict\\test_video.mp4: 384x640 (no detections), 9.0ms\n",
      "video 1/1 (302/4362) D:\\Predict\\test_video.mp4: 384x640 1 guns, 7.0ms\n",
      "video 1/1 (303/4362) D:\\Predict\\test_video.mp4: 384x640 1 person, 9.0ms\n",
      "video 1/1 (304/4362) D:\\Predict\\test_video.mp4: 384x640 1 person, 6.0ms\n",
      "video 1/1 (305/4362) D:\\Predict\\test_video.mp4: 384x640 1 person, 10.0ms\n",
      "video 1/1 (306/4362) D:\\Predict\\test_video.mp4: 384x640 1 person, 7.0ms\n",
      "video 1/1 (307/4362) D:\\Predict\\test_video.mp4: 384x640 1 person, 8.0ms\n",
      "video 1/1 (308/4362) D:\\Predict\\test_video.mp4: 384x640 1 person, 7.0ms\n",
      "video 1/1 (309/4362) D:\\Predict\\test_video.mp4: 384x640 1 person, 8.0ms\n",
      "video 1/1 (310/4362) D:\\Predict\\test_video.mp4: 384x640 1 person, 7.0ms\n",
      "video 1/1 (311/4362) D:\\Predict\\test_video.mp4: 384x640 1 person, 8.0ms\n",
      "video 1/1 (312/4362) D:\\Predict\\test_video.mp4: 384x640 1 person, 8.0ms\n",
      "video 1/1 (313/4362) D:\\Predict\\test_video.mp4: 384x640 (no detections), 10.0ms\n",
      "video 1/1 (314/4362) D:\\Predict\\test_video.mp4: 384x640 (no detections), 6.0ms\n",
      "video 1/1 (315/4362) D:\\Predict\\test_video.mp4: 384x640 (no detections), 8.0ms\n",
      "video 1/1 (316/4362) D:\\Predict\\test_video.mp4: 384x640 1 person, 7.0ms\n",
      "video 1/1 (317/4362) D:\\Predict\\test_video.mp4: 384x640 1 person, 8.0ms\n",
      "video 1/1 (318/4362) D:\\Predict\\test_video.mp4: 384x640 1 person, 6.0ms\n",
      "video 1/1 (319/4362) D:\\Predict\\test_video.mp4: 384x640 1 person, 11.0ms\n",
      "video 1/1 (320/4362) D:\\Predict\\test_video.mp4: 384x640 1 person, 8.0ms\n",
      "video 1/1 (321/4362) D:\\Predict\\test_video.mp4: 384x640 1 person, 7.0ms\n",
      "video 1/1 (322/4362) D:\\Predict\\test_video.mp4: 384x640 1 person, 7.0ms\n",
      "video 1/1 (323/4362) D:\\Predict\\test_video.mp4: 384x640 1 person, 7.0ms\n",
      "video 1/1 (324/4362) D:\\Predict\\test_video.mp4: 384x640 1 person, 6.0ms\n",
      "video 1/1 (325/4362) D:\\Predict\\test_video.mp4: 384x640 1 person, 6.0ms\n",
      "video 1/1 (326/4362) D:\\Predict\\test_video.mp4: 384x640 1 person, 7.0ms\n",
      "video 1/1 (327/4362) D:\\Predict\\test_video.mp4: 384x640 1 person, 8.0ms\n",
      "video 1/1 (328/4362) D:\\Predict\\test_video.mp4: 384x640 1 person, 6.0ms\n",
      "video 1/1 (329/4362) D:\\Predict\\test_video.mp4: 384x640 1 person, 9.0ms\n",
      "video 1/1 (330/4362) D:\\Predict\\test_video.mp4: 384x640 1 person, 8.0ms\n",
      "video 1/1 (331/4362) D:\\Predict\\test_video.mp4: 384x640 1 person, 9.0ms\n",
      "video 1/1 (332/4362) D:\\Predict\\test_video.mp4: 384x640 1 person, 8.0ms\n",
      "video 1/1 (333/4362) D:\\Predict\\test_video.mp4: 384x640 2 gunss, 1 person, 6.0ms\n",
      "video 1/1 (334/4362) D:\\Predict\\test_video.mp4: 384x640 1 guns, 7.0ms\n",
      "video 1/1 (335/4362) D:\\Predict\\test_video.mp4: 384x640 (no detections), 6.0ms\n",
      "video 1/1 (336/4362) D:\\Predict\\test_video.mp4: 384x640 1 guns, 7.0ms\n",
      "video 1/1 (337/4362) D:\\Predict\\test_video.mp4: 384x640 1 guns, 8.0ms\n",
      "video 1/1 (338/4362) D:\\Predict\\test_video.mp4: 384x640 1 guns, 15.0ms\n",
      "video 1/1 (339/4362) D:\\Predict\\test_video.mp4: 384x640 1 guns, 10.0ms\n",
      "video 1/1 (340/4362) D:\\Predict\\test_video.mp4: 384x640 1 guns, 23.0ms\n",
      "video 1/1 (341/4362) D:\\Predict\\test_video.mp4: 384x640 1 guns, 8.0ms\n",
      "video 1/1 (342/4362) D:\\Predict\\test_video.mp4: 384x640 1 guns, 11.0ms\n",
      "video 1/1 (343/4362) D:\\Predict\\test_video.mp4: 384x640 (no detections), 17.0ms\n",
      "video 1/1 (344/4362) D:\\Predict\\test_video.mp4: 384x640 1 person, 13.0ms\n",
      "video 1/1 (345/4362) D:\\Predict\\test_video.mp4: 384x640 1 person, 15.0ms\n",
      "video 1/1 (346/4362) D:\\Predict\\test_video.mp4: 384x640 1 person, 10.0ms\n",
      "video 1/1 (347/4362) D:\\Predict\\test_video.mp4: 384x640 1 person, 8.0ms\n",
      "video 1/1 (348/4362) D:\\Predict\\test_video.mp4: 384x640 1 person, 17.0ms\n",
      "video 1/1 (349/4362) D:\\Predict\\test_video.mp4: 384x640 1 person, 9.0ms\n",
      "video 1/1 (350/4362) D:\\Predict\\test_video.mp4: 384x640 1 person, 12.0ms\n",
      "video 1/1 (351/4362) D:\\Predict\\test_video.mp4: 384x640 1 person, 19.0ms\n",
      "video 1/1 (352/4362) D:\\Predict\\test_video.mp4: 384x640 1 person, 8.0ms\n",
      "video 1/1 (353/4362) D:\\Predict\\test_video.mp4: 384x640 1 person, 6.5ms\n",
      "video 1/1 (354/4362) D:\\Predict\\test_video.mp4: 384x640 1 person, 8.0ms\n",
      "video 1/1 (355/4362) D:\\Predict\\test_video.mp4: 384x640 1 person, 18.0ms\n",
      "video 1/1 (356/4362) D:\\Predict\\test_video.mp4: 384x640 1 guns, 1 person, 6.0ms\n",
      "video 1/1 (357/4362) D:\\Predict\\test_video.mp4: 384x640 1 person, 6.0ms\n",
      "video 1/1 (358/4362) D:\\Predict\\test_video.mp4: 384x640 1 person, 19.0ms\n",
      "video 1/1 (359/4362) D:\\Predict\\test_video.mp4: 384x640 1 person, 6.0ms\n",
      "video 1/1 (360/4362) D:\\Predict\\test_video.mp4: 384x640 1 person, 11.0ms\n",
      "video 1/1 (361/4362) D:\\Predict\\test_video.mp4: 384x640 1 person, 7.0ms\n",
      "video 1/1 (362/4362) D:\\Predict\\test_video.mp4: 384x640 1 person, 12.0ms\n",
      "video 1/1 (363/4362) D:\\Predict\\test_video.mp4: 384x640 1 person, 7.0ms\n",
      "video 1/1 (364/4362) D:\\Predict\\test_video.mp4: 384x640 1 person, 17.0ms\n",
      "video 1/1 (365/4362) D:\\Predict\\test_video.mp4: 384x640 1 person, 12.0ms\n",
      "video 1/1 (366/4362) D:\\Predict\\test_video.mp4: 384x640 1 person, 17.0ms\n",
      "video 1/1 (367/4362) D:\\Predict\\test_video.mp4: 384x640 1 person, 15.0ms\n",
      "video 1/1 (368/4362) D:\\Predict\\test_video.mp4: 384x640 1 person, 7.0ms\n",
      "video 1/1 (369/4362) D:\\Predict\\test_video.mp4: 384x640 1 person, 11.0ms\n",
      "video 1/1 (370/4362) D:\\Predict\\test_video.mp4: 384x640 1 person, 12.0ms\n",
      "video 1/1 (371/4362) D:\\Predict\\test_video.mp4: 384x640 1 person, 7.0ms\n",
      "video 1/1 (372/4362) D:\\Predict\\test_video.mp4: 384x640 1 person, 10.0ms\n",
      "video 1/1 (373/4362) D:\\Predict\\test_video.mp4: 384x640 1 person, 12.0ms\n",
      "video 1/1 (374/4362) D:\\Predict\\test_video.mp4: 384x640 1 person, 8.0ms\n",
      "video 1/1 (375/4362) D:\\Predict\\test_video.mp4: 384x640 1 person, 16.0ms\n",
      "video 1/1 (376/4362) D:\\Predict\\test_video.mp4: 384x640 1 person, 6.0ms\n",
      "video 1/1 (377/4362) D:\\Predict\\test_video.mp4: 384x640 1 person, 7.0ms\n",
      "video 1/1 (378/4362) D:\\Predict\\test_video.mp4: 384x640 1 person, 6.9ms\n",
      "video 1/1 (379/4362) D:\\Predict\\test_video.mp4: 384x640 1 person, 7.0ms\n",
      "video 1/1 (380/4362) D:\\Predict\\test_video.mp4: 384x640 1 person, 23.0ms\n",
      "video 1/1 (381/4362) D:\\Predict\\test_video.mp4: 384x640 1 person, 27.0ms\n",
      "video 1/1 (382/4362) D:\\Predict\\test_video.mp4: 384x640 1 person, 7.0ms\n",
      "video 1/1 (383/4362) D:\\Predict\\test_video.mp4: 384x640 1 person, 22.0ms\n",
      "video 1/1 (384/4362) D:\\Predict\\test_video.mp4: 384x640 1 person, 6.0ms\n",
      "video 1/1 (385/4362) D:\\Predict\\test_video.mp4: 384x640 1 person, 6.0ms\n",
      "video 1/1 (386/4362) D:\\Predict\\test_video.mp4: 384x640 1 person, 11.0ms\n",
      "video 1/1 (387/4362) D:\\Predict\\test_video.mp4: 384x640 1 person, 6.0ms\n",
      "video 1/1 (388/4362) D:\\Predict\\test_video.mp4: 384x640 1 person, 9.0ms\n",
      "video 1/1 (389/4362) D:\\Predict\\test_video.mp4: 384x640 1 person, 21.0ms\n",
      "video 1/1 (390/4362) D:\\Predict\\test_video.mp4: 384x640 1 person, 18.0ms\n",
      "video 1/1 (391/4362) D:\\Predict\\test_video.mp4: 384x640 1 person, 6.0ms\n",
      "video 1/1 (392/4362) D:\\Predict\\test_video.mp4: 384x640 1 person, 7.0ms\n",
      "video 1/1 (393/4362) D:\\Predict\\test_video.mp4: 384x640 1 person, 6.0ms\n",
      "video 1/1 (394/4362) D:\\Predict\\test_video.mp4: 384x640 1 person, 19.0ms\n",
      "video 1/1 (395/4362) D:\\Predict\\test_video.mp4: 384x640 1 person, 7.0ms\n",
      "video 1/1 (396/4362) D:\\Predict\\test_video.mp4: 384x640 1 person, 5.0ms\n",
      "video 1/1 (397/4362) D:\\Predict\\test_video.mp4: 384x640 1 person, 7.0ms\n",
      "video 1/1 (398/4362) D:\\Predict\\test_video.mp4: 384x640 1 person, 5.0ms\n",
      "video 1/1 (399/4362) D:\\Predict\\test_video.mp4: 384x640 1 person, 6.0ms\n",
      "video 1/1 (400/4362) D:\\Predict\\test_video.mp4: 384x640 1 person, 7.0ms\n",
      "video 1/1 (401/4362) D:\\Predict\\test_video.mp4: 384x640 1 person, 7.0ms\n",
      "video 1/1 (402/4362) D:\\Predict\\test_video.mp4: 384x640 1 person, 6.0ms\n",
      "video 1/1 (403/4362) D:\\Predict\\test_video.mp4: 384x640 1 person, 6.0ms\n",
      "video 1/1 (404/4362) D:\\Predict\\test_video.mp4: 384x640 1 person, 6.0ms\n",
      "video 1/1 (405/4362) D:\\Predict\\test_video.mp4: 384x640 1 person, 7.0ms\n",
      "video 1/1 (406/4362) D:\\Predict\\test_video.mp4: 384x640 1 person, 6.0ms\n",
      "video 1/1 (407/4362) D:\\Predict\\test_video.mp4: 384x640 1 person, 6.0ms\n",
      "video 1/1 (408/4362) D:\\Predict\\test_video.mp4: 384x640 1 person, 6.0ms\n",
      "video 1/1 (409/4362) D:\\Predict\\test_video.mp4: 384x640 1 person, 7.0ms\n",
      "video 1/1 (410/4362) D:\\Predict\\test_video.mp4: 384x640 1 person, 9.0ms\n",
      "video 1/1 (411/4362) D:\\Predict\\test_video.mp4: 384x640 1 person, 9.0ms\n",
      "video 1/1 (412/4362) D:\\Predict\\test_video.mp4: 384x640 1 person, 8.0ms\n",
      "video 1/1 (413/4362) D:\\Predict\\test_video.mp4: 384x640 1 person, 7.0ms\n",
      "video 1/1 (414/4362) D:\\Predict\\test_video.mp4: 384x640 1 person, 8.0ms\n",
      "video 1/1 (415/4362) D:\\Predict\\test_video.mp4: 384x640 1 person, 6.0ms\n",
      "video 1/1 (416/4362) D:\\Predict\\test_video.mp4: 384x640 1 person, 8.0ms\n",
      "video 1/1 (417/4362) D:\\Predict\\test_video.mp4: 384x640 1 person, 7.0ms\n",
      "video 1/1 (418/4362) D:\\Predict\\test_video.mp4: 384x640 1 person, 9.0ms\n",
      "video 1/1 (419/4362) D:\\Predict\\test_video.mp4: 384x640 1 person, 7.0ms\n",
      "video 1/1 (420/4362) D:\\Predict\\test_video.mp4: 384x640 1 person, 8.0ms\n",
      "video 1/1 (421/4362) D:\\Predict\\test_video.mp4: 384x640 1 person, 7.0ms\n",
      "video 1/1 (422/4362) D:\\Predict\\test_video.mp4: 384x640 1 person, 10.0ms\n",
      "video 1/1 (423/4362) D:\\Predict\\test_video.mp4: 384x640 1 person, 10.0ms\n",
      "video 1/1 (424/4362) D:\\Predict\\test_video.mp4: 384x640 1 person, 7.0ms\n",
      "video 1/1 (425/4362) D:\\Predict\\test_video.mp4: 384x640 1 person, 7.0ms\n",
      "video 1/1 (426/4362) D:\\Predict\\test_video.mp4: 384x640 1 person, 7.0ms\n",
      "video 1/1 (427/4362) D:\\Predict\\test_video.mp4: 384x640 1 person, 6.0ms\n",
      "video 1/1 (428/4362) D:\\Predict\\test_video.mp4: 384x640 1 person, 8.0ms\n",
      "video 1/1 (429/4362) D:\\Predict\\test_video.mp4: 384x640 1 person, 7.0ms\n",
      "video 1/1 (430/4362) D:\\Predict\\test_video.mp4: 384x640 1 person, 9.0ms\n",
      "video 1/1 (431/4362) D:\\Predict\\test_video.mp4: 384x640 1 person, 5.0ms\n",
      "video 1/1 (432/4362) D:\\Predict\\test_video.mp4: 384x640 1 person, 5.0ms\n",
      "video 1/1 (433/4362) D:\\Predict\\test_video.mp4: 384x640 1 person, 9.0ms\n",
      "video 1/1 (434/4362) D:\\Predict\\test_video.mp4: 384x640 1 person, 7.0ms\n",
      "video 1/1 (435/4362) D:\\Predict\\test_video.mp4: 384x640 1 person, 8.0ms\n",
      "video 1/1 (436/4362) D:\\Predict\\test_video.mp4: 384x640 1 person, 8.0ms\n",
      "video 1/1 (437/4362) D:\\Predict\\test_video.mp4: 384x640 1 person, 20.0ms\n",
      "video 1/1 (438/4362) D:\\Predict\\test_video.mp4: 384x640 1 person, 8.7ms\n",
      "video 1/1 (439/4362) D:\\Predict\\test_video.mp4: 384x640 1 person, 11.0ms\n",
      "video 1/1 (440/4362) D:\\Predict\\test_video.mp4: 384x640 1 person, 8.0ms\n",
      "video 1/1 (441/4362) D:\\Predict\\test_video.mp4: 384x640 1 person, 9.0ms\n",
      "video 1/1 (442/4362) D:\\Predict\\test_video.mp4: 384x640 1 person, 9.0ms\n",
      "video 1/1 (443/4362) D:\\Predict\\test_video.mp4: 384x640 1 person, 9.0ms\n",
      "video 1/1 (444/4362) D:\\Predict\\test_video.mp4: 384x640 1 person, 14.0ms\n",
      "video 1/1 (445/4362) D:\\Predict\\test_video.mp4: 384x640 1 person, 8.0ms\n",
      "video 1/1 (446/4362) D:\\Predict\\test_video.mp4: 384x640 1 person, 23.0ms\n",
      "video 1/1 (447/4362) D:\\Predict\\test_video.mp4: 384x640 1 person, 6.0ms\n",
      "video 1/1 (448/4362) D:\\Predict\\test_video.mp4: 384x640 1 person, 23.0ms\n",
      "video 1/1 (449/4362) D:\\Predict\\test_video.mp4: 384x640 1 person, 19.0ms\n",
      "video 1/1 (450/4362) D:\\Predict\\test_video.mp4: 384x640 1 person, 15.0ms\n",
      "video 1/1 (451/4362) D:\\Predict\\test_video.mp4: 384x640 1 person, 8.0ms\n",
      "video 1/1 (452/4362) D:\\Predict\\test_video.mp4: 384x640 1 person, 24.0ms\n",
      "video 1/1 (453/4362) D:\\Predict\\test_video.mp4: 384x640 1 person, 24.0ms\n",
      "video 1/1 (454/4362) D:\\Predict\\test_video.mp4: 384x640 1 person, 16.0ms\n",
      "video 1/1 (455/4362) D:\\Predict\\test_video.mp4: 384x640 1 person, 14.0ms\n",
      "video 1/1 (456/4362) D:\\Predict\\test_video.mp4: 384x640 1 person, 8.0ms\n",
      "video 1/1 (457/4362) D:\\Predict\\test_video.mp4: 384x640 1 person, 11.0ms\n",
      "video 1/1 (458/4362) D:\\Predict\\test_video.mp4: 384x640 1 person, 6.0ms\n",
      "video 1/1 (459/4362) D:\\Predict\\test_video.mp4: 384x640 1 person, 7.0ms\n",
      "video 1/1 (460/4362) D:\\Predict\\test_video.mp4: 384x640 1 person, 5.0ms\n",
      "video 1/1 (461/4362) D:\\Predict\\test_video.mp4: 384x640 1 person, 8.0ms\n",
      "video 1/1 (462/4362) D:\\Predict\\test_video.mp4: 384x640 1 person, 8.0ms\n",
      "video 1/1 (463/4362) D:\\Predict\\test_video.mp4: 384x640 1 person, 6.0ms\n",
      "video 1/1 (464/4362) D:\\Predict\\test_video.mp4: 384x640 1 person, 6.0ms\n",
      "video 1/1 (465/4362) D:\\Predict\\test_video.mp4: 384x640 1 person, 8.0ms\n",
      "video 1/1 (466/4362) D:\\Predict\\test_video.mp4: 384x640 1 person, 6.0ms\n",
      "video 1/1 (467/4362) D:\\Predict\\test_video.mp4: 384x640 1 person, 6.0ms\n",
      "video 1/1 (468/4362) D:\\Predict\\test_video.mp4: 384x640 1 person, 7.0ms\n",
      "video 1/1 (469/4362) D:\\Predict\\test_video.mp4: 384x640 1 person, 8.0ms\n",
      "video 1/1 (470/4362) D:\\Predict\\test_video.mp4: 384x640 1 person, 10.0ms\n",
      "video 1/1 (471/4362) D:\\Predict\\test_video.mp4: 384x640 1 person, 6.0ms\n",
      "video 1/1 (472/4362) D:\\Predict\\test_video.mp4: 384x640 1 person, 8.0ms\n",
      "video 1/1 (473/4362) D:\\Predict\\test_video.mp4: 384x640 1 person, 10.0ms\n",
      "video 1/1 (474/4362) D:\\Predict\\test_video.mp4: 384x640 1 person, 10.0ms\n",
      "video 1/1 (475/4362) D:\\Predict\\test_video.mp4: 384x640 1 person, 6.0ms\n",
      "video 1/1 (476/4362) D:\\Predict\\test_video.mp4: 384x640 1 person, 7.0ms\n",
      "video 1/1 (477/4362) D:\\Predict\\test_video.mp4: 384x640 1 guns, 1 person, 9.0ms\n",
      "video 1/1 (478/4362) D:\\Predict\\test_video.mp4: 384x640 1 guns, 2 persons, 8.0ms\n",
      "video 1/1 (479/4362) D:\\Predict\\test_video.mp4: 384x640 1 guns, 1 person, 7.0ms\n",
      "video 1/1 (480/4362) D:\\Predict\\test_video.mp4: 384x640 1 guns, 1 person, 7.0ms\n",
      "video 1/1 (481/4362) D:\\Predict\\test_video.mp4: 384x640 1 guns, 2 persons, 7.0ms\n",
      "video 1/1 (482/4362) D:\\Predict\\test_video.mp4: 384x640 1 person, 7.0ms\n",
      "video 1/1 (483/4362) D:\\Predict\\test_video.mp4: 384x640 1 person, 7.0ms\n",
      "video 1/1 (484/4362) D:\\Predict\\test_video.mp4: 384x640 1 person, 8.0ms\n",
      "video 1/1 (485/4362) D:\\Predict\\test_video.mp4: 384x640 1 person, 8.0ms\n",
      "video 1/1 (486/4362) D:\\Predict\\test_video.mp4: 384x640 1 person, 6.0ms\n",
      "video 1/1 (487/4362) D:\\Predict\\test_video.mp4: 384x640 2 persons, 8.0ms\n",
      "video 1/1 (488/4362) D:\\Predict\\test_video.mp4: 384x640 2 persons, 10.0ms\n",
      "video 1/1 (489/4362) D:\\Predict\\test_video.mp4: 384x640 2 persons, 7.0ms\n",
      "video 1/1 (490/4362) D:\\Predict\\test_video.mp4: 384x640 2 persons, 5.0ms\n",
      "video 1/1 (491/4362) D:\\Predict\\test_video.mp4: 384x640 2 persons, 9.0ms\n",
      "video 1/1 (492/4362) D:\\Predict\\test_video.mp4: 384x640 1 person, 7.0ms\n",
      "video 1/1 (493/4362) D:\\Predict\\test_video.mp4: 384x640 2 persons, 7.0ms\n",
      "video 1/1 (494/4362) D:\\Predict\\test_video.mp4: 384x640 2 persons, 9.0ms\n",
      "video 1/1 (495/4362) D:\\Predict\\test_video.mp4: 384x640 2 persons, 7.0ms\n",
      "video 1/1 (496/4362) D:\\Predict\\test_video.mp4: 384x640 2 persons, 11.0ms\n",
      "video 1/1 (497/4362) D:\\Predict\\test_video.mp4: 384x640 2 persons, 15.0ms\n",
      "video 1/1 (498/4362) D:\\Predict\\test_video.mp4: 384x640 2 persons, 20.0ms\n",
      "video 1/1 (499/4362) D:\\Predict\\test_video.mp4: 384x640 2 persons, 7.0ms\n",
      "video 1/1 (500/4362) D:\\Predict\\test_video.mp4: 384x640 2 persons, 18.0ms\n",
      "video 1/1 (501/4362) D:\\Predict\\test_video.mp4: 384x640 2 persons, 22.0ms\n",
      "video 1/1 (502/4362) D:\\Predict\\test_video.mp4: 384x640 2 persons, 20.0ms\n",
      "video 1/1 (503/4362) D:\\Predict\\test_video.mp4: 384x640 2 persons, 26.0ms\n",
      "video 1/1 (504/4362) D:\\Predict\\test_video.mp4: 384x640 2 persons, 12.0ms\n",
      "video 1/1 (505/4362) D:\\Predict\\test_video.mp4: 384x640 2 persons, 17.0ms\n",
      "video 1/1 (506/4362) D:\\Predict\\test_video.mp4: 384x640 2 persons, 20.0ms\n",
      "video 1/1 (507/4362) D:\\Predict\\test_video.mp4: 384x640 2 persons, 7.0ms\n",
      "video 1/1 (508/4362) D:\\Predict\\test_video.mp4: 384x640 2 persons, 10.0ms\n",
      "video 1/1 (509/4362) D:\\Predict\\test_video.mp4: 384x640 2 persons, 11.0ms\n",
      "video 1/1 (510/4362) D:\\Predict\\test_video.mp4: 384x640 2 persons, 22.0ms\n",
      "video 1/1 (511/4362) D:\\Predict\\test_video.mp4: 384x640 2 persons, 8.0ms\n",
      "video 1/1 (512/4362) D:\\Predict\\test_video.mp4: 384x640 2 persons, 15.0ms\n",
      "video 1/1 (513/4362) D:\\Predict\\test_video.mp4: 384x640 2 persons, 6.0ms\n",
      "video 1/1 (514/4362) D:\\Predict\\test_video.mp4: 384x640 2 persons, 18.0ms\n",
      "video 1/1 (515/4362) D:\\Predict\\test_video.mp4: 384x640 2 persons, 24.0ms\n",
      "video 1/1 (516/4362) D:\\Predict\\test_video.mp4: 384x640 2 persons, 20.0ms\n",
      "video 1/1 (517/4362) D:\\Predict\\test_video.mp4: 384x640 2 persons, 8.0ms\n",
      "video 1/1 (518/4362) D:\\Predict\\test_video.mp4: 384x640 2 persons, 7.0ms\n",
      "video 1/1 (519/4362) D:\\Predict\\test_video.mp4: 384x640 2 persons, 7.0ms\n",
      "video 1/1 (520/4362) D:\\Predict\\test_video.mp4: 384x640 2 persons, 8.0ms\n",
      "video 1/1 (521/4362) D:\\Predict\\test_video.mp4: 384x640 2 persons, 19.0ms\n",
      "video 1/1 (522/4362) D:\\Predict\\test_video.mp4: 384x640 2 persons, 9.0ms\n",
      "video 1/1 (523/4362) D:\\Predict\\test_video.mp4: 384x640 2 persons, 9.0ms\n",
      "video 1/1 (524/4362) D:\\Predict\\test_video.mp4: 384x640 2 persons, 9.0ms\n",
      "video 1/1 (525/4362) D:\\Predict\\test_video.mp4: 384x640 2 persons, 15.0ms\n",
      "video 1/1 (526/4362) D:\\Predict\\test_video.mp4: 384x640 2 persons, 11.0ms\n",
      "video 1/1 (527/4362) D:\\Predict\\test_video.mp4: 384x640 2 persons, 17.0ms\n",
      "video 1/1 (528/4362) D:\\Predict\\test_video.mp4: 384x640 2 persons, 11.0ms\n",
      "video 1/1 (529/4362) D:\\Predict\\test_video.mp4: 384x640 2 persons, 25.0ms\n",
      "video 1/1 (530/4362) D:\\Predict\\test_video.mp4: 384x640 1 person, 10.0ms\n",
      "video 1/1 (531/4362) D:\\Predict\\test_video.mp4: 384x640 2 persons, 8.0ms\n",
      "video 1/1 (532/4362) D:\\Predict\\test_video.mp4: 384x640 2 persons, 8.0ms\n",
      "video 1/1 (533/4362) D:\\Predict\\test_video.mp4: 384x640 2 persons, 9.0ms\n",
      "video 1/1 (534/4362) D:\\Predict\\test_video.mp4: 384x640 2 persons, 8.0ms\n",
      "video 1/1 (535/4362) D:\\Predict\\test_video.mp4: 384x640 1 guns, 1 person, 9.0ms\n",
      "video 1/1 (536/4362) D:\\Predict\\test_video.mp4: 384x640 1 guns, 2 persons, 7.0ms\n",
      "video 1/1 (537/4362) D:\\Predict\\test_video.mp4: 384x640 1 guns, 2 persons, 12.0ms\n",
      "video 1/1 (538/4362) D:\\Predict\\test_video.mp4: 384x640 1 guns, 2 persons, 7.0ms\n",
      "video 1/1 (539/4362) D:\\Predict\\test_video.mp4: 384x640 1 guns, 1 person, 10.0ms\n",
      "video 1/1 (540/4362) D:\\Predict\\test_video.mp4: 384x640 1 person, 8.0ms\n",
      "video 1/1 (541/4362) D:\\Predict\\test_video.mp4: 384x640 1 person, 18.0ms\n",
      "video 1/1 (542/4362) D:\\Predict\\test_video.mp4: 384x640 1 person, 19.0ms\n",
      "video 1/1 (543/4362) D:\\Predict\\test_video.mp4: 384x640 1 guns, 1 person, 23.0ms\n",
      "video 1/1 (544/4362) D:\\Predict\\test_video.mp4: 384x640 1 person, 21.0ms\n",
      "video 1/1 (545/4362) D:\\Predict\\test_video.mp4: 384x640 1 person, 15.0ms\n",
      "video 1/1 (546/4362) D:\\Predict\\test_video.mp4: 384x640 1 guns, 1 person, 21.0ms\n",
      "video 1/1 (547/4362) D:\\Predict\\test_video.mp4: 384x640 1 person, 24.0ms\n",
      "video 1/1 (548/4362) D:\\Predict\\test_video.mp4: 384x640 1 person, 20.0ms\n",
      "video 1/1 (549/4362) D:\\Predict\\test_video.mp4: 384x640 1 person, 18.0ms\n",
      "video 1/1 (550/4362) D:\\Predict\\test_video.mp4: 384x640 1 person, 11.0ms\n",
      "video 1/1 (551/4362) D:\\Predict\\test_video.mp4: 384x640 1 person, 16.0ms\n",
      "video 1/1 (552/4362) D:\\Predict\\test_video.mp4: 384x640 1 person, 18.0ms\n",
      "video 1/1 (553/4362) D:\\Predict\\test_video.mp4: 384x640 1 person, 17.0ms\n",
      "video 1/1 (554/4362) D:\\Predict\\test_video.mp4: 384x640 1 person, 25.0ms\n",
      "video 1/1 (555/4362) D:\\Predict\\test_video.mp4: 384x640 1 person, 27.0ms\n",
      "video 1/1 (556/4362) D:\\Predict\\test_video.mp4: 384x640 1 person, 13.0ms\n",
      "video 1/1 (557/4362) D:\\Predict\\test_video.mp4: 384x640 1 guns, 1 person, 13.0ms\n",
      "video 1/1 (558/4362) D:\\Predict\\test_video.mp4: 384x640 1 person, 20.0ms\n",
      "video 1/1 (559/4362) D:\\Predict\\test_video.mp4: 384x640 1 guns, 1 person, 24.0ms\n",
      "video 1/1 (560/4362) D:\\Predict\\test_video.mp4: 384x640 1 guns, 1 person, 11.0ms\n",
      "video 1/1 (561/4362) D:\\Predict\\test_video.mp4: 384x640 1 guns, 1 person, 9.0ms\n",
      "video 1/1 (562/4362) D:\\Predict\\test_video.mp4: 384x640 1 guns, 1 person, 24.0ms\n",
      "video 1/1 (563/4362) D:\\Predict\\test_video.mp4: 384x640 1 guns, 1 person, 8.0ms\n",
      "video 1/1 (564/4362) D:\\Predict\\test_video.mp4: 384x640 1 guns, 1 person, 20.0ms\n",
      "video 1/1 (565/4362) D:\\Predict\\test_video.mp4: 384x640 1 guns, 1 person, 8.0ms\n",
      "video 1/1 (566/4362) D:\\Predict\\test_video.mp4: 384x640 1 guns, 1 person, 7.0ms\n",
      "video 1/1 (567/4362) D:\\Predict\\test_video.mp4: 384x640 1 guns, 1 person, 19.0ms\n",
      "video 1/1 (568/4362) D:\\Predict\\test_video.mp4: 384x640 1 guns, 1 person, 8.0ms\n",
      "video 1/1 (569/4362) D:\\Predict\\test_video.mp4: 384x640 1 person, 8.0ms\n",
      "video 1/1 (570/4362) D:\\Predict\\test_video.mp4: 384x640 1 guns, 1 person, 9.0ms\n",
      "video 1/1 (571/4362) D:\\Predict\\test_video.mp4: 384x640 1 guns, 1 person, 19.0ms\n",
      "video 1/1 (572/4362) D:\\Predict\\test_video.mp4: 384x640 1 guns, 1 person, 7.0ms\n",
      "video 1/1 (573/4362) D:\\Predict\\test_video.mp4: 384x640 1 guns, 1 person, 17.0ms\n",
      "video 1/1 (574/4362) D:\\Predict\\test_video.mp4: 384x640 1 guns, 1 person, 7.0ms\n",
      "video 1/1 (575/4362) D:\\Predict\\test_video.mp4: 384x640 1 person, 21.0ms\n",
      "video 1/1 (576/4362) D:\\Predict\\test_video.mp4: 384x640 1 person, 9.0ms\n",
      "video 1/1 (577/4362) D:\\Predict\\test_video.mp4: 384x640 1 person, 9.0ms\n",
      "video 1/1 (578/4362) D:\\Predict\\test_video.mp4: 384x640 1 person, 12.0ms\n",
      "video 1/1 (579/4362) D:\\Predict\\test_video.mp4: 384x640 1 person, 24.0ms\n",
      "video 1/1 (580/4362) D:\\Predict\\test_video.mp4: 384x640 1 person, 7.1ms\n",
      "video 1/1 (581/4362) D:\\Predict\\test_video.mp4: 384x640 1 person, 8.0ms\n",
      "video 1/1 (582/4362) D:\\Predict\\test_video.mp4: 384x640 1 person, 10.0ms\n",
      "video 1/1 (583/4362) D:\\Predict\\test_video.mp4: 384x640 1 person, 11.0ms\n",
      "video 1/1 (584/4362) D:\\Predict\\test_video.mp4: 384x640 1 person, 9.0ms\n",
      "video 1/1 (585/4362) D:\\Predict\\test_video.mp4: 384x640 1 person, 8.0ms\n",
      "video 1/1 (586/4362) D:\\Predict\\test_video.mp4: 384x640 1 person, 8.0ms\n",
      "video 1/1 (587/4362) D:\\Predict\\test_video.mp4: 384x640 1 guns, 1 person, 21.0ms\n",
      "video 1/1 (588/4362) D:\\Predict\\test_video.mp4: 384x640 1 guns, 1 person, 27.0ms\n",
      "video 1/1 (589/4362) D:\\Predict\\test_video.mp4: 384x640 1 person, 20.0ms\n",
      "video 1/1 (590/4362) D:\\Predict\\test_video.mp4: 384x640 1 person, 10.0ms\n",
      "video 1/1 (591/4362) D:\\Predict\\test_video.mp4: 384x640 1 guns, 1 person, 9.0ms\n",
      "video 1/1 (592/4362) D:\\Predict\\test_video.mp4: 384x640 1 guns, 1 person, 10.0ms\n",
      "video 1/1 (593/4362) D:\\Predict\\test_video.mp4: 384x640 1 guns, 1 person, 24.0ms\n",
      "video 1/1 (594/4362) D:\\Predict\\test_video.mp4: 384x640 1 guns, 1 person, 27.0ms\n",
      "video 1/1 (595/4362) D:\\Predict\\test_video.mp4: 384x640 1 guns, 1 person, 20.0ms\n",
      "video 1/1 (596/4362) D:\\Predict\\test_video.mp4: 384x640 1 person, 8.0ms\n",
      "video 1/1 (597/4362) D:\\Predict\\test_video.mp4: 384x640 1 person, 13.0ms\n",
      "video 1/1 (598/4362) D:\\Predict\\test_video.mp4: 384x640 1 guns, 1 person, 19.0ms\n",
      "video 1/1 (599/4362) D:\\Predict\\test_video.mp4: 384x640 1 person, 10.0ms\n",
      "video 1/1 (600/4362) D:\\Predict\\test_video.mp4: 384x640 1 person, 25.0ms\n",
      "video 1/1 (601/4362) D:\\Predict\\test_video.mp4: 384x640 1 person, 7.0ms\n",
      "video 1/1 (602/4362) D:\\Predict\\test_video.mp4: 384x640 1 person, 7.0ms\n",
      "video 1/1 (603/4362) D:\\Predict\\test_video.mp4: 384x640 1 person, 19.0ms\n",
      "video 1/1 (604/4362) D:\\Predict\\test_video.mp4: 384x640 1 person, 27.0ms\n",
      "video 1/1 (605/4362) D:\\Predict\\test_video.mp4: 384x640 1 person, 17.0ms\n",
      "video 1/1 (606/4362) D:\\Predict\\test_video.mp4: 384x640 1 person, 7.0ms\n",
      "video 1/1 (607/4362) D:\\Predict\\test_video.mp4: 384x640 1 person, 8.0ms\n",
      "video 1/1 (608/4362) D:\\Predict\\test_video.mp4: 384x640 1 person, 20.0ms\n",
      "video 1/1 (609/4362) D:\\Predict\\test_video.mp4: 384x640 1 person, 23.0ms\n",
      "video 1/1 (610/4362) D:\\Predict\\test_video.mp4: 384x640 1 person, 26.0ms\n",
      "video 1/1 (611/4362) D:\\Predict\\test_video.mp4: 384x640 1 person, 17.0ms\n",
      "video 1/1 (612/4362) D:\\Predict\\test_video.mp4: 384x640 1 person, 7.0ms\n",
      "video 1/1 (613/4362) D:\\Predict\\test_video.mp4: 384x640 1 person, 12.0ms\n",
      "video 1/1 (614/4362) D:\\Predict\\test_video.mp4: 384x640 1 person, 8.0ms\n",
      "video 1/1 (615/4362) D:\\Predict\\test_video.mp4: 384x640 1 person, 8.0ms\n",
      "video 1/1 (616/4362) D:\\Predict\\test_video.mp4: 384x640 1 guns, 1 person, 8.0ms\n",
      "video 1/1 (617/4362) D:\\Predict\\test_video.mp4: 384x640 1 guns, 1 person, 6.0ms\n",
      "video 1/1 (618/4362) D:\\Predict\\test_video.mp4: 384x640 1 guns, 1 person, 8.0ms\n",
      "video 1/1 (619/4362) D:\\Predict\\test_video.mp4: 384x640 1 guns, 1 person, 7.9ms\n",
      "video 1/1 (620/4362) D:\\Predict\\test_video.mp4: 384x640 1 guns, 1 person, 7.0ms\n",
      "video 1/1 (621/4362) D:\\Predict\\test_video.mp4: 384x640 1 guns, 1 person, 9.0ms\n",
      "video 1/1 (622/4362) D:\\Predict\\test_video.mp4: 384x640 1 guns, 1 person, 10.0ms\n",
      "video 1/1 (623/4362) D:\\Predict\\test_video.mp4: 384x640 1 guns, 1 person, 7.0ms\n",
      "video 1/1 (624/4362) D:\\Predict\\test_video.mp4: 384x640 1 guns, 1 person, 7.0ms\n",
      "video 1/1 (625/4362) D:\\Predict\\test_video.mp4: 384x640 1 guns, 1 person, 19.0ms\n",
      "video 1/1 (626/4362) D:\\Predict\\test_video.mp4: 384x640 1 guns, 1 person, 19.0ms\n",
      "video 1/1 (627/4362) D:\\Predict\\test_video.mp4: 384x640 1 guns, 1 person, 16.0ms\n",
      "video 1/1 (628/4362) D:\\Predict\\test_video.mp4: 384x640 1 guns, 1 person, 7.0ms\n",
      "video 1/1 (629/4362) D:\\Predict\\test_video.mp4: 384x640 1 person, 8.0ms\n",
      "video 1/1 (630/4362) D:\\Predict\\test_video.mp4: 384x640 1 person, 8.0ms\n",
      "video 1/1 (631/4362) D:\\Predict\\test_video.mp4: 384x640 1 person, 26.0ms\n",
      "video 1/1 (632/4362) D:\\Predict\\test_video.mp4: 384x640 1 person, 7.0ms\n",
      "video 1/1 (633/4362) D:\\Predict\\test_video.mp4: 384x640 1 person, 21.0ms\n",
      "video 1/1 (634/4362) D:\\Predict\\test_video.mp4: 384x640 1 person, 19.0ms\n",
      "video 1/1 (635/4362) D:\\Predict\\test_video.mp4: 384x640 1 person, 20.0ms\n",
      "video 1/1 (636/4362) D:\\Predict\\test_video.mp4: 384x640 1 person, 8.0ms\n",
      "video 1/1 (637/4362) D:\\Predict\\test_video.mp4: 384x640 1 person, 23.1ms\n",
      "video 1/1 (638/4362) D:\\Predict\\test_video.mp4: 384x640 1 person, 12.0ms\n",
      "video 1/1 (639/4362) D:\\Predict\\test_video.mp4: 384x640 1 person, 24.0ms\n",
      "video 1/1 (640/4362) D:\\Predict\\test_video.mp4: 384x640 1 person, 18.0ms\n",
      "video 1/1 (641/4362) D:\\Predict\\test_video.mp4: 384x640 1 person, 18.0ms\n",
      "video 1/1 (642/4362) D:\\Predict\\test_video.mp4: 384x640 1 person, 9.0ms\n",
      "video 1/1 (643/4362) D:\\Predict\\test_video.mp4: 384x640 1 person, 8.0ms\n",
      "video 1/1 (644/4362) D:\\Predict\\test_video.mp4: 384x640 1 person, 16.0ms\n",
      "video 1/1 (645/4362) D:\\Predict\\test_video.mp4: 384x640 1 person, 7.0ms\n",
      "video 1/1 (646/4362) D:\\Predict\\test_video.mp4: 384x640 1 person, 16.0ms\n",
      "video 1/1 (647/4362) D:\\Predict\\test_video.mp4: 384x640 1 person, 14.0ms\n",
      "video 1/1 (648/4362) D:\\Predict\\test_video.mp4: 384x640 1 person, 6.0ms\n",
      "video 1/1 (649/4362) D:\\Predict\\test_video.mp4: 384x640 1 person, 6.0ms\n",
      "video 1/1 (650/4362) D:\\Predict\\test_video.mp4: 384x640 1 person, 8.0ms\n",
      "video 1/1 (651/4362) D:\\Predict\\test_video.mp4: 384x640 1 person, 9.0ms\n",
      "video 1/1 (652/4362) D:\\Predict\\test_video.mp4: 384x640 1 person, 21.0ms\n",
      "video 1/1 (653/4362) D:\\Predict\\test_video.mp4: 384x640 1 person, 11.0ms\n",
      "video 1/1 (654/4362) D:\\Predict\\test_video.mp4: 384x640 1 person, 10.0ms\n",
      "video 1/1 (655/4362) D:\\Predict\\test_video.mp4: 384x640 1 person, 18.0ms\n",
      "video 1/1 (656/4362) D:\\Predict\\test_video.mp4: 384x640 1 person, 18.0ms\n",
      "video 1/1 (657/4362) D:\\Predict\\test_video.mp4: 384x640 1 person, 7.0ms\n",
      "video 1/1 (658/4362) D:\\Predict\\test_video.mp4: 384x640 1 person, 31.0ms\n",
      "video 1/1 (659/4362) D:\\Predict\\test_video.mp4: 384x640 1 person, 6.0ms\n",
      "video 1/1 (660/4362) D:\\Predict\\test_video.mp4: 384x640 1 person, 6.0ms\n",
      "video 1/1 (661/4362) D:\\Predict\\test_video.mp4: 384x640 1 person, 7.0ms\n",
      "video 1/1 (662/4362) D:\\Predict\\test_video.mp4: 384x640 1 person, 9.0ms\n",
      "video 1/1 (663/4362) D:\\Predict\\test_video.mp4: 384x640 1 person, 9.0ms\n",
      "video 1/1 (664/4362) D:\\Predict\\test_video.mp4: 384x640 1 person, 7.0ms\n",
      "video 1/1 (665/4362) D:\\Predict\\test_video.mp4: 384x640 1 person, 7.0ms\n",
      "video 1/1 (666/4362) D:\\Predict\\test_video.mp4: 384x640 (no detections), 7.0ms\n",
      "video 1/1 (667/4362) D:\\Predict\\test_video.mp4: 384x640 (no detections), 8.0ms\n",
      "video 1/1 (668/4362) D:\\Predict\\test_video.mp4: 384x640 (no detections), 7.0ms\n",
      "video 1/1 (669/4362) D:\\Predict\\test_video.mp4: 384x640 1 person, 8.0ms\n",
      "video 1/1 (670/4362) D:\\Predict\\test_video.mp4: 384x640 (no detections), 7.0ms\n",
      "video 1/1 (671/4362) D:\\Predict\\test_video.mp4: 384x640 (no detections), 7.0ms\n",
      "video 1/1 (672/4362) D:\\Predict\\test_video.mp4: 384x640 (no detections), 9.9ms\n",
      "video 1/1 (673/4362) D:\\Predict\\test_video.mp4: 384x640 (no detections), 7.0ms\n",
      "video 1/1 (674/4362) D:\\Predict\\test_video.mp4: 384x640 (no detections), 6.0ms\n",
      "video 1/1 (675/4362) D:\\Predict\\test_video.mp4: 384x640 1 person, 9.0ms\n",
      "video 1/1 (676/4362) D:\\Predict\\test_video.mp4: 384x640 (no detections), 9.0ms\n",
      "video 1/1 (677/4362) D:\\Predict\\test_video.mp4: 384x640 (no detections), 7.0ms\n",
      "video 1/1 (678/4362) D:\\Predict\\test_video.mp4: 384x640 1 person, 7.0ms\n",
      "video 1/1 (679/4362) D:\\Predict\\test_video.mp4: 384x640 1 person, 9.0ms\n",
      "video 1/1 (680/4362) D:\\Predict\\test_video.mp4: 384x640 1 person, 7.0ms\n",
      "video 1/1 (681/4362) D:\\Predict\\test_video.mp4: 384x640 1 person, 8.0ms\n",
      "video 1/1 (682/4362) D:\\Predict\\test_video.mp4: 384x640 1 person, 9.0ms\n",
      "video 1/1 (683/4362) D:\\Predict\\test_video.mp4: 384x640 1 person, 6.0ms\n",
      "video 1/1 (684/4362) D:\\Predict\\test_video.mp4: 384x640 1 person, 10.0ms\n",
      "video 1/1 (685/4362) D:\\Predict\\test_video.mp4: 384x640 1 person, 6.0ms\n",
      "video 1/1 (686/4362) D:\\Predict\\test_video.mp4: 384x640 1 person, 9.0ms\n",
      "video 1/1 (687/4362) D:\\Predict\\test_video.mp4: 384x640 1 person, 7.0ms\n",
      "video 1/1 (688/4362) D:\\Predict\\test_video.mp4: 384x640 1 person, 9.0ms\n",
      "video 1/1 (689/4362) D:\\Predict\\test_video.mp4: 384x640 1 person, 8.0ms\n",
      "video 1/1 (690/4362) D:\\Predict\\test_video.mp4: 384x640 1 person, 6.0ms\n",
      "video 1/1 (691/4362) D:\\Predict\\test_video.mp4: 384x640 1 person, 6.0ms\n",
      "video 1/1 (692/4362) D:\\Predict\\test_video.mp4: 384x640 1 person, 9.0ms\n",
      "video 1/1 (693/4362) D:\\Predict\\test_video.mp4: 384x640 1 person, 7.0ms\n",
      "video 1/1 (694/4362) D:\\Predict\\test_video.mp4: 384x640 1 person, 8.0ms\n",
      "video 1/1 (695/4362) D:\\Predict\\test_video.mp4: 384x640 1 person, 8.0ms\n",
      "video 1/1 (696/4362) D:\\Predict\\test_video.mp4: 384x640 1 person, 6.0ms\n",
      "video 1/1 (697/4362) D:\\Predict\\test_video.mp4: 384x640 1 person, 10.0ms\n",
      "video 1/1 (698/4362) D:\\Predict\\test_video.mp4: 384x640 1 person, 9.0ms\n",
      "video 1/1 (699/4362) D:\\Predict\\test_video.mp4: 384x640 1 person, 9.0ms\n",
      "video 1/1 (700/4362) D:\\Predict\\test_video.mp4: 384x640 1 person, 9.0ms\n",
      "video 1/1 (701/4362) D:\\Predict\\test_video.mp4: 384x640 1 person, 8.0ms\n",
      "video 1/1 (702/4362) D:\\Predict\\test_video.mp4: 384x640 1 person, 15.0ms\n",
      "video 1/1 (703/4362) D:\\Predict\\test_video.mp4: 384x640 1 person, 8.0ms\n",
      "video 1/1 (704/4362) D:\\Predict\\test_video.mp4: 384x640 1 person, 10.0ms\n",
      "video 1/1 (705/4362) D:\\Predict\\test_video.mp4: 384x640 1 person, 24.0ms\n",
      "video 1/1 (706/4362) D:\\Predict\\test_video.mp4: 384x640 1 person, 7.0ms\n",
      "video 1/1 (707/4362) D:\\Predict\\test_video.mp4: 384x640 1 person, 9.0ms\n",
      "video 1/1 (708/4362) D:\\Predict\\test_video.mp4: 384x640 1 person, 9.0ms\n",
      "video 1/1 (709/4362) D:\\Predict\\test_video.mp4: 384x640 1 person, 11.0ms\n",
      "video 1/1 (710/4362) D:\\Predict\\test_video.mp4: 384x640 1 person, 22.0ms\n",
      "video 1/1 (711/4362) D:\\Predict\\test_video.mp4: 384x640 1 person, 7.0ms\n",
      "video 1/1 (712/4362) D:\\Predict\\test_video.mp4: 384x640 1 person, 23.0ms\n",
      "video 1/1 (713/4362) D:\\Predict\\test_video.mp4: 384x640 1 person, 7.0ms\n",
      "video 1/1 (714/4362) D:\\Predict\\test_video.mp4: 384x640 1 person, 9.0ms\n",
      "video 1/1 (715/4362) D:\\Predict\\test_video.mp4: 384x640 1 person, 12.0ms\n",
      "video 1/1 (716/4362) D:\\Predict\\test_video.mp4: 384x640 1 person, 11.0ms\n",
      "video 1/1 (717/4362) D:\\Predict\\test_video.mp4: 384x640 1 person, 17.0ms\n",
      "video 1/1 (718/4362) D:\\Predict\\test_video.mp4: 384x640 1 person, 20.0ms\n",
      "video 1/1 (719/4362) D:\\Predict\\test_video.mp4: 384x640 1 person, 23.0ms\n",
      "video 1/1 (720/4362) D:\\Predict\\test_video.mp4: 384x640 1 person, 19.0ms\n",
      "video 1/1 (721/4362) D:\\Predict\\test_video.mp4: 384x640 1 person, 17.0ms\n",
      "video 1/1 (722/4362) D:\\Predict\\test_video.mp4: 384x640 1 person, 6.0ms\n",
      "video 1/1 (723/4362) D:\\Predict\\test_video.mp4: 384x640 1 person, 10.0ms\n",
      "video 1/1 (724/4362) D:\\Predict\\test_video.mp4: 384x640 1 person, 8.0ms\n",
      "video 1/1 (725/4362) D:\\Predict\\test_video.mp4: 384x640 1 person, 7.0ms\n",
      "video 1/1 (726/4362) D:\\Predict\\test_video.mp4: 384x640 1 person, 8.0ms\n",
      "video 1/1 (727/4362) D:\\Predict\\test_video.mp4: 384x640 1 person, 8.0ms\n",
      "video 1/1 (728/4362) D:\\Predict\\test_video.mp4: 384x640 1 person, 10.0ms\n",
      "video 1/1 (729/4362) D:\\Predict\\test_video.mp4: 384x640 1 person, 8.0ms\n",
      "video 1/1 (730/4362) D:\\Predict\\test_video.mp4: 384x640 1 person, 10.0ms\n",
      "video 1/1 (731/4362) D:\\Predict\\test_video.mp4: 384x640 1 person, 24.0ms\n",
      "video 1/1 (732/4362) D:\\Predict\\test_video.mp4: 384x640 1 person, 19.0ms\n",
      "video 1/1 (733/4362) D:\\Predict\\test_video.mp4: 384x640 1 person, 19.0ms\n",
      "video 1/1 (734/4362) D:\\Predict\\test_video.mp4: 384x640 1 person, 9.0ms\n",
      "video 1/1 (735/4362) D:\\Predict\\test_video.mp4: 384x640 1 person, 18.0ms\n",
      "video 1/1 (736/4362) D:\\Predict\\test_video.mp4: 384x640 1 guns, 1 person, 7.0ms\n",
      "video 1/1 (737/4362) D:\\Predict\\test_video.mp4: 384x640 1 guns, 1 person, 8.0ms\n",
      "video 1/1 (738/4362) D:\\Predict\\test_video.mp4: 384x640 1 guns, 1 person, 8.0ms\n",
      "video 1/1 (739/4362) D:\\Predict\\test_video.mp4: 384x640 1 guns, 1 person, 9.0ms\n",
      "video 1/1 (740/4362) D:\\Predict\\test_video.mp4: 384x640 1 guns, 1 person, 25.0ms\n",
      "video 1/1 (741/4362) D:\\Predict\\test_video.mp4: 384x640 1 person, 15.0ms\n",
      "video 1/1 (742/4362) D:\\Predict\\test_video.mp4: 384x640 1 person, 19.0ms\n",
      "video 1/1 (743/4362) D:\\Predict\\test_video.mp4: 384x640 1 person, 19.1ms\n",
      "video 1/1 (744/4362) D:\\Predict\\test_video.mp4: 384x640 1 person, 22.0ms\n",
      "video 1/1 (745/4362) D:\\Predict\\test_video.mp4: 384x640 1 guns, 1 person, 9.0ms\n",
      "video 1/1 (746/4362) D:\\Predict\\test_video.mp4: 384x640 1 person, 7.0ms\n",
      "video 1/1 (747/4362) D:\\Predict\\test_video.mp4: 384x640 1 person, 22.0ms\n",
      "video 1/1 (748/4362) D:\\Predict\\test_video.mp4: 384x640 1 person, 30.0ms\n",
      "video 1/1 (749/4362) D:\\Predict\\test_video.mp4: 384x640 1 person, 15.0ms\n",
      "video 1/1 (750/4362) D:\\Predict\\test_video.mp4: 384x640 1 person, 7.0ms\n",
      "video 1/1 (751/4362) D:\\Predict\\test_video.mp4: 384x640 1 guns, 1 person, 24.0ms\n",
      "video 1/1 (752/4362) D:\\Predict\\test_video.mp4: 384x640 1 guns, 1 person, 17.0ms\n",
      "video 1/1 (753/4362) D:\\Predict\\test_video.mp4: 384x640 1 person, 10.0ms\n",
      "video 1/1 (754/4362) D:\\Predict\\test_video.mp4: 384x640 1 person, 8.0ms\n",
      "video 1/1 (755/4362) D:\\Predict\\test_video.mp4: 384x640 1 guns, 1 person, 25.0ms\n",
      "video 1/1 (756/4362) D:\\Predict\\test_video.mp4: 384x640 1 guns, 1 person, 21.0ms\n",
      "video 1/1 (757/4362) D:\\Predict\\test_video.mp4: 384x640 1 person, 21.0ms\n",
      "video 1/1 (758/4362) D:\\Predict\\test_video.mp4: 384x640 1 person, 15.0ms\n",
      "video 1/1 (759/4362) D:\\Predict\\test_video.mp4: 384x640 1 person, 17.0ms\n",
      "video 1/1 (760/4362) D:\\Predict\\test_video.mp4: 384x640 1 person, 8.0ms\n",
      "video 1/1 (761/4362) D:\\Predict\\test_video.mp4: 384x640 1 person, 8.0ms\n",
      "video 1/1 (762/4362) D:\\Predict\\test_video.mp4: 384x640 1 person, 7.0ms\n",
      "video 1/1 (763/4362) D:\\Predict\\test_video.mp4: 384x640 1 person, 19.0ms\n",
      "video 1/1 (764/4362) D:\\Predict\\test_video.mp4: 384x640 1 person, 15.0ms\n",
      "video 1/1 (765/4362) D:\\Predict\\test_video.mp4: 384x640 1 person, 19.0ms\n",
      "video 1/1 (766/4362) D:\\Predict\\test_video.mp4: 384x640 1 person, 8.0ms\n",
      "video 1/1 (767/4362) D:\\Predict\\test_video.mp4: 384x640 1 person, 9.0ms\n",
      "video 1/1 (768/4362) D:\\Predict\\test_video.mp4: 384x640 1 person, 7.0ms\n",
      "video 1/1 (769/4362) D:\\Predict\\test_video.mp4: 384x640 1 person, 20.0ms\n",
      "video 1/1 (770/4362) D:\\Predict\\test_video.mp4: 384x640 1 person, 7.0ms\n",
      "video 1/1 (771/4362) D:\\Predict\\test_video.mp4: 384x640 1 person, 7.0ms\n",
      "video 1/1 (772/4362) D:\\Predict\\test_video.mp4: 384x640 1 person, 7.0ms\n",
      "video 1/1 (773/4362) D:\\Predict\\test_video.mp4: 384x640 1 person, 18.0ms\n",
      "video 1/1 (774/4362) D:\\Predict\\test_video.mp4: 384x640 1 person, 6.0ms\n",
      "video 1/1 (775/4362) D:\\Predict\\test_video.mp4: 384x640 1 person, 10.0ms\n",
      "video 1/1 (776/4362) D:\\Predict\\test_video.mp4: 384x640 1 person, 20.0ms\n",
      "video 1/1 (777/4362) D:\\Predict\\test_video.mp4: 384x640 1 person, 22.0ms\n",
      "video 1/1 (778/4362) D:\\Predict\\test_video.mp4: 384x640 1 person, 28.0ms\n",
      "video 1/1 (779/4362) D:\\Predict\\test_video.mp4: 384x640 1 person, 26.0ms\n",
      "video 1/1 (780/4362) D:\\Predict\\test_video.mp4: 384x640 1 person, 20.0ms\n",
      "video 1/1 (781/4362) D:\\Predict\\test_video.mp4: 384x640 1 person, 9.0ms\n",
      "video 1/1 (782/4362) D:\\Predict\\test_video.mp4: 384x640 1 person, 8.0ms\n",
      "video 1/1 (783/4362) D:\\Predict\\test_video.mp4: 384x640 1 person, 7.0ms\n",
      "video 1/1 (784/4362) D:\\Predict\\test_video.mp4: 384x640 1 person, 19.0ms\n",
      "video 1/1 (785/4362) D:\\Predict\\test_video.mp4: 384x640 1 person, 19.0ms\n",
      "video 1/1 (786/4362) D:\\Predict\\test_video.mp4: 384x640 1 guns, 1 person, 19.0ms\n",
      "video 1/1 (787/4362) D:\\Predict\\test_video.mp4: 384x640 1 person, 24.0ms\n",
      "video 1/1 (788/4362) D:\\Predict\\test_video.mp4: 384x640 1 person, 18.0ms\n",
      "video 1/1 (789/4362) D:\\Predict\\test_video.mp4: 384x640 1 person, 7.0ms\n",
      "video 1/1 (790/4362) D:\\Predict\\test_video.mp4: 384x640 1 person, 19.0ms\n",
      "video 1/1 (791/4362) D:\\Predict\\test_video.mp4: 384x640 1 person, 18.0ms\n",
      "video 1/1 (792/4362) D:\\Predict\\test_video.mp4: 384x640 1 person, 19.0ms\n",
      "video 1/1 (793/4362) D:\\Predict\\test_video.mp4: 384x640 1 person, 19.0ms\n",
      "video 1/1 (794/4362) D:\\Predict\\test_video.mp4: 384x640 1 person, 23.0ms\n",
      "video 1/1 (795/4362) D:\\Predict\\test_video.mp4: 384x640 1 person, 6.0ms\n",
      "video 1/1 (796/4362) D:\\Predict\\test_video.mp4: 384x640 1 person, 10.0ms\n",
      "video 1/1 (797/4362) D:\\Predict\\test_video.mp4: 384x640 1 person, 10.0ms\n",
      "video 1/1 (798/4362) D:\\Predict\\test_video.mp4: 384x640 1 person, 14.0ms\n",
      "video 1/1 (799/4362) D:\\Predict\\test_video.mp4: 384x640 1 person, 7.0ms\n",
      "video 1/1 (800/4362) D:\\Predict\\test_video.mp4: 384x640 1 person, 11.0ms\n",
      "video 1/1 (801/4362) D:\\Predict\\test_video.mp4: 384x640 1 person, 14.0ms\n",
      "video 1/1 (802/4362) D:\\Predict\\test_video.mp4: 384x640 1 person, 9.0ms\n",
      "video 1/1 (803/4362) D:\\Predict\\test_video.mp4: 384x640 1 person, 11.0ms\n",
      "video 1/1 (804/4362) D:\\Predict\\test_video.mp4: 384x640 1 person, 8.0ms\n",
      "video 1/1 (805/4362) D:\\Predict\\test_video.mp4: 384x640 1 person, 19.0ms\n",
      "video 1/1 (806/4362) D:\\Predict\\test_video.mp4: 384x640 1 person, 20.0ms\n",
      "video 1/1 (807/4362) D:\\Predict\\test_video.mp4: 384x640 1 person, 21.0ms\n",
      "video 1/1 (808/4362) D:\\Predict\\test_video.mp4: 384x640 1 person, 19.0ms\n",
      "video 1/1 (809/4362) D:\\Predict\\test_video.mp4: 384x640 1 person, 11.0ms\n",
      "video 1/1 (810/4362) D:\\Predict\\test_video.mp4: 384x640 1 person, 20.0ms\n",
      "video 1/1 (811/4362) D:\\Predict\\test_video.mp4: 384x640 1 person, 7.0ms\n",
      "video 1/1 (812/4362) D:\\Predict\\test_video.mp4: 384x640 1 person, 19.0ms\n",
      "video 1/1 (813/4362) D:\\Predict\\test_video.mp4: 384x640 1 person, 21.0ms\n",
      "video 1/1 (814/4362) D:\\Predict\\test_video.mp4: 384x640 1 person, 10.0ms\n",
      "video 1/1 (815/4362) D:\\Predict\\test_video.mp4: 384x640 1 person, 13.0ms\n",
      "video 1/1 (816/4362) D:\\Predict\\test_video.mp4: 384x640 1 person, 13.0ms\n",
      "video 1/1 (817/4362) D:\\Predict\\test_video.mp4: 384x640 1 person, 13.0ms\n",
      "video 1/1 (818/4362) D:\\Predict\\test_video.mp4: 384x640 1 person, 8.0ms\n",
      "video 1/1 (819/4362) D:\\Predict\\test_video.mp4: 384x640 1 person, 24.0ms\n",
      "video 1/1 (820/4362) D:\\Predict\\test_video.mp4: 384x640 1 person, 19.0ms\n",
      "video 1/1 (821/4362) D:\\Predict\\test_video.mp4: 384x640 1 person, 7.0ms\n",
      "video 1/1 (822/4362) D:\\Predict\\test_video.mp4: 384x640 1 person, 9.0ms\n",
      "video 1/1 (823/4362) D:\\Predict\\test_video.mp4: 384x640 1 person, 10.0ms\n",
      "video 1/1 (824/4362) D:\\Predict\\test_video.mp4: 384x640 1 person, 19.0ms\n",
      "video 1/1 (825/4362) D:\\Predict\\test_video.mp4: 384x640 1 person, 10.0ms\n",
      "video 1/1 (826/4362) D:\\Predict\\test_video.mp4: 384x640 1 person, 18.0ms\n",
      "video 1/1 (827/4362) D:\\Predict\\test_video.mp4: 384x640 1 person, 16.0ms\n",
      "video 1/1 (828/4362) D:\\Predict\\test_video.mp4: 384x640 1 person, 19.0ms\n",
      "video 1/1 (829/4362) D:\\Predict\\test_video.mp4: 384x640 1 person, 8.0ms\n",
      "video 1/1 (830/4362) D:\\Predict\\test_video.mp4: 384x640 1 person, 7.0ms\n",
      "video 1/1 (831/4362) D:\\Predict\\test_video.mp4: 384x640 1 person, 11.0ms\n",
      "video 1/1 (832/4362) D:\\Predict\\test_video.mp4: 384x640 1 person, 10.0ms\n",
      "video 1/1 (833/4362) D:\\Predict\\test_video.mp4: 384x640 1 person, 12.0ms\n",
      "video 1/1 (834/4362) D:\\Predict\\test_video.mp4: 384x640 1 person, 15.0ms\n",
      "video 1/1 (835/4362) D:\\Predict\\test_video.mp4: 384x640 1 person, 19.0ms\n",
      "video 1/1 (836/4362) D:\\Predict\\test_video.mp4: 384x640 1 person, 18.0ms\n",
      "video 1/1 (837/4362) D:\\Predict\\test_video.mp4: 384x640 1 person, 11.0ms\n",
      "video 1/1 (838/4362) D:\\Predict\\test_video.mp4: 384x640 1 person, 10.0ms\n",
      "video 1/1 (839/4362) D:\\Predict\\test_video.mp4: 384x640 1 person, 16.0ms\n",
      "video 1/1 (840/4362) D:\\Predict\\test_video.mp4: 384x640 1 person, 8.0ms\n",
      "video 1/1 (841/4362) D:\\Predict\\test_video.mp4: 384x640 1 person, 14.0ms\n",
      "video 1/1 (842/4362) D:\\Predict\\test_video.mp4: 384x640 1 person, 8.0ms\n",
      "video 1/1 (843/4362) D:\\Predict\\test_video.mp4: 384x640 1 person, 7.0ms\n",
      "video 1/1 (844/4362) D:\\Predict\\test_video.mp4: 384x640 1 person, 19.0ms\n",
      "video 1/1 (845/4362) D:\\Predict\\test_video.mp4: 384x640 1 person, 14.0ms\n",
      "video 1/1 (846/4362) D:\\Predict\\test_video.mp4: 384x640 1 person, 9.0ms\n",
      "video 1/1 (847/4362) D:\\Predict\\test_video.mp4: 384x640 1 person, 15.0ms\n",
      "video 1/1 (848/4362) D:\\Predict\\test_video.mp4: 384x640 1 person, 9.0ms\n",
      "video 1/1 (849/4362) D:\\Predict\\test_video.mp4: 384x640 1 person, 8.0ms\n",
      "video 1/1 (850/4362) D:\\Predict\\test_video.mp4: 384x640 1 person, 6.0ms\n",
      "video 1/1 (851/4362) D:\\Predict\\test_video.mp4: 384x640 1 person, 18.0ms\n",
      "video 1/1 (852/4362) D:\\Predict\\test_video.mp4: 384x640 1 person, 8.0ms\n",
      "video 1/1 (853/4362) D:\\Predict\\test_video.mp4: 384x640 1 person, 7.0ms\n",
      "video 1/1 (854/4362) D:\\Predict\\test_video.mp4: 384x640 1 person, 19.0ms\n",
      "video 1/1 (855/4362) D:\\Predict\\test_video.mp4: 384x640 1 person, 14.0ms\n",
      "video 1/1 (856/4362) D:\\Predict\\test_video.mp4: 384x640 1 person, 8.0ms\n",
      "video 1/1 (857/4362) D:\\Predict\\test_video.mp4: 384x640 1 person, 12.0ms\n",
      "video 1/1 (858/4362) D:\\Predict\\test_video.mp4: 384x640 1 person, 7.0ms\n",
      "video 1/1 (859/4362) D:\\Predict\\test_video.mp4: 384x640 1 person, 18.0ms\n",
      "video 1/1 (860/4362) D:\\Predict\\test_video.mp4: 384x640 1 person, 19.0ms\n",
      "video 1/1 (861/4362) D:\\Predict\\test_video.mp4: 384x640 1 guns, 1 person, 6.0ms\n",
      "video 1/1 (862/4362) D:\\Predict\\test_video.mp4: 384x640 1 guns, 1 person, 15.0ms\n",
      "video 1/1 (863/4362) D:\\Predict\\test_video.mp4: 384x640 1 guns, 21.0ms\n",
      "video 1/1 (864/4362) D:\\Predict\\test_video.mp4: 384x640 1 guns, 18.1ms\n",
      "video 1/1 (865/4362) D:\\Predict\\test_video.mp4: 384x640 (no detections), 13.0ms\n",
      "video 1/1 (866/4362) D:\\Predict\\test_video.mp4: 384x640 1 person, 11.0ms\n",
      "video 1/1 (867/4362) D:\\Predict\\test_video.mp4: 384x640 1 guns, 22.0ms\n",
      "video 1/1 (868/4362) D:\\Predict\\test_video.mp4: 384x640 (no detections), 7.0ms\n",
      "video 1/1 (869/4362) D:\\Predict\\test_video.mp4: 384x640 1 guns, 22.0ms\n",
      "video 1/1 (870/4362) D:\\Predict\\test_video.mp4: 384x640 (no detections), 27.0ms\n",
      "video 1/1 (871/4362) D:\\Predict\\test_video.mp4: 384x640 1 guns, 6.0ms\n",
      "video 1/1 (872/4362) D:\\Predict\\test_video.mp4: 384x640 (no detections), 10.0ms\n",
      "video 1/1 (873/4362) D:\\Predict\\test_video.mp4: 384x640 1 person, 9.0ms\n",
      "video 1/1 (874/4362) D:\\Predict\\test_video.mp4: 384x640 1 guns, 1 person, 19.0ms\n",
      "video 1/1 (875/4362) D:\\Predict\\test_video.mp4: 384x640 1 guns, 16.0ms\n",
      "video 1/1 (876/4362) D:\\Predict\\test_video.mp4: 384x640 (no detections), 19.0ms\n",
      "video 1/1 (877/4362) D:\\Predict\\test_video.mp4: 384x640 1 guns, 16.0ms\n",
      "video 1/1 (878/4362) D:\\Predict\\test_video.mp4: 384x640 2 gunss, 1 person, 7.0ms\n",
      "video 1/1 (879/4362) D:\\Predict\\test_video.mp4: 384x640 1 guns, 1 person, 19.0ms\n",
      "video 1/1 (880/4362) D:\\Predict\\test_video.mp4: 384x640 1 person, 24.0ms\n",
      "video 1/1 (881/4362) D:\\Predict\\test_video.mp4: 384x640 1 guns, 1 person, 25.0ms\n",
      "video 1/1 (882/4362) D:\\Predict\\test_video.mp4: 384x640 1 guns, 1 person, 9.0ms\n",
      "video 1/1 (883/4362) D:\\Predict\\test_video.mp4: 384x640 1 guns, 1 person, 24.0ms\n",
      "video 1/1 (884/4362) D:\\Predict\\test_video.mp4: 384x640 1 guns, 1 person, 6.0ms\n",
      "video 1/1 (885/4362) D:\\Predict\\test_video.mp4: 384x640 1 guns, 1 person, 20.0ms\n",
      "video 1/1 (886/4362) D:\\Predict\\test_video.mp4: 384x640 1 guns, 1 person, 19.0ms\n",
      "video 1/1 (887/4362) D:\\Predict\\test_video.mp4: 384x640 1 guns, 1 person, 7.0ms\n",
      "video 1/1 (888/4362) D:\\Predict\\test_video.mp4: 384x640 1 guns, 1 person, 10.0ms\n",
      "video 1/1 (889/4362) D:\\Predict\\test_video.mp4: 384x640 1 guns, 1 person, 16.0ms\n",
      "video 1/1 (890/4362) D:\\Predict\\test_video.mp4: 384x640 1 guns, 1 person, 6.0ms\n",
      "video 1/1 (891/4362) D:\\Predict\\test_video.mp4: 384x640 1 guns, 1 person, 8.0ms\n",
      "video 1/1 (892/4362) D:\\Predict\\test_video.mp4: 384x640 1 guns, 19.0ms\n",
      "video 1/1 (893/4362) D:\\Predict\\test_video.mp4: 384x640 1 guns, 1 person, 16.0ms\n",
      "video 1/1 (894/4362) D:\\Predict\\test_video.mp4: 384x640 1 guns, 1 person, 7.0ms\n",
      "video 1/1 (895/4362) D:\\Predict\\test_video.mp4: 384x640 1 guns, 1 person, 7.0ms\n",
      "video 1/1 (896/4362) D:\\Predict\\test_video.mp4: 384x640 1 guns, 13.0ms\n",
      "video 1/1 (897/4362) D:\\Predict\\test_video.mp4: 384x640 1 guns, 1 person, 9.0ms\n",
      "video 1/1 (898/4362) D:\\Predict\\test_video.mp4: 384x640 1 guns, 1 person, 12.0ms\n",
      "video 1/1 (899/4362) D:\\Predict\\test_video.mp4: 384x640 1 guns, 1 person, 11.0ms\n",
      "video 1/1 (900/4362) D:\\Predict\\test_video.mp4: 384x640 1 guns, 1 person, 17.0ms\n",
      "video 1/1 (901/4362) D:\\Predict\\test_video.mp4: 384x640 1 guns, 1 person, 10.0ms\n",
      "video 1/1 (902/4362) D:\\Predict\\test_video.mp4: 384x640 1 guns, 1 person, 19.0ms\n",
      "video 1/1 (903/4362) D:\\Predict\\test_video.mp4: 384x640 1 guns, 1 person, 6.0ms\n",
      "video 1/1 (904/4362) D:\\Predict\\test_video.mp4: 384x640 1 guns, 1 person, 22.0ms\n",
      "video 1/1 (905/4362) D:\\Predict\\test_video.mp4: 384x640 1 guns, 1 person, 21.0ms\n",
      "video 1/1 (906/4362) D:\\Predict\\test_video.mp4: 384x640 1 guns, 1 person, 20.0ms\n",
      "video 1/1 (907/4362) D:\\Predict\\test_video.mp4: 384x640 1 guns, 1 person, 8.0ms\n",
      "video 1/1 (908/4362) D:\\Predict\\test_video.mp4: 384x640 1 guns, 1 person, 7.0ms\n",
      "video 1/1 (909/4362) D:\\Predict\\test_video.mp4: 384x640 1 guns, 1 person, 7.0ms\n",
      "video 1/1 (910/4362) D:\\Predict\\test_video.mp4: 384x640 1 guns, 1 person, 14.0ms\n",
      "video 1/1 (911/4362) D:\\Predict\\test_video.mp4: 384x640 1 guns, 1 person, 18.0ms\n",
      "video 1/1 (912/4362) D:\\Predict\\test_video.mp4: 384x640 1 guns, 1 person, 23.0ms\n",
      "video 1/1 (913/4362) D:\\Predict\\test_video.mp4: 384x640 1 guns, 1 person, 16.0ms\n",
      "video 1/1 (914/4362) D:\\Predict\\test_video.mp4: 384x640 1 guns, 1 person, 8.0ms\n",
      "video 1/1 (915/4362) D:\\Predict\\test_video.mp4: 384x640 1 guns, 1 person, 17.0ms\n",
      "video 1/1 (916/4362) D:\\Predict\\test_video.mp4: 384x640 1 guns, 1 person, 18.0ms\n",
      "video 1/1 (917/4362) D:\\Predict\\test_video.mp4: 384x640 1 guns, 1 person, 8.0ms\n",
      "video 1/1 (918/4362) D:\\Predict\\test_video.mp4: 384x640 1 guns, 1 person, 23.0ms\n",
      "video 1/1 (919/4362) D:\\Predict\\test_video.mp4: 384x640 1 guns, 1 person, 14.0ms\n",
      "video 1/1 (920/4362) D:\\Predict\\test_video.mp4: 384x640 1 guns, 1 person, 18.0ms\n",
      "video 1/1 (921/4362) D:\\Predict\\test_video.mp4: 384x640 1 guns, 1 person, 19.0ms\n",
      "video 1/1 (922/4362) D:\\Predict\\test_video.mp4: 384x640 1 guns, 1 person, 19.0ms\n",
      "video 1/1 (923/4362) D:\\Predict\\test_video.mp4: 384x640 1 guns, 1 person, 7.0ms\n",
      "video 1/1 (924/4362) D:\\Predict\\test_video.mp4: 384x640 1 guns, 1 person, 8.0ms\n",
      "video 1/1 (925/4362) D:\\Predict\\test_video.mp4: 384x640 1 guns, 1 person, 15.0ms\n",
      "video 1/1 (926/4362) D:\\Predict\\test_video.mp4: 384x640 1 guns, 1 person, 7.0ms\n",
      "video 1/1 (927/4362) D:\\Predict\\test_video.mp4: 384x640 1 guns, 21.0ms\n",
      "video 1/1 (928/4362) D:\\Predict\\test_video.mp4: 384x640 (no detections), 20.0ms\n",
      "video 1/1 (929/4362) D:\\Predict\\test_video.mp4: 384x640 1 person, 18.0ms\n",
      "video 1/1 (930/4362) D:\\Predict\\test_video.mp4: 384x640 1 guns, 1 person, 25.0ms\n",
      "video 1/1 (931/4362) D:\\Predict\\test_video.mp4: 384x640 1 guns, 18.0ms\n",
      "video 1/1 (932/4362) D:\\Predict\\test_video.mp4: 384x640 1 guns, 23.0ms\n",
      "video 1/1 (933/4362) D:\\Predict\\test_video.mp4: 384x640 1 guns, 1 person, 15.0ms\n",
      "video 1/1 (934/4362) D:\\Predict\\test_video.mp4: 384x640 1 guns, 15.0ms\n",
      "video 1/1 (935/4362) D:\\Predict\\test_video.mp4: 384x640 1 guns, 9.0ms\n",
      "video 1/1 (936/4362) D:\\Predict\\test_video.mp4: 384x640 1 guns, 1 person, 19.0ms\n",
      "video 1/1 (937/4362) D:\\Predict\\test_video.mp4: 384x640 1 guns, 1 person, 7.0ms\n",
      "video 1/1 (938/4362) D:\\Predict\\test_video.mp4: 384x640 1 guns, 6.0ms\n",
      "video 1/1 (939/4362) D:\\Predict\\test_video.mp4: 384x640 1 guns, 6.0ms\n",
      "video 1/1 (940/4362) D:\\Predict\\test_video.mp4: 384x640 1 guns, 25.0ms\n",
      "video 1/1 (941/4362) D:\\Predict\\test_video.mp4: 384x640 1 guns, 18.0ms\n",
      "video 1/1 (942/4362) D:\\Predict\\test_video.mp4: 384x640 1 person, 7.0ms\n",
      "video 1/1 (943/4362) D:\\Predict\\test_video.mp4: 384x640 1 person, 14.0ms\n",
      "video 1/1 (944/4362) D:\\Predict\\test_video.mp4: 384x640 1 person, 7.0ms\n",
      "video 1/1 (945/4362) D:\\Predict\\test_video.mp4: 384x640 1 person, 9.0ms\n",
      "video 1/1 (946/4362) D:\\Predict\\test_video.mp4: 384x640 1 person, 18.0ms\n",
      "video 1/1 (947/4362) D:\\Predict\\test_video.mp4: 384x640 1 person, 9.0ms\n",
      "video 1/1 (948/4362) D:\\Predict\\test_video.mp4: 384x640 1 person, 9.0ms\n",
      "video 1/1 (949/4362) D:\\Predict\\test_video.mp4: 384x640 1 person, 7.0ms\n",
      "video 1/1 (950/4362) D:\\Predict\\test_video.mp4: 384x640 1 person, 8.0ms\n",
      "video 1/1 (951/4362) D:\\Predict\\test_video.mp4: 384x640 1 person, 7.0ms\n",
      "video 1/1 (952/4362) D:\\Predict\\test_video.mp4: 384x640 1 person, 18.0ms\n",
      "video 1/1 (953/4362) D:\\Predict\\test_video.mp4: 384x640 1 person, 17.0ms\n",
      "video 1/1 (954/4362) D:\\Predict\\test_video.mp4: 384x640 1 person, 7.0ms\n",
      "video 1/1 (955/4362) D:\\Predict\\test_video.mp4: 384x640 1 person, 16.0ms\n",
      "video 1/1 (956/4362) D:\\Predict\\test_video.mp4: 384x640 1 person, 19.0ms\n",
      "video 1/1 (957/4362) D:\\Predict\\test_video.mp4: 384x640 1 person, 12.0ms\n",
      "video 1/1 (958/4362) D:\\Predict\\test_video.mp4: 384x640 1 person, 25.0ms\n",
      "video 1/1 (959/4362) D:\\Predict\\test_video.mp4: 384x640 1 person, 19.0ms\n",
      "video 1/1 (960/4362) D:\\Predict\\test_video.mp4: 384x640 1 person, 17.0ms\n",
      "video 1/1 (961/4362) D:\\Predict\\test_video.mp4: 384x640 1 person, 19.0ms\n",
      "video 1/1 (962/4362) D:\\Predict\\test_video.mp4: 384x640 1 person, 9.0ms\n",
      "video 1/1 (963/4362) D:\\Predict\\test_video.mp4: 384x640 1 person, 18.0ms\n",
      "video 1/1 (964/4362) D:\\Predict\\test_video.mp4: 384x640 1 person, 8.0ms\n",
      "video 1/1 (965/4362) D:\\Predict\\test_video.mp4: 384x640 1 person, 8.0ms\n",
      "video 1/1 (966/4362) D:\\Predict\\test_video.mp4: 384x640 1 person, 19.0ms\n",
      "video 1/1 (967/4362) D:\\Predict\\test_video.mp4: 384x640 1 person, 18.0ms\n",
      "video 1/1 (968/4362) D:\\Predict\\test_video.mp4: 384x640 1 person, 6.0ms\n",
      "video 1/1 (969/4362) D:\\Predict\\test_video.mp4: 384x640 1 person, 8.0ms\n",
      "video 1/1 (970/4362) D:\\Predict\\test_video.mp4: 384x640 1 person, 10.0ms\n",
      "video 1/1 (971/4362) D:\\Predict\\test_video.mp4: 384x640 1 person, 18.0ms\n",
      "video 1/1 (972/4362) D:\\Predict\\test_video.mp4: 384x640 1 person, 20.0ms\n",
      "video 1/1 (973/4362) D:\\Predict\\test_video.mp4: 384x640 1 person, 13.0ms\n",
      "video 1/1 (974/4362) D:\\Predict\\test_video.mp4: 384x640 1 person, 18.0ms\n",
      "video 1/1 (975/4362) D:\\Predict\\test_video.mp4: 384x640 1 person, 18.0ms\n",
      "video 1/1 (976/4362) D:\\Predict\\test_video.mp4: 384x640 1 person, 14.0ms\n",
      "video 1/1 (977/4362) D:\\Predict\\test_video.mp4: 384x640 1 person, 7.0ms\n",
      "video 1/1 (978/4362) D:\\Predict\\test_video.mp4: 384x640 1 person, 8.0ms\n",
      "video 1/1 (979/4362) D:\\Predict\\test_video.mp4: 384x640 1 person, 14.0ms\n",
      "video 1/1 (980/4362) D:\\Predict\\test_video.mp4: 384x640 1 person, 18.0ms\n",
      "video 1/1 (981/4362) D:\\Predict\\test_video.mp4: 384x640 1 person, 7.0ms\n",
      "video 1/1 (982/4362) D:\\Predict\\test_video.mp4: 384x640 1 person, 12.0ms\n",
      "video 1/1 (983/4362) D:\\Predict\\test_video.mp4: 384x640 1 person, 19.0ms\n",
      "video 1/1 (984/4362) D:\\Predict\\test_video.mp4: 384x640 1 person, 19.0ms\n",
      "video 1/1 (985/4362) D:\\Predict\\test_video.mp4: 384x640 1 person, 16.0ms\n",
      "video 1/1 (986/4362) D:\\Predict\\test_video.mp4: 384x640 1 person, 8.0ms\n",
      "video 1/1 (987/4362) D:\\Predict\\test_video.mp4: 384x640 1 person, 9.0ms\n",
      "video 1/1 (988/4362) D:\\Predict\\test_video.mp4: 384x640 1 person, 10.0ms\n",
      "video 1/1 (989/4362) D:\\Predict\\test_video.mp4: 384x640 1 person, 16.0ms\n",
      "video 1/1 (990/4362) D:\\Predict\\test_video.mp4: 384x640 1 person, 10.0ms\n",
      "video 1/1 (991/4362) D:\\Predict\\test_video.mp4: 384x640 1 person, 24.0ms\n",
      "video 1/1 (992/4362) D:\\Predict\\test_video.mp4: 384x640 1 person, 17.0ms\n",
      "video 1/1 (993/4362) D:\\Predict\\test_video.mp4: 384x640 1 person, 8.0ms\n",
      "video 1/1 (994/4362) D:\\Predict\\test_video.mp4: 384x640 1 person, 11.0ms\n",
      "video 1/1 (995/4362) D:\\Predict\\test_video.mp4: 384x640 1 person, 7.0ms\n",
      "video 1/1 (996/4362) D:\\Predict\\test_video.mp4: 384x640 1 person, 7.0ms\n",
      "video 1/1 (997/4362) D:\\Predict\\test_video.mp4: 384x640 1 person, 8.0ms\n",
      "video 1/1 (998/4362) D:\\Predict\\test_video.mp4: 384x640 1 guns, 1 person, 8.0ms\n",
      "video 1/1 (999/4362) D:\\Predict\\test_video.mp4: 384x640 1 guns, 1 person, 8.0ms\n",
      "video 1/1 (1000/4362) D:\\Predict\\test_video.mp4: 384x640 1 guns, 1 person, 23.0ms\n",
      "video 1/1 (1001/4362) D:\\Predict\\test_video.mp4: 384x640 1 guns, 1 person, 21.0ms\n",
      "video 1/1 (1002/4362) D:\\Predict\\test_video.mp4: 384x640 1 guns, 1 person, 8.0ms\n",
      "video 1/1 (1003/4362) D:\\Predict\\test_video.mp4: 384x640 1 guns, 1 person, 15.0ms\n",
      "video 1/1 (1004/4362) D:\\Predict\\test_video.mp4: 384x640 1 guns, 1 person, 7.0ms\n",
      "video 1/1 (1005/4362) D:\\Predict\\test_video.mp4: 384x640 1 guns, 1 person, 9.0ms\n",
      "video 1/1 (1006/4362) D:\\Predict\\test_video.mp4: 384x640 1 guns, 1 person, 6.0ms\n",
      "video 1/1 (1007/4362) D:\\Predict\\test_video.mp4: 384x640 1 guns, 1 person, 10.0ms\n",
      "video 1/1 (1008/4362) D:\\Predict\\test_video.mp4: 384x640 1 guns, 1 person, 14.0ms\n",
      "video 1/1 (1009/4362) D:\\Predict\\test_video.mp4: 384x640 1 guns, 1 person, 8.0ms\n",
      "video 1/1 (1010/4362) D:\\Predict\\test_video.mp4: 384x640 1 guns, 1 person, 10.0ms\n",
      "video 1/1 (1011/4362) D:\\Predict\\test_video.mp4: 384x640 1 person, 6.0ms\n",
      "video 1/1 (1012/4362) D:\\Predict\\test_video.mp4: 384x640 1 guns, 1 person, 28.0ms\n",
      "video 1/1 (1013/4362) D:\\Predict\\test_video.mp4: 384x640 1 guns, 1 person, 8.0ms\n",
      "video 1/1 (1014/4362) D:\\Predict\\test_video.mp4: 384x640 1 person, 7.0ms\n",
      "video 1/1 (1015/4362) D:\\Predict\\test_video.mp4: 384x640 1 person, 14.0ms\n",
      "video 1/1 (1016/4362) D:\\Predict\\test_video.mp4: 384x640 1 person, 13.0ms\n",
      "video 1/1 (1017/4362) D:\\Predict\\test_video.mp4: 384x640 1 guns, 1 person, 9.0ms\n",
      "video 1/1 (1018/4362) D:\\Predict\\test_video.mp4: 384x640 1 guns, 1 person, 8.0ms\n",
      "video 1/1 (1019/4362) D:\\Predict\\test_video.mp4: 384x640 1 guns, 1 person, 21.0ms\n",
      "video 1/1 (1020/4362) D:\\Predict\\test_video.mp4: 384x640 1 guns, 1 person, 13.0ms\n",
      "video 1/1 (1021/4362) D:\\Predict\\test_video.mp4: 384x640 1 guns, 1 person, 8.0ms\n",
      "video 1/1 (1022/4362) D:\\Predict\\test_video.mp4: 384x640 1 guns, 1 person, 20.0ms\n",
      "video 1/1 (1023/4362) D:\\Predict\\test_video.mp4: 384x640 1 guns, 1 person, 20.0ms\n",
      "video 1/1 (1024/4362) D:\\Predict\\test_video.mp4: 384x640 1 guns, 1 person, 8.0ms\n",
      "video 1/1 (1025/4362) D:\\Predict\\test_video.mp4: 384x640 1 guns, 1 person, 7.0ms\n",
      "video 1/1 (1026/4362) D:\\Predict\\test_video.mp4: 384x640 1 guns, 1 person, 8.0ms\n",
      "video 1/1 (1027/4362) D:\\Predict\\test_video.mp4: 384x640 1 guns, 1 person, 8.0ms\n",
      "video 1/1 (1028/4362) D:\\Predict\\test_video.mp4: 384x640 1 guns, 1 person, 8.0ms\n",
      "video 1/1 (1029/4362) D:\\Predict\\test_video.mp4: 384x640 2 gunss, 1 person, 9.0ms\n",
      "video 1/1 (1030/4362) D:\\Predict\\test_video.mp4: 384x640 1 guns, 1 person, 7.0ms\n",
      "video 1/1 (1031/4362) D:\\Predict\\test_video.mp4: 384x640 2 gunss, 1 person, 7.0ms\n",
      "video 1/1 (1032/4362) D:\\Predict\\test_video.mp4: 384x640 2 gunss, 1 person, 10.0ms\n",
      "video 1/1 (1033/4362) D:\\Predict\\test_video.mp4: 384x640 1 guns, 1 person, 8.0ms\n",
      "video 1/1 (1034/4362) D:\\Predict\\test_video.mp4: 384x640 (no detections), 7.0ms\n",
      "video 1/1 (1035/4362) D:\\Predict\\test_video.mp4: 384x640 (no detections), 22.0ms\n",
      "video 1/1 (1036/4362) D:\\Predict\\test_video.mp4: 384x640 1 person, 7.0ms\n",
      "video 1/1 (1037/4362) D:\\Predict\\test_video.mp4: 384x640 2 persons, 8.0ms\n",
      "video 1/1 (1038/4362) D:\\Predict\\test_video.mp4: 384x640 1 person, 17.0ms\n",
      "video 1/1 (1039/4362) D:\\Predict\\test_video.mp4: 384x640 1 person, 6.0ms\n",
      "video 1/1 (1040/4362) D:\\Predict\\test_video.mp4: 384x640 (no detections), 8.0ms\n",
      "video 1/1 (1041/4362) D:\\Predict\\test_video.mp4: 384x640 (no detections), 10.0ms\n",
      "video 1/1 (1042/4362) D:\\Predict\\test_video.mp4: 384x640 (no detections), 14.0ms\n",
      "video 1/1 (1043/4362) D:\\Predict\\test_video.mp4: 384x640 (no detections), 9.0ms\n",
      "video 1/1 (1044/4362) D:\\Predict\\test_video.mp4: 384x640 1 person, 14.0ms\n",
      "video 1/1 (1045/4362) D:\\Predict\\test_video.mp4: 384x640 1 person, 9.0ms\n",
      "video 1/1 (1046/4362) D:\\Predict\\test_video.mp4: 384x640 1 person, 18.0ms\n",
      "video 1/1 (1047/4362) D:\\Predict\\test_video.mp4: 384x640 2 gunss, 1 person, 9.0ms\n",
      "video 1/1 (1048/4362) D:\\Predict\\test_video.mp4: 384x640 1 guns, 1 person, 8.0ms\n",
      "video 1/1 (1049/4362) D:\\Predict\\test_video.mp4: 384x640 1 guns, 1 person, 7.0ms\n",
      "video 1/1 (1050/4362) D:\\Predict\\test_video.mp4: 384x640 1 guns, 1 person, 8.0ms\n",
      "video 1/1 (1051/4362) D:\\Predict\\test_video.mp4: 384x640 1 guns, 1 person, 7.0ms\n",
      "video 1/1 (1052/4362) D:\\Predict\\test_video.mp4: 384x640 1 guns, 1 person, 7.0ms\n",
      "video 1/1 (1053/4362) D:\\Predict\\test_video.mp4: 384x640 1 guns, 1 person, 19.0ms\n",
      "video 1/1 (1054/4362) D:\\Predict\\test_video.mp4: 384x640 2 gunss, 1 person, 7.0ms\n",
      "video 1/1 (1055/4362) D:\\Predict\\test_video.mp4: 384x640 2 gunss, 1 person, 19.0ms\n",
      "video 1/1 (1056/4362) D:\\Predict\\test_video.mp4: 384x640 1 guns, 1 person, 19.0ms\n",
      "video 1/1 (1057/4362) D:\\Predict\\test_video.mp4: 384x640 1 guns, 1 person, 22.0ms\n",
      "video 1/1 (1058/4362) D:\\Predict\\test_video.mp4: 384x640 1 guns, 1 person, 10.0ms\n",
      "video 1/1 (1059/4362) D:\\Predict\\test_video.mp4: 384x640 1 guns, 1 person, 24.0ms\n",
      "video 1/1 (1060/4362) D:\\Predict\\test_video.mp4: 384x640 1 guns, 1 person, 22.0ms\n",
      "video 1/1 (1061/4362) D:\\Predict\\test_video.mp4: 384x640 1 guns, 1 person, 6.0ms\n",
      "video 1/1 (1062/4362) D:\\Predict\\test_video.mp4: 384x640 1 guns, 1 person, 25.0ms\n",
      "video 1/1 (1063/4362) D:\\Predict\\test_video.mp4: 384x640 1 guns, 1 person, 20.0ms\n",
      "video 1/1 (1064/4362) D:\\Predict\\test_video.mp4: 384x640 1 guns, 1 person, 14.0ms\n",
      "video 1/1 (1065/4362) D:\\Predict\\test_video.mp4: 384x640 1 guns, 1 person, 7.0ms\n",
      "video 1/1 (1066/4362) D:\\Predict\\test_video.mp4: 384x640 1 guns, 1 person, 9.0ms\n",
      "video 1/1 (1067/4362) D:\\Predict\\test_video.mp4: 384x640 1 guns, 1 person, 21.0ms\n",
      "video 1/1 (1068/4362) D:\\Predict\\test_video.mp4: 384x640 1 guns, 1 person, 21.0ms\n",
      "video 1/1 (1069/4362) D:\\Predict\\test_video.mp4: 384x640 1 guns, 1 person, 20.0ms\n",
      "video 1/1 (1070/4362) D:\\Predict\\test_video.mp4: 384x640 1 person, 14.0ms\n",
      "video 1/1 (1071/4362) D:\\Predict\\test_video.mp4: 384x640 1 guns, 1 person, 10.0ms\n",
      "video 1/1 (1072/4362) D:\\Predict\\test_video.mp4: 384x640 1 guns, 1 person, 8.0ms\n",
      "video 1/1 (1073/4362) D:\\Predict\\test_video.mp4: 384x640 1 guns, 1 person, 10.0ms\n",
      "video 1/1 (1074/4362) D:\\Predict\\test_video.mp4: 384x640 1 person, 7.0ms\n",
      "video 1/1 (1075/4362) D:\\Predict\\test_video.mp4: 384x640 1 person, 26.0ms\n",
      "video 1/1 (1076/4362) D:\\Predict\\test_video.mp4: 384x640 1 person, 19.0ms\n",
      "video 1/1 (1077/4362) D:\\Predict\\test_video.mp4: 384x640 1 person, 9.0ms\n",
      "video 1/1 (1078/4362) D:\\Predict\\test_video.mp4: 384x640 1 person, 13.0ms\n",
      "video 1/1 (1079/4362) D:\\Predict\\test_video.mp4: 384x640 1 person, 8.0ms\n",
      "video 1/1 (1080/4362) D:\\Predict\\test_video.mp4: 384x640 1 person, 14.0ms\n",
      "video 1/1 (1081/4362) D:\\Predict\\test_video.mp4: 384x640 1 person, 12.0ms\n",
      "video 1/1 (1082/4362) D:\\Predict\\test_video.mp4: 384x640 1 person, 15.0ms\n",
      "video 1/1 (1083/4362) D:\\Predict\\test_video.mp4: 384x640 1 person, 17.0ms\n",
      "video 1/1 (1084/4362) D:\\Predict\\test_video.mp4: 384x640 1 person, 7.0ms\n",
      "video 1/1 (1085/4362) D:\\Predict\\test_video.mp4: 384x640 1 person, 7.0ms\n",
      "video 1/1 (1086/4362) D:\\Predict\\test_video.mp4: 384x640 1 person, 7.0ms\n",
      "video 1/1 (1087/4362) D:\\Predict\\test_video.mp4: 384x640 1 person, 19.0ms\n",
      "video 1/1 (1088/4362) D:\\Predict\\test_video.mp4: 384x640 1 person, 21.0ms\n",
      "video 1/1 (1089/4362) D:\\Predict\\test_video.mp4: 384x640 1 person, 18.0ms\n",
      "video 1/1 (1090/4362) D:\\Predict\\test_video.mp4: 384x640 1 person, 7.0ms\n",
      "video 1/1 (1091/4362) D:\\Predict\\test_video.mp4: 384x640 1 person, 23.0ms\n",
      "video 1/1 (1092/4362) D:\\Predict\\test_video.mp4: 384x640 1 person, 6.0ms\n",
      "video 1/1 (1093/4362) D:\\Predict\\test_video.mp4: 384x640 1 person, 19.0ms\n",
      "video 1/1 (1094/4362) D:\\Predict\\test_video.mp4: 384x640 1 person, 8.0ms\n",
      "video 1/1 (1095/4362) D:\\Predict\\test_video.mp4: 384x640 1 person, 7.0ms\n",
      "video 1/1 (1096/4362) D:\\Predict\\test_video.mp4: 384x640 1 person, 8.0ms\n",
      "video 1/1 (1097/4362) D:\\Predict\\test_video.mp4: 384x640 1 person, 7.0ms\n",
      "video 1/1 (1098/4362) D:\\Predict\\test_video.mp4: 384x640 1 person, 23.0ms\n",
      "video 1/1 (1099/4362) D:\\Predict\\test_video.mp4: 384x640 1 person, 15.0ms\n",
      "video 1/1 (1100/4362) D:\\Predict\\test_video.mp4: 384x640 1 person, 8.0ms\n",
      "video 1/1 (1101/4362) D:\\Predict\\test_video.mp4: 384x640 1 person, 20.0ms\n",
      "video 1/1 (1102/4362) D:\\Predict\\test_video.mp4: 384x640 1 person, 14.0ms\n",
      "video 1/1 (1103/4362) D:\\Predict\\test_video.mp4: 384x640 1 person, 8.0ms\n",
      "video 1/1 (1104/4362) D:\\Predict\\test_video.mp4: 384x640 1 person, 19.0ms\n",
      "video 1/1 (1105/4362) D:\\Predict\\test_video.mp4: 384x640 1 person, 16.0ms\n",
      "video 1/1 (1106/4362) D:\\Predict\\test_video.mp4: 384x640 1 person, 25.0ms\n",
      "video 1/1 (1107/4362) D:\\Predict\\test_video.mp4: 384x640 1 person, 18.0ms\n",
      "video 1/1 (1108/4362) D:\\Predict\\test_video.mp4: 384x640 1 person, 16.0ms\n",
      "video 1/1 (1109/4362) D:\\Predict\\test_video.mp4: 384x640 1 guns, 1 person, 8.0ms\n",
      "video 1/1 (1110/4362) D:\\Predict\\test_video.mp4: 384x640 1 person, 11.0ms\n",
      "video 1/1 (1111/4362) D:\\Predict\\test_video.mp4: 384x640 1 person, 20.0ms\n",
      "video 1/1 (1112/4362) D:\\Predict\\test_video.mp4: 384x640 1 person, 7.0ms\n",
      "video 1/1 (1113/4362) D:\\Predict\\test_video.mp4: 384x640 1 person, 8.0ms\n",
      "video 1/1 (1114/4362) D:\\Predict\\test_video.mp4: 384x640 1 person, 7.0ms\n",
      "video 1/1 (1115/4362) D:\\Predict\\test_video.mp4: 384x640 1 person, 8.0ms\n",
      "video 1/1 (1116/4362) D:\\Predict\\test_video.mp4: 384x640 1 person, 19.0ms\n",
      "video 1/1 (1117/4362) D:\\Predict\\test_video.mp4: 384x640 1 person, 18.0ms\n",
      "video 1/1 (1118/4362) D:\\Predict\\test_video.mp4: 384x640 1 person, 7.0ms\n",
      "video 1/1 (1119/4362) D:\\Predict\\test_video.mp4: 384x640 1 person, 7.0ms\n",
      "video 1/1 (1120/4362) D:\\Predict\\test_video.mp4: 384x640 1 person, 10.0ms\n",
      "video 1/1 (1121/4362) D:\\Predict\\test_video.mp4: 384x640 1 person, 13.0ms\n",
      "video 1/1 (1122/4362) D:\\Predict\\test_video.mp4: 384x640 1 person, 9.0ms\n",
      "video 1/1 (1123/4362) D:\\Predict\\test_video.mp4: 384x640 1 person, 11.0ms\n",
      "video 1/1 (1124/4362) D:\\Predict\\test_video.mp4: 384x640 1 guns, 1 person, 25.0ms\n",
      "video 1/1 (1125/4362) D:\\Predict\\test_video.mp4: 384x640 1 guns, 1 person, 6.0ms\n",
      "video 1/1 (1126/4362) D:\\Predict\\test_video.mp4: 384x640 1 guns, 1 person, 15.0ms\n",
      "video 1/1 (1127/4362) D:\\Predict\\test_video.mp4: 384x640 1 guns, 1 person, 8.0ms\n",
      "video 1/1 (1128/4362) D:\\Predict\\test_video.mp4: 384x640 1 person, 19.0ms\n",
      "video 1/1 (1129/4362) D:\\Predict\\test_video.mp4: 384x640 1 person, 14.0ms\n",
      "video 1/1 (1130/4362) D:\\Predict\\test_video.mp4: 384x640 1 person, 7.0ms\n",
      "video 1/1 (1131/4362) D:\\Predict\\test_video.mp4: 384x640 1 person, 7.0ms\n",
      "video 1/1 (1132/4362) D:\\Predict\\test_video.mp4: 384x640 1 person, 7.0ms\n",
      "video 1/1 (1133/4362) D:\\Predict\\test_video.mp4: 384x640 1 person, 19.0ms\n",
      "video 1/1 (1134/4362) D:\\Predict\\test_video.mp4: 384x640 1 person, 10.0ms\n",
      "video 1/1 (1135/4362) D:\\Predict\\test_video.mp4: 384x640 1 person, 20.0ms\n",
      "video 1/1 (1136/4362) D:\\Predict\\test_video.mp4: 384x640 1 person, 8.0ms\n",
      "video 1/1 (1137/4362) D:\\Predict\\test_video.mp4: 384x640 (no detections), 17.0ms\n",
      "video 1/1 (1138/4362) D:\\Predict\\test_video.mp4: 384x640 (no detections), 19.0ms\n",
      "video 1/1 (1139/4362) D:\\Predict\\test_video.mp4: 384x640 (no detections), 7.0ms\n",
      "video 1/1 (1140/4362) D:\\Predict\\test_video.mp4: 384x640 (no detections), 26.0ms\n",
      "video 1/1 (1141/4362) D:\\Predict\\test_video.mp4: 384x640 (no detections), 7.0ms\n",
      "video 1/1 (1142/4362) D:\\Predict\\test_video.mp4: 384x640 (no detections), 20.0ms\n",
      "video 1/1 (1143/4362) D:\\Predict\\test_video.mp4: 384x640 1 person, 17.0ms\n",
      "video 1/1 (1144/4362) D:\\Predict\\test_video.mp4: 384x640 1 person, 7.0ms\n",
      "video 1/1 (1145/4362) D:\\Predict\\test_video.mp4: 384x640 1 person, 14.0ms\n",
      "video 1/1 (1146/4362) D:\\Predict\\test_video.mp4: 384x640 1 person, 9.0ms\n",
      "video 1/1 (1147/4362) D:\\Predict\\test_video.mp4: 384x640 1 person, 10.0ms\n",
      "video 1/1 (1148/4362) D:\\Predict\\test_video.mp4: 384x640 1 person, 10.0ms\n",
      "video 1/1 (1149/4362) D:\\Predict\\test_video.mp4: 384x640 1 person, 10.0ms\n",
      "video 1/1 (1150/4362) D:\\Predict\\test_video.mp4: 384x640 1 person, 18.0ms\n",
      "video 1/1 (1151/4362) D:\\Predict\\test_video.mp4: 384x640 1 person, 8.0ms\n",
      "video 1/1 (1152/4362) D:\\Predict\\test_video.mp4: 384x640 1 guns, 1 person, 8.0ms\n",
      "video 1/1 (1153/4362) D:\\Predict\\test_video.mp4: 384x640 1 guns, 1 person, 6.0ms\n",
      "video 1/1 (1154/4362) D:\\Predict\\test_video.mp4: 384x640 1 person, 10.0ms\n",
      "video 1/1 (1155/4362) D:\\Predict\\test_video.mp4: 384x640 1 person, 10.0ms\n",
      "video 1/1 (1156/4362) D:\\Predict\\test_video.mp4: 384x640 1 person, 19.0ms\n",
      "video 1/1 (1157/4362) D:\\Predict\\test_video.mp4: 384x640 1 person, 7.0ms\n",
      "video 1/1 (1158/4362) D:\\Predict\\test_video.mp4: 384x640 1 person, 10.0ms\n",
      "video 1/1 (1159/4362) D:\\Predict\\test_video.mp4: 384x640 1 person, 16.0ms\n",
      "video 1/1 (1160/4362) D:\\Predict\\test_video.mp4: 384x640 1 person, 9.0ms\n",
      "video 1/1 (1161/4362) D:\\Predict\\test_video.mp4: 384x640 1 person, 8.0ms\n",
      "video 1/1 (1162/4362) D:\\Predict\\test_video.mp4: 384x640 1 person, 6.0ms\n",
      "video 1/1 (1163/4362) D:\\Predict\\test_video.mp4: 384x640 1 person, 14.0ms\n",
      "video 1/1 (1164/4362) D:\\Predict\\test_video.mp4: 384x640 1 person, 14.0ms\n",
      "video 1/1 (1165/4362) D:\\Predict\\test_video.mp4: 384x640 1 person, 19.0ms\n",
      "video 1/1 (1166/4362) D:\\Predict\\test_video.mp4: 384x640 1 person, 19.0ms\n",
      "video 1/1 (1167/4362) D:\\Predict\\test_video.mp4: 384x640 1 person, 12.0ms\n",
      "video 1/1 (1168/4362) D:\\Predict\\test_video.mp4: 384x640 1 person, 12.0ms\n",
      "video 1/1 (1169/4362) D:\\Predict\\test_video.mp4: 384x640 1 person, 8.0ms\n",
      "video 1/1 (1170/4362) D:\\Predict\\test_video.mp4: 384x640 1 person, 19.0ms\n",
      "video 1/1 (1171/4362) D:\\Predict\\test_video.mp4: 384x640 1 person, 19.0ms\n",
      "video 1/1 (1172/4362) D:\\Predict\\test_video.mp4: 384x640 1 person, 15.0ms\n",
      "video 1/1 (1173/4362) D:\\Predict\\test_video.mp4: 384x640 1 person, 9.0ms\n",
      "video 1/1 (1174/4362) D:\\Predict\\test_video.mp4: 384x640 1 person, 9.0ms\n",
      "video 1/1 (1175/4362) D:\\Predict\\test_video.mp4: 384x640 1 person, 7.0ms\n",
      "video 1/1 (1176/4362) D:\\Predict\\test_video.mp4: 384x640 1 person, 8.0ms\n",
      "video 1/1 (1177/4362) D:\\Predict\\test_video.mp4: 384x640 1 person, 56.0ms\n",
      "video 1/1 (1178/4362) D:\\Predict\\test_video.mp4: 384x640 1 person, 27.0ms\n",
      "video 1/1 (1179/4362) D:\\Predict\\test_video.mp4: 384x640 (no detections), 6.0ms\n",
      "video 1/1 (1180/4362) D:\\Predict\\test_video.mp4: 384x640 (no detections), 5.0ms\n",
      "video 1/1 (1181/4362) D:\\Predict\\test_video.mp4: 384x640 (no detections), 6.0ms\n",
      "video 1/1 (1182/4362) D:\\Predict\\test_video.mp4: 384x640 1 person, 5.0ms\n",
      "video 1/1 (1183/4362) D:\\Predict\\test_video.mp4: 384x640 1 person, 5.0ms\n",
      "video 1/1 (1184/4362) D:\\Predict\\test_video.mp4: 384x640 1 person, 5.0ms\n",
      "video 1/1 (1185/4362) D:\\Predict\\test_video.mp4: 384x640 1 person, 5.0ms\n",
      "video 1/1 (1186/4362) D:\\Predict\\test_video.mp4: 384x640 1 person, 5.0ms\n",
      "video 1/1 (1187/4362) D:\\Predict\\test_video.mp4: 384x640 1 person, 6.0ms\n",
      "video 1/1 (1188/4362) D:\\Predict\\test_video.mp4: 384x640 1 person, 5.0ms\n",
      "video 1/1 (1189/4362) D:\\Predict\\test_video.mp4: 384x640 1 person, 5.0ms\n",
      "video 1/1 (1190/4362) D:\\Predict\\test_video.mp4: 384x640 1 person, 5.0ms\n",
      "video 1/1 (1191/4362) D:\\Predict\\test_video.mp4: 384x640 1 person, 6.0ms\n",
      "video 1/1 (1192/4362) D:\\Predict\\test_video.mp4: 384x640 1 person, 7.0ms\n",
      "video 1/1 (1193/4362) D:\\Predict\\test_video.mp4: 384x640 1 person, 6.0ms\n",
      "video 1/1 (1194/4362) D:\\Predict\\test_video.mp4: 384x640 1 person, 6.0ms\n",
      "video 1/1 (1195/4362) D:\\Predict\\test_video.mp4: 384x640 1 person, 6.0ms\n",
      "video 1/1 (1196/4362) D:\\Predict\\test_video.mp4: 384x640 1 guns, 1 person, 6.0ms\n",
      "video 1/1 (1197/4362) D:\\Predict\\test_video.mp4: 384x640 1 guns, 1 person, 5.0ms\n",
      "video 1/1 (1198/4362) D:\\Predict\\test_video.mp4: 384x640 2 gunss, 1 person, 5.0ms\n",
      "video 1/1 (1199/4362) D:\\Predict\\test_video.mp4: 384x640 1 person, 5.0ms\n",
      "video 1/1 (1200/4362) D:\\Predict\\test_video.mp4: 384x640 1 person, 6.0ms\n",
      "video 1/1 (1201/4362) D:\\Predict\\test_video.mp4: 384x640 1 person, 5.0ms\n",
      "video 1/1 (1202/4362) D:\\Predict\\test_video.mp4: 384x640 1 person, 5.0ms\n",
      "video 1/1 (1203/4362) D:\\Predict\\test_video.mp4: 384x640 1 person, 5.0ms\n",
      "video 1/1 (1204/4362) D:\\Predict\\test_video.mp4: 384x640 1 person, 5.0ms\n",
      "video 1/1 (1205/4362) D:\\Predict\\test_video.mp4: 384x640 1 person, 5.0ms\n",
      "video 1/1 (1206/4362) D:\\Predict\\test_video.mp4: 384x640 1 person, 5.0ms\n",
      "video 1/1 (1207/4362) D:\\Predict\\test_video.mp4: 384x640 (no detections), 6.0ms\n",
      "video 1/1 (1208/4362) D:\\Predict\\test_video.mp4: 384x640 (no detections), 6.0ms\n",
      "video 1/1 (1209/4362) D:\\Predict\\test_video.mp4: 384x640 (no detections), 5.0ms\n",
      "video 1/1 (1210/4362) D:\\Predict\\test_video.mp4: 384x640 (no detections), 7.0ms\n",
      "video 1/1 (1211/4362) D:\\Predict\\test_video.mp4: 384x640 1 guns, 6.0ms\n",
      "video 1/1 (1212/4362) D:\\Predict\\test_video.mp4: 384x640 (no detections), 6.0ms\n",
      "video 1/1 (1213/4362) D:\\Predict\\test_video.mp4: 384x640 (no detections), 5.0ms\n",
      "video 1/1 (1214/4362) D:\\Predict\\test_video.mp4: 384x640 1 person, 6.0ms\n",
      "video 1/1 (1215/4362) D:\\Predict\\test_video.mp4: 384x640 1 guns, 5.0ms\n",
      "video 1/1 (1216/4362) D:\\Predict\\test_video.mp4: 384x640 1 guns, 1 person, 6.0ms\n",
      "video 1/1 (1217/4362) D:\\Predict\\test_video.mp4: 384x640 1 guns, 1 person, 6.0ms\n",
      "video 1/1 (1218/4362) D:\\Predict\\test_video.mp4: 384x640 1 guns, 1 person, 8.0ms\n",
      "video 1/1 (1219/4362) D:\\Predict\\test_video.mp4: 384x640 1 guns, 1 person, 5.0ms\n",
      "video 1/1 (1220/4362) D:\\Predict\\test_video.mp4: 384x640 1 guns, 1 person, 5.0ms\n",
      "video 1/1 (1221/4362) D:\\Predict\\test_video.mp4: 384x640 1 person, 5.0ms\n",
      "video 1/1 (1222/4362) D:\\Predict\\test_video.mp4: 384x640 1 person, 5.0ms\n",
      "video 1/1 (1223/4362) D:\\Predict\\test_video.mp4: 384x640 1 person, 5.0ms\n",
      "video 1/1 (1224/4362) D:\\Predict\\test_video.mp4: 384x640 1 person, 5.0ms\n",
      "video 1/1 (1225/4362) D:\\Predict\\test_video.mp4: 384x640 1 person, 5.0ms\n",
      "video 1/1 (1226/4362) D:\\Predict\\test_video.mp4: 384x640 (no detections), 5.0ms\n",
      "video 1/1 (1227/4362) D:\\Predict\\test_video.mp4: 384x640 (no detections), 5.0ms\n",
      "video 1/1 (1228/4362) D:\\Predict\\test_video.mp4: 384x640 (no detections), 5.0ms\n",
      "video 1/1 (1229/4362) D:\\Predict\\test_video.mp4: 384x640 1 person, 7.0ms\n",
      "video 1/1 (1230/4362) D:\\Predict\\test_video.mp4: 384x640 (no detections), 7.0ms\n",
      "video 1/1 (1231/4362) D:\\Predict\\test_video.mp4: 384x640 1 person, 6.0ms\n",
      "video 1/1 (1232/4362) D:\\Predict\\test_video.mp4: 384x640 1 person, 5.0ms\n",
      "video 1/1 (1233/4362) D:\\Predict\\test_video.mp4: 384x640 (no detections), 6.0ms\n",
      "video 1/1 (1234/4362) D:\\Predict\\test_video.mp4: 384x640 (no detections), 8.0ms\n",
      "video 1/1 (1235/4362) D:\\Predict\\test_video.mp4: 384x640 1 person, 6.0ms\n",
      "video 1/1 (1236/4362) D:\\Predict\\test_video.mp4: 384x640 (no detections), 6.0ms\n",
      "video 1/1 (1237/4362) D:\\Predict\\test_video.mp4: 384x640 (no detections), 6.0ms\n",
      "video 1/1 (1238/4362) D:\\Predict\\test_video.mp4: 384x640 (no detections), 8.0ms\n",
      "video 1/1 (1239/4362) D:\\Predict\\test_video.mp4: 384x640 (no detections), 13.0ms\n",
      "video 1/1 (1240/4362) D:\\Predict\\test_video.mp4: 384x640 (no detections), 5.0ms\n",
      "video 1/1 (1241/4362) D:\\Predict\\test_video.mp4: 384x640 (no detections), 6.0ms\n",
      "video 1/1 (1242/4362) D:\\Predict\\test_video.mp4: 384x640 (no detections), 6.0ms\n",
      "video 1/1 (1243/4362) D:\\Predict\\test_video.mp4: 384x640 (no detections), 6.0ms\n",
      "video 1/1 (1244/4362) D:\\Predict\\test_video.mp4: 384x640 (no detections), 10.0ms\n",
      "video 1/1 (1245/4362) D:\\Predict\\test_video.mp4: 384x640 (no detections), 6.0ms\n",
      "video 1/1 (1246/4362) D:\\Predict\\test_video.mp4: 384x640 (no detections), 6.0ms\n",
      "video 1/1 (1247/4362) D:\\Predict\\test_video.mp4: 384x640 (no detections), 8.0ms\n",
      "video 1/1 (1248/4362) D:\\Predict\\test_video.mp4: 384x640 (no detections), 6.0ms\n",
      "video 1/1 (1249/4362) D:\\Predict\\test_video.mp4: 384x640 (no detections), 7.0ms\n",
      "video 1/1 (1250/4362) D:\\Predict\\test_video.mp4: 384x640 (no detections), 6.0ms\n",
      "video 1/1 (1251/4362) D:\\Predict\\test_video.mp4: 384x640 (no detections), 6.0ms\n",
      "video 1/1 (1252/4362) D:\\Predict\\test_video.mp4: 384x640 (no detections), 6.0ms\n",
      "video 1/1 (1253/4362) D:\\Predict\\test_video.mp4: 384x640 (no detections), 6.0ms\n",
      "video 1/1 (1254/4362) D:\\Predict\\test_video.mp4: 384x640 (no detections), 7.0ms\n",
      "video 1/1 (1255/4362) D:\\Predict\\test_video.mp4: 384x640 (no detections), 11.0ms\n",
      "video 1/1 (1256/4362) D:\\Predict\\test_video.mp4: 384x640 (no detections), 6.0ms\n",
      "video 1/1 (1257/4362) D:\\Predict\\test_video.mp4: 384x640 (no detections), 6.0ms\n",
      "video 1/1 (1258/4362) D:\\Predict\\test_video.mp4: 384x640 (no detections), 15.0ms\n",
      "video 1/1 (1259/4362) D:\\Predict\\test_video.mp4: 384x640 (no detections), 6.0ms\n",
      "video 1/1 (1260/4362) D:\\Predict\\test_video.mp4: 384x640 (no detections), 6.0ms\n",
      "video 1/1 (1261/4362) D:\\Predict\\test_video.mp4: 384x640 (no detections), 6.0ms\n",
      "video 1/1 (1262/4362) D:\\Predict\\test_video.mp4: 384x640 (no detections), 6.0ms\n",
      "video 1/1 (1263/4362) D:\\Predict\\test_video.mp4: 384x640 (no detections), 6.0ms\n",
      "video 1/1 (1264/4362) D:\\Predict\\test_video.mp4: 384x640 (no detections), 6.0ms\n",
      "video 1/1 (1265/4362) D:\\Predict\\test_video.mp4: 384x640 (no detections), 10.0ms\n",
      "video 1/1 (1266/4362) D:\\Predict\\test_video.mp4: 384x640 (no detections), 6.0ms\n",
      "video 1/1 (1267/4362) D:\\Predict\\test_video.mp4: 384x640 (no detections), 6.0ms\n",
      "video 1/1 (1268/4362) D:\\Predict\\test_video.mp4: 384x640 (no detections), 12.0ms\n",
      "video 1/1 (1269/4362) D:\\Predict\\test_video.mp4: 384x640 (no detections), 6.0ms\n",
      "video 1/1 (1270/4362) D:\\Predict\\test_video.mp4: 384x640 (no detections), 6.0ms\n",
      "video 1/1 (1271/4362) D:\\Predict\\test_video.mp4: 384x640 (no detections), 14.0ms\n",
      "video 1/1 (1272/4362) D:\\Predict\\test_video.mp4: 384x640 (no detections), 6.0ms\n",
      "video 1/1 (1273/4362) D:\\Predict\\test_video.mp4: 384x640 (no detections), 13.0ms\n",
      "video 1/1 (1274/4362) D:\\Predict\\test_video.mp4: 384x640 (no detections), 6.0ms\n",
      "video 1/1 (1275/4362) D:\\Predict\\test_video.mp4: 384x640 (no detections), 6.0ms\n",
      "video 1/1 (1276/4362) D:\\Predict\\test_video.mp4: 384x640 (no detections), 13.0ms\n",
      "video 1/1 (1277/4362) D:\\Predict\\test_video.mp4: 384x640 (no detections), 6.0ms\n",
      "video 1/1 (1278/4362) D:\\Predict\\test_video.mp4: 384x640 (no detections), 7.0ms\n",
      "video 1/1 (1279/4362) D:\\Predict\\test_video.mp4: 384x640 (no detections), 6.0ms\n",
      "video 1/1 (1280/4362) D:\\Predict\\test_video.mp4: 384x640 (no detections), 14.0ms\n",
      "video 1/1 (1281/4362) D:\\Predict\\test_video.mp4: 384x640 (no detections), 6.0ms\n",
      "video 1/1 (1282/4362) D:\\Predict\\test_video.mp4: 384x640 (no detections), 9.0ms\n",
      "video 1/1 (1283/4362) D:\\Predict\\test_video.mp4: 384x640 (no detections), 8.0ms\n",
      "video 1/1 (1284/4362) D:\\Predict\\test_video.mp4: 384x640 (no detections), 13.0ms\n",
      "video 1/1 (1285/4362) D:\\Predict\\test_video.mp4: 384x640 (no detections), 6.0ms\n",
      "video 1/1 (1286/4362) D:\\Predict\\test_video.mp4: 384x640 1 guns, 6.0ms\n",
      "video 1/1 (1287/4362) D:\\Predict\\test_video.mp4: 384x640 1 guns, 6.0ms\n",
      "video 1/1 (1288/4362) D:\\Predict\\test_video.mp4: 384x640 1 guns, 6.0ms\n",
      "video 1/1 (1289/4362) D:\\Predict\\test_video.mp4: 384x640 1 guns, 6.0ms\n",
      "video 1/1 (1290/4362) D:\\Predict\\test_video.mp4: 384x640 (no detections), 6.0ms\n",
      "video 1/1 (1291/4362) D:\\Predict\\test_video.mp4: 384x640 (no detections), 6.0ms\n",
      "video 1/1 (1292/4362) D:\\Predict\\test_video.mp4: 384x640 (no detections), 6.0ms\n",
      "video 1/1 (1293/4362) D:\\Predict\\test_video.mp4: 384x640 1 person, 6.0ms\n",
      "video 1/1 (1294/4362) D:\\Predict\\test_video.mp4: 384x640 1 guns, 1 person, 6.0ms\n",
      "video 1/1 (1295/4362) D:\\Predict\\test_video.mp4: 384x640 (no detections), 6.0ms\n",
      "video 1/1 (1296/4362) D:\\Predict\\test_video.mp4: 384x640 1 guns, 1 person, 6.0ms\n",
      "video 1/1 (1297/4362) D:\\Predict\\test_video.mp4: 384x640 1 guns, 1 person, 6.0ms\n",
      "video 1/1 (1298/4362) D:\\Predict\\test_video.mp4: 384x640 1 guns, 1 person, 12.0ms\n",
      "video 1/1 (1299/4362) D:\\Predict\\test_video.mp4: 384x640 1 guns, 1 person, 5.0ms\n",
      "video 1/1 (1300/4362) D:\\Predict\\test_video.mp4: 384x640 1 person, 6.0ms\n",
      "video 1/1 (1301/4362) D:\\Predict\\test_video.mp4: 384x640 1 person, 6.0ms\n",
      "video 1/1 (1302/4362) D:\\Predict\\test_video.mp4: 384x640 1 person, 6.0ms\n",
      "video 1/1 (1303/4362) D:\\Predict\\test_video.mp4: 384x640 1 guns, 1 person, 15.0ms\n",
      "video 1/1 (1304/4362) D:\\Predict\\test_video.mp4: 384x640 1 guns, 1 person, 6.0ms\n",
      "video 1/1 (1305/4362) D:\\Predict\\test_video.mp4: 384x640 1 person, 5.0ms\n",
      "video 1/1 (1306/4362) D:\\Predict\\test_video.mp4: 384x640 1 person, 6.0ms\n",
      "video 1/1 (1307/4362) D:\\Predict\\test_video.mp4: 384x640 1 guns, 1 person, 6.0ms\n",
      "video 1/1 (1308/4362) D:\\Predict\\test_video.mp4: 384x640 1 guns, 1 person, 6.0ms\n",
      "video 1/1 (1309/4362) D:\\Predict\\test_video.mp4: 384x640 1 person, 14.0ms\n",
      "video 1/1 (1310/4362) D:\\Predict\\test_video.mp4: 384x640 1 person, 5.0ms\n",
      "video 1/1 (1311/4362) D:\\Predict\\test_video.mp4: 384x640 1 person, 6.0ms\n",
      "video 1/1 (1312/4362) D:\\Predict\\test_video.mp4: 384x640 1 person, 6.0ms\n",
      "video 1/1 (1313/4362) D:\\Predict\\test_video.mp4: 384x640 1 person, 6.0ms\n",
      "video 1/1 (1314/4362) D:\\Predict\\test_video.mp4: 384x640 (no detections), 14.0ms\n",
      "video 1/1 (1315/4362) D:\\Predict\\test_video.mp4: 384x640 1 person, 6.0ms\n",
      "video 1/1 (1316/4362) D:\\Predict\\test_video.mp4: 384x640 1 person, 6.0ms\n",
      "video 1/1 (1317/4362) D:\\Predict\\test_video.mp4: 384x640 1 person, 6.0ms\n",
      "video 1/1 (1318/4362) D:\\Predict\\test_video.mp4: 384x640 1 person, 6.0ms\n",
      "video 1/1 (1319/4362) D:\\Predict\\test_video.mp4: 384x640 1 person, 6.0ms\n",
      "video 1/1 (1320/4362) D:\\Predict\\test_video.mp4: 384x640 1 person, 6.0ms\n",
      "video 1/1 (1321/4362) D:\\Predict\\test_video.mp4: 384x640 1 person, 5.0ms\n",
      "video 1/1 (1322/4362) D:\\Predict\\test_video.mp4: 384x640 1 person, 6.0ms\n",
      "video 1/1 (1323/4362) D:\\Predict\\test_video.mp4: 384x640 1 person, 14.0ms\n",
      "video 1/1 (1324/4362) D:\\Predict\\test_video.mp4: 384x640 1 person, 6.0ms\n",
      "video 1/1 (1325/4362) D:\\Predict\\test_video.mp4: 384x640 1 person, 5.0ms\n",
      "video 1/1 (1326/4362) D:\\Predict\\test_video.mp4: 384x640 1 person, 6.0ms\n",
      "video 1/1 (1327/4362) D:\\Predict\\test_video.mp4: 384x640 1 person, 6.0ms\n",
      "video 1/1 (1328/4362) D:\\Predict\\test_video.mp4: 384x640 1 person, 6.0ms\n",
      "video 1/1 (1329/4362) D:\\Predict\\test_video.mp4: 384x640 1 person, 5.0ms\n",
      "video 1/1 (1330/4362) D:\\Predict\\test_video.mp4: 384x640 1 person, 6.0ms\n",
      "video 1/1 (1331/4362) D:\\Predict\\test_video.mp4: 384x640 1 person, 6.0ms\n",
      "video 1/1 (1332/4362) D:\\Predict\\test_video.mp4: 384x640 1 person, 6.0ms\n",
      "video 1/1 (1333/4362) D:\\Predict\\test_video.mp4: 384x640 1 person, 6.0ms\n",
      "video 1/1 (1334/4362) D:\\Predict\\test_video.mp4: 384x640 1 person, 6.0ms\n",
      "video 1/1 (1335/4362) D:\\Predict\\test_video.mp4: 384x640 1 person, 14.0ms\n",
      "video 1/1 (1336/4362) D:\\Predict\\test_video.mp4: 384x640 1 person, 6.0ms\n",
      "video 1/1 (1337/4362) D:\\Predict\\test_video.mp4: 384x640 1 person, 6.0ms\n",
      "video 1/1 (1338/4362) D:\\Predict\\test_video.mp4: 384x640 1 person, 6.0ms\n",
      "video 1/1 (1339/4362) D:\\Predict\\test_video.mp4: 384x640 1 person, 6.0ms\n",
      "video 1/1 (1340/4362) D:\\Predict\\test_video.mp4: 384x640 1 person, 6.0ms\n",
      "video 1/1 (1341/4362) D:\\Predict\\test_video.mp4: 384x640 1 person, 6.0ms\n",
      "video 1/1 (1342/4362) D:\\Predict\\test_video.mp4: 384x640 1 guns, 1 person, 6.0ms\n",
      "video 1/1 (1343/4362) D:\\Predict\\test_video.mp4: 384x640 1 guns, 1 person, 6.0ms\n",
      "video 1/1 (1344/4362) D:\\Predict\\test_video.mp4: 384x640 1 guns, 1 person, 6.0ms\n",
      "video 1/1 (1345/4362) D:\\Predict\\test_video.mp4: 384x640 1 guns, 1 person, 6.0ms\n",
      "video 1/1 (1346/4362) D:\\Predict\\test_video.mp4: 384x640 1 person, 6.0ms\n",
      "video 1/1 (1347/4362) D:\\Predict\\test_video.mp4: 384x640 1 person, 6.0ms\n",
      "video 1/1 (1348/4362) D:\\Predict\\test_video.mp4: 384x640 1 person, 14.0ms\n",
      "video 1/1 (1349/4362) D:\\Predict\\test_video.mp4: 384x640 1 person, 6.0ms\n",
      "video 1/1 (1350/4362) D:\\Predict\\test_video.mp4: 384x640 1 person, 6.0ms\n",
      "video 1/1 (1351/4362) D:\\Predict\\test_video.mp4: 384x640 1 person, 6.0ms\n",
      "video 1/1 (1352/4362) D:\\Predict\\test_video.mp4: 384x640 1 person, 6.0ms\n",
      "video 1/1 (1353/4362) D:\\Predict\\test_video.mp4: 384x640 1 person, 6.0ms\n",
      "video 1/1 (1354/4362) D:\\Predict\\test_video.mp4: 384x640 1 guns, 1 person, 6.0ms\n",
      "video 1/1 (1355/4362) D:\\Predict\\test_video.mp4: 384x640 1 guns, 1 person, 13.0ms\n",
      "video 1/1 (1356/4362) D:\\Predict\\test_video.mp4: 384x640 1 person, 6.0ms\n",
      "video 1/1 (1357/4362) D:\\Predict\\test_video.mp4: 384x640 1 person, 6.0ms\n",
      "video 1/1 (1358/4362) D:\\Predict\\test_video.mp4: 384x640 1 person, 6.0ms\n",
      "video 1/1 (1359/4362) D:\\Predict\\test_video.mp4: 384x640 1 person, 5.0ms\n",
      "video 1/1 (1360/4362) D:\\Predict\\test_video.mp4: 384x640 1 person, 6.0ms\n",
      "video 1/1 (1361/4362) D:\\Predict\\test_video.mp4: 384x640 1 person, 6.0ms\n",
      "video 1/1 (1362/4362) D:\\Predict\\test_video.mp4: 384x640 1 person, 6.0ms\n",
      "video 1/1 (1363/4362) D:\\Predict\\test_video.mp4: 384x640 1 person, 6.0ms\n",
      "video 1/1 (1364/4362) D:\\Predict\\test_video.mp4: 384x640 1 person, 6.0ms\n",
      "video 1/1 (1365/4362) D:\\Predict\\test_video.mp4: 384x640 1 person, 6.0ms\n",
      "video 1/1 (1366/4362) D:\\Predict\\test_video.mp4: 384x640 1 person, 6.0ms\n",
      "video 1/1 (1367/4362) D:\\Predict\\test_video.mp4: 384x640 1 person, 6.0ms\n",
      "video 1/1 (1368/4362) D:\\Predict\\test_video.mp4: 384x640 1 person, 6.0ms\n",
      "video 1/1 (1369/4362) D:\\Predict\\test_video.mp4: 384x640 1 person, 5.0ms\n",
      "video 1/1 (1370/4362) D:\\Predict\\test_video.mp4: 384x640 1 person, 6.0ms\n",
      "video 1/1 (1371/4362) D:\\Predict\\test_video.mp4: 384x640 1 person, 6.0ms\n",
      "video 1/1 (1372/4362) D:\\Predict\\test_video.mp4: 384x640 1 person, 5.0ms\n",
      "video 1/1 (1373/4362) D:\\Predict\\test_video.mp4: 384x640 1 person, 6.0ms\n",
      "video 1/1 (1374/4362) D:\\Predict\\test_video.mp4: 384x640 1 person, 5.0ms\n",
      "video 1/1 (1375/4362) D:\\Predict\\test_video.mp4: 384x640 1 person, 5.0ms\n",
      "video 1/1 (1376/4362) D:\\Predict\\test_video.mp4: 384x640 1 person, 8.0ms\n",
      "video 1/1 (1377/4362) D:\\Predict\\test_video.mp4: 384x640 1 person, 6.0ms\n",
      "video 1/1 (1378/4362) D:\\Predict\\test_video.mp4: 384x640 1 person, 5.0ms\n",
      "video 1/1 (1379/4362) D:\\Predict\\test_video.mp4: 384x640 1 person, 5.0ms\n",
      "video 1/1 (1380/4362) D:\\Predict\\test_video.mp4: 384x640 1 person, 6.0ms\n",
      "video 1/1 (1381/4362) D:\\Predict\\test_video.mp4: 384x640 1 person, 6.0ms\n",
      "video 1/1 (1382/4362) D:\\Predict\\test_video.mp4: 384x640 1 person, 5.0ms\n",
      "video 1/1 (1383/4362) D:\\Predict\\test_video.mp4: 384x640 1 person, 8.0ms\n",
      "video 1/1 (1384/4362) D:\\Predict\\test_video.mp4: 384x640 1 person, 15.0ms\n",
      "video 1/1 (1385/4362) D:\\Predict\\test_video.mp4: 384x640 1 person, 5.0ms\n",
      "video 1/1 (1386/4362) D:\\Predict\\test_video.mp4: 384x640 1 person, 5.0ms\n",
      "video 1/1 (1387/4362) D:\\Predict\\test_video.mp4: 384x640 1 person, 6.0ms\n",
      "video 1/1 (1388/4362) D:\\Predict\\test_video.mp4: 384x640 1 person, 6.0ms\n",
      "video 1/1 (1389/4362) D:\\Predict\\test_video.mp4: 384x640 1 person, 6.0ms\n",
      "video 1/1 (1390/4362) D:\\Predict\\test_video.mp4: 384x640 1 person, 11.0ms\n",
      "video 1/1 (1391/4362) D:\\Predict\\test_video.mp4: 384x640 1 person, 5.0ms\n",
      "video 1/1 (1392/4362) D:\\Predict\\test_video.mp4: 384x640 1 person, 7.0ms\n",
      "video 1/1 (1393/4362) D:\\Predict\\test_video.mp4: 384x640 1 person, 15.0ms\n",
      "video 1/1 (1394/4362) D:\\Predict\\test_video.mp4: 384x640 (no detections), 15.0ms\n",
      "video 1/1 (1395/4362) D:\\Predict\\test_video.mp4: 384x640 (no detections), 6.0ms\n",
      "video 1/1 (1396/4362) D:\\Predict\\test_video.mp4: 384x640 (no detections), 13.0ms\n",
      "video 1/1 (1397/4362) D:\\Predict\\test_video.mp4: 384x640 (no detections), 6.0ms\n",
      "video 1/1 (1398/4362) D:\\Predict\\test_video.mp4: 384x640 (no detections), 16.0ms\n",
      "video 1/1 (1399/4362) D:\\Predict\\test_video.mp4: 384x640 1 person, 6.0ms\n",
      "video 1/1 (1400/4362) D:\\Predict\\test_video.mp4: 384x640 1 person, 5.0ms\n",
      "video 1/1 (1401/4362) D:\\Predict\\test_video.mp4: 384x640 1 person, 6.0ms\n",
      "video 1/1 (1402/4362) D:\\Predict\\test_video.mp4: 384x640 (no detections), 5.0ms\n",
      "video 1/1 (1403/4362) D:\\Predict\\test_video.mp4: 384x640 (no detections), 5.0ms\n",
      "video 1/1 (1404/4362) D:\\Predict\\test_video.mp4: 384x640 (no detections), 16.0ms\n",
      "video 1/1 (1405/4362) D:\\Predict\\test_video.mp4: 384x640 (no detections), 6.0ms\n",
      "video 1/1 (1406/4362) D:\\Predict\\test_video.mp4: 384x640 (no detections), 5.0ms\n",
      "video 1/1 (1407/4362) D:\\Predict\\test_video.mp4: 384x640 1 person, 5.0ms\n",
      "video 1/1 (1408/4362) D:\\Predict\\test_video.mp4: 384x640 1 person, 6.0ms\n",
      "video 1/1 (1409/4362) D:\\Predict\\test_video.mp4: 384x640 1 person, 6.0ms\n",
      "video 1/1 (1410/4362) D:\\Predict\\test_video.mp4: 384x640 1 person, 6.0ms\n",
      "video 1/1 (1411/4362) D:\\Predict\\test_video.mp4: 384x640 1 person, 6.0ms\n",
      "video 1/1 (1412/4362) D:\\Predict\\test_video.mp4: 384x640 1 person, 5.0ms\n",
      "video 1/1 (1413/4362) D:\\Predict\\test_video.mp4: 384x640 1 guns, 6.0ms\n",
      "video 1/1 (1414/4362) D:\\Predict\\test_video.mp4: 384x640 (no detections), 6.0ms\n",
      "video 1/1 (1415/4362) D:\\Predict\\test_video.mp4: 384x640 1 guns, 6.0ms\n",
      "video 1/1 (1416/4362) D:\\Predict\\test_video.mp4: 384x640 (no detections), 6.0ms\n",
      "video 1/1 (1417/4362) D:\\Predict\\test_video.mp4: 384x640 1 guns, 13.0ms\n",
      "video 1/1 (1418/4362) D:\\Predict\\test_video.mp4: 384x640 1 person, 6.0ms\n",
      "video 1/1 (1419/4362) D:\\Predict\\test_video.mp4: 384x640 1 person, 5.0ms\n",
      "video 1/1 (1420/4362) D:\\Predict\\test_video.mp4: 384x640 1 person, 6.0ms\n",
      "video 1/1 (1421/4362) D:\\Predict\\test_video.mp4: 384x640 1 person, 6.0ms\n",
      "video 1/1 (1422/4362) D:\\Predict\\test_video.mp4: 384x640 1 person, 6.0ms\n",
      "video 1/1 (1423/4362) D:\\Predict\\test_video.mp4: 384x640 1 person, 5.0ms\n",
      "video 1/1 (1424/4362) D:\\Predict\\test_video.mp4: 384x640 1 person, 6.0ms\n",
      "video 1/1 (1425/4362) D:\\Predict\\test_video.mp4: 384x640 1 person, 6.0ms\n",
      "video 1/1 (1426/4362) D:\\Predict\\test_video.mp4: 384x640 1 guns, 1 person, 5.0ms\n",
      "video 1/1 (1427/4362) D:\\Predict\\test_video.mp4: 384x640 1 person, 6.0ms\n",
      "video 1/1 (1428/4362) D:\\Predict\\test_video.mp4: 384x640 1 person, 6.0ms\n",
      "video 1/1 (1429/4362) D:\\Predict\\test_video.mp4: 384x640 1 person, 16.0ms\n",
      "video 1/1 (1430/4362) D:\\Predict\\test_video.mp4: 384x640 1 person, 5.0ms\n",
      "video 1/1 (1431/4362) D:\\Predict\\test_video.mp4: 384x640 1 person, 5.0ms\n",
      "video 1/1 (1432/4362) D:\\Predict\\test_video.mp4: 384x640 1 person, 5.0ms\n",
      "video 1/1 (1433/4362) D:\\Predict\\test_video.mp4: 384x640 1 person, 5.0ms\n",
      "video 1/1 (1434/4362) D:\\Predict\\test_video.mp4: 384x640 1 person, 5.0ms\n",
      "video 1/1 (1435/4362) D:\\Predict\\test_video.mp4: 384x640 1 person, 5.0ms\n",
      "video 1/1 (1436/4362) D:\\Predict\\test_video.mp4: 384x640 1 person, 6.0ms\n",
      "video 1/1 (1437/4362) D:\\Predict\\test_video.mp4: 384x640 1 person, 5.0ms\n",
      "video 1/1 (1438/4362) D:\\Predict\\test_video.mp4: 384x640 1 person, 5.0ms\n",
      "video 1/1 (1439/4362) D:\\Predict\\test_video.mp4: 384x640 1 person, 6.0ms\n",
      "video 1/1 (1440/4362) D:\\Predict\\test_video.mp4: 384x640 1 person, 7.0ms\n",
      "video 1/1 (1441/4362) D:\\Predict\\test_video.mp4: 384x640 1 person, 5.0ms\n",
      "video 1/1 (1442/4362) D:\\Predict\\test_video.mp4: 384x640 1 person, 6.0ms\n",
      "video 1/1 (1443/4362) D:\\Predict\\test_video.mp4: 384x640 1 person, 6.0ms\n",
      "video 1/1 (1444/4362) D:\\Predict\\test_video.mp4: 384x640 1 person, 5.0ms\n",
      "video 1/1 (1445/4362) D:\\Predict\\test_video.mp4: 384x640 1 person, 6.0ms\n",
      "video 1/1 (1446/4362) D:\\Predict\\test_video.mp4: 384x640 1 person, 6.0ms\n",
      "video 1/1 (1447/4362) D:\\Predict\\test_video.mp4: 384x640 1 person, 7.0ms\n",
      "video 1/1 (1448/4362) D:\\Predict\\test_video.mp4: 384x640 1 person, 6.0ms\n",
      "video 1/1 (1449/4362) D:\\Predict\\test_video.mp4: 384x640 1 person, 5.0ms\n",
      "video 1/1 (1450/4362) D:\\Predict\\test_video.mp4: 384x640 1 person, 5.0ms\n",
      "video 1/1 (1451/4362) D:\\Predict\\test_video.mp4: 384x640 (no detections), 5.0ms\n",
      "video 1/1 (1452/4362) D:\\Predict\\test_video.mp4: 384x640 (no detections), 7.0ms\n",
      "video 1/1 (1453/4362) D:\\Predict\\test_video.mp4: 384x640 (no detections), 6.0ms\n",
      "video 1/1 (1454/4362) D:\\Predict\\test_video.mp4: 384x640 1 person, 6.0ms\n",
      "video 1/1 (1455/4362) D:\\Predict\\test_video.mp4: 384x640 2 persons, 6.0ms\n",
      "video 1/1 (1456/4362) D:\\Predict\\test_video.mp4: 384x640 1 person, 6.0ms\n",
      "video 1/1 (1457/4362) D:\\Predict\\test_video.mp4: 384x640 1 person, 7.0ms\n",
      "video 1/1 (1458/4362) D:\\Predict\\test_video.mp4: 384x640 1 person, 5.0ms\n",
      "video 1/1 (1459/4362) D:\\Predict\\test_video.mp4: 384x640 1 person, 5.0ms\n",
      "video 1/1 (1460/4362) D:\\Predict\\test_video.mp4: 384x640 1 person, 5.0ms\n",
      "video 1/1 (1461/4362) D:\\Predict\\test_video.mp4: 384x640 1 person, 5.0ms\n",
      "video 1/1 (1462/4362) D:\\Predict\\test_video.mp4: 384x640 1 person, 8.0ms\n",
      "video 1/1 (1463/4362) D:\\Predict\\test_video.mp4: 384x640 1 person, 6.0ms\n",
      "video 1/1 (1464/4362) D:\\Predict\\test_video.mp4: 384x640 1 person, 5.0ms\n",
      "video 1/1 (1465/4362) D:\\Predict\\test_video.mp4: 384x640 (no detections), 5.0ms\n",
      "video 1/1 (1466/4362) D:\\Predict\\test_video.mp4: 384x640 (no detections), 5.0ms\n",
      "video 1/1 (1467/4362) D:\\Predict\\test_video.mp4: 384x640 (no detections), 5.0ms\n",
      "video 1/1 (1468/4362) D:\\Predict\\test_video.mp4: 384x640 (no detections), 7.0ms\n",
      "video 1/1 (1469/4362) D:\\Predict\\test_video.mp4: 384x640 (no detections), 7.0ms\n",
      "video 1/1 (1470/4362) D:\\Predict\\test_video.mp4: 384x640 (no detections), 6.0ms\n",
      "video 1/1 (1471/4362) D:\\Predict\\test_video.mp4: 384x640 (no detections), 5.0ms\n",
      "video 1/1 (1472/4362) D:\\Predict\\test_video.mp4: 384x640 1 guns, 6.0ms\n",
      "video 1/1 (1473/4362) D:\\Predict\\test_video.mp4: 384x640 (no detections), 6.0ms\n",
      "video 1/1 (1474/4362) D:\\Predict\\test_video.mp4: 384x640 (no detections), 6.0ms\n",
      "video 1/1 (1475/4362) D:\\Predict\\test_video.mp4: 384x640 1 guns, 6.0ms\n",
      "video 1/1 (1476/4362) D:\\Predict\\test_video.mp4: 384x640 1 guns, 5.0ms\n",
      "video 1/1 (1477/4362) D:\\Predict\\test_video.mp4: 384x640 (no detections), 6.0ms\n",
      "video 1/1 (1478/4362) D:\\Predict\\test_video.mp4: 384x640 (no detections), 6.0ms\n",
      "video 1/1 (1479/4362) D:\\Predict\\test_video.mp4: 384x640 (no detections), 5.0ms\n",
      "video 1/1 (1480/4362) D:\\Predict\\test_video.mp4: 384x640 1 guns, 5.0ms\n",
      "video 1/1 (1481/4362) D:\\Predict\\test_video.mp4: 384x640 (no detections), 5.0ms\n",
      "video 1/1 (1482/4362) D:\\Predict\\test_video.mp4: 384x640 (no detections), 5.0ms\n",
      "video 1/1 (1483/4362) D:\\Predict\\test_video.mp4: 384x640 (no detections), 5.0ms\n",
      "video 1/1 (1484/4362) D:\\Predict\\test_video.mp4: 384x640 1 guns, 5.0ms\n",
      "video 1/1 (1485/4362) D:\\Predict\\test_video.mp4: 384x640 1 guns, 5.0ms\n",
      "video 1/1 (1486/4362) D:\\Predict\\test_video.mp4: 384x640 1 guns, 5.0ms\n",
      "video 1/1 (1487/4362) D:\\Predict\\test_video.mp4: 384x640 1 guns, 5.0ms\n",
      "video 1/1 (1488/4362) D:\\Predict\\test_video.mp4: 384x640 1 guns, 5.0ms\n",
      "video 1/1 (1489/4362) D:\\Predict\\test_video.mp4: 384x640 (no detections), 5.0ms\n",
      "video 1/1 (1490/4362) D:\\Predict\\test_video.mp4: 384x640 (no detections), 5.0ms\n",
      "video 1/1 (1491/4362) D:\\Predict\\test_video.mp4: 384x640 (no detections), 5.0ms\n",
      "video 1/1 (1492/4362) D:\\Predict\\test_video.mp4: 384x640 (no detections), 5.0ms\n",
      "video 1/1 (1493/4362) D:\\Predict\\test_video.mp4: 384x640 (no detections), 5.0ms\n",
      "video 1/1 (1494/4362) D:\\Predict\\test_video.mp4: 384x640 (no detections), 6.0ms\n",
      "video 1/1 (1495/4362) D:\\Predict\\test_video.mp4: 384x640 (no detections), 6.0ms\n",
      "video 1/1 (1496/4362) D:\\Predict\\test_video.mp4: 384x640 (no detections), 6.0ms\n",
      "video 1/1 (1497/4362) D:\\Predict\\test_video.mp4: 384x640 (no detections), 6.0ms\n",
      "video 1/1 (1498/4362) D:\\Predict\\test_video.mp4: 384x640 (no detections), 6.0ms\n",
      "video 1/1 (1499/4362) D:\\Predict\\test_video.mp4: 384x640 (no detections), 6.0ms\n",
      "video 1/1 (1500/4362) D:\\Predict\\test_video.mp4: 384x640 (no detections), 7.0ms\n",
      "video 1/1 (1501/4362) D:\\Predict\\test_video.mp4: 384x640 (no detections), 5.0ms\n",
      "video 1/1 (1502/4362) D:\\Predict\\test_video.mp4: 384x640 (no detections), 5.0ms\n",
      "video 1/1 (1503/4362) D:\\Predict\\test_video.mp4: 384x640 (no detections), 5.0ms\n",
      "video 1/1 (1504/4362) D:\\Predict\\test_video.mp4: 384x640 (no detections), 5.0ms\n",
      "video 1/1 (1505/4362) D:\\Predict\\test_video.mp4: 384x640 (no detections), 5.0ms\n",
      "video 1/1 (1506/4362) D:\\Predict\\test_video.mp4: 384x640 (no detections), 6.0ms\n",
      "video 1/1 (1507/4362) D:\\Predict\\test_video.mp4: 384x640 (no detections), 6.0ms\n",
      "video 1/1 (1508/4362) D:\\Predict\\test_video.mp4: 384x640 (no detections), 5.0ms\n",
      "video 1/1 (1509/4362) D:\\Predict\\test_video.mp4: 384x640 (no detections), 5.0ms\n",
      "video 1/1 (1510/4362) D:\\Predict\\test_video.mp4: 384x640 (no detections), 6.0ms\n",
      "video 1/1 (1511/4362) D:\\Predict\\test_video.mp4: 384x640 1 guns, 6.0ms\n",
      "video 1/1 (1512/4362) D:\\Predict\\test_video.mp4: 384x640 1 guns, 5.0ms\n",
      "video 1/1 (1513/4362) D:\\Predict\\test_video.mp4: 384x640 1 guns, 5.0ms\n",
      "video 1/1 (1514/4362) D:\\Predict\\test_video.mp4: 384x640 1 guns, 5.0ms\n",
      "video 1/1 (1515/4362) D:\\Predict\\test_video.mp4: 384x640 (no detections), 5.0ms\n",
      "video 1/1 (1516/4362) D:\\Predict\\test_video.mp4: 384x640 (no detections), 5.0ms\n",
      "video 1/1 (1517/4362) D:\\Predict\\test_video.mp4: 384x640 (no detections), 5.0ms\n",
      "video 1/1 (1518/4362) D:\\Predict\\test_video.mp4: 384x640 (no detections), 5.0ms\n",
      "video 1/1 (1519/4362) D:\\Predict\\test_video.mp4: 384x640 (no detections), 5.0ms\n",
      "video 1/1 (1520/4362) D:\\Predict\\test_video.mp4: 384x640 (no detections), 5.0ms\n",
      "video 1/1 (1521/4362) D:\\Predict\\test_video.mp4: 384x640 (no detections), 7.0ms\n",
      "video 1/1 (1522/4362) D:\\Predict\\test_video.mp4: 384x640 (no detections), 5.0ms\n",
      "video 1/1 (1523/4362) D:\\Predict\\test_video.mp4: 384x640 (no detections), 5.0ms\n",
      "video 1/1 (1524/4362) D:\\Predict\\test_video.mp4: 384x640 (no detections), 5.0ms\n",
      "video 1/1 (1525/4362) D:\\Predict\\test_video.mp4: 384x640 1 guns, 6.0ms\n",
      "video 1/1 (1526/4362) D:\\Predict\\test_video.mp4: 384x640 (no detections), 5.0ms\n",
      "video 1/1 (1527/4362) D:\\Predict\\test_video.mp4: 384x640 (no detections), 6.0ms\n",
      "video 1/1 (1528/4362) D:\\Predict\\test_video.mp4: 384x640 (no detections), 5.0ms\n",
      "video 1/1 (1529/4362) D:\\Predict\\test_video.mp4: 384x640 (no detections), 5.0ms\n",
      "video 1/1 (1530/4362) D:\\Predict\\test_video.mp4: 384x640 (no detections), 5.0ms\n",
      "video 1/1 (1531/4362) D:\\Predict\\test_video.mp4: 384x640 (no detections), 6.0ms\n",
      "video 1/1 (1532/4362) D:\\Predict\\test_video.mp4: 384x640 (no detections), 5.0ms\n",
      "video 1/1 (1533/4362) D:\\Predict\\test_video.mp4: 384x640 (no detections), 5.0ms\n",
      "video 1/1 (1534/4362) D:\\Predict\\test_video.mp4: 384x640 (no detections), 5.0ms\n",
      "video 1/1 (1535/4362) D:\\Predict\\test_video.mp4: 384x640 (no detections), 6.0ms\n",
      "video 1/1 (1536/4362) D:\\Predict\\test_video.mp4: 384x640 (no detections), 6.0ms\n",
      "video 1/1 (1537/4362) D:\\Predict\\test_video.mp4: 384x640 (no detections), 9.0ms\n",
      "video 1/1 (1538/4362) D:\\Predict\\test_video.mp4: 384x640 1 person, 6.0ms\n",
      "video 1/1 (1539/4362) D:\\Predict\\test_video.mp4: 384x640 1 person, 5.0ms\n",
      "video 1/1 (1540/4362) D:\\Predict\\test_video.mp4: 384x640 1 person, 5.0ms\n",
      "video 1/1 (1541/4362) D:\\Predict\\test_video.mp4: 384x640 1 person, 5.0ms\n",
      "video 1/1 (1542/4362) D:\\Predict\\test_video.mp4: 384x640 1 person, 8.0ms\n",
      "video 1/1 (1543/4362) D:\\Predict\\test_video.mp4: 384x640 1 person, 5.0ms\n",
      "video 1/1 (1544/4362) D:\\Predict\\test_video.mp4: 384x640 1 person, 5.0ms\n",
      "video 1/1 (1545/4362) D:\\Predict\\test_video.mp4: 384x640 1 person, 5.0ms\n",
      "video 1/1 (1546/4362) D:\\Predict\\test_video.mp4: 384x640 1 person, 5.0ms\n",
      "video 1/1 (1547/4362) D:\\Predict\\test_video.mp4: 384x640 1 person, 5.0ms\n",
      "video 1/1 (1548/4362) D:\\Predict\\test_video.mp4: 384x640 2 persons, 9.0ms\n",
      "video 1/1 (1549/4362) D:\\Predict\\test_video.mp4: 384x640 2 persons, 6.0ms\n",
      "video 1/1 (1550/4362) D:\\Predict\\test_video.mp4: 384x640 2 persons, 6.0ms\n",
      "video 1/1 (1551/4362) D:\\Predict\\test_video.mp4: 384x640 1 person, 6.0ms\n",
      "video 1/1 (1552/4362) D:\\Predict\\test_video.mp4: 384x640 1 person, 9.0ms\n",
      "video 1/1 (1553/4362) D:\\Predict\\test_video.mp4: 384x640 1 person, 6.0ms\n",
      "video 1/1 (1554/4362) D:\\Predict\\test_video.mp4: 384x640 1 person, 5.0ms\n",
      "video 1/1 (1555/4362) D:\\Predict\\test_video.mp4: 384x640 1 person, 5.0ms\n",
      "video 1/1 (1556/4362) D:\\Predict\\test_video.mp4: 384x640 1 person, 5.0ms\n",
      "video 1/1 (1557/4362) D:\\Predict\\test_video.mp4: 384x640 1 person, 5.0ms\n",
      "video 1/1 (1558/4362) D:\\Predict\\test_video.mp4: 384x640 1 person, 6.0ms\n",
      "video 1/1 (1559/4362) D:\\Predict\\test_video.mp4: 384x640 1 person, 5.0ms\n",
      "video 1/1 (1560/4362) D:\\Predict\\test_video.mp4: 384x640 1 person, 5.0ms\n",
      "video 1/1 (1561/4362) D:\\Predict\\test_video.mp4: 384x640 1 person, 5.0ms\n",
      "video 1/1 (1562/4362) D:\\Predict\\test_video.mp4: 384x640 1 person, 5.0ms\n",
      "video 1/1 (1563/4362) D:\\Predict\\test_video.mp4: 384x640 1 person, 5.0ms\n",
      "video 1/1 (1564/4362) D:\\Predict\\test_video.mp4: 384x640 1 person, 6.0ms\n",
      "video 1/1 (1565/4362) D:\\Predict\\test_video.mp4: 384x640 1 person, 6.0ms\n",
      "video 1/1 (1566/4362) D:\\Predict\\test_video.mp4: 384x640 1 person, 6.0ms\n",
      "video 1/1 (1567/4362) D:\\Predict\\test_video.mp4: 384x640 1 person, 6.0ms\n",
      "video 1/1 (1568/4362) D:\\Predict\\test_video.mp4: 384x640 1 person, 6.0ms\n",
      "video 1/1 (1569/4362) D:\\Predict\\test_video.mp4: 384x640 1 person, 13.0ms\n",
      "video 1/1 (1570/4362) D:\\Predict\\test_video.mp4: 384x640 1 person, 6.0ms\n",
      "video 1/1 (1571/4362) D:\\Predict\\test_video.mp4: 384x640 1 person, 6.0ms\n",
      "video 1/1 (1572/4362) D:\\Predict\\test_video.mp4: 384x640 1 person, 6.0ms\n",
      "video 1/1 (1573/4362) D:\\Predict\\test_video.mp4: 384x640 1 person, 6.0ms\n",
      "video 1/1 (1574/4362) D:\\Predict\\test_video.mp4: 384x640 1 person, 6.0ms\n",
      "video 1/1 (1575/4362) D:\\Predict\\test_video.mp4: 384x640 1 person, 6.0ms\n",
      "video 1/1 (1576/4362) D:\\Predict\\test_video.mp4: 384x640 1 person, 6.0ms\n",
      "video 1/1 (1577/4362) D:\\Predict\\test_video.mp4: 384x640 1 person, 6.0ms\n",
      "video 1/1 (1578/4362) D:\\Predict\\test_video.mp4: 384x640 1 person, 6.0ms\n",
      "video 1/1 (1579/4362) D:\\Predict\\test_video.mp4: 384x640 1 person, 6.0ms\n",
      "video 1/1 (1580/4362) D:\\Predict\\test_video.mp4: 384x640 1 person, 18.0ms\n",
      "video 1/1 (1581/4362) D:\\Predict\\test_video.mp4: 384x640 1 person, 6.0ms\n",
      "video 1/1 (1582/4362) D:\\Predict\\test_video.mp4: 384x640 1 person, 5.0ms\n",
      "video 1/1 (1583/4362) D:\\Predict\\test_video.mp4: 384x640 1 person, 10.0ms\n",
      "video 1/1 (1584/4362) D:\\Predict\\test_video.mp4: 384x640 1 person, 8.0ms\n",
      "video 1/1 (1585/4362) D:\\Predict\\test_video.mp4: 384x640 1 person, 6.0ms\n",
      "video 1/1 (1586/4362) D:\\Predict\\test_video.mp4: 384x640 1 person, 5.0ms\n",
      "video 1/1 (1587/4362) D:\\Predict\\test_video.mp4: 384x640 1 person, 6.0ms\n",
      "video 1/1 (1588/4362) D:\\Predict\\test_video.mp4: 384x640 1 person, 5.0ms\n",
      "video 1/1 (1589/4362) D:\\Predict\\test_video.mp4: 384x640 1 person, 5.0ms\n",
      "video 1/1 (1590/4362) D:\\Predict\\test_video.mp4: 384x640 1 person, 8.0ms\n",
      "video 1/1 (1591/4362) D:\\Predict\\test_video.mp4: 384x640 1 person, 6.0ms\n",
      "video 1/1 (1592/4362) D:\\Predict\\test_video.mp4: 384x640 1 person, 5.0ms\n",
      "video 1/1 (1593/4362) D:\\Predict\\test_video.mp4: 384x640 1 person, 5.0ms\n",
      "video 1/1 (1594/4362) D:\\Predict\\test_video.mp4: 384x640 1 person, 6.0ms\n",
      "video 1/1 (1595/4362) D:\\Predict\\test_video.mp4: 384x640 1 person, 5.0ms\n",
      "video 1/1 (1596/4362) D:\\Predict\\test_video.mp4: 384x640 1 person, 7.0ms\n",
      "video 1/1 (1597/4362) D:\\Predict\\test_video.mp4: 384x640 1 person, 7.0ms\n",
      "video 1/1 (1598/4362) D:\\Predict\\test_video.mp4: 384x640 1 person, 7.0ms\n",
      "video 1/1 (1599/4362) D:\\Predict\\test_video.mp4: 384x640 1 person, 7.0ms\n",
      "video 1/1 (1600/4362) D:\\Predict\\test_video.mp4: 384x640 1 person, 7.0ms\n",
      "video 1/1 (1601/4362) D:\\Predict\\test_video.mp4: 384x640 1 person, 7.0ms\n",
      "video 1/1 (1602/4362) D:\\Predict\\test_video.mp4: 384x640 1 person, 8.0ms\n",
      "video 1/1 (1603/4362) D:\\Predict\\test_video.mp4: 384x640 1 person, 7.0ms\n",
      "video 1/1 (1604/4362) D:\\Predict\\test_video.mp4: 384x640 1 person, 7.0ms\n",
      "video 1/1 (1605/4362) D:\\Predict\\test_video.mp4: 384x640 1 person, 7.0ms\n",
      "video 1/1 (1606/4362) D:\\Predict\\test_video.mp4: 384x640 1 person, 5.0ms\n",
      "video 1/1 (1607/4362) D:\\Predict\\test_video.mp4: 384x640 1 person, 7.0ms\n",
      "video 1/1 (1608/4362) D:\\Predict\\test_video.mp4: 384x640 1 person, 8.0ms\n",
      "video 1/1 (1609/4362) D:\\Predict\\test_video.mp4: 384x640 1 person, 7.0ms\n",
      "video 1/1 (1610/4362) D:\\Predict\\test_video.mp4: 384x640 1 person, 5.0ms\n",
      "video 1/1 (1611/4362) D:\\Predict\\test_video.mp4: 384x640 1 person, 6.0ms\n",
      "video 1/1 (1612/4362) D:\\Predict\\test_video.mp4: 384x640 1 person, 8.0ms\n",
      "video 1/1 (1613/4362) D:\\Predict\\test_video.mp4: 384x640 1 person, 8.0ms\n",
      "video 1/1 (1614/4362) D:\\Predict\\test_video.mp4: 384x640 1 person, 7.0ms\n",
      "video 1/1 (1615/4362) D:\\Predict\\test_video.mp4: 384x640 1 person, 7.0ms\n",
      "video 1/1 (1616/4362) D:\\Predict\\test_video.mp4: 384x640 1 person, 7.0ms\n",
      "video 1/1 (1617/4362) D:\\Predict\\test_video.mp4: 384x640 1 person, 7.0ms\n",
      "video 1/1 (1618/4362) D:\\Predict\\test_video.mp4: 384x640 1 person, 8.0ms\n",
      "video 1/1 (1619/4362) D:\\Predict\\test_video.mp4: 384x640 1 person, 7.0ms\n",
      "video 1/1 (1620/4362) D:\\Predict\\test_video.mp4: 384x640 1 person, 6.0ms\n",
      "video 1/1 (1621/4362) D:\\Predict\\test_video.mp4: 384x640 1 person, 7.0ms\n",
      "video 1/1 (1622/4362) D:\\Predict\\test_video.mp4: 384x640 1 person, 6.0ms\n",
      "video 1/1 (1623/4362) D:\\Predict\\test_video.mp4: 384x640 1 person, 6.0ms\n",
      "video 1/1 (1624/4362) D:\\Predict\\test_video.mp4: 384x640 1 person, 5.0ms\n",
      "video 1/1 (1625/4362) D:\\Predict\\test_video.mp4: 384x640 1 guns, 1 person, 5.0ms\n",
      "video 1/1 (1626/4362) D:\\Predict\\test_video.mp4: 384x640 1 guns, 1 person, 6.0ms\n",
      "video 1/1 (1627/4362) D:\\Predict\\test_video.mp4: 384x640 1 guns, 1 person, 6.0ms\n",
      "video 1/1 (1628/4362) D:\\Predict\\test_video.mp4: 384x640 1 guns, 1 person, 5.0ms\n",
      "video 1/1 (1629/4362) D:\\Predict\\test_video.mp4: 384x640 1 guns, 1 person, 5.0ms\n",
      "video 1/1 (1630/4362) D:\\Predict\\test_video.mp4: 384x640 1 guns, 1 person, 5.0ms\n",
      "video 1/1 (1631/4362) D:\\Predict\\test_video.mp4: 384x640 1 person, 5.0ms\n",
      "video 1/1 (1632/4362) D:\\Predict\\test_video.mp4: 384x640 1 person, 5.0ms\n",
      "video 1/1 (1633/4362) D:\\Predict\\test_video.mp4: 384x640 1 person, 12.0ms\n",
      "video 1/1 (1634/4362) D:\\Predict\\test_video.mp4: 384x640 1 person, 7.0ms\n",
      "video 1/1 (1635/4362) D:\\Predict\\test_video.mp4: 384x640 1 person, 13.0ms\n",
      "video 1/1 (1636/4362) D:\\Predict\\test_video.mp4: 384x640 1 guns, 1 person, 6.0ms\n",
      "video 1/1 (1637/4362) D:\\Predict\\test_video.mp4: 384x640 1 person, 6.0ms\n",
      "video 1/1 (1638/4362) D:\\Predict\\test_video.mp4: 384x640 1 person, 6.0ms\n",
      "video 1/1 (1639/4362) D:\\Predict\\test_video.mp4: 384x640 1 person, 6.0ms\n",
      "video 1/1 (1640/4362) D:\\Predict\\test_video.mp4: 384x640 1 person, 6.0ms\n",
      "video 1/1 (1641/4362) D:\\Predict\\test_video.mp4: 384x640 1 person, 6.0ms\n",
      "video 1/1 (1642/4362) D:\\Predict\\test_video.mp4: 384x640 1 person, 6.0ms\n",
      "video 1/1 (1643/4362) D:\\Predict\\test_video.mp4: 384x640 1 person, 7.0ms\n",
      "video 1/1 (1644/4362) D:\\Predict\\test_video.mp4: 384x640 1 person, 18.0ms\n",
      "video 1/1 (1645/4362) D:\\Predict\\test_video.mp4: 384x640 1 person, 11.0ms\n",
      "video 1/1 (1646/4362) D:\\Predict\\test_video.mp4: 384x640 1 person, 6.0ms\n",
      "video 1/1 (1647/4362) D:\\Predict\\test_video.mp4: 384x640 1 person, 26.0ms\n",
      "video 1/1 (1648/4362) D:\\Predict\\test_video.mp4: 384x640 1 person, 5.0ms\n",
      "video 1/1 (1649/4362) D:\\Predict\\test_video.mp4: 384x640 1 person, 6.0ms\n",
      "video 1/1 (1650/4362) D:\\Predict\\test_video.mp4: 384x640 1 person, 6.0ms\n",
      "video 1/1 (1651/4362) D:\\Predict\\test_video.mp4: 384x640 1 person, 6.0ms\n",
      "video 1/1 (1652/4362) D:\\Predict\\test_video.mp4: 384x640 1 person, 7.0ms\n",
      "video 1/1 (1653/4362) D:\\Predict\\test_video.mp4: 384x640 1 person, 9.0ms\n",
      "video 1/1 (1654/4362) D:\\Predict\\test_video.mp4: 384x640 1 person, 7.0ms\n",
      "video 1/1 (1655/4362) D:\\Predict\\test_video.mp4: 384x640 1 person, 7.0ms\n",
      "video 1/1 (1656/4362) D:\\Predict\\test_video.mp4: 384x640 1 person, 6.0ms\n",
      "video 1/1 (1657/4362) D:\\Predict\\test_video.mp4: 384x640 1 person, 7.0ms\n",
      "video 1/1 (1658/4362) D:\\Predict\\test_video.mp4: 384x640 1 person, 6.0ms\n",
      "video 1/1 (1659/4362) D:\\Predict\\test_video.mp4: 384x640 1 person, 6.0ms\n",
      "video 1/1 (1660/4362) D:\\Predict\\test_video.mp4: 384x640 1 person, 7.0ms\n",
      "video 1/1 (1661/4362) D:\\Predict\\test_video.mp4: 384x640 1 person, 7.0ms\n",
      "video 1/1 (1662/4362) D:\\Predict\\test_video.mp4: 384x640 1 person, 5.0ms\n",
      "video 1/1 (1663/4362) D:\\Predict\\test_video.mp4: 384x640 1 person, 7.0ms\n",
      "video 1/1 (1664/4362) D:\\Predict\\test_video.mp4: 384x640 1 person, 7.0ms\n",
      "video 1/1 (1665/4362) D:\\Predict\\test_video.mp4: 384x640 1 person, 7.0ms\n",
      "video 1/1 (1666/4362) D:\\Predict\\test_video.mp4: 384x640 (no detections), 6.0ms\n",
      "video 1/1 (1667/4362) D:\\Predict\\test_video.mp4: 384x640 (no detections), 5.0ms\n",
      "video 1/1 (1668/4362) D:\\Predict\\test_video.mp4: 384x640 (no detections), 5.0ms\n",
      "video 1/1 (1669/4362) D:\\Predict\\test_video.mp4: 384x640 1 person, 5.0ms\n",
      "video 1/1 (1670/4362) D:\\Predict\\test_video.mp4: 384x640 1 person, 13.0ms\n",
      "video 1/1 (1671/4362) D:\\Predict\\test_video.mp4: 384x640 1 person, 10.0ms\n",
      "video 1/1 (1672/4362) D:\\Predict\\test_video.mp4: 384x640 1 person, 5.0ms\n",
      "video 1/1 (1673/4362) D:\\Predict\\test_video.mp4: 384x640 1 person, 5.0ms\n",
      "video 1/1 (1674/4362) D:\\Predict\\test_video.mp4: 384x640 1 person, 5.0ms\n",
      "video 1/1 (1675/4362) D:\\Predict\\test_video.mp4: 384x640 1 person, 5.0ms\n",
      "video 1/1 (1676/4362) D:\\Predict\\test_video.mp4: 384x640 1 person, 5.0ms\n",
      "video 1/1 (1677/4362) D:\\Predict\\test_video.mp4: 384x640 1 person, 5.0ms\n",
      "video 1/1 (1678/4362) D:\\Predict\\test_video.mp4: 384x640 1 person, 5.0ms\n",
      "video 1/1 (1679/4362) D:\\Predict\\test_video.mp4: 384x640 1 person, 5.0ms\n",
      "video 1/1 (1680/4362) D:\\Predict\\test_video.mp4: 384x640 1 person, 6.0ms\n",
      "video 1/1 (1681/4362) D:\\Predict\\test_video.mp4: 384x640 1 person, 7.0ms\n",
      "video 1/1 (1682/4362) D:\\Predict\\test_video.mp4: 384x640 1 person, 5.0ms\n",
      "video 1/1 (1683/4362) D:\\Predict\\test_video.mp4: 384x640 1 person, 5.0ms\n",
      "video 1/1 (1684/4362) D:\\Predict\\test_video.mp4: 384x640 1 person, 5.0ms\n",
      "video 1/1 (1685/4362) D:\\Predict\\test_video.mp4: 384x640 (no detections), 6.0ms\n",
      "video 1/1 (1686/4362) D:\\Predict\\test_video.mp4: 384x640 1 person, 5.0ms\n",
      "video 1/1 (1687/4362) D:\\Predict\\test_video.mp4: 384x640 1 person, 5.0ms\n",
      "video 1/1 (1688/4362) D:\\Predict\\test_video.mp4: 384x640 1 person, 5.0ms\n",
      "video 1/1 (1689/4362) D:\\Predict\\test_video.mp4: 384x640 1 person, 6.0ms\n",
      "video 1/1 (1690/4362) D:\\Predict\\test_video.mp4: 384x640 1 person, 6.0ms\n",
      "video 1/1 (1691/4362) D:\\Predict\\test_video.mp4: 384x640 1 person, 5.0ms\n",
      "video 1/1 (1692/4362) D:\\Predict\\test_video.mp4: 384x640 1 person, 6.0ms\n",
      "video 1/1 (1693/4362) D:\\Predict\\test_video.mp4: 384x640 1 person, 5.0ms\n",
      "video 1/1 (1694/4362) D:\\Predict\\test_video.mp4: 384x640 1 person, 5.0ms\n",
      "video 1/1 (1695/4362) D:\\Predict\\test_video.mp4: 384x640 1 person, 5.0ms\n",
      "video 1/1 (1696/4362) D:\\Predict\\test_video.mp4: 384x640 (no detections), 5.0ms\n",
      "video 1/1 (1697/4362) D:\\Predict\\test_video.mp4: 384x640 1 person, 5.0ms\n",
      "video 1/1 (1698/4362) D:\\Predict\\test_video.mp4: 384x640 1 person, 5.0ms\n",
      "video 1/1 (1699/4362) D:\\Predict\\test_video.mp4: 384x640 (no detections), 6.0ms\n",
      "video 1/1 (1700/4362) D:\\Predict\\test_video.mp4: 384x640 (no detections), 6.0ms\n",
      "video 1/1 (1701/4362) D:\\Predict\\test_video.mp4: 384x640 (no detections), 5.0ms\n",
      "video 1/1 (1702/4362) D:\\Predict\\test_video.mp4: 384x640 (no detections), 6.0ms\n",
      "video 1/1 (1703/4362) D:\\Predict\\test_video.mp4: 384x640 (no detections), 5.0ms\n",
      "video 1/1 (1704/4362) D:\\Predict\\test_video.mp4: 384x640 (no detections), 5.0ms\n",
      "video 1/1 (1705/4362) D:\\Predict\\test_video.mp4: 384x640 (no detections), 7.0ms\n",
      "video 1/1 (1706/4362) D:\\Predict\\test_video.mp4: 384x640 (no detections), 6.0ms\n",
      "video 1/1 (1707/4362) D:\\Predict\\test_video.mp4: 384x640 (no detections), 5.0ms\n",
      "video 1/1 (1708/4362) D:\\Predict\\test_video.mp4: 384x640 (no detections), 5.0ms\n",
      "video 1/1 (1709/4362) D:\\Predict\\test_video.mp4: 384x640 (no detections), 5.0ms\n",
      "video 1/1 (1710/4362) D:\\Predict\\test_video.mp4: 384x640 (no detections), 6.0ms\n",
      "video 1/1 (1711/4362) D:\\Predict\\test_video.mp4: 384x640 (no detections), 6.0ms\n",
      "video 1/1 (1712/4362) D:\\Predict\\test_video.mp4: 384x640 (no detections), 5.0ms\n",
      "video 1/1 (1713/4362) D:\\Predict\\test_video.mp4: 384x640 (no detections), 6.0ms\n",
      "video 1/1 (1714/4362) D:\\Predict\\test_video.mp4: 384x640 (no detections), 5.0ms\n",
      "video 1/1 (1715/4362) D:\\Predict\\test_video.mp4: 384x640 (no detections), 6.0ms\n",
      "video 1/1 (1716/4362) D:\\Predict\\test_video.mp4: 384x640 (no detections), 5.0ms\n",
      "video 1/1 (1717/4362) D:\\Predict\\test_video.mp4: 384x640 (no detections), 5.0ms\n",
      "video 1/1 (1718/4362) D:\\Predict\\test_video.mp4: 384x640 (no detections), 5.0ms\n",
      "video 1/1 (1719/4362) D:\\Predict\\test_video.mp4: 384x640 (no detections), 5.0ms\n",
      "video 1/1 (1720/4362) D:\\Predict\\test_video.mp4: 384x640 (no detections), 5.0ms\n",
      "video 1/1 (1721/4362) D:\\Predict\\test_video.mp4: 384x640 (no detections), 5.0ms\n",
      "video 1/1 (1722/4362) D:\\Predict\\test_video.mp4: 384x640 (no detections), 5.0ms\n",
      "video 1/1 (1723/4362) D:\\Predict\\test_video.mp4: 384x640 (no detections), 7.0ms\n",
      "video 1/1 (1724/4362) D:\\Predict\\test_video.mp4: 384x640 (no detections), 6.0ms\n",
      "video 1/1 (1725/4362) D:\\Predict\\test_video.mp4: 384x640 (no detections), 5.0ms\n",
      "video 1/1 (1726/4362) D:\\Predict\\test_video.mp4: 384x640 (no detections), 6.0ms\n",
      "video 1/1 (1727/4362) D:\\Predict\\test_video.mp4: 384x640 (no detections), 6.0ms\n",
      "video 1/1 (1728/4362) D:\\Predict\\test_video.mp4: 384x640 (no detections), 5.0ms\n",
      "video 1/1 (1729/4362) D:\\Predict\\test_video.mp4: 384x640 (no detections), 6.0ms\n",
      "video 1/1 (1730/4362) D:\\Predict\\test_video.mp4: 384x640 (no detections), 6.0ms\n",
      "video 1/1 (1731/4362) D:\\Predict\\test_video.mp4: 384x640 (no detections), 5.0ms\n",
      "video 1/1 (1732/4362) D:\\Predict\\test_video.mp4: 384x640 (no detections), 6.0ms\n",
      "video 1/1 (1733/4362) D:\\Predict\\test_video.mp4: 384x640 (no detections), 5.0ms\n",
      "video 1/1 (1734/4362) D:\\Predict\\test_video.mp4: 384x640 (no detections), 5.0ms\n",
      "video 1/1 (1735/4362) D:\\Predict\\test_video.mp4: 384x640 (no detections), 5.0ms\n",
      "video 1/1 (1736/4362) D:\\Predict\\test_video.mp4: 384x640 1 person, 6.0ms\n",
      "video 1/1 (1737/4362) D:\\Predict\\test_video.mp4: 384x640 1 person, 6.0ms\n",
      "video 1/1 (1738/4362) D:\\Predict\\test_video.mp4: 384x640 (no detections), 6.0ms\n",
      "video 1/1 (1739/4362) D:\\Predict\\test_video.mp4: 384x640 (no detections), 5.0ms\n",
      "video 1/1 (1740/4362) D:\\Predict\\test_video.mp4: 384x640 (no detections), 5.0ms\n",
      "video 1/1 (1741/4362) D:\\Predict\\test_video.mp4: 384x640 1 person, 6.0ms\n",
      "video 1/1 (1742/4362) D:\\Predict\\test_video.mp4: 384x640 (no detections), 6.0ms\n",
      "video 1/1 (1743/4362) D:\\Predict\\test_video.mp4: 384x640 (no detections), 5.0ms\n",
      "video 1/1 (1744/4362) D:\\Predict\\test_video.mp4: 384x640 (no detections), 5.0ms\n",
      "video 1/1 (1745/4362) D:\\Predict\\test_video.mp4: 384x640 (no detections), 5.0ms\n",
      "video 1/1 (1746/4362) D:\\Predict\\test_video.mp4: 384x640 (no detections), 6.0ms\n",
      "video 1/1 (1747/4362) D:\\Predict\\test_video.mp4: 384x640 (no detections), 5.0ms\n",
      "video 1/1 (1748/4362) D:\\Predict\\test_video.mp4: 384x640 (no detections), 6.0ms\n",
      "video 1/1 (1749/4362) D:\\Predict\\test_video.mp4: 384x640 (no detections), 5.0ms\n",
      "video 1/1 (1750/4362) D:\\Predict\\test_video.mp4: 384x640 (no detections), 5.0ms\n",
      "video 1/1 (1751/4362) D:\\Predict\\test_video.mp4: 384x640 (no detections), 5.0ms\n",
      "video 1/1 (1752/4362) D:\\Predict\\test_video.mp4: 384x640 (no detections), 5.0ms\n",
      "video 1/1 (1753/4362) D:\\Predict\\test_video.mp4: 384x640 (no detections), 6.0ms\n",
      "video 1/1 (1754/4362) D:\\Predict\\test_video.mp4: 384x640 (no detections), 6.0ms\n",
      "video 1/1 (1755/4362) D:\\Predict\\test_video.mp4: 384x640 (no detections), 5.0ms\n",
      "video 1/1 (1756/4362) D:\\Predict\\test_video.mp4: 384x640 (no detections), 5.0ms\n",
      "video 1/1 (1757/4362) D:\\Predict\\test_video.mp4: 384x640 (no detections), 5.0ms\n",
      "video 1/1 (1758/4362) D:\\Predict\\test_video.mp4: 384x640 (no detections), 7.0ms\n",
      "video 1/1 (1759/4362) D:\\Predict\\test_video.mp4: 384x640 (no detections), 5.0ms\n",
      "video 1/1 (1760/4362) D:\\Predict\\test_video.mp4: 384x640 (no detections), 5.0ms\n",
      "video 1/1 (1761/4362) D:\\Predict\\test_video.mp4: 384x640 (no detections), 5.0ms\n",
      "video 1/1 (1762/4362) D:\\Predict\\test_video.mp4: 384x640 1 person, 7.0ms\n",
      "video 1/1 (1763/4362) D:\\Predict\\test_video.mp4: 384x640 1 person, 6.0ms\n",
      "video 1/1 (1764/4362) D:\\Predict\\test_video.mp4: 384x640 1 person, 5.0ms\n",
      "video 1/1 (1765/4362) D:\\Predict\\test_video.mp4: 384x640 1 person, 5.0ms\n",
      "video 1/1 (1766/4362) D:\\Predict\\test_video.mp4: 384x640 1 person, 5.0ms\n",
      "video 1/1 (1767/4362) D:\\Predict\\test_video.mp4: 384x640 1 person, 5.0ms\n",
      "video 1/1 (1768/4362) D:\\Predict\\test_video.mp4: 384x640 1 person, 5.0ms\n",
      "video 1/1 (1769/4362) D:\\Predict\\test_video.mp4: 384x640 1 person, 5.0ms\n",
      "video 1/1 (1770/4362) D:\\Predict\\test_video.mp4: 384x640 1 person, 5.0ms\n",
      "video 1/1 (1771/4362) D:\\Predict\\test_video.mp4: 384x640 1 person, 5.0ms\n",
      "video 1/1 (1772/4362) D:\\Predict\\test_video.mp4: 384x640 1 person, 5.0ms\n",
      "video 1/1 (1773/4362) D:\\Predict\\test_video.mp4: 384x640 1 person, 5.0ms\n",
      "video 1/1 (1774/4362) D:\\Predict\\test_video.mp4: 384x640 1 person, 5.0ms\n",
      "video 1/1 (1775/4362) D:\\Predict\\test_video.mp4: 384x640 1 person, 5.0ms\n",
      "video 1/1 (1776/4362) D:\\Predict\\test_video.mp4: 384x640 1 person, 5.0ms\n",
      "video 1/1 (1777/4362) D:\\Predict\\test_video.mp4: 384x640 1 person, 5.0ms\n",
      "video 1/1 (1778/4362) D:\\Predict\\test_video.mp4: 384x640 1 person, 7.0ms\n",
      "video 1/1 (1779/4362) D:\\Predict\\test_video.mp4: 384x640 1 person, 5.0ms\n",
      "video 1/1 (1780/4362) D:\\Predict\\test_video.mp4: 384x640 1 person, 5.0ms\n",
      "video 1/1 (1781/4362) D:\\Predict\\test_video.mp4: 384x640 1 person, 5.0ms\n",
      "video 1/1 (1782/4362) D:\\Predict\\test_video.mp4: 384x640 1 person, 5.0ms\n",
      "video 1/1 (1783/4362) D:\\Predict\\test_video.mp4: 384x640 1 person, 5.0ms\n",
      "video 1/1 (1784/4362) D:\\Predict\\test_video.mp4: 384x640 1 person, 5.0ms\n",
      "video 1/1 (1785/4362) D:\\Predict\\test_video.mp4: 384x640 1 person, 5.0ms\n",
      "video 1/1 (1786/4362) D:\\Predict\\test_video.mp4: 384x640 1 person, 5.0ms\n",
      "video 1/1 (1787/4362) D:\\Predict\\test_video.mp4: 384x640 1 person, 6.0ms\n",
      "video 1/1 (1788/4362) D:\\Predict\\test_video.mp4: 384x640 1 person, 5.0ms\n",
      "video 1/1 (1789/4362) D:\\Predict\\test_video.mp4: 384x640 1 person, 5.0ms\n",
      "video 1/1 (1790/4362) D:\\Predict\\test_video.mp4: 384x640 1 person, 6.0ms\n",
      "video 1/1 (1791/4362) D:\\Predict\\test_video.mp4: 384x640 1 person, 6.0ms\n",
      "video 1/1 (1792/4362) D:\\Predict\\test_video.mp4: 384x640 (no detections), 5.0ms\n",
      "video 1/1 (1793/4362) D:\\Predict\\test_video.mp4: 384x640 (no detections), 5.0ms\n",
      "video 1/1 (1794/4362) D:\\Predict\\test_video.mp4: 384x640 (no detections), 6.0ms\n",
      "video 1/1 (1795/4362) D:\\Predict\\test_video.mp4: 384x640 (no detections), 6.0ms\n",
      "video 1/1 (1796/4362) D:\\Predict\\test_video.mp4: 384x640 (no detections), 5.0ms\n",
      "video 1/1 (1797/4362) D:\\Predict\\test_video.mp4: 384x640 (no detections), 5.0ms\n",
      "video 1/1 (1798/4362) D:\\Predict\\test_video.mp4: 384x640 1 person, 6.0ms\n",
      "video 1/1 (1799/4362) D:\\Predict\\test_video.mp4: 384x640 1 person, 5.0ms\n",
      "video 1/1 (1800/4362) D:\\Predict\\test_video.mp4: 384x640 1 person, 5.0ms\n",
      "video 1/1 (1801/4362) D:\\Predict\\test_video.mp4: 384x640 1 person, 5.0ms\n",
      "video 1/1 (1802/4362) D:\\Predict\\test_video.mp4: 384x640 1 person, 5.0ms\n",
      "video 1/1 (1803/4362) D:\\Predict\\test_video.mp4: 384x640 1 person, 5.0ms\n",
      "video 1/1 (1804/4362) D:\\Predict\\test_video.mp4: 384x640 1 person, 5.0ms\n",
      "video 1/1 (1805/4362) D:\\Predict\\test_video.mp4: 384x640 1 person, 8.0ms\n",
      "video 1/1 (1806/4362) D:\\Predict\\test_video.mp4: 384x640 1 person, 12.0ms\n",
      "video 1/1 (1807/4362) D:\\Predict\\test_video.mp4: 384x640 1 person, 5.0ms\n",
      "video 1/1 (1808/4362) D:\\Predict\\test_video.mp4: 384x640 (no detections), 6.0ms\n",
      "video 1/1 (1809/4362) D:\\Predict\\test_video.mp4: 384x640 1 guns, 13.0ms\n",
      "video 1/1 (1810/4362) D:\\Predict\\test_video.mp4: 384x640 (no detections), 5.0ms\n",
      "video 1/1 (1811/4362) D:\\Predict\\test_video.mp4: 384x640 (no detections), 18.0ms\n",
      "video 1/1 (1812/4362) D:\\Predict\\test_video.mp4: 384x640 (no detections), 6.0ms\n",
      "video 1/1 (1813/4362) D:\\Predict\\test_video.mp4: 384x640 (no detections), 6.0ms\n",
      "video 1/1 (1814/4362) D:\\Predict\\test_video.mp4: 384x640 1 person, 8.0ms\n",
      "video 1/1 (1815/4362) D:\\Predict\\test_video.mp4: 384x640 1 person, 5.0ms\n",
      "video 1/1 (1816/4362) D:\\Predict\\test_video.mp4: 384x640 1 person, 5.0ms\n",
      "video 1/1 (1817/4362) D:\\Predict\\test_video.mp4: 384x640 1 person, 11.0ms\n",
      "video 1/1 (1818/4362) D:\\Predict\\test_video.mp4: 384x640 1 person, 5.0ms\n",
      "video 1/1 (1819/4362) D:\\Predict\\test_video.mp4: 384x640 1 person, 5.0ms\n",
      "video 1/1 (1820/4362) D:\\Predict\\test_video.mp4: 384x640 1 person, 8.0ms\n",
      "video 1/1 (1821/4362) D:\\Predict\\test_video.mp4: 384x640 1 person, 7.0ms\n",
      "video 1/1 (1822/4362) D:\\Predict\\test_video.mp4: 384x640 1 person, 8.0ms\n",
      "video 1/1 (1823/4362) D:\\Predict\\test_video.mp4: 384x640 1 guns, 1 person, 8.0ms\n",
      "video 1/1 (1824/4362) D:\\Predict\\test_video.mp4: 384x640 1 person, 7.0ms\n",
      "video 1/1 (1825/4362) D:\\Predict\\test_video.mp4: 384x640 2 gunss, 1 person, 7.0ms\n",
      "video 1/1 (1826/4362) D:\\Predict\\test_video.mp4: 384x640 2 gunss, 1 person, 6.0ms\n",
      "video 1/1 (1827/4362) D:\\Predict\\test_video.mp4: 384x640 1 guns, 1 person, 6.0ms\n",
      "video 1/1 (1828/4362) D:\\Predict\\test_video.mp4: 384x640 1 guns, 1 person, 6.0ms\n",
      "video 1/1 (1829/4362) D:\\Predict\\test_video.mp4: 384x640 1 guns, 1 person, 5.0ms\n",
      "video 1/1 (1830/4362) D:\\Predict\\test_video.mp4: 384x640 1 guns, 1 person, 6.0ms\n",
      "video 1/1 (1831/4362) D:\\Predict\\test_video.mp4: 384x640 1 guns, 1 person, 7.0ms\n",
      "video 1/1 (1832/4362) D:\\Predict\\test_video.mp4: 384x640 1 guns, 1 person, 7.0ms\n",
      "video 1/1 (1833/4362) D:\\Predict\\test_video.mp4: 384x640 1 guns, 1 person, 7.0ms\n",
      "video 1/1 (1834/4362) D:\\Predict\\test_video.mp4: 384x640 1 person, 5.0ms\n",
      "video 1/1 (1835/4362) D:\\Predict\\test_video.mp4: 384x640 1 person, 7.0ms\n",
      "video 1/1 (1836/4362) D:\\Predict\\test_video.mp4: 384x640 1 person, 7.0ms\n",
      "video 1/1 (1837/4362) D:\\Predict\\test_video.mp4: 384x640 1 person, 7.0ms\n",
      "video 1/1 (1838/4362) D:\\Predict\\test_video.mp4: 384x640 1 person, 5.0ms\n",
      "video 1/1 (1839/4362) D:\\Predict\\test_video.mp4: 384x640 1 person, 8.0ms\n",
      "video 1/1 (1840/4362) D:\\Predict\\test_video.mp4: 384x640 1 person, 7.0ms\n",
      "video 1/1 (1841/4362) D:\\Predict\\test_video.mp4: 384x640 1 person, 8.0ms\n",
      "video 1/1 (1842/4362) D:\\Predict\\test_video.mp4: 384x640 1 person, 8.0ms\n",
      "video 1/1 (1843/4362) D:\\Predict\\test_video.mp4: 384x640 1 person, 7.0ms\n",
      "video 1/1 (1844/4362) D:\\Predict\\test_video.mp4: 384x640 1 person, 9.0ms\n",
      "video 1/1 (1845/4362) D:\\Predict\\test_video.mp4: 384x640 1 person, 7.0ms\n",
      "video 1/1 (1846/4362) D:\\Predict\\test_video.mp4: 384x640 1 person, 6.0ms\n",
      "video 1/1 (1847/4362) D:\\Predict\\test_video.mp4: 384x640 1 person, 5.0ms\n",
      "video 1/1 (1848/4362) D:\\Predict\\test_video.mp4: 384x640 1 person, 5.0ms\n",
      "video 1/1 (1849/4362) D:\\Predict\\test_video.mp4: 384x640 1 person, 6.0ms\n",
      "video 1/1 (1850/4362) D:\\Predict\\test_video.mp4: 384x640 1 person, 5.0ms\n",
      "video 1/1 (1851/4362) D:\\Predict\\test_video.mp4: 384x640 1 person, 5.0ms\n",
      "video 1/1 (1852/4362) D:\\Predict\\test_video.mp4: 384x640 1 person, 6.0ms\n",
      "video 1/1 (1853/4362) D:\\Predict\\test_video.mp4: 384x640 1 person, 8.0ms\n",
      "video 1/1 (1854/4362) D:\\Predict\\test_video.mp4: 384x640 1 person, 7.0ms\n",
      "video 1/1 (1855/4362) D:\\Predict\\test_video.mp4: 384x640 1 person, 7.0ms\n",
      "video 1/1 (1856/4362) D:\\Predict\\test_video.mp4: 384x640 1 person, 6.0ms\n",
      "video 1/1 (1857/4362) D:\\Predict\\test_video.mp4: 384x640 1 person, 7.0ms\n",
      "video 1/1 (1858/4362) D:\\Predict\\test_video.mp4: 384x640 1 person, 5.0ms\n",
      "video 1/1 (1859/4362) D:\\Predict\\test_video.mp4: 384x640 1 person, 6.0ms\n",
      "video 1/1 (1860/4362) D:\\Predict\\test_video.mp4: 384x640 1 person, 7.0ms\n",
      "video 1/1 (1861/4362) D:\\Predict\\test_video.mp4: 384x640 1 person, 7.0ms\n",
      "video 1/1 (1862/4362) D:\\Predict\\test_video.mp4: 384x640 1 person, 5.0ms\n",
      "video 1/1 (1863/4362) D:\\Predict\\test_video.mp4: 384x640 1 person, 7.0ms\n",
      "video 1/1 (1864/4362) D:\\Predict\\test_video.mp4: 384x640 1 person, 6.0ms\n",
      "video 1/1 (1865/4362) D:\\Predict\\test_video.mp4: 384x640 1 person, 7.0ms\n",
      "video 1/1 (1866/4362) D:\\Predict\\test_video.mp4: 384x640 1 person, 5.0ms\n",
      "video 1/1 (1867/4362) D:\\Predict\\test_video.mp4: 384x640 1 person, 7.0ms\n",
      "video 1/1 (1868/4362) D:\\Predict\\test_video.mp4: 384x640 1 person, 8.0ms\n",
      "video 1/1 (1869/4362) D:\\Predict\\test_video.mp4: 384x640 1 person, 7.0ms\n",
      "video 1/1 (1870/4362) D:\\Predict\\test_video.mp4: 384x640 1 person, 8.0ms\n",
      "video 1/1 (1871/4362) D:\\Predict\\test_video.mp4: 384x640 1 person, 14.0ms\n",
      "video 1/1 (1872/4362) D:\\Predict\\test_video.mp4: 384x640 1 person, 6.0ms\n",
      "video 1/1 (1873/4362) D:\\Predict\\test_video.mp4: 384x640 1 person, 6.0ms\n",
      "video 1/1 (1874/4362) D:\\Predict\\test_video.mp4: 384x640 1 person, 6.0ms\n",
      "video 1/1 (1875/4362) D:\\Predict\\test_video.mp4: 384x640 1 person, 22.0ms\n",
      "video 1/1 (1876/4362) D:\\Predict\\test_video.mp4: 384x640 1 person, 16.0ms\n",
      "video 1/1 (1877/4362) D:\\Predict\\test_video.mp4: 384x640 1 person, 6.0ms\n",
      "video 1/1 (1878/4362) D:\\Predict\\test_video.mp4: 384x640 1 person, 8.0ms\n",
      "video 1/1 (1879/4362) D:\\Predict\\test_video.mp4: 384x640 1 person, 13.0ms\n",
      "video 1/1 (1880/4362) D:\\Predict\\test_video.mp4: 384x640 1 person, 6.0ms\n",
      "video 1/1 (1881/4362) D:\\Predict\\test_video.mp4: 384x640 1 person, 6.0ms\n",
      "video 1/1 (1882/4362) D:\\Predict\\test_video.mp4: 384x640 1 person, 6.0ms\n",
      "video 1/1 (1883/4362) D:\\Predict\\test_video.mp4: 384x640 1 person, 14.0ms\n",
      "video 1/1 (1884/4362) D:\\Predict\\test_video.mp4: 384x640 1 person, 7.0ms\n",
      "video 1/1 (1885/4362) D:\\Predict\\test_video.mp4: 384x640 1 person, 6.0ms\n",
      "video 1/1 (1886/4362) D:\\Predict\\test_video.mp4: 384x640 1 person, 6.0ms\n",
      "video 1/1 (1887/4362) D:\\Predict\\test_video.mp4: 384x640 1 person, 18.0ms\n",
      "video 1/1 (1888/4362) D:\\Predict\\test_video.mp4: 384x640 1 guns, 25.0ms\n",
      "video 1/1 (1889/4362) D:\\Predict\\test_video.mp4: 384x640 1 guns, 20.0ms\n",
      "video 1/1 (1890/4362) D:\\Predict\\test_video.mp4: 384x640 1 guns, 21.0ms\n",
      "video 1/1 (1891/4362) D:\\Predict\\test_video.mp4: 384x640 (no detections), 7.0ms\n",
      "video 1/1 (1892/4362) D:\\Predict\\test_video.mp4: 384x640 (no detections), 5.0ms\n",
      "video 1/1 (1893/4362) D:\\Predict\\test_video.mp4: 384x640 (no detections), 6.0ms\n",
      "video 1/1 (1894/4362) D:\\Predict\\test_video.mp4: 384x640 1 guns, 1 person, 7.0ms\n",
      "video 1/1 (1895/4362) D:\\Predict\\test_video.mp4: 384x640 1 guns, 1 person, 5.0ms\n",
      "video 1/1 (1896/4362) D:\\Predict\\test_video.mp4: 384x640 1 guns, 1 person, 6.0ms\n",
      "video 1/1 (1897/4362) D:\\Predict\\test_video.mp4: 384x640 1 guns, 1 person, 5.0ms\n",
      "video 1/1 (1898/4362) D:\\Predict\\test_video.mp4: 384x640 1 guns, 1 person, 7.0ms\n",
      "video 1/1 (1899/4362) D:\\Predict\\test_video.mp4: 384x640 1 guns, 1 person, 6.0ms\n",
      "video 1/1 (1900/4362) D:\\Predict\\test_video.mp4: 384x640 1 guns, 1 person, 5.0ms\n",
      "video 1/1 (1901/4362) D:\\Predict\\test_video.mp4: 384x640 1 person, 5.0ms\n",
      "video 1/1 (1902/4362) D:\\Predict\\test_video.mp4: 384x640 1 guns, 1 person, 6.0ms\n",
      "video 1/1 (1903/4362) D:\\Predict\\test_video.mp4: 384x640 1 person, 7.0ms\n",
      "video 1/1 (1904/4362) D:\\Predict\\test_video.mp4: 384x640 1 guns, 1 person, 6.0ms\n",
      "video 1/1 (1905/4362) D:\\Predict\\test_video.mp4: 384x640 1 guns, 6.0ms\n",
      "video 1/1 (1906/4362) D:\\Predict\\test_video.mp4: 384x640 1 person, 5.0ms\n",
      "video 1/1 (1907/4362) D:\\Predict\\test_video.mp4: 384x640 1 person, 5.0ms\n",
      "video 1/1 (1908/4362) D:\\Predict\\test_video.mp4: 384x640 1 person, 6.0ms\n",
      "video 1/1 (1909/4362) D:\\Predict\\test_video.mp4: 384x640 1 person, 5.0ms\n",
      "video 1/1 (1910/4362) D:\\Predict\\test_video.mp4: 384x640 1 person, 5.0ms\n",
      "video 1/1 (1911/4362) D:\\Predict\\test_video.mp4: 384x640 1 person, 7.0ms\n",
      "video 1/1 (1912/4362) D:\\Predict\\test_video.mp4: 384x640 1 person, 5.0ms\n",
      "video 1/1 (1913/4362) D:\\Predict\\test_video.mp4: 384x640 1 person, 6.0ms\n",
      "video 1/1 (1914/4362) D:\\Predict\\test_video.mp4: 384x640 1 person, 5.0ms\n",
      "video 1/1 (1915/4362) D:\\Predict\\test_video.mp4: 384x640 1 person, 6.0ms\n",
      "video 1/1 (1916/4362) D:\\Predict\\test_video.mp4: 384x640 1 person, 6.0ms\n",
      "video 1/1 (1917/4362) D:\\Predict\\test_video.mp4: 384x640 1 person, 7.0ms\n",
      "video 1/1 (1918/4362) D:\\Predict\\test_video.mp4: 384x640 1 person, 6.0ms\n",
      "video 1/1 (1919/4362) D:\\Predict\\test_video.mp4: 384x640 1 guns, 1 person, 6.0ms\n",
      "video 1/1 (1920/4362) D:\\Predict\\test_video.mp4: 384x640 1 guns, 1 person, 6.0ms\n",
      "video 1/1 (1921/4362) D:\\Predict\\test_video.mp4: 384x640 1 person, 6.0ms\n",
      "video 1/1 (1922/4362) D:\\Predict\\test_video.mp4: 384x640 1 person, 6.0ms\n",
      "video 1/1 (1923/4362) D:\\Predict\\test_video.mp4: 384x640 1 person, 6.0ms\n",
      "video 1/1 (1924/4362) D:\\Predict\\test_video.mp4: 384x640 1 person, 7.0ms\n",
      "video 1/1 (1925/4362) D:\\Predict\\test_video.mp4: 384x640 1 person, 6.0ms\n",
      "video 1/1 (1926/4362) D:\\Predict\\test_video.mp4: 384x640 (no detections), 6.0ms\n",
      "video 1/1 (1927/4362) D:\\Predict\\test_video.mp4: 384x640 (no detections), 6.0ms\n",
      "video 1/1 (1928/4362) D:\\Predict\\test_video.mp4: 384x640 1 person, 6.0ms\n",
      "video 1/1 (1929/4362) D:\\Predict\\test_video.mp4: 384x640 1 person, 5.0ms\n",
      "video 1/1 (1930/4362) D:\\Predict\\test_video.mp4: 384x640 1 person, 5.0ms\n",
      "video 1/1 (1931/4362) D:\\Predict\\test_video.mp4: 384x640 1 person, 6.0ms\n",
      "video 1/1 (1932/4362) D:\\Predict\\test_video.mp4: 384x640 (no detections), 5.0ms\n",
      "video 1/1 (1933/4362) D:\\Predict\\test_video.mp4: 384x640 (no detections), 6.0ms\n",
      "video 1/1 (1934/4362) D:\\Predict\\test_video.mp4: 384x640 (no detections), 6.0ms\n",
      "video 1/1 (1935/4362) D:\\Predict\\test_video.mp4: 384x640 (no detections), 6.0ms\n",
      "video 1/1 (1936/4362) D:\\Predict\\test_video.mp4: 384x640 (no detections), 5.0ms\n",
      "video 1/1 (1937/4362) D:\\Predict\\test_video.mp4: 384x640 (no detections), 7.0ms\n",
      "video 1/1 (1938/4362) D:\\Predict\\test_video.mp4: 384x640 (no detections), 5.0ms\n",
      "video 1/1 (1939/4362) D:\\Predict\\test_video.mp4: 384x640 (no detections), 5.0ms\n",
      "video 1/1 (1940/4362) D:\\Predict\\test_video.mp4: 384x640 (no detections), 6.0ms\n",
      "video 1/1 (1941/4362) D:\\Predict\\test_video.mp4: 384x640 (no detections), 5.0ms\n",
      "video 1/1 (1942/4362) D:\\Predict\\test_video.mp4: 384x640 (no detections), 5.0ms\n",
      "video 1/1 (1943/4362) D:\\Predict\\test_video.mp4: 384x640 (no detections), 5.0ms\n",
      "video 1/1 (1944/4362) D:\\Predict\\test_video.mp4: 384x640 (no detections), 5.0ms\n",
      "video 1/1 (1945/4362) D:\\Predict\\test_video.mp4: 384x640 (no detections), 5.0ms\n",
      "video 1/1 (1946/4362) D:\\Predict\\test_video.mp4: 384x640 (no detections), 5.0ms\n",
      "video 1/1 (1947/4362) D:\\Predict\\test_video.mp4: 384x640 (no detections), 6.0ms\n",
      "video 1/1 (1948/4362) D:\\Predict\\test_video.mp4: 384x640 (no detections), 5.0ms\n",
      "video 1/1 (1949/4362) D:\\Predict\\test_video.mp4: 384x640 (no detections), 5.0ms\n",
      "video 1/1 (1950/4362) D:\\Predict\\test_video.mp4: 384x640 (no detections), 5.0ms\n",
      "video 1/1 (1951/4362) D:\\Predict\\test_video.mp4: 384x640 (no detections), 5.0ms\n",
      "video 1/1 (1952/4362) D:\\Predict\\test_video.mp4: 384x640 1 person, 5.0ms\n",
      "video 1/1 (1953/4362) D:\\Predict\\test_video.mp4: 384x640 (no detections), 5.0ms\n",
      "video 1/1 (1954/4362) D:\\Predict\\test_video.mp4: 384x640 1 person, 5.0ms\n",
      "video 1/1 (1955/4362) D:\\Predict\\test_video.mp4: 384x640 (no detections), 6.0ms\n",
      "video 1/1 (1956/4362) D:\\Predict\\test_video.mp4: 384x640 (no detections), 5.0ms\n",
      "video 1/1 (1957/4362) D:\\Predict\\test_video.mp4: 384x640 (no detections), 5.0ms\n",
      "video 1/1 (1958/4362) D:\\Predict\\test_video.mp4: 384x640 (no detections), 5.0ms\n",
      "video 1/1 (1959/4362) D:\\Predict\\test_video.mp4: 384x640 (no detections), 5.0ms\n",
      "video 1/1 (1960/4362) D:\\Predict\\test_video.mp4: 384x640 (no detections), 5.0ms\n",
      "video 1/1 (1961/4362) D:\\Predict\\test_video.mp4: 384x640 (no detections), 5.0ms\n",
      "video 1/1 (1962/4362) D:\\Predict\\test_video.mp4: 384x640 (no detections), 6.0ms\n",
      "video 1/1 (1963/4362) D:\\Predict\\test_video.mp4: 384x640 (no detections), 5.0ms\n",
      "video 1/1 (1964/4362) D:\\Predict\\test_video.mp4: 384x640 (no detections), 6.0ms\n",
      "video 1/1 (1965/4362) D:\\Predict\\test_video.mp4: 384x640 (no detections), 6.0ms\n",
      "video 1/1 (1966/4362) D:\\Predict\\test_video.mp4: 384x640 (no detections), 6.0ms\n",
      "video 1/1 (1967/4362) D:\\Predict\\test_video.mp4: 384x640 (no detections), 6.0ms\n",
      "video 1/1 (1968/4362) D:\\Predict\\test_video.mp4: 384x640 (no detections), 6.0ms\n",
      "video 1/1 (1969/4362) D:\\Predict\\test_video.mp4: 384x640 (no detections), 5.0ms\n",
      "video 1/1 (1970/4362) D:\\Predict\\test_video.mp4: 384x640 (no detections), 8.0ms\n",
      "video 1/1 (1971/4362) D:\\Predict\\test_video.mp4: 384x640 (no detections), 5.0ms\n",
      "video 1/1 (1972/4362) D:\\Predict\\test_video.mp4: 384x640 (no detections), 6.0ms\n",
      "video 1/1 (1973/4362) D:\\Predict\\test_video.mp4: 384x640 (no detections), 6.0ms\n",
      "video 1/1 (1974/4362) D:\\Predict\\test_video.mp4: 384x640 (no detections), 5.0ms\n",
      "video 1/1 (1975/4362) D:\\Predict\\test_video.mp4: 384x640 (no detections), 6.0ms\n",
      "video 1/1 (1976/4362) D:\\Predict\\test_video.mp4: 384x640 (no detections), 6.0ms\n",
      "video 1/1 (1977/4362) D:\\Predict\\test_video.mp4: 384x640 (no detections), 5.0ms\n",
      "video 1/1 (1978/4362) D:\\Predict\\test_video.mp4: 384x640 (no detections), 5.0ms\n",
      "video 1/1 (1979/4362) D:\\Predict\\test_video.mp4: 384x640 (no detections), 5.0ms\n",
      "video 1/1 (1980/4362) D:\\Predict\\test_video.mp4: 384x640 (no detections), 5.0ms\n",
      "video 1/1 (1981/4362) D:\\Predict\\test_video.mp4: 384x640 (no detections), 6.0ms\n",
      "video 1/1 (1982/4362) D:\\Predict\\test_video.mp4: 384x640 (no detections), 5.0ms\n",
      "video 1/1 (1983/4362) D:\\Predict\\test_video.mp4: 384x640 (no detections), 5.0ms\n",
      "video 1/1 (1984/4362) D:\\Predict\\test_video.mp4: 384x640 (no detections), 5.0ms\n",
      "video 1/1 (1985/4362) D:\\Predict\\test_video.mp4: 384x640 (no detections), 6.0ms\n",
      "video 1/1 (1986/4362) D:\\Predict\\test_video.mp4: 384x640 (no detections), 6.0ms\n",
      "video 1/1 (1987/4362) D:\\Predict\\test_video.mp4: 384x640 (no detections), 5.0ms\n",
      "video 1/1 (1988/4362) D:\\Predict\\test_video.mp4: 384x640 (no detections), 6.0ms\n",
      "video 1/1 (1989/4362) D:\\Predict\\test_video.mp4: 384x640 (no detections), 5.0ms\n",
      "video 1/1 (1990/4362) D:\\Predict\\test_video.mp4: 384x640 (no detections), 5.0ms\n",
      "video 1/1 (1991/4362) D:\\Predict\\test_video.mp4: 384x640 1 person, 5.0ms\n",
      "video 1/1 (1992/4362) D:\\Predict\\test_video.mp4: 384x640 1 person, 5.0ms\n",
      "video 1/1 (1993/4362) D:\\Predict\\test_video.mp4: 384x640 1 person, 6.0ms\n",
      "video 1/1 (1994/4362) D:\\Predict\\test_video.mp4: 384x640 1 person, 5.0ms\n",
      "video 1/1 (1995/4362) D:\\Predict\\test_video.mp4: 384x640 1 person, 5.0ms\n",
      "video 1/1 (1996/4362) D:\\Predict\\test_video.mp4: 384x640 1 person, 5.0ms\n",
      "video 1/1 (1997/4362) D:\\Predict\\test_video.mp4: 384x640 1 person, 5.0ms\n",
      "video 1/1 (1998/4362) D:\\Predict\\test_video.mp4: 384x640 1 person, 5.0ms\n",
      "video 1/1 (1999/4362) D:\\Predict\\test_video.mp4: 384x640 1 guns, 1 person, 7.0ms\n",
      "video 1/1 (2000/4362) D:\\Predict\\test_video.mp4: 384x640 1 guns, 1 person, 8.0ms\n",
      "video 1/1 (2001/4362) D:\\Predict\\test_video.mp4: 384x640 1 guns, 1 person, 6.0ms\n",
      "video 1/1 (2002/4362) D:\\Predict\\test_video.mp4: 384x640 1 guns, 1 person, 5.0ms\n",
      "video 1/1 (2003/4362) D:\\Predict\\test_video.mp4: 384x640 1 person, 6.0ms\n",
      "video 1/1 (2004/4362) D:\\Predict\\test_video.mp4: 384x640 1 person, 6.0ms\n",
      "video 1/1 (2005/4362) D:\\Predict\\test_video.mp4: 384x640 1 person, 10.0ms\n",
      "video 1/1 (2006/4362) D:\\Predict\\test_video.mp4: 384x640 1 person, 7.0ms\n",
      "video 1/1 (2007/4362) D:\\Predict\\test_video.mp4: 384x640 1 person, 7.0ms\n",
      "video 1/1 (2008/4362) D:\\Predict\\test_video.mp4: 384x640 1 person, 5.0ms\n",
      "video 1/1 (2009/4362) D:\\Predict\\test_video.mp4: 384x640 1 person, 6.0ms\n",
      "video 1/1 (2010/4362) D:\\Predict\\test_video.mp4: 384x640 1 guns, 1 person, 6.0ms\n",
      "video 1/1 (2011/4362) D:\\Predict\\test_video.mp4: 384x640 1 person, 6.0ms\n",
      "video 1/1 (2012/4362) D:\\Predict\\test_video.mp4: 384x640 1 person, 9.0ms\n",
      "video 1/1 (2013/4362) D:\\Predict\\test_video.mp4: 384x640 1 person, 6.0ms\n",
      "video 1/1 (2014/4362) D:\\Predict\\test_video.mp4: 384x640 1 person, 6.0ms\n",
      "video 1/1 (2015/4362) D:\\Predict\\test_video.mp4: 384x640 1 person, 9.0ms\n",
      "video 1/1 (2016/4362) D:\\Predict\\test_video.mp4: 384x640 1 guns, 1 person, 6.0ms\n",
      "video 1/1 (2017/4362) D:\\Predict\\test_video.mp4: 384x640 1 person, 6.0ms\n",
      "video 1/1 (2018/4362) D:\\Predict\\test_video.mp4: 384x640 1 guns, 1 person, 5.0ms\n",
      "video 1/1 (2019/4362) D:\\Predict\\test_video.mp4: 384x640 1 person, 9.0ms\n",
      "video 1/1 (2020/4362) D:\\Predict\\test_video.mp4: 384x640 1 person, 5.0ms\n",
      "video 1/1 (2021/4362) D:\\Predict\\test_video.mp4: 384x640 1 person, 6.0ms\n",
      "video 1/1 (2022/4362) D:\\Predict\\test_video.mp4: 384x640 1 person, 7.0ms\n",
      "video 1/1 (2023/4362) D:\\Predict\\test_video.mp4: 384x640 1 person, 7.0ms\n",
      "video 1/1 (2024/4362) D:\\Predict\\test_video.mp4: 384x640 1 person, 5.0ms\n",
      "video 1/1 (2025/4362) D:\\Predict\\test_video.mp4: 384x640 1 person, 5.0ms\n",
      "video 1/1 (2026/4362) D:\\Predict\\test_video.mp4: 384x640 1 person, 6.0ms\n",
      "video 1/1 (2027/4362) D:\\Predict\\test_video.mp4: 384x640 1 person, 10.0ms\n",
      "video 1/1 (2028/4362) D:\\Predict\\test_video.mp4: 384x640 1 person, 6.0ms\n",
      "video 1/1 (2029/4362) D:\\Predict\\test_video.mp4: 384x640 1 person, 6.0ms\n",
      "video 1/1 (2030/4362) D:\\Predict\\test_video.mp4: 384x640 1 person, 5.0ms\n",
      "video 1/1 (2031/4362) D:\\Predict\\test_video.mp4: 384x640 1 person, 5.0ms\n",
      "video 1/1 (2032/4362) D:\\Predict\\test_video.mp4: 384x640 (no detections), 5.0ms\n",
      "video 1/1 (2033/4362) D:\\Predict\\test_video.mp4: 384x640 1 person, 5.0ms\n",
      "video 1/1 (2034/4362) D:\\Predict\\test_video.mp4: 384x640 (no detections), 5.0ms\n",
      "video 1/1 (2035/4362) D:\\Predict\\test_video.mp4: 384x640 1 person, 6.0ms\n",
      "video 1/1 (2036/4362) D:\\Predict\\test_video.mp4: 384x640 (no detections), 6.0ms\n",
      "video 1/1 (2037/4362) D:\\Predict\\test_video.mp4: 384x640 (no detections), 8.0ms\n",
      "video 1/1 (2038/4362) D:\\Predict\\test_video.mp4: 384x640 (no detections), 8.0ms\n",
      "video 1/1 (2039/4362) D:\\Predict\\test_video.mp4: 384x640 1 person, 9.0ms\n",
      "video 1/1 (2040/4362) D:\\Predict\\test_video.mp4: 384x640 1 person, 8.0ms\n",
      "video 1/1 (2041/4362) D:\\Predict\\test_video.mp4: 384x640 1 person, 8.0ms\n",
      "video 1/1 (2042/4362) D:\\Predict\\test_video.mp4: 384x640 1 person, 11.0ms\n",
      "video 1/1 (2043/4362) D:\\Predict\\test_video.mp4: 384x640 1 person, 6.0ms\n",
      "video 1/1 (2044/4362) D:\\Predict\\test_video.mp4: 384x640 2 persons, 16.0ms\n",
      "video 1/1 (2045/4362) D:\\Predict\\test_video.mp4: 384x640 1 person, 15.0ms\n",
      "video 1/1 (2046/4362) D:\\Predict\\test_video.mp4: 384x640 2 persons, 6.0ms\n",
      "video 1/1 (2047/4362) D:\\Predict\\test_video.mp4: 384x640 2 persons, 6.0ms\n",
      "video 1/1 (2048/4362) D:\\Predict\\test_video.mp4: 384x640 (no detections), 5.0ms\n",
      "video 1/1 (2049/4362) D:\\Predict\\test_video.mp4: 384x640 (no detections), 6.0ms\n",
      "video 1/1 (2050/4362) D:\\Predict\\test_video.mp4: 384x640 1 person, 24.0ms\n",
      "video 1/1 (2051/4362) D:\\Predict\\test_video.mp4: 384x640 (no detections), 15.0ms\n",
      "video 1/1 (2052/4362) D:\\Predict\\test_video.mp4: 384x640 1 person, 6.0ms\n",
      "video 1/1 (2053/4362) D:\\Predict\\test_video.mp4: 384x640 1 person, 5.0ms\n",
      "video 1/1 (2054/4362) D:\\Predict\\test_video.mp4: 384x640 1 person, 8.0ms\n",
      "video 1/1 (2055/4362) D:\\Predict\\test_video.mp4: 384x640 1 person, 7.0ms\n",
      "video 1/1 (2056/4362) D:\\Predict\\test_video.mp4: 384x640 1 person, 8.0ms\n",
      "video 1/1 (2057/4362) D:\\Predict\\test_video.mp4: 384x640 1 person, 6.0ms\n",
      "video 1/1 (2058/4362) D:\\Predict\\test_video.mp4: 384x640 1 person, 7.0ms\n",
      "video 1/1 (2059/4362) D:\\Predict\\test_video.mp4: 384x640 1 person, 7.0ms\n",
      "video 1/1 (2060/4362) D:\\Predict\\test_video.mp4: 384x640 1 person, 7.0ms\n",
      "video 1/1 (2061/4362) D:\\Predict\\test_video.mp4: 384x640 1 person, 6.0ms\n",
      "video 1/1 (2062/4362) D:\\Predict\\test_video.mp4: 384x640 1 person, 5.0ms\n",
      "video 1/1 (2063/4362) D:\\Predict\\test_video.mp4: 384x640 1 person, 5.0ms\n",
      "video 1/1 (2064/4362) D:\\Predict\\test_video.mp4: 384x640 1 person, 7.0ms\n",
      "video 1/1 (2065/4362) D:\\Predict\\test_video.mp4: 384x640 1 person, 6.0ms\n",
      "video 1/1 (2066/4362) D:\\Predict\\test_video.mp4: 384x640 1 person, 5.0ms\n",
      "video 1/1 (2067/4362) D:\\Predict\\test_video.mp4: 384x640 1 person, 5.0ms\n",
      "video 1/1 (2068/4362) D:\\Predict\\test_video.mp4: 384x640 1 guns, 1 person, 5.0ms\n",
      "video 1/1 (2069/4362) D:\\Predict\\test_video.mp4: 384x640 1 person, 6.0ms\n",
      "video 1/1 (2070/4362) D:\\Predict\\test_video.mp4: 384x640 1 person, 6.0ms\n",
      "video 1/1 (2071/4362) D:\\Predict\\test_video.mp4: 384x640 1 person, 6.0ms\n",
      "video 1/1 (2072/4362) D:\\Predict\\test_video.mp4: 384x640 1 person, 5.0ms\n",
      "video 1/1 (2073/4362) D:\\Predict\\test_video.mp4: 384x640 1 person, 6.0ms\n",
      "video 1/1 (2074/4362) D:\\Predict\\test_video.mp4: 384x640 1 person, 6.0ms\n",
      "video 1/1 (2075/4362) D:\\Predict\\test_video.mp4: 384x640 1 person, 7.0ms\n",
      "video 1/1 (2076/4362) D:\\Predict\\test_video.mp4: 384x640 1 person, 7.0ms\n",
      "video 1/1 (2077/4362) D:\\Predict\\test_video.mp4: 384x640 1 person, 7.0ms\n",
      "video 1/1 (2078/4362) D:\\Predict\\test_video.mp4: 384x640 1 person, 5.0ms\n",
      "video 1/1 (2079/4362) D:\\Predict\\test_video.mp4: 384x640 1 person, 7.0ms\n",
      "video 1/1 (2080/4362) D:\\Predict\\test_video.mp4: 384x640 1 person, 7.0ms\n",
      "video 1/1 (2081/4362) D:\\Predict\\test_video.mp4: 384x640 1 person, 6.0ms\n",
      "video 1/1 (2082/4362) D:\\Predict\\test_video.mp4: 384x640 1 person, 7.0ms\n",
      "video 1/1 (2083/4362) D:\\Predict\\test_video.mp4: 384x640 1 person, 5.0ms\n",
      "video 1/1 (2084/4362) D:\\Predict\\test_video.mp4: 384x640 1 person, 7.0ms\n",
      "video 1/1 (2085/4362) D:\\Predict\\test_video.mp4: 384x640 1 person, 7.0ms\n",
      "video 1/1 (2086/4362) D:\\Predict\\test_video.mp4: 384x640 1 person, 7.0ms\n",
      "video 1/1 (2087/4362) D:\\Predict\\test_video.mp4: 384x640 1 person, 5.0ms\n",
      "video 1/1 (2088/4362) D:\\Predict\\test_video.mp4: 384x640 1 person, 7.0ms\n",
      "video 1/1 (2089/4362) D:\\Predict\\test_video.mp4: 384x640 1 person, 7.0ms\n",
      "video 1/1 (2090/4362) D:\\Predict\\test_video.mp4: 384x640 1 person, 6.0ms\n",
      "video 1/1 (2091/4362) D:\\Predict\\test_video.mp4: 384x640 1 person, 9.0ms\n",
      "video 1/1 (2092/4362) D:\\Predict\\test_video.mp4: 384x640 1 person, 6.0ms\n",
      "video 1/1 (2093/4362) D:\\Predict\\test_video.mp4: 384x640 1 person, 5.0ms\n",
      "video 1/1 (2094/4362) D:\\Predict\\test_video.mp4: 384x640 1 person, 5.0ms\n",
      "video 1/1 (2095/4362) D:\\Predict\\test_video.mp4: 384x640 1 person, 5.0ms\n",
      "video 1/1 (2096/4362) D:\\Predict\\test_video.mp4: 384x640 1 person, 6.0ms\n",
      "video 1/1 (2097/4362) D:\\Predict\\test_video.mp4: 384x640 1 person, 5.0ms\n",
      "video 1/1 (2098/4362) D:\\Predict\\test_video.mp4: 384x640 1 person, 5.0ms\n",
      "video 1/1 (2099/4362) D:\\Predict\\test_video.mp4: 384x640 1 person, 5.0ms\n",
      "video 1/1 (2100/4362) D:\\Predict\\test_video.mp4: 384x640 1 person, 5.0ms\n",
      "video 1/1 (2101/4362) D:\\Predict\\test_video.mp4: 384x640 1 person, 5.0ms\n",
      "video 1/1 (2102/4362) D:\\Predict\\test_video.mp4: 384x640 1 person, 5.0ms\n",
      "video 1/1 (2103/4362) D:\\Predict\\test_video.mp4: 384x640 1 person, 6.0ms\n",
      "video 1/1 (2104/4362) D:\\Predict\\test_video.mp4: 384x640 1 person, 5.0ms\n",
      "video 1/1 (2105/4362) D:\\Predict\\test_video.mp4: 384x640 1 person, 5.0ms\n",
      "video 1/1 (2106/4362) D:\\Predict\\test_video.mp4: 384x640 1 person, 24.0ms\n",
      "video 1/1 (2107/4362) D:\\Predict\\test_video.mp4: 384x640 1 person, 6.0ms\n",
      "video 1/1 (2108/4362) D:\\Predict\\test_video.mp4: 384x640 1 person, 7.0ms\n",
      "video 1/1 (2109/4362) D:\\Predict\\test_video.mp4: 384x640 1 person, 6.0ms\n",
      "video 1/1 (2110/4362) D:\\Predict\\test_video.mp4: 384x640 1 person, 6.0ms\n",
      "video 1/1 (2111/4362) D:\\Predict\\test_video.mp4: 384x640 1 person, 6.0ms\n",
      "video 1/1 (2112/4362) D:\\Predict\\test_video.mp4: 384x640 1 person, 14.0ms\n",
      "video 1/1 (2113/4362) D:\\Predict\\test_video.mp4: 384x640 1 person, 6.0ms\n",
      "video 1/1 (2114/4362) D:\\Predict\\test_video.mp4: 384x640 1 person, 6.0ms\n",
      "video 1/1 (2115/4362) D:\\Predict\\test_video.mp4: 384x640 1 person, 6.0ms\n",
      "video 1/1 (2116/4362) D:\\Predict\\test_video.mp4: 384x640 1 person, 14.0ms\n",
      "video 1/1 (2117/4362) D:\\Predict\\test_video.mp4: 384x640 1 person, 5.0ms\n",
      "video 1/1 (2118/4362) D:\\Predict\\test_video.mp4: 384x640 1 person, 5.0ms\n",
      "video 1/1 (2119/4362) D:\\Predict\\test_video.mp4: 384x640 1 person, 5.0ms\n",
      "video 1/1 (2120/4362) D:\\Predict\\test_video.mp4: 384x640 1 person, 5.0ms\n",
      "video 1/1 (2121/4362) D:\\Predict\\test_video.mp4: 384x640 1 person, 6.0ms\n",
      "video 1/1 (2122/4362) D:\\Predict\\test_video.mp4: 384x640 1 person, 5.0ms\n",
      "video 1/1 (2123/4362) D:\\Predict\\test_video.mp4: 384x640 1 person, 6.0ms\n",
      "video 1/1 (2124/4362) D:\\Predict\\test_video.mp4: 384x640 1 person, 6.0ms\n",
      "video 1/1 (2125/4362) D:\\Predict\\test_video.mp4: 384x640 1 person, 7.0ms\n",
      "video 1/1 (2126/4362) D:\\Predict\\test_video.mp4: 384x640 1 person, 6.0ms\n",
      "video 1/1 (2127/4362) D:\\Predict\\test_video.mp4: 384x640 1 person, 8.0ms\n",
      "video 1/1 (2128/4362) D:\\Predict\\test_video.mp4: 384x640 1 person, 5.0ms\n",
      "video 1/1 (2129/4362) D:\\Predict\\test_video.mp4: 384x640 1 person, 6.0ms\n",
      "video 1/1 (2130/4362) D:\\Predict\\test_video.mp4: 384x640 1 person, 5.0ms\n",
      "video 1/1 (2131/4362) D:\\Predict\\test_video.mp4: 384x640 1 person, 5.0ms\n",
      "video 1/1 (2132/4362) D:\\Predict\\test_video.mp4: 384x640 1 person, 6.0ms\n",
      "video 1/1 (2133/4362) D:\\Predict\\test_video.mp4: 384x640 1 person, 7.0ms\n",
      "video 1/1 (2134/4362) D:\\Predict\\test_video.mp4: 384x640 1 person, 7.0ms\n",
      "video 1/1 (2135/4362) D:\\Predict\\test_video.mp4: 384x640 1 person, 5.0ms\n",
      "video 1/1 (2136/4362) D:\\Predict\\test_video.mp4: 384x640 1 person, 5.0ms\n",
      "video 1/1 (2137/4362) D:\\Predict\\test_video.mp4: 384x640 1 person, 6.0ms\n",
      "video 1/1 (2138/4362) D:\\Predict\\test_video.mp4: 384x640 1 person, 6.0ms\n",
      "video 1/1 (2139/4362) D:\\Predict\\test_video.mp4: 384x640 1 person, 5.0ms\n",
      "video 1/1 (2140/4362) D:\\Predict\\test_video.mp4: 384x640 1 person, 5.0ms\n",
      "video 1/1 (2141/4362) D:\\Predict\\test_video.mp4: 384x640 1 person, 5.0ms\n",
      "video 1/1 (2142/4362) D:\\Predict\\test_video.mp4: 384x640 1 person, 6.0ms\n",
      "video 1/1 (2143/4362) D:\\Predict\\test_video.mp4: 384x640 1 person, 5.0ms\n",
      "video 1/1 (2144/4362) D:\\Predict\\test_video.mp4: 384x640 1 person, 6.0ms\n",
      "video 1/1 (2145/4362) D:\\Predict\\test_video.mp4: 384x640 1 person, 7.0ms\n",
      "video 1/1 (2146/4362) D:\\Predict\\test_video.mp4: 384x640 1 person, 7.0ms\n",
      "video 1/1 (2147/4362) D:\\Predict\\test_video.mp4: 384x640 1 person, 5.0ms\n",
      "video 1/1 (2148/4362) D:\\Predict\\test_video.mp4: 384x640 1 person, 6.0ms\n",
      "video 1/1 (2149/4362) D:\\Predict\\test_video.mp4: 384x640 1 person, 8.0ms\n",
      "video 1/1 (2150/4362) D:\\Predict\\test_video.mp4: 384x640 1 person, 6.0ms\n",
      "video 1/1 (2151/4362) D:\\Predict\\test_video.mp4: 384x640 1 person, 8.0ms\n",
      "video 1/1 (2152/4362) D:\\Predict\\test_video.mp4: 384x640 1 person, 7.0ms\n",
      "video 1/1 (2153/4362) D:\\Predict\\test_video.mp4: 384x640 1 person, 7.0ms\n",
      "video 1/1 (2154/4362) D:\\Predict\\test_video.mp4: 384x640 1 person, 7.0ms\n",
      "video 1/1 (2155/4362) D:\\Predict\\test_video.mp4: 384x640 1 person, 8.0ms\n",
      "video 1/1 (2156/4362) D:\\Predict\\test_video.mp4: 384x640 1 person, 6.0ms\n",
      "video 1/1 (2157/4362) D:\\Predict\\test_video.mp4: 384x640 1 person, 5.0ms\n",
      "video 1/1 (2158/4362) D:\\Predict\\test_video.mp4: 384x640 1 person, 5.0ms\n",
      "video 1/1 (2159/4362) D:\\Predict\\test_video.mp4: 384x640 1 person, 8.0ms\n",
      "video 1/1 (2160/4362) D:\\Predict\\test_video.mp4: 384x640 1 person, 5.0ms\n",
      "video 1/1 (2161/4362) D:\\Predict\\test_video.mp4: 384x640 1 person, 7.0ms\n",
      "video 1/1 (2162/4362) D:\\Predict\\test_video.mp4: 384x640 1 person, 5.0ms\n",
      "video 1/1 (2163/4362) D:\\Predict\\test_video.mp4: 384x640 1 person, 6.0ms\n",
      "video 1/1 (2164/4362) D:\\Predict\\test_video.mp4: 384x640 1 person, 7.0ms\n",
      "video 1/1 (2165/4362) D:\\Predict\\test_video.mp4: 384x640 1 person, 5.0ms\n",
      "video 1/1 (2166/4362) D:\\Predict\\test_video.mp4: 384x640 1 person, 5.0ms\n",
      "video 1/1 (2167/4362) D:\\Predict\\test_video.mp4: 384x640 1 person, 6.0ms\n",
      "video 1/1 (2168/4362) D:\\Predict\\test_video.mp4: 384x640 1 person, 7.0ms\n",
      "video 1/1 (2169/4362) D:\\Predict\\test_video.mp4: 384x640 1 person, 6.0ms\n",
      "video 1/1 (2170/4362) D:\\Predict\\test_video.mp4: 384x640 1 person, 7.0ms\n",
      "video 1/1 (2171/4362) D:\\Predict\\test_video.mp4: 384x640 1 person, 18.0ms\n",
      "video 1/1 (2172/4362) D:\\Predict\\test_video.mp4: 384x640 1 person, 8.0ms\n",
      "video 1/1 (2173/4362) D:\\Predict\\test_video.mp4: 384x640 1 person, 11.0ms\n",
      "video 1/1 (2174/4362) D:\\Predict\\test_video.mp4: 384x640 1 person, 7.0ms\n",
      "video 1/1 (2175/4362) D:\\Predict\\test_video.mp4: 384x640 1 person, 18.0ms\n",
      "video 1/1 (2176/4362) D:\\Predict\\test_video.mp4: 384x640 1 person, 9.0ms\n",
      "video 1/1 (2177/4362) D:\\Predict\\test_video.mp4: 384x640 1 person, 6.0ms\n",
      "video 1/1 (2178/4362) D:\\Predict\\test_video.mp4: 384x640 (no detections), 6.0ms\n",
      "video 1/1 (2179/4362) D:\\Predict\\test_video.mp4: 384x640 (no detections), 13.0ms\n",
      "video 1/1 (2180/4362) D:\\Predict\\test_video.mp4: 384x640 (no detections), 6.0ms\n",
      "video 1/1 (2181/4362) D:\\Predict\\test_video.mp4: 384x640 1 person, 6.0ms\n",
      "video 1/1 (2182/4362) D:\\Predict\\test_video.mp4: 384x640 1 person, 10.0ms\n",
      "video 1/1 (2183/4362) D:\\Predict\\test_video.mp4: 384x640 1 person, 8.0ms\n",
      "video 1/1 (2184/4362) D:\\Predict\\test_video.mp4: 384x640 (no detections), 6.0ms\n",
      "video 1/1 (2185/4362) D:\\Predict\\test_video.mp4: 384x640 1 person, 6.0ms\n",
      "video 1/1 (2186/4362) D:\\Predict\\test_video.mp4: 384x640 1 person, 6.0ms\n",
      "video 1/1 (2187/4362) D:\\Predict\\test_video.mp4: 384x640 1 person, 6.0ms\n",
      "video 1/1 (2188/4362) D:\\Predict\\test_video.mp4: 384x640 1 person, 6.0ms\n",
      "video 1/1 (2189/4362) D:\\Predict\\test_video.mp4: 384x640 1 person, 5.0ms\n",
      "video 1/1 (2190/4362) D:\\Predict\\test_video.mp4: 384x640 1 person, 6.0ms\n",
      "video 1/1 (2191/4362) D:\\Predict\\test_video.mp4: 384x640 1 person, 6.0ms\n",
      "video 1/1 (2192/4362) D:\\Predict\\test_video.mp4: 384x640 1 person, 6.0ms\n",
      "video 1/1 (2193/4362) D:\\Predict\\test_video.mp4: 384x640 1 person, 11.0ms\n",
      "video 1/1 (2194/4362) D:\\Predict\\test_video.mp4: 384x640 1 guns, 1 person, 6.0ms\n",
      "video 1/1 (2195/4362) D:\\Predict\\test_video.mp4: 384x640 1 person, 5.0ms\n",
      "video 1/1 (2196/4362) D:\\Predict\\test_video.mp4: 384x640 1 person, 6.0ms\n",
      "video 1/1 (2197/4362) D:\\Predict\\test_video.mp4: 384x640 1 person, 5.0ms\n",
      "video 1/1 (2198/4362) D:\\Predict\\test_video.mp4: 384x640 1 person, 6.0ms\n",
      "video 1/1 (2199/4362) D:\\Predict\\test_video.mp4: 384x640 1 person, 8.0ms\n",
      "video 1/1 (2200/4362) D:\\Predict\\test_video.mp4: 384x640 1 person, 5.0ms\n",
      "video 1/1 (2201/4362) D:\\Predict\\test_video.mp4: 384x640 1 person, 5.0ms\n",
      "video 1/1 (2202/4362) D:\\Predict\\test_video.mp4: 384x640 1 person, 5.0ms\n",
      "video 1/1 (2203/4362) D:\\Predict\\test_video.mp4: 384x640 1 person, 6.0ms\n",
      "video 1/1 (2204/4362) D:\\Predict\\test_video.mp4: 384x640 1 person, 8.0ms\n",
      "video 1/1 (2205/4362) D:\\Predict\\test_video.mp4: 384x640 1 person, 6.0ms\n",
      "video 1/1 (2206/4362) D:\\Predict\\test_video.mp4: 384x640 1 person, 6.0ms\n",
      "video 1/1 (2207/4362) D:\\Predict\\test_video.mp4: 384x640 1 person, 6.0ms\n",
      "video 1/1 (2208/4362) D:\\Predict\\test_video.mp4: 384x640 1 person, 6.0ms\n",
      "video 1/1 (2209/4362) D:\\Predict\\test_video.mp4: 384x640 1 person, 6.0ms\n",
      "video 1/1 (2210/4362) D:\\Predict\\test_video.mp4: 384x640 1 person, 8.0ms\n",
      "video 1/1 (2211/4362) D:\\Predict\\test_video.mp4: 384x640 1 person, 7.0ms\n",
      "video 1/1 (2212/4362) D:\\Predict\\test_video.mp4: 384x640 1 person, 7.0ms\n",
      "video 1/1 (2213/4362) D:\\Predict\\test_video.mp4: 384x640 1 person, 8.0ms\n",
      "video 1/1 (2214/4362) D:\\Predict\\test_video.mp4: 384x640 1 person, 9.0ms\n",
      "video 1/1 (2215/4362) D:\\Predict\\test_video.mp4: 384x640 1 person, 5.0ms\n",
      "video 1/1 (2216/4362) D:\\Predict\\test_video.mp4: 384x640 1 person, 8.0ms\n",
      "video 1/1 (2217/4362) D:\\Predict\\test_video.mp4: 384x640 1 person, 6.0ms\n",
      "video 1/1 (2218/4362) D:\\Predict\\test_video.mp4: 384x640 1 person, 6.0ms\n",
      "video 1/1 (2219/4362) D:\\Predict\\test_video.mp4: 384x640 1 person, 5.0ms\n",
      "video 1/1 (2220/4362) D:\\Predict\\test_video.mp4: 384x640 1 person, 7.0ms\n",
      "video 1/1 (2221/4362) D:\\Predict\\test_video.mp4: 384x640 1 person, 5.0ms\n",
      "video 1/1 (2222/4362) D:\\Predict\\test_video.mp4: 384x640 1 person, 6.0ms\n",
      "video 1/1 (2223/4362) D:\\Predict\\test_video.mp4: 384x640 1 person, 5.0ms\n",
      "video 1/1 (2224/4362) D:\\Predict\\test_video.mp4: 384x640 1 person, 6.0ms\n",
      "video 1/1 (2225/4362) D:\\Predict\\test_video.mp4: 384x640 1 person, 8.0ms\n",
      "video 1/1 (2226/4362) D:\\Predict\\test_video.mp4: 384x640 1 person, 7.0ms\n",
      "video 1/1 (2227/4362) D:\\Predict\\test_video.mp4: 384x640 1 person, 7.0ms\n",
      "video 1/1 (2228/4362) D:\\Predict\\test_video.mp4: 384x640 1 person, 8.0ms\n",
      "video 1/1 (2229/4362) D:\\Predict\\test_video.mp4: 384x640 1 person, 8.0ms\n",
      "video 1/1 (2230/4362) D:\\Predict\\test_video.mp4: 384x640 1 person, 7.0ms\n",
      "video 1/1 (2231/4362) D:\\Predict\\test_video.mp4: 384x640 1 person, 8.0ms\n",
      "video 1/1 (2232/4362) D:\\Predict\\test_video.mp4: 384x640 1 person, 8.0ms\n",
      "video 1/1 (2233/4362) D:\\Predict\\test_video.mp4: 384x640 1 person, 7.0ms\n",
      "video 1/1 (2234/4362) D:\\Predict\\test_video.mp4: 384x640 1 person, 5.0ms\n",
      "video 1/1 (2235/4362) D:\\Predict\\test_video.mp4: 384x640 (no detections), 8.0ms\n",
      "video 1/1 (2236/4362) D:\\Predict\\test_video.mp4: 384x640 1 person, 8.0ms\n",
      "video 1/1 (2237/4362) D:\\Predict\\test_video.mp4: 384x640 1 person, 8.0ms\n",
      "video 1/1 (2238/4362) D:\\Predict\\test_video.mp4: 384x640 1 person, 7.0ms\n",
      "video 1/1 (2239/4362) D:\\Predict\\test_video.mp4: 384x640 1 person, 9.0ms\n",
      "video 1/1 (2240/4362) D:\\Predict\\test_video.mp4: 384x640 1 person, 6.0ms\n",
      "video 1/1 (2241/4362) D:\\Predict\\test_video.mp4: 384x640 1 person, 7.0ms\n",
      "video 1/1 (2242/4362) D:\\Predict\\test_video.mp4: 384x640 1 person, 8.0ms\n",
      "video 1/1 (2243/4362) D:\\Predict\\test_video.mp4: 384x640 1 person, 8.0ms\n",
      "video 1/1 (2244/4362) D:\\Predict\\test_video.mp4: 384x640 1 person, 8.0ms\n",
      "video 1/1 (2245/4362) D:\\Predict\\test_video.mp4: 384x640 1 person, 7.0ms\n",
      "video 1/1 (2246/4362) D:\\Predict\\test_video.mp4: 384x640 1 person, 5.0ms\n",
      "video 1/1 (2247/4362) D:\\Predict\\test_video.mp4: 384x640 1 person, 7.0ms\n",
      "video 1/1 (2248/4362) D:\\Predict\\test_video.mp4: 384x640 1 person, 6.0ms\n",
      "video 1/1 (2249/4362) D:\\Predict\\test_video.mp4: 384x640 1 person, 7.0ms\n",
      "video 1/1 (2250/4362) D:\\Predict\\test_video.mp4: 384x640 1 person, 8.0ms\n",
      "video 1/1 (2251/4362) D:\\Predict\\test_video.mp4: 384x640 1 person, 7.0ms\n",
      "video 1/1 (2252/4362) D:\\Predict\\test_video.mp4: 384x640 1 person, 8.0ms\n",
      "video 1/1 (2253/4362) D:\\Predict\\test_video.mp4: 384x640 1 person, 8.0ms\n",
      "video 1/1 (2254/4362) D:\\Predict\\test_video.mp4: 384x640 1 person, 8.0ms\n",
      "video 1/1 (2255/4362) D:\\Predict\\test_video.mp4: 384x640 1 person, 8.0ms\n",
      "video 1/1 (2256/4362) D:\\Predict\\test_video.mp4: 384x640 1 person, 8.0ms\n",
      "video 1/1 (2257/4362) D:\\Predict\\test_video.mp4: 384x640 1 person, 7.0ms\n",
      "video 1/1 (2258/4362) D:\\Predict\\test_video.mp4: 384x640 1 person, 7.0ms\n",
      "video 1/1 (2259/4362) D:\\Predict\\test_video.mp4: 384x640 1 person, 7.0ms\n",
      "video 1/1 (2260/4362) D:\\Predict\\test_video.mp4: 384x640 1 person, 7.0ms\n",
      "video 1/1 (2261/4362) D:\\Predict\\test_video.mp4: 384x640 1 person, 7.0ms\n",
      "video 1/1 (2262/4362) D:\\Predict\\test_video.mp4: 384x640 1 person, 7.0ms\n",
      "video 1/1 (2263/4362) D:\\Predict\\test_video.mp4: 384x640 1 person, 7.0ms\n",
      "video 1/1 (2264/4362) D:\\Predict\\test_video.mp4: 384x640 1 person, 14.0ms\n",
      "video 1/1 (2265/4362) D:\\Predict\\test_video.mp4: 384x640 1 person, 6.0ms\n",
      "video 1/1 (2266/4362) D:\\Predict\\test_video.mp4: 384x640 1 person, 6.0ms\n",
      "video 1/1 (2267/4362) D:\\Predict\\test_video.mp4: 384x640 1 person, 9.0ms\n",
      "video 1/1 (2268/4362) D:\\Predict\\test_video.mp4: 384x640 1 person, 6.0ms\n",
      "video 1/1 (2269/4362) D:\\Predict\\test_video.mp4: 384x640 1 person, 20.0ms\n",
      "video 1/1 (2270/4362) D:\\Predict\\test_video.mp4: 384x640 1 person, 15.0ms\n",
      "video 1/1 (2271/4362) D:\\Predict\\test_video.mp4: 384x640 1 person, 6.0ms\n",
      "video 1/1 (2272/4362) D:\\Predict\\test_video.mp4: 384x640 1 person, 6.0ms\n",
      "video 1/1 (2273/4362) D:\\Predict\\test_video.mp4: 384x640 1 person, 13.0ms\n",
      "video 1/1 (2274/4362) D:\\Predict\\test_video.mp4: 384x640 1 person, 6.0ms\n",
      "video 1/1 (2275/4362) D:\\Predict\\test_video.mp4: 384x640 1 person, 6.0ms\n",
      "video 1/1 (2276/4362) D:\\Predict\\test_video.mp4: 384x640 1 person, 9.0ms\n",
      "video 1/1 (2277/4362) D:\\Predict\\test_video.mp4: 384x640 1 person, 22.0ms\n",
      "video 1/1 (2278/4362) D:\\Predict\\test_video.mp4: 384x640 1 person, 21.0ms\n",
      "video 1/1 (2279/4362) D:\\Predict\\test_video.mp4: 384x640 1 person, 13.0ms\n",
      "video 1/1 (2280/4362) D:\\Predict\\test_video.mp4: 384x640 1 person, 5.0ms\n",
      "video 1/1 (2281/4362) D:\\Predict\\test_video.mp4: 384x640 1 person, 7.0ms\n",
      "video 1/1 (2282/4362) D:\\Predict\\test_video.mp4: 384x640 1 person, 5.0ms\n",
      "video 1/1 (2283/4362) D:\\Predict\\test_video.mp4: 384x640 1 person, 6.0ms\n",
      "video 1/1 (2284/4362) D:\\Predict\\test_video.mp4: 384x640 1 person, 11.0ms\n",
      "video 1/1 (2285/4362) D:\\Predict\\test_video.mp4: 384x640 1 person, 5.0ms\n",
      "video 1/1 (2286/4362) D:\\Predict\\test_video.mp4: 384x640 1 person, 7.0ms\n",
      "video 1/1 (2287/4362) D:\\Predict\\test_video.mp4: 384x640 1 person, 8.0ms\n",
      "video 1/1 (2288/4362) D:\\Predict\\test_video.mp4: 384x640 1 person, 7.0ms\n",
      "video 1/1 (2289/4362) D:\\Predict\\test_video.mp4: 384x640 1 person, 7.0ms\n",
      "video 1/1 (2290/4362) D:\\Predict\\test_video.mp4: 384x640 1 person, 7.0ms\n",
      "video 1/1 (2291/4362) D:\\Predict\\test_video.mp4: 384x640 1 person, 7.0ms\n",
      "video 1/1 (2292/4362) D:\\Predict\\test_video.mp4: 384x640 1 person, 7.0ms\n",
      "video 1/1 (2293/4362) D:\\Predict\\test_video.mp4: 384x640 1 person, 6.0ms\n",
      "video 1/1 (2294/4362) D:\\Predict\\test_video.mp4: 384x640 1 person, 7.0ms\n",
      "video 1/1 (2295/4362) D:\\Predict\\test_video.mp4: 384x640 1 person, 5.0ms\n",
      "video 1/1 (2296/4362) D:\\Predict\\test_video.mp4: 384x640 1 person, 5.0ms\n",
      "video 1/1 (2297/4362) D:\\Predict\\test_video.mp4: 384x640 1 person, 7.0ms\n",
      "video 1/1 (2298/4362) D:\\Predict\\test_video.mp4: 384x640 1 person, 7.0ms\n",
      "video 1/1 (2299/4362) D:\\Predict\\test_video.mp4: 384x640 1 person, 7.0ms\n",
      "video 1/1 (2300/4362) D:\\Predict\\test_video.mp4: 384x640 1 person, 8.0ms\n",
      "video 1/1 (2301/4362) D:\\Predict\\test_video.mp4: 384x640 1 person, 6.0ms\n",
      "video 1/1 (2302/4362) D:\\Predict\\test_video.mp4: 384x640 1 person, 6.0ms\n",
      "video 1/1 (2303/4362) D:\\Predict\\test_video.mp4: 384x640 1 person, 5.0ms\n",
      "video 1/1 (2304/4362) D:\\Predict\\test_video.mp4: 384x640 1 person, 6.0ms\n",
      "video 1/1 (2305/4362) D:\\Predict\\test_video.mp4: 384x640 1 person, 5.0ms\n",
      "video 1/1 (2306/4362) D:\\Predict\\test_video.mp4: 384x640 1 person, 5.0ms\n",
      "video 1/1 (2307/4362) D:\\Predict\\test_video.mp4: 384x640 1 person, 5.0ms\n",
      "video 1/1 (2308/4362) D:\\Predict\\test_video.mp4: 384x640 1 person, 6.0ms\n",
      "video 1/1 (2309/4362) D:\\Predict\\test_video.mp4: 384x640 1 person, 8.0ms\n",
      "video 1/1 (2310/4362) D:\\Predict\\test_video.mp4: 384x640 1 person, 6.0ms\n",
      "video 1/1 (2311/4362) D:\\Predict\\test_video.mp4: 384x640 1 person, 5.0ms\n",
      "video 1/1 (2312/4362) D:\\Predict\\test_video.mp4: 384x640 1 person, 5.0ms\n",
      "video 1/1 (2313/4362) D:\\Predict\\test_video.mp4: 384x640 1 person, 5.0ms\n",
      "video 1/1 (2314/4362) D:\\Predict\\test_video.mp4: 384x640 1 person, 5.0ms\n",
      "video 1/1 (2315/4362) D:\\Predict\\test_video.mp4: 384x640 1 person, 5.0ms\n",
      "video 1/1 (2316/4362) D:\\Predict\\test_video.mp4: 384x640 1 person, 5.0ms\n",
      "video 1/1 (2317/4362) D:\\Predict\\test_video.mp4: 384x640 1 person, 5.0ms\n",
      "video 1/1 (2318/4362) D:\\Predict\\test_video.mp4: 384x640 1 person, 5.0ms\n",
      "video 1/1 (2319/4362) D:\\Predict\\test_video.mp4: 384x640 1 person, 6.0ms\n",
      "video 1/1 (2320/4362) D:\\Predict\\test_video.mp4: 384x640 1 person, 9.0ms\n",
      "video 1/1 (2321/4362) D:\\Predict\\test_video.mp4: 384x640 1 person, 6.0ms\n",
      "video 1/1 (2322/4362) D:\\Predict\\test_video.mp4: 384x640 1 person, 7.0ms\n",
      "video 1/1 (2323/4362) D:\\Predict\\test_video.mp4: 384x640 1 person, 8.0ms\n",
      "video 1/1 (2324/4362) D:\\Predict\\test_video.mp4: 384x640 1 person, 8.0ms\n",
      "video 1/1 (2325/4362) D:\\Predict\\test_video.mp4: 384x640 1 person, 8.0ms\n",
      "video 1/1 (2326/4362) D:\\Predict\\test_video.mp4: 384x640 1 person, 6.0ms\n",
      "video 1/1 (2327/4362) D:\\Predict\\test_video.mp4: 384x640 1 person, 7.0ms\n",
      "video 1/1 (2328/4362) D:\\Predict\\test_video.mp4: 384x640 1 person, 8.0ms\n",
      "video 1/1 (2329/4362) D:\\Predict\\test_video.mp4: 384x640 1 person, 8.0ms\n",
      "video 1/1 (2330/4362) D:\\Predict\\test_video.mp4: 384x640 1 person, 6.0ms\n",
      "video 1/1 (2331/4362) D:\\Predict\\test_video.mp4: 384x640 1 person, 8.0ms\n",
      "video 1/1 (2332/4362) D:\\Predict\\test_video.mp4: 384x640 1 person, 8.0ms\n",
      "video 1/1 (2333/4362) D:\\Predict\\test_video.mp4: 384x640 1 person, 8.0ms\n",
      "video 1/1 (2334/4362) D:\\Predict\\test_video.mp4: 384x640 1 person, 8.0ms\n",
      "video 1/1 (2335/4362) D:\\Predict\\test_video.mp4: 384x640 1 person, 8.0ms\n",
      "video 1/1 (2336/4362) D:\\Predict\\test_video.mp4: 384x640 1 person, 7.0ms\n",
      "video 1/1 (2337/4362) D:\\Predict\\test_video.mp4: 384x640 1 person, 8.0ms\n",
      "video 1/1 (2338/4362) D:\\Predict\\test_video.mp4: 384x640 1 person, 7.0ms\n",
      "video 1/1 (2339/4362) D:\\Predict\\test_video.mp4: 384x640 1 person, 7.0ms\n",
      "video 1/1 (2340/4362) D:\\Predict\\test_video.mp4: 384x640 1 person, 14.0ms\n",
      "video 1/1 (2341/4362) D:\\Predict\\test_video.mp4: 384x640 1 person, 6.0ms\n",
      "video 1/1 (2342/4362) D:\\Predict\\test_video.mp4: 384x640 1 person, 6.0ms\n",
      "video 1/1 (2343/4362) D:\\Predict\\test_video.mp4: 384x640 1 person, 7.0ms\n",
      "video 1/1 (2344/4362) D:\\Predict\\test_video.mp4: 384x640 1 person, 6.0ms\n",
      "video 1/1 (2345/4362) D:\\Predict\\test_video.mp4: 384x640 1 person, 6.0ms\n",
      "video 1/1 (2346/4362) D:\\Predict\\test_video.mp4: 384x640 1 person, 6.0ms\n",
      "video 1/1 (2347/4362) D:\\Predict\\test_video.mp4: 384x640 1 person, 6.0ms\n",
      "video 1/1 (2348/4362) D:\\Predict\\test_video.mp4: 384x640 1 person, 10.0ms\n",
      "video 1/1 (2349/4362) D:\\Predict\\test_video.mp4: 384x640 1 person, 6.0ms\n",
      "video 1/1 (2350/4362) D:\\Predict\\test_video.mp4: 384x640 1 person, 12.0ms\n",
      "video 1/1 (2351/4362) D:\\Predict\\test_video.mp4: 384x640 1 person, 6.0ms\n",
      "video 1/1 (2352/4362) D:\\Predict\\test_video.mp4: 384x640 1 person, 5.0ms\n",
      "video 1/1 (2353/4362) D:\\Predict\\test_video.mp4: 384x640 1 person, 6.0ms\n",
      "video 1/1 (2354/4362) D:\\Predict\\test_video.mp4: 384x640 1 person, 18.0ms\n",
      "video 1/1 (2355/4362) D:\\Predict\\test_video.mp4: 384x640 1 person, 14.0ms\n",
      "video 1/1 (2356/4362) D:\\Predict\\test_video.mp4: 384x640 1 person, 5.0ms\n",
      "video 1/1 (2357/4362) D:\\Predict\\test_video.mp4: 384x640 1 person, 6.0ms\n",
      "video 1/1 (2358/4362) D:\\Predict\\test_video.mp4: 384x640 1 person, 6.0ms\n",
      "video 1/1 (2359/4362) D:\\Predict\\test_video.mp4: 384x640 1 person, 5.0ms\n",
      "video 1/1 (2360/4362) D:\\Predict\\test_video.mp4: 384x640 1 person, 6.0ms\n",
      "video 1/1 (2361/4362) D:\\Predict\\test_video.mp4: 384x640 1 person, 13.0ms\n",
      "video 1/1 (2362/4362) D:\\Predict\\test_video.mp4: 384x640 1 person, 6.0ms\n",
      "video 1/1 (2363/4362) D:\\Predict\\test_video.mp4: 384x640 1 person, 6.0ms\n",
      "video 1/1 (2364/4362) D:\\Predict\\test_video.mp4: 384x640 1 person, 18.0ms\n",
      "video 1/1 (2365/4362) D:\\Predict\\test_video.mp4: 384x640 1 person, 26.0ms\n",
      "video 1/1 (2366/4362) D:\\Predict\\test_video.mp4: 384x640 1 person, 26.0ms\n",
      "video 1/1 (2367/4362) D:\\Predict\\test_video.mp4: 384x640 1 person, 5.0ms\n",
      "video 1/1 (2368/4362) D:\\Predict\\test_video.mp4: 384x640 1 person, 5.0ms\n",
      "video 1/1 (2369/4362) D:\\Predict\\test_video.mp4: 384x640 1 person, 5.0ms\n",
      "video 1/1 (2370/4362) D:\\Predict\\test_video.mp4: 384x640 1 person, 5.0ms\n",
      "video 1/1 (2371/4362) D:\\Predict\\test_video.mp4: 384x640 1 person, 6.0ms\n",
      "video 1/1 (2372/4362) D:\\Predict\\test_video.mp4: 384x640 1 person, 5.0ms\n",
      "video 1/1 (2373/4362) D:\\Predict\\test_video.mp4: 384x640 1 person, 5.0ms\n",
      "video 1/1 (2374/4362) D:\\Predict\\test_video.mp4: 384x640 1 person, 8.0ms\n",
      "video 1/1 (2375/4362) D:\\Predict\\test_video.mp4: 384x640 1 person, 7.0ms\n",
      "video 1/1 (2376/4362) D:\\Predict\\test_video.mp4: 384x640 1 person, 7.0ms\n",
      "video 1/1 (2377/4362) D:\\Predict\\test_video.mp4: 384x640 1 person, 7.0ms\n",
      "video 1/1 (2378/4362) D:\\Predict\\test_video.mp4: 384x640 1 person, 6.0ms\n",
      "video 1/1 (2379/4362) D:\\Predict\\test_video.mp4: 384x640 1 person, 6.0ms\n",
      "video 1/1 (2380/4362) D:\\Predict\\test_video.mp4: 384x640 1 person, 5.0ms\n",
      "video 1/1 (2381/4362) D:\\Predict\\test_video.mp4: 384x640 1 person, 5.0ms\n",
      "video 1/1 (2382/4362) D:\\Predict\\test_video.mp4: 384x640 1 person, 7.0ms\n",
      "video 1/1 (2383/4362) D:\\Predict\\test_video.mp4: 384x640 1 person, 6.0ms\n",
      "video 1/1 (2384/4362) D:\\Predict\\test_video.mp4: 384x640 1 person, 5.0ms\n",
      "video 1/1 (2385/4362) D:\\Predict\\test_video.mp4: 384x640 1 person, 5.0ms\n",
      "video 1/1 (2386/4362) D:\\Predict\\test_video.mp4: 384x640 1 person, 6.0ms\n",
      "video 1/1 (2387/4362) D:\\Predict\\test_video.mp4: 384x640 1 person, 7.0ms\n",
      "video 1/1 (2388/4362) D:\\Predict\\test_video.mp4: 384x640 1 person, 6.0ms\n",
      "video 1/1 (2389/4362) D:\\Predict\\test_video.mp4: 384x640 1 person, 5.0ms\n",
      "video 1/1 (2390/4362) D:\\Predict\\test_video.mp4: 384x640 1 person, 7.0ms\n",
      "video 1/1 (2391/4362) D:\\Predict\\test_video.mp4: 384x640 1 person, 5.0ms\n",
      "video 1/1 (2392/4362) D:\\Predict\\test_video.mp4: 384x640 1 person, 6.0ms\n",
      "video 1/1 (2393/4362) D:\\Predict\\test_video.mp4: 384x640 1 person, 5.0ms\n",
      "video 1/1 (2394/4362) D:\\Predict\\test_video.mp4: 384x640 1 person, 5.0ms\n",
      "video 1/1 (2395/4362) D:\\Predict\\test_video.mp4: 384x640 1 person, 6.0ms\n",
      "video 1/1 (2396/4362) D:\\Predict\\test_video.mp4: 384x640 1 person, 7.0ms\n",
      "video 1/1 (2397/4362) D:\\Predict\\test_video.mp4: 384x640 1 person, 7.0ms\n",
      "video 1/1 (2398/4362) D:\\Predict\\test_video.mp4: 384x640 1 person, 6.0ms\n",
      "video 1/1 (2399/4362) D:\\Predict\\test_video.mp4: 384x640 1 person, 7.0ms\n",
      "video 1/1 (2400/4362) D:\\Predict\\test_video.mp4: 384x640 1 person, 8.0ms\n",
      "video 1/1 (2401/4362) D:\\Predict\\test_video.mp4: 384x640 1 person, 5.0ms\n",
      "video 1/1 (2402/4362) D:\\Predict\\test_video.mp4: 384x640 1 person, 6.0ms\n",
      "video 1/1 (2403/4362) D:\\Predict\\test_video.mp4: 384x640 1 person, 5.0ms\n",
      "video 1/1 (2404/4362) D:\\Predict\\test_video.mp4: 384x640 1 person, 5.0ms\n",
      "video 1/1 (2405/4362) D:\\Predict\\test_video.mp4: 384x640 1 person, 7.0ms\n",
      "video 1/1 (2406/4362) D:\\Predict\\test_video.mp4: 384x640 1 person, 5.0ms\n",
      "video 1/1 (2407/4362) D:\\Predict\\test_video.mp4: 384x640 1 person, 5.0ms\n",
      "video 1/1 (2408/4362) D:\\Predict\\test_video.mp4: 384x640 1 person, 5.0ms\n",
      "video 1/1 (2409/4362) D:\\Predict\\test_video.mp4: 384x640 1 person, 6.0ms\n",
      "video 1/1 (2410/4362) D:\\Predict\\test_video.mp4: 384x640 1 person, 6.0ms\n",
      "video 1/1 (2411/4362) D:\\Predict\\test_video.mp4: 384x640 1 person, 5.0ms\n",
      "video 1/1 (2412/4362) D:\\Predict\\test_video.mp4: 384x640 1 person, 5.0ms\n",
      "video 1/1 (2413/4362) D:\\Predict\\test_video.mp4: 384x640 1 person, 5.0ms\n",
      "video 1/1 (2414/4362) D:\\Predict\\test_video.mp4: 384x640 1 person, 6.0ms\n",
      "video 1/1 (2415/4362) D:\\Predict\\test_video.mp4: 384x640 1 person, 6.0ms\n",
      "video 1/1 (2416/4362) D:\\Predict\\test_video.mp4: 384x640 1 person, 7.0ms\n",
      "video 1/1 (2417/4362) D:\\Predict\\test_video.mp4: 384x640 1 person, 7.0ms\n",
      "video 1/1 (2418/4362) D:\\Predict\\test_video.mp4: 384x640 1 person, 7.0ms\n",
      "video 1/1 (2419/4362) D:\\Predict\\test_video.mp4: 384x640 1 person, 5.0ms\n",
      "video 1/1 (2420/4362) D:\\Predict\\test_video.mp4: 384x640 1 person, 7.0ms\n",
      "video 1/1 (2421/4362) D:\\Predict\\test_video.mp4: 384x640 1 person, 6.0ms\n",
      "video 1/1 (2422/4362) D:\\Predict\\test_video.mp4: 384x640 1 person, 5.0ms\n",
      "video 1/1 (2423/4362) D:\\Predict\\test_video.mp4: 384x640 1 person, 5.0ms\n",
      "video 1/1 (2424/4362) D:\\Predict\\test_video.mp4: 384x640 1 person, 5.0ms\n",
      "video 1/1 (2425/4362) D:\\Predict\\test_video.mp4: 384x640 1 person, 5.0ms\n",
      "video 1/1 (2426/4362) D:\\Predict\\test_video.mp4: 384x640 1 person, 5.0ms\n",
      "video 1/1 (2427/4362) D:\\Predict\\test_video.mp4: 384x640 1 person, 8.0ms\n",
      "video 1/1 (2428/4362) D:\\Predict\\test_video.mp4: 384x640 1 person, 8.0ms\n",
      "video 1/1 (2429/4362) D:\\Predict\\test_video.mp4: 384x640 1 person, 7.0ms\n",
      "video 1/1 (2430/4362) D:\\Predict\\test_video.mp4: 384x640 (no detections), 8.0ms\n",
      "video 1/1 (2431/4362) D:\\Predict\\test_video.mp4: 384x640 (no detections), 5.0ms\n",
      "video 1/1 (2432/4362) D:\\Predict\\test_video.mp4: 384x640 (no detections), 9.0ms\n",
      "video 1/1 (2433/4362) D:\\Predict\\test_video.mp4: 384x640 (no detections), 9.0ms\n",
      "video 1/1 (2434/4362) D:\\Predict\\test_video.mp4: 384x640 (no detections), 9.0ms\n",
      "video 1/1 (2435/4362) D:\\Predict\\test_video.mp4: 384x640 (no detections), 7.0ms\n",
      "video 1/1 (2436/4362) D:\\Predict\\test_video.mp4: 384x640 (no detections), 8.0ms\n",
      "video 1/1 (2437/4362) D:\\Predict\\test_video.mp4: 384x640 (no detections), 8.0ms\n",
      "video 1/1 (2438/4362) D:\\Predict\\test_video.mp4: 384x640 (no detections), 6.0ms\n",
      "video 1/1 (2439/4362) D:\\Predict\\test_video.mp4: 384x640 (no detections), 5.0ms\n",
      "video 1/1 (2440/4362) D:\\Predict\\test_video.mp4: 384x640 (no detections), 6.0ms\n",
      "video 1/1 (2441/4362) D:\\Predict\\test_video.mp4: 384x640 (no detections), 6.0ms\n",
      "video 1/1 (2442/4362) D:\\Predict\\test_video.mp4: 384x640 (no detections), 9.0ms\n",
      "video 1/1 (2443/4362) D:\\Predict\\test_video.mp4: 384x640 (no detections), 6.0ms\n",
      "video 1/1 (2444/4362) D:\\Predict\\test_video.mp4: 384x640 (no detections), 8.0ms\n",
      "video 1/1 (2445/4362) D:\\Predict\\test_video.mp4: 384x640 (no detections), 9.0ms\n",
      "video 1/1 (2446/4362) D:\\Predict\\test_video.mp4: 384x640 (no detections), 6.0ms\n",
      "video 1/1 (2447/4362) D:\\Predict\\test_video.mp4: 384x640 (no detections), 5.0ms\n",
      "video 1/1 (2448/4362) D:\\Predict\\test_video.mp4: 384x640 (no detections), 5.0ms\n",
      "video 1/1 (2449/4362) D:\\Predict\\test_video.mp4: 384x640 (no detections), 5.0ms\n",
      "video 1/1 (2450/4362) D:\\Predict\\test_video.mp4: 384x640 (no detections), 6.0ms\n",
      "video 1/1 (2451/4362) D:\\Predict\\test_video.mp4: 384x640 (no detections), 7.0ms\n",
      "video 1/1 (2452/4362) D:\\Predict\\test_video.mp4: 384x640 (no detections), 6.0ms\n",
      "video 1/1 (2453/4362) D:\\Predict\\test_video.mp4: 384x640 1 person, 7.0ms\n",
      "video 1/1 (2454/4362) D:\\Predict\\test_video.mp4: 384x640 (no detections), 6.0ms\n",
      "video 1/1 (2455/4362) D:\\Predict\\test_video.mp4: 384x640 (no detections), 6.0ms\n",
      "video 1/1 (2456/4362) D:\\Predict\\test_video.mp4: 384x640 (no detections), 5.0ms\n",
      "video 1/1 (2457/4362) D:\\Predict\\test_video.mp4: 384x640 (no detections), 5.0ms\n",
      "video 1/1 (2458/4362) D:\\Predict\\test_video.mp4: 384x640 1 person, 9.0ms\n",
      "video 1/1 (2459/4362) D:\\Predict\\test_video.mp4: 384x640 1 person, 5.0ms\n",
      "video 1/1 (2460/4362) D:\\Predict\\test_video.mp4: 384x640 (no detections), 17.0ms\n",
      "video 1/1 (2461/4362) D:\\Predict\\test_video.mp4: 384x640 1 person, 6.0ms\n",
      "video 1/1 (2462/4362) D:\\Predict\\test_video.mp4: 384x640 1 person, 16.0ms\n",
      "video 1/1 (2463/4362) D:\\Predict\\test_video.mp4: 384x640 1 person, 17.0ms\n",
      "video 1/1 (2464/4362) D:\\Predict\\test_video.mp4: 384x640 1 person, 13.0ms\n",
      "video 1/1 (2465/4362) D:\\Predict\\test_video.mp4: 384x640 1 person, 13.0ms\n",
      "video 1/1 (2466/4362) D:\\Predict\\test_video.mp4: 384x640 1 person, 11.0ms\n",
      "video 1/1 (2467/4362) D:\\Predict\\test_video.mp4: 384x640 1 person, 23.0ms\n",
      "video 1/1 (2468/4362) D:\\Predict\\test_video.mp4: 384x640 1 person, 7.0ms\n",
      "video 1/1 (2469/4362) D:\\Predict\\test_video.mp4: 384x640 1 person, 5.0ms\n",
      "video 1/1 (2470/4362) D:\\Predict\\test_video.mp4: 384x640 1 person, 5.0ms\n",
      "video 1/1 (2471/4362) D:\\Predict\\test_video.mp4: 384x640 1 person, 5.0ms\n",
      "video 1/1 (2472/4362) D:\\Predict\\test_video.mp4: 384x640 1 person, 6.0ms\n",
      "video 1/1 (2473/4362) D:\\Predict\\test_video.mp4: 384x640 1 person, 6.0ms\n",
      "video 1/1 (2474/4362) D:\\Predict\\test_video.mp4: 384x640 1 person, 5.0ms\n",
      "video 1/1 (2475/4362) D:\\Predict\\test_video.mp4: 384x640 1 person, 5.0ms\n",
      "video 1/1 (2476/4362) D:\\Predict\\test_video.mp4: 384x640 1 person, 5.0ms\n",
      "video 1/1 (2477/4362) D:\\Predict\\test_video.mp4: 384x640 1 person, 5.0ms\n",
      "video 1/1 (2478/4362) D:\\Predict\\test_video.mp4: 384x640 1 person, 6.0ms\n",
      "video 1/1 (2479/4362) D:\\Predict\\test_video.mp4: 384x640 1 person, 6.0ms\n",
      "video 1/1 (2480/4362) D:\\Predict\\test_video.mp4: 384x640 1 person, 5.0ms\n",
      "video 1/1 (2481/4362) D:\\Predict\\test_video.mp4: 384x640 1 person, 5.0ms\n",
      "video 1/1 (2482/4362) D:\\Predict\\test_video.mp4: 384x640 1 person, 5.0ms\n",
      "video 1/1 (2483/4362) D:\\Predict\\test_video.mp4: 384x640 1 person, 7.0ms\n",
      "video 1/1 (2484/4362) D:\\Predict\\test_video.mp4: 384x640 1 person, 7.0ms\n",
      "video 1/1 (2485/4362) D:\\Predict\\test_video.mp4: 384x640 1 person, 6.0ms\n",
      "video 1/1 (2486/4362) D:\\Predict\\test_video.mp4: 384x640 1 person, 5.0ms\n",
      "video 1/1 (2487/4362) D:\\Predict\\test_video.mp4: 384x640 1 person, 7.0ms\n",
      "video 1/1 (2488/4362) D:\\Predict\\test_video.mp4: 384x640 1 person, 7.0ms\n",
      "video 1/1 (2489/4362) D:\\Predict\\test_video.mp4: 384x640 1 person, 6.0ms\n",
      "video 1/1 (2490/4362) D:\\Predict\\test_video.mp4: 384x640 1 person, 6.0ms\n",
      "video 1/1 (2491/4362) D:\\Predict\\test_video.mp4: 384x640 1 person, 6.0ms\n",
      "video 1/1 (2492/4362) D:\\Predict\\test_video.mp4: 384x640 1 person, 6.0ms\n",
      "video 1/1 (2493/4362) D:\\Predict\\test_video.mp4: 384x640 1 person, 6.0ms\n",
      "video 1/1 (2494/4362) D:\\Predict\\test_video.mp4: 384x640 1 person, 6.0ms\n",
      "video 1/1 (2495/4362) D:\\Predict\\test_video.mp4: 384x640 1 person, 6.0ms\n",
      "video 1/1 (2496/4362) D:\\Predict\\test_video.mp4: 384x640 1 person, 5.0ms\n",
      "video 1/1 (2497/4362) D:\\Predict\\test_video.mp4: 384x640 1 person, 6.0ms\n",
      "video 1/1 (2498/4362) D:\\Predict\\test_video.mp4: 384x640 1 person, 5.0ms\n",
      "video 1/1 (2499/4362) D:\\Predict\\test_video.mp4: 384x640 1 person, 6.0ms\n",
      "video 1/1 (2500/4362) D:\\Predict\\test_video.mp4: 384x640 1 person, 6.0ms\n",
      "video 1/1 (2501/4362) D:\\Predict\\test_video.mp4: 384x640 1 person, 5.0ms\n",
      "video 1/1 (2502/4362) D:\\Predict\\test_video.mp4: 384x640 1 person, 5.0ms\n",
      "video 1/1 (2503/4362) D:\\Predict\\test_video.mp4: 384x640 1 person, 6.0ms\n",
      "video 1/1 (2504/4362) D:\\Predict\\test_video.mp4: 384x640 1 person, 5.0ms\n",
      "video 1/1 (2505/4362) D:\\Predict\\test_video.mp4: 384x640 1 person, 5.0ms\n",
      "video 1/1 (2506/4362) D:\\Predict\\test_video.mp4: 384x640 1 person, 5.0ms\n",
      "video 1/1 (2507/4362) D:\\Predict\\test_video.mp4: 384x640 1 person, 6.0ms\n",
      "video 1/1 (2508/4362) D:\\Predict\\test_video.mp4: 384x640 1 person, 5.0ms\n",
      "video 1/1 (2509/4362) D:\\Predict\\test_video.mp4: 384x640 1 person, 5.0ms\n",
      "video 1/1 (2510/4362) D:\\Predict\\test_video.mp4: 384x640 1 person, 6.0ms\n",
      "video 1/1 (2511/4362) D:\\Predict\\test_video.mp4: 384x640 1 person, 6.0ms\n",
      "video 1/1 (2512/4362) D:\\Predict\\test_video.mp4: 384x640 1 person, 5.0ms\n",
      "video 1/1 (2513/4362) D:\\Predict\\test_video.mp4: 384x640 1 person, 5.0ms\n",
      "video 1/1 (2514/4362) D:\\Predict\\test_video.mp4: 384x640 1 person, 5.0ms\n",
      "video 1/1 (2515/4362) D:\\Predict\\test_video.mp4: 384x640 1 guns, 1 person, 5.0ms\n",
      "video 1/1 (2516/4362) D:\\Predict\\test_video.mp4: 384x640 1 guns, 1 person, 5.0ms\n",
      "video 1/1 (2517/4362) D:\\Predict\\test_video.mp4: 384x640 1 person, 5.0ms\n",
      "video 1/1 (2518/4362) D:\\Predict\\test_video.mp4: 384x640 1 person, 5.0ms\n",
      "video 1/1 (2519/4362) D:\\Predict\\test_video.mp4: 384x640 1 person, 6.0ms\n",
      "video 1/1 (2520/4362) D:\\Predict\\test_video.mp4: 384x640 1 person, 6.0ms\n",
      "video 1/1 (2521/4362) D:\\Predict\\test_video.mp4: 384x640 1 person, 6.0ms\n",
      "video 1/1 (2522/4362) D:\\Predict\\test_video.mp4: 384x640 1 person, 6.0ms\n",
      "video 1/1 (2523/4362) D:\\Predict\\test_video.mp4: 384x640 1 person, 6.0ms\n",
      "video 1/1 (2524/4362) D:\\Predict\\test_video.mp4: 384x640 1 person, 7.0ms\n",
      "video 1/1 (2525/4362) D:\\Predict\\test_video.mp4: 384x640 1 person, 6.0ms\n",
      "video 1/1 (2526/4362) D:\\Predict\\test_video.mp4: 384x640 1 person, 6.0ms\n",
      "video 1/1 (2527/4362) D:\\Predict\\test_video.mp4: 384x640 1 person, 6.0ms\n",
      "video 1/1 (2528/4362) D:\\Predict\\test_video.mp4: 384x640 1 person, 7.0ms\n",
      "video 1/1 (2529/4362) D:\\Predict\\test_video.mp4: 384x640 1 person, 6.0ms\n",
      "video 1/1 (2530/4362) D:\\Predict\\test_video.mp4: 384x640 1 person, 6.0ms\n",
      "video 1/1 (2531/4362) D:\\Predict\\test_video.mp4: 384x640 1 person, 5.0ms\n",
      "video 1/1 (2532/4362) D:\\Predict\\test_video.mp4: 384x640 1 person, 5.0ms\n",
      "video 1/1 (2533/4362) D:\\Predict\\test_video.mp4: 384x640 1 person, 5.0ms\n",
      "video 1/1 (2534/4362) D:\\Predict\\test_video.mp4: 384x640 1 person, 6.0ms\n",
      "video 1/1 (2535/4362) D:\\Predict\\test_video.mp4: 384x640 1 person, 5.0ms\n",
      "video 1/1 (2536/4362) D:\\Predict\\test_video.mp4: 384x640 1 person, 8.0ms\n",
      "video 1/1 (2537/4362) D:\\Predict\\test_video.mp4: 384x640 1 person, 6.0ms\n",
      "video 1/1 (2538/4362) D:\\Predict\\test_video.mp4: 384x640 1 person, 6.0ms\n",
      "video 1/1 (2539/4362) D:\\Predict\\test_video.mp4: 384x640 2 persons, 6.0ms\n",
      "video 1/1 (2540/4362) D:\\Predict\\test_video.mp4: 384x640 1 guns, 1 person, 5.0ms\n",
      "video 1/1 (2541/4362) D:\\Predict\\test_video.mp4: 384x640 1 guns, 1 person, 5.0ms\n",
      "video 1/1 (2542/4362) D:\\Predict\\test_video.mp4: 384x640 1 person, 5.0ms\n",
      "video 1/1 (2543/4362) D:\\Predict\\test_video.mp4: 384x640 1 guns, 1 person, 5.0ms\n",
      "video 1/1 (2544/4362) D:\\Predict\\test_video.mp4: 384x640 1 person, 5.0ms\n",
      "video 1/1 (2545/4362) D:\\Predict\\test_video.mp4: 384x640 1 person, 6.0ms\n",
      "video 1/1 (2546/4362) D:\\Predict\\test_video.mp4: 384x640 1 person, 5.0ms\n",
      "video 1/1 (2547/4362) D:\\Predict\\test_video.mp4: 384x640 1 person, 6.0ms\n",
      "video 1/1 (2548/4362) D:\\Predict\\test_video.mp4: 384x640 1 person, 5.0ms\n",
      "video 1/1 (2549/4362) D:\\Predict\\test_video.mp4: 384x640 1 person, 5.0ms\n",
      "video 1/1 (2550/4362) D:\\Predict\\test_video.mp4: 384x640 1 person, 5.0ms\n",
      "video 1/1 (2551/4362) D:\\Predict\\test_video.mp4: 384x640 1 person, 6.0ms\n",
      "video 1/1 (2552/4362) D:\\Predict\\test_video.mp4: 384x640 1 person, 6.0ms\n",
      "video 1/1 (2553/4362) D:\\Predict\\test_video.mp4: 384x640 1 person, 6.0ms\n",
      "video 1/1 (2554/4362) D:\\Predict\\test_video.mp4: 384x640 1 person, 6.0ms\n",
      "video 1/1 (2555/4362) D:\\Predict\\test_video.mp4: 384x640 1 person, 5.0ms\n",
      "video 1/1 (2556/4362) D:\\Predict\\test_video.mp4: 384x640 1 person, 5.0ms\n",
      "video 1/1 (2557/4362) D:\\Predict\\test_video.mp4: 384x640 1 person, 5.0ms\n",
      "video 1/1 (2558/4362) D:\\Predict\\test_video.mp4: 384x640 1 person, 5.0ms\n",
      "video 1/1 (2559/4362) D:\\Predict\\test_video.mp4: 384x640 1 person, 7.0ms\n",
      "video 1/1 (2560/4362) D:\\Predict\\test_video.mp4: 384x640 1 person, 6.0ms\n",
      "video 1/1 (2561/4362) D:\\Predict\\test_video.mp4: 384x640 1 person, 5.0ms\n",
      "video 1/1 (2562/4362) D:\\Predict\\test_video.mp4: 384x640 1 person, 5.0ms\n",
      "video 1/1 (2563/4362) D:\\Predict\\test_video.mp4: 384x640 1 person, 6.0ms\n",
      "video 1/1 (2564/4362) D:\\Predict\\test_video.mp4: 384x640 1 person, 5.0ms\n",
      "video 1/1 (2565/4362) D:\\Predict\\test_video.mp4: 384x640 1 person, 5.0ms\n",
      "video 1/1 (2566/4362) D:\\Predict\\test_video.mp4: 384x640 1 person, 5.0ms\n",
      "video 1/1 (2567/4362) D:\\Predict\\test_video.mp4: 384x640 (no detections), 5.0ms\n",
      "video 1/1 (2568/4362) D:\\Predict\\test_video.mp4: 384x640 (no detections), 5.0ms\n",
      "video 1/1 (2569/4362) D:\\Predict\\test_video.mp4: 384x640 (no detections), 6.0ms\n",
      "video 1/1 (2570/4362) D:\\Predict\\test_video.mp4: 384x640 1 person, 5.0ms\n",
      "video 1/1 (2571/4362) D:\\Predict\\test_video.mp4: 384x640 1 person, 5.0ms\n",
      "video 1/1 (2572/4362) D:\\Predict\\test_video.mp4: 384x640 1 person, 5.0ms\n",
      "video 1/1 (2573/4362) D:\\Predict\\test_video.mp4: 384x640 1 person, 5.0ms\n",
      "video 1/1 (2574/4362) D:\\Predict\\test_video.mp4: 384x640 1 person, 5.0ms\n",
      "video 1/1 (2575/4362) D:\\Predict\\test_video.mp4: 384x640 1 person, 5.0ms\n",
      "video 1/1 (2576/4362) D:\\Predict\\test_video.mp4: 384x640 1 person, 7.0ms\n",
      "video 1/1 (2577/4362) D:\\Predict\\test_video.mp4: 384x640 1 person, 5.0ms\n",
      "video 1/1 (2578/4362) D:\\Predict\\test_video.mp4: 384x640 1 person, 6.0ms\n",
      "video 1/1 (2579/4362) D:\\Predict\\test_video.mp4: 384x640 1 person, 5.0ms\n",
      "video 1/1 (2580/4362) D:\\Predict\\test_video.mp4: 384x640 1 person, 6.0ms\n",
      "video 1/1 (2581/4362) D:\\Predict\\test_video.mp4: 384x640 1 person, 6.0ms\n",
      "video 1/1 (2582/4362) D:\\Predict\\test_video.mp4: 384x640 1 person, 6.0ms\n",
      "video 1/1 (2583/4362) D:\\Predict\\test_video.mp4: 384x640 1 person, 5.0ms\n",
      "video 1/1 (2584/4362) D:\\Predict\\test_video.mp4: 384x640 1 person, 5.0ms\n",
      "video 1/1 (2585/4362) D:\\Predict\\test_video.mp4: 384x640 1 person, 6.0ms\n",
      "video 1/1 (2586/4362) D:\\Predict\\test_video.mp4: 384x640 1 person, 10.0ms\n",
      "video 1/1 (2587/4362) D:\\Predict\\test_video.mp4: 384x640 1 person, 5.0ms\n",
      "video 1/1 (2588/4362) D:\\Predict\\test_video.mp4: 384x640 (no detections), 7.0ms\n",
      "video 1/1 (2589/4362) D:\\Predict\\test_video.mp4: 384x640 (no detections), 6.0ms\n",
      "video 1/1 (2590/4362) D:\\Predict\\test_video.mp4: 384x640 (no detections), 5.0ms\n",
      "video 1/1 (2591/4362) D:\\Predict\\test_video.mp4: 384x640 (no detections), 5.0ms\n",
      "video 1/1 (2592/4362) D:\\Predict\\test_video.mp4: 384x640 (no detections), 6.0ms\n",
      "video 1/1 (2593/4362) D:\\Predict\\test_video.mp4: 384x640 (no detections), 7.0ms\n",
      "video 1/1 (2594/4362) D:\\Predict\\test_video.mp4: 384x640 (no detections), 7.0ms\n",
      "video 1/1 (2595/4362) D:\\Predict\\test_video.mp4: 384x640 (no detections), 7.0ms\n",
      "video 1/1 (2596/4362) D:\\Predict\\test_video.mp4: 384x640 (no detections), 6.0ms\n",
      "video 1/1 (2597/4362) D:\\Predict\\test_video.mp4: 384x640 (no detections), 5.0ms\n",
      "video 1/1 (2598/4362) D:\\Predict\\test_video.mp4: 384x640 (no detections), 5.0ms\n",
      "video 1/1 (2599/4362) D:\\Predict\\test_video.mp4: 384x640 (no detections), 10.0ms\n",
      "video 1/1 (2600/4362) D:\\Predict\\test_video.mp4: 384x640 (no detections), 9.0ms\n",
      "video 1/1 (2601/4362) D:\\Predict\\test_video.mp4: 384x640 (no detections), 7.0ms\n",
      "video 1/1 (2602/4362) D:\\Predict\\test_video.mp4: 384x640 1 person, 21.0ms\n",
      "video 1/1 (2603/4362) D:\\Predict\\test_video.mp4: 384x640 (no detections), 5.0ms\n",
      "video 1/1 (2604/4362) D:\\Predict\\test_video.mp4: 384x640 (no detections), 5.0ms\n",
      "video 1/1 (2605/4362) D:\\Predict\\test_video.mp4: 384x640 1 person, 5.0ms\n",
      "video 1/1 (2606/4362) D:\\Predict\\test_video.mp4: 384x640 1 person, 5.0ms\n",
      "video 1/1 (2607/4362) D:\\Predict\\test_video.mp4: 384x640 1 person, 5.0ms\n",
      "video 1/1 (2608/4362) D:\\Predict\\test_video.mp4: 384x640 1 person, 7.0ms\n",
      "video 1/1 (2609/4362) D:\\Predict\\test_video.mp4: 384x640 (no detections), 6.0ms\n",
      "video 1/1 (2610/4362) D:\\Predict\\test_video.mp4: 384x640 1 person, 8.0ms\n",
      "video 1/1 (2611/4362) D:\\Predict\\test_video.mp4: 384x640 (no detections), 6.0ms\n",
      "video 1/1 (2612/4362) D:\\Predict\\test_video.mp4: 384x640 (no detections), 7.0ms\n",
      "video 1/1 (2613/4362) D:\\Predict\\test_video.mp4: 384x640 (no detections), 6.0ms\n",
      "video 1/1 (2614/4362) D:\\Predict\\test_video.mp4: 384x640 (no detections), 6.0ms\n",
      "video 1/1 (2615/4362) D:\\Predict\\test_video.mp4: 384x640 (no detections), 6.0ms\n",
      "video 1/1 (2616/4362) D:\\Predict\\test_video.mp4: 384x640 (no detections), 6.0ms\n",
      "video 1/1 (2617/4362) D:\\Predict\\test_video.mp4: 384x640 (no detections), 5.0ms\n",
      "video 1/1 (2618/4362) D:\\Predict\\test_video.mp4: 384x640 (no detections), 8.0ms\n",
      "video 1/1 (2619/4362) D:\\Predict\\test_video.mp4: 384x640 (no detections), 5.0ms\n",
      "video 1/1 (2620/4362) D:\\Predict\\test_video.mp4: 384x640 (no detections), 5.0ms\n",
      "video 1/1 (2621/4362) D:\\Predict\\test_video.mp4: 384x640 (no detections), 5.0ms\n",
      "video 1/1 (2622/4362) D:\\Predict\\test_video.mp4: 384x640 (no detections), 6.0ms\n",
      "video 1/1 (2623/4362) D:\\Predict\\test_video.mp4: 384x640 (no detections), 8.0ms\n",
      "video 1/1 (2624/4362) D:\\Predict\\test_video.mp4: 384x640 (no detections), 6.0ms\n",
      "video 1/1 (2625/4362) D:\\Predict\\test_video.mp4: 384x640 (no detections), 5.0ms\n",
      "video 1/1 (2626/4362) D:\\Predict\\test_video.mp4: 384x640 (no detections), 6.0ms\n",
      "video 1/1 (2627/4362) D:\\Predict\\test_video.mp4: 384x640 (no detections), 5.0ms\n",
      "video 1/1 (2628/4362) D:\\Predict\\test_video.mp4: 384x640 (no detections), 6.0ms\n",
      "video 1/1 (2629/4362) D:\\Predict\\test_video.mp4: 384x640 (no detections), 6.0ms\n",
      "video 1/1 (2630/4362) D:\\Predict\\test_video.mp4: 384x640 (no detections), 5.0ms\n",
      "video 1/1 (2631/4362) D:\\Predict\\test_video.mp4: 384x640 (no detections), 5.0ms\n",
      "video 1/1 (2632/4362) D:\\Predict\\test_video.mp4: 384x640 (no detections), 5.0ms\n",
      "video 1/1 (2633/4362) D:\\Predict\\test_video.mp4: 384x640 (no detections), 5.0ms\n",
      "video 1/1 (2634/4362) D:\\Predict\\test_video.mp4: 384x640 (no detections), 5.0ms\n",
      "video 1/1 (2635/4362) D:\\Predict\\test_video.mp4: 384x640 (no detections), 5.0ms\n",
      "video 1/1 (2636/4362) D:\\Predict\\test_video.mp4: 384x640 (no detections), 5.0ms\n",
      "video 1/1 (2637/4362) D:\\Predict\\test_video.mp4: 384x640 (no detections), 5.0ms\n",
      "video 1/1 (2638/4362) D:\\Predict\\test_video.mp4: 384x640 (no detections), 5.0ms\n",
      "video 1/1 (2639/4362) D:\\Predict\\test_video.mp4: 384x640 (no detections), 5.0ms\n",
      "video 1/1 (2640/4362) D:\\Predict\\test_video.mp4: 384x640 (no detections), 5.0ms\n",
      "video 1/1 (2641/4362) D:\\Predict\\test_video.mp4: 384x640 (no detections), 5.0ms\n",
      "video 1/1 (2642/4362) D:\\Predict\\test_video.mp4: 384x640 (no detections), 6.0ms\n",
      "video 1/1 (2643/4362) D:\\Predict\\test_video.mp4: 384x640 (no detections), 5.0ms\n",
      "video 1/1 (2644/4362) D:\\Predict\\test_video.mp4: 384x640 (no detections), 5.0ms\n",
      "video 1/1 (2645/4362) D:\\Predict\\test_video.mp4: 384x640 (no detections), 5.0ms\n",
      "video 1/1 (2646/4362) D:\\Predict\\test_video.mp4: 384x640 (no detections), 5.0ms\n",
      "video 1/1 (2647/4362) D:\\Predict\\test_video.mp4: 384x640 (no detections), 7.0ms\n",
      "video 1/1 (2648/4362) D:\\Predict\\test_video.mp4: 384x640 (no detections), 7.0ms\n",
      "video 1/1 (2649/4362) D:\\Predict\\test_video.mp4: 384x640 (no detections), 5.0ms\n",
      "video 1/1 (2650/4362) D:\\Predict\\test_video.mp4: 384x640 (no detections), 5.0ms\n",
      "video 1/1 (2651/4362) D:\\Predict\\test_video.mp4: 384x640 (no detections), 5.0ms\n",
      "video 1/1 (2652/4362) D:\\Predict\\test_video.mp4: 384x640 (no detections), 6.0ms\n",
      "video 1/1 (2653/4362) D:\\Predict\\test_video.mp4: 384x640 1 person, 5.0ms\n",
      "video 1/1 (2654/4362) D:\\Predict\\test_video.mp4: 384x640 1 person, 8.0ms\n",
      "video 1/1 (2655/4362) D:\\Predict\\test_video.mp4: 384x640 1 person, 7.0ms\n",
      "video 1/1 (2656/4362) D:\\Predict\\test_video.mp4: 384x640 1 person, 7.0ms\n",
      "video 1/1 (2657/4362) D:\\Predict\\test_video.mp4: 384x640 1 person, 7.0ms\n",
      "video 1/1 (2658/4362) D:\\Predict\\test_video.mp4: 384x640 1 person, 6.0ms\n",
      "video 1/1 (2659/4362) D:\\Predict\\test_video.mp4: 384x640 1 person, 5.0ms\n",
      "video 1/1 (2660/4362) D:\\Predict\\test_video.mp4: 384x640 1 person, 5.0ms\n",
      "video 1/1 (2661/4362) D:\\Predict\\test_video.mp4: 384x640 1 person, 8.0ms\n",
      "video 1/1 (2662/4362) D:\\Predict\\test_video.mp4: 384x640 1 person, 19.0ms\n",
      "video 1/1 (2663/4362) D:\\Predict\\test_video.mp4: 384x640 1 person, 16.0ms\n",
      "video 1/1 (2664/4362) D:\\Predict\\test_video.mp4: 384x640 1 person, 8.0ms\n",
      "video 1/1 (2665/4362) D:\\Predict\\test_video.mp4: 384x640 1 person, 5.0ms\n",
      "video 1/1 (2666/4362) D:\\Predict\\test_video.mp4: 384x640 1 person, 6.0ms\n",
      "video 1/1 (2667/4362) D:\\Predict\\test_video.mp4: 384x640 1 person, 5.0ms\n",
      "video 1/1 (2668/4362) D:\\Predict\\test_video.mp4: 384x640 1 person, 6.0ms\n",
      "video 1/1 (2669/4362) D:\\Predict\\test_video.mp4: 384x640 1 person, 7.0ms\n",
      "video 1/1 (2670/4362) D:\\Predict\\test_video.mp4: 384x640 1 person, 7.0ms\n",
      "video 1/1 (2671/4362) D:\\Predict\\test_video.mp4: 384x640 1 person, 7.0ms\n",
      "video 1/1 (2672/4362) D:\\Predict\\test_video.mp4: 384x640 1 person, 8.0ms\n",
      "video 1/1 (2673/4362) D:\\Predict\\test_video.mp4: 384x640 1 person, 8.0ms\n",
      "video 1/1 (2674/4362) D:\\Predict\\test_video.mp4: 384x640 1 person, 7.0ms\n",
      "video 1/1 (2675/4362) D:\\Predict\\test_video.mp4: 384x640 1 person, 7.0ms\n",
      "video 1/1 (2676/4362) D:\\Predict\\test_video.mp4: 384x640 1 person, 6.0ms\n",
      "video 1/1 (2677/4362) D:\\Predict\\test_video.mp4: 384x640 1 person, 7.0ms\n",
      "video 1/1 (2678/4362) D:\\Predict\\test_video.mp4: 384x640 (no detections), 5.0ms\n",
      "video 1/1 (2679/4362) D:\\Predict\\test_video.mp4: 384x640 (no detections), 8.0ms\n",
      "video 1/1 (2680/4362) D:\\Predict\\test_video.mp4: 384x640 1 person, 8.0ms\n",
      "video 1/1 (2681/4362) D:\\Predict\\test_video.mp4: 384x640 1 person, 6.0ms\n",
      "video 1/1 (2682/4362) D:\\Predict\\test_video.mp4: 384x640 (no detections), 7.0ms\n",
      "video 1/1 (2683/4362) D:\\Predict\\test_video.mp4: 384x640 (no detections), 8.0ms\n",
      "video 1/1 (2684/4362) D:\\Predict\\test_video.mp4: 384x640 (no detections), 6.0ms\n",
      "video 1/1 (2685/4362) D:\\Predict\\test_video.mp4: 384x640 (no detections), 5.0ms\n",
      "video 1/1 (2686/4362) D:\\Predict\\test_video.mp4: 384x640 (no detections), 5.0ms\n",
      "video 1/1 (2687/4362) D:\\Predict\\test_video.mp4: 384x640 (no detections), 6.0ms\n",
      "video 1/1 (2688/4362) D:\\Predict\\test_video.mp4: 384x640 (no detections), 8.0ms\n",
      "video 1/1 (2689/4362) D:\\Predict\\test_video.mp4: 384x640 (no detections), 6.0ms\n",
      "video 1/1 (2690/4362) D:\\Predict\\test_video.mp4: 384x640 (no detections), 8.0ms\n",
      "video 1/1 (2691/4362) D:\\Predict\\test_video.mp4: 384x640 (no detections), 6.0ms\n",
      "video 1/1 (2692/4362) D:\\Predict\\test_video.mp4: 384x640 (no detections), 5.0ms\n",
      "video 1/1 (2693/4362) D:\\Predict\\test_video.mp4: 384x640 (no detections), 5.0ms\n",
      "video 1/1 (2694/4362) D:\\Predict\\test_video.mp4: 384x640 (no detections), 5.0ms\n",
      "video 1/1 (2695/4362) D:\\Predict\\test_video.mp4: 384x640 (no detections), 5.0ms\n",
      "video 1/1 (2696/4362) D:\\Predict\\test_video.mp4: 384x640 (no detections), 7.0ms\n",
      "video 1/1 (2697/4362) D:\\Predict\\test_video.mp4: 384x640 (no detections), 8.0ms\n",
      "video 1/1 (2698/4362) D:\\Predict\\test_video.mp4: 384x640 (no detections), 8.0ms\n",
      "video 1/1 (2699/4362) D:\\Predict\\test_video.mp4: 384x640 (no detections), 5.0ms\n",
      "video 1/1 (2700/4362) D:\\Predict\\test_video.mp4: 384x640 (no detections), 5.0ms\n",
      "video 1/1 (2701/4362) D:\\Predict\\test_video.mp4: 384x640 (no detections), 5.0ms\n",
      "video 1/1 (2702/4362) D:\\Predict\\test_video.mp4: 384x640 (no detections), 8.0ms\n",
      "video 1/1 (2703/4362) D:\\Predict\\test_video.mp4: 384x640 (no detections), 8.0ms\n",
      "video 1/1 (2704/4362) D:\\Predict\\test_video.mp4: 384x640 (no detections), 6.0ms\n",
      "video 1/1 (2705/4362) D:\\Predict\\test_video.mp4: 384x640 (no detections), 5.0ms\n",
      "video 1/1 (2706/4362) D:\\Predict\\test_video.mp4: 384x640 (no detections), 5.0ms\n",
      "video 1/1 (2707/4362) D:\\Predict\\test_video.mp4: 384x640 1 person, 6.0ms\n",
      "video 1/1 (2708/4362) D:\\Predict\\test_video.mp4: 384x640 1 person, 5.0ms\n",
      "video 1/1 (2709/4362) D:\\Predict\\test_video.mp4: 384x640 1 person, 5.0ms\n",
      "video 1/1 (2710/4362) D:\\Predict\\test_video.mp4: 384x640 1 person, 5.0ms\n",
      "video 1/1 (2711/4362) D:\\Predict\\test_video.mp4: 384x640 1 person, 6.0ms\n",
      "video 1/1 (2712/4362) D:\\Predict\\test_video.mp4: 384x640 1 person, 6.0ms\n",
      "video 1/1 (2713/4362) D:\\Predict\\test_video.mp4: 384x640 1 person, 5.0ms\n",
      "video 1/1 (2714/4362) D:\\Predict\\test_video.mp4: 384x640 1 person, 5.0ms\n",
      "video 1/1 (2715/4362) D:\\Predict\\test_video.mp4: 384x640 2 persons, 5.0ms\n",
      "video 1/1 (2716/4362) D:\\Predict\\test_video.mp4: 384x640 1 person, 5.0ms\n",
      "video 1/1 (2717/4362) D:\\Predict\\test_video.mp4: 384x640 (no detections), 6.0ms\n",
      "video 1/1 (2718/4362) D:\\Predict\\test_video.mp4: 384x640 (no detections), 5.0ms\n",
      "video 1/1 (2719/4362) D:\\Predict\\test_video.mp4: 384x640 (no detections), 5.0ms\n",
      "video 1/1 (2720/4362) D:\\Predict\\test_video.mp4: 384x640 (no detections), 5.0ms\n",
      "video 1/1 (2721/4362) D:\\Predict\\test_video.mp4: 384x640 1 guns, 2 persons, 8.0ms\n",
      "video 1/1 (2722/4362) D:\\Predict\\test_video.mp4: 384x640 1 guns, 1 person, 20.0ms\n",
      "video 1/1 (2723/4362) D:\\Predict\\test_video.mp4: 384x640 1 guns, 1 person, 6.0ms\n",
      "video 1/1 (2724/4362) D:\\Predict\\test_video.mp4: 384x640 (no detections), 25.0ms\n",
      "video 1/1 (2725/4362) D:\\Predict\\test_video.mp4: 384x640 1 person, 24.0ms\n",
      "video 1/1 (2726/4362) D:\\Predict\\test_video.mp4: 384x640 1 person, 6.0ms\n",
      "video 1/1 (2727/4362) D:\\Predict\\test_video.mp4: 384x640 1 person, 5.0ms\n",
      "video 1/1 (2728/4362) D:\\Predict\\test_video.mp4: 384x640 1 guns, 1 person, 5.0ms\n",
      "video 1/1 (2729/4362) D:\\Predict\\test_video.mp4: 384x640 1 guns, 1 person, 7.0ms\n",
      "video 1/1 (2730/4362) D:\\Predict\\test_video.mp4: 384x640 2 gunss, 1 person, 6.0ms\n",
      "video 1/1 (2731/4362) D:\\Predict\\test_video.mp4: 384x640 2 gunss, 1 person, 5.0ms\n",
      "video 1/1 (2732/4362) D:\\Predict\\test_video.mp4: 384x640 2 gunss, 1 person, 5.0ms\n",
      "video 1/1 (2733/4362) D:\\Predict\\test_video.mp4: 384x640 2 gunss, 6.0ms\n",
      "video 1/1 (2734/4362) D:\\Predict\\test_video.mp4: 384x640 1 guns, 1 person, 7.0ms\n",
      "video 1/1 (2735/4362) D:\\Predict\\test_video.mp4: 384x640 1 person, 6.0ms\n",
      "video 1/1 (2736/4362) D:\\Predict\\test_video.mp4: 384x640 1 person, 6.0ms\n",
      "video 1/1 (2737/4362) D:\\Predict\\test_video.mp4: 384x640 (no detections), 5.0ms\n",
      "video 1/1 (2738/4362) D:\\Predict\\test_video.mp4: 384x640 (no detections), 5.0ms\n",
      "video 1/1 (2739/4362) D:\\Predict\\test_video.mp4: 384x640 (no detections), 5.0ms\n",
      "video 1/1 (2740/4362) D:\\Predict\\test_video.mp4: 384x640 (no detections), 5.0ms\n",
      "video 1/1 (2741/4362) D:\\Predict\\test_video.mp4: 384x640 (no detections), 5.0ms\n",
      "video 1/1 (2742/4362) D:\\Predict\\test_video.mp4: 384x640 1 person, 8.0ms\n",
      "video 1/1 (2743/4362) D:\\Predict\\test_video.mp4: 384x640 1 person, 7.0ms\n",
      "video 1/1 (2744/4362) D:\\Predict\\test_video.mp4: 384x640 1 person, 8.0ms\n",
      "video 1/1 (2745/4362) D:\\Predict\\test_video.mp4: 384x640 (no detections), 5.0ms\n",
      "video 1/1 (2746/4362) D:\\Predict\\test_video.mp4: 384x640 1 person, 7.0ms\n",
      "video 1/1 (2747/4362) D:\\Predict\\test_video.mp4: 384x640 1 guns, 5.0ms\n",
      "video 1/1 (2748/4362) D:\\Predict\\test_video.mp4: 384x640 1 person, 6.0ms\n",
      "video 1/1 (2749/4362) D:\\Predict\\test_video.mp4: 384x640 1 guns, 1 person, 5.0ms\n",
      "video 1/1 (2750/4362) D:\\Predict\\test_video.mp4: 384x640 1 person, 6.0ms\n",
      "video 1/1 (2751/4362) D:\\Predict\\test_video.mp4: 384x640 (no detections), 6.0ms\n",
      "video 1/1 (2752/4362) D:\\Predict\\test_video.mp4: 384x640 1 person, 6.0ms\n",
      "video 1/1 (2753/4362) D:\\Predict\\test_video.mp4: 384x640 1 person, 6.0ms\n",
      "video 1/1 (2754/4362) D:\\Predict\\test_video.mp4: 384x640 1 person, 5.0ms\n",
      "video 1/1 (2755/4362) D:\\Predict\\test_video.mp4: 384x640 1 guns, 1 person, 5.0ms\n",
      "video 1/1 (2756/4362) D:\\Predict\\test_video.mp4: 384x640 1 guns, 1 person, 5.0ms\n",
      "video 1/1 (2757/4362) D:\\Predict\\test_video.mp4: 384x640 1 guns, 1 person, 5.0ms\n",
      "video 1/1 (2758/4362) D:\\Predict\\test_video.mp4: 384x640 1 guns, 1 person, 5.0ms\n",
      "video 1/1 (2759/4362) D:\\Predict\\test_video.mp4: 384x640 1 guns, 1 person, 6.0ms\n",
      "video 1/1 (2760/4362) D:\\Predict\\test_video.mp4: 384x640 1 guns, 1 person, 7.0ms\n",
      "video 1/1 (2761/4362) D:\\Predict\\test_video.mp4: 384x640 1 guns, 1 person, 5.0ms\n",
      "video 1/1 (2762/4362) D:\\Predict\\test_video.mp4: 384x640 1 guns, 1 person, 6.0ms\n",
      "video 1/1 (2763/4362) D:\\Predict\\test_video.mp4: 384x640 1 guns, 1 person, 5.0ms\n",
      "video 1/1 (2764/4362) D:\\Predict\\test_video.mp4: 384x640 1 person, 5.0ms\n",
      "video 1/1 (2765/4362) D:\\Predict\\test_video.mp4: 384x640 1 person, 5.0ms\n",
      "video 1/1 (2766/4362) D:\\Predict\\test_video.mp4: 384x640 1 person, 5.0ms\n",
      "video 1/1 (2767/4362) D:\\Predict\\test_video.mp4: 384x640 1 person, 6.0ms\n",
      "video 1/1 (2768/4362) D:\\Predict\\test_video.mp4: 384x640 1 person, 8.0ms\n",
      "video 1/1 (2769/4362) D:\\Predict\\test_video.mp4: 384x640 (no detections), 6.0ms\n",
      "video 1/1 (2770/4362) D:\\Predict\\test_video.mp4: 384x640 1 person, 8.0ms\n",
      "video 1/1 (2771/4362) D:\\Predict\\test_video.mp4: 384x640 1 person, 7.0ms\n",
      "video 1/1 (2772/4362) D:\\Predict\\test_video.mp4: 384x640 1 person, 6.0ms\n",
      "video 1/1 (2773/4362) D:\\Predict\\test_video.mp4: 384x640 1 person, 5.0ms\n",
      "video 1/1 (2774/4362) D:\\Predict\\test_video.mp4: 384x640 1 person, 6.0ms\n",
      "video 1/1 (2775/4362) D:\\Predict\\test_video.mp4: 384x640 1 person, 6.0ms\n",
      "video 1/1 (2776/4362) D:\\Predict\\test_video.mp4: 384x640 1 person, 5.0ms\n",
      "video 1/1 (2777/4362) D:\\Predict\\test_video.mp4: 384x640 1 person, 12.0ms\n",
      "video 1/1 (2778/4362) D:\\Predict\\test_video.mp4: 384x640 1 person, 6.0ms\n",
      "video 1/1 (2779/4362) D:\\Predict\\test_video.mp4: 384x640 1 person, 16.0ms\n",
      "video 1/1 (2780/4362) D:\\Predict\\test_video.mp4: 384x640 1 person, 14.0ms\n",
      "video 1/1 (2781/4362) D:\\Predict\\test_video.mp4: 384x640 1 person, 6.0ms\n",
      "video 1/1 (2782/4362) D:\\Predict\\test_video.mp4: 384x640 1 person, 9.0ms\n",
      "video 1/1 (2783/4362) D:\\Predict\\test_video.mp4: 384x640 1 person, 6.0ms\n",
      "video 1/1 (2784/4362) D:\\Predict\\test_video.mp4: 384x640 1 person, 5.0ms\n",
      "video 1/1 (2785/4362) D:\\Predict\\test_video.mp4: 384x640 1 person, 5.0ms\n",
      "video 1/1 (2786/4362) D:\\Predict\\test_video.mp4: 384x640 1 person, 5.0ms\n",
      "video 1/1 (2787/4362) D:\\Predict\\test_video.mp4: 384x640 1 person, 5.0ms\n",
      "video 1/1 (2788/4362) D:\\Predict\\test_video.mp4: 384x640 1 person, 5.0ms\n",
      "video 1/1 (2789/4362) D:\\Predict\\test_video.mp4: 384x640 (no detections), 6.0ms\n",
      "video 1/1 (2790/4362) D:\\Predict\\test_video.mp4: 384x640 (no detections), 5.0ms\n",
      "video 1/1 (2791/4362) D:\\Predict\\test_video.mp4: 384x640 (no detections), 6.0ms\n",
      "video 1/1 (2792/4362) D:\\Predict\\test_video.mp4: 384x640 (no detections), 5.0ms\n",
      "video 1/1 (2793/4362) D:\\Predict\\test_video.mp4: 384x640 (no detections), 5.0ms\n",
      "video 1/1 (2794/4362) D:\\Predict\\test_video.mp4: 384x640 (no detections), 5.0ms\n",
      "video 1/1 (2795/4362) D:\\Predict\\test_video.mp4: 384x640 (no detections), 5.0ms\n",
      "video 1/1 (2796/4362) D:\\Predict\\test_video.mp4: 384x640 1 person, 6.0ms\n",
      "video 1/1 (2797/4362) D:\\Predict\\test_video.mp4: 384x640 1 person, 6.0ms\n",
      "video 1/1 (2798/4362) D:\\Predict\\test_video.mp4: 384x640 1 person, 9.0ms\n",
      "video 1/1 (2799/4362) D:\\Predict\\test_video.mp4: 384x640 (no detections), 6.0ms\n",
      "video 1/1 (2800/4362) D:\\Predict\\test_video.mp4: 384x640 (no detections), 6.0ms\n",
      "video 1/1 (2801/4362) D:\\Predict\\test_video.mp4: 384x640 1 person, 8.0ms\n",
      "video 1/1 (2802/4362) D:\\Predict\\test_video.mp4: 384x640 1 person, 6.0ms\n",
      "video 1/1 (2803/4362) D:\\Predict\\test_video.mp4: 384x640 1 person, 5.0ms\n",
      "video 1/1 (2804/4362) D:\\Predict\\test_video.mp4: 384x640 1 person, 5.0ms\n",
      "video 1/1 (2805/4362) D:\\Predict\\test_video.mp4: 384x640 1 person, 5.0ms\n",
      "video 1/1 (2806/4362) D:\\Predict\\test_video.mp4: 384x640 1 person, 8.0ms\n",
      "video 1/1 (2807/4362) D:\\Predict\\test_video.mp4: 384x640 2 persons, 5.0ms\n",
      "video 1/1 (2808/4362) D:\\Predict\\test_video.mp4: 384x640 2 persons, 5.0ms\n",
      "video 1/1 (2809/4362) D:\\Predict\\test_video.mp4: 384x640 1 person, 5.0ms\n",
      "video 1/1 (2810/4362) D:\\Predict\\test_video.mp4: 384x640 1 person, 5.0ms\n",
      "video 1/1 (2811/4362) D:\\Predict\\test_video.mp4: 384x640 1 person, 5.0ms\n",
      "video 1/1 (2812/4362) D:\\Predict\\test_video.mp4: 384x640 1 person, 5.0ms\n",
      "video 1/1 (2813/4362) D:\\Predict\\test_video.mp4: 384x640 1 person, 5.0ms\n",
      "video 1/1 (2814/4362) D:\\Predict\\test_video.mp4: 384x640 1 person, 6.0ms\n",
      "video 1/1 (2815/4362) D:\\Predict\\test_video.mp4: 384x640 1 person, 5.0ms\n",
      "video 1/1 (2816/4362) D:\\Predict\\test_video.mp4: 384x640 1 person, 5.0ms\n",
      "video 1/1 (2817/4362) D:\\Predict\\test_video.mp4: 384x640 1 person, 5.0ms\n",
      "video 1/1 (2818/4362) D:\\Predict\\test_video.mp4: 384x640 1 person, 6.0ms\n",
      "video 1/1 (2819/4362) D:\\Predict\\test_video.mp4: 384x640 1 person, 7.0ms\n",
      "video 1/1 (2820/4362) D:\\Predict\\test_video.mp4: 384x640 1 person, 6.0ms\n",
      "video 1/1 (2821/4362) D:\\Predict\\test_video.mp4: 384x640 1 person, 5.0ms\n",
      "video 1/1 (2822/4362) D:\\Predict\\test_video.mp4: 384x640 1 person, 5.0ms\n",
      "video 1/1 (2823/4362) D:\\Predict\\test_video.mp4: 384x640 1 person, 6.0ms\n",
      "video 1/1 (2824/4362) D:\\Predict\\test_video.mp4: 384x640 1 person, 6.0ms\n",
      "video 1/1 (2825/4362) D:\\Predict\\test_video.mp4: 384x640 1 person, 8.0ms\n",
      "video 1/1 (2826/4362) D:\\Predict\\test_video.mp4: 384x640 1 person, 6.0ms\n",
      "video 1/1 (2827/4362) D:\\Predict\\test_video.mp4: 384x640 1 person, 8.0ms\n",
      "video 1/1 (2828/4362) D:\\Predict\\test_video.mp4: 384x640 1 person, 6.0ms\n",
      "video 1/1 (2829/4362) D:\\Predict\\test_video.mp4: 384x640 1 person, 8.0ms\n",
      "video 1/1 (2830/4362) D:\\Predict\\test_video.mp4: 384x640 1 person, 5.0ms\n",
      "video 1/1 (2831/4362) D:\\Predict\\test_video.mp4: 384x640 1 person, 6.0ms\n",
      "video 1/1 (2832/4362) D:\\Predict\\test_video.mp4: 384x640 1 person, 6.0ms\n",
      "video 1/1 (2833/4362) D:\\Predict\\test_video.mp4: 384x640 1 person, 6.0ms\n",
      "video 1/1 (2834/4362) D:\\Predict\\test_video.mp4: 384x640 1 person, 27.0ms\n",
      "video 1/1 (2835/4362) D:\\Predict\\test_video.mp4: 384x640 1 person, 10.0ms\n",
      "video 1/1 (2836/4362) D:\\Predict\\test_video.mp4: 384x640 1 person, 20.0ms\n",
      "video 1/1 (2837/4362) D:\\Predict\\test_video.mp4: 384x640 1 person, 15.0ms\n",
      "video 1/1 (2838/4362) D:\\Predict\\test_video.mp4: 384x640 1 person, 8.0ms\n",
      "video 1/1 (2839/4362) D:\\Predict\\test_video.mp4: 384x640 1 person, 7.0ms\n",
      "video 1/1 (2840/4362) D:\\Predict\\test_video.mp4: 384x640 1 person, 7.0ms\n",
      "video 1/1 (2841/4362) D:\\Predict\\test_video.mp4: 384x640 1 person, 5.0ms\n",
      "video 1/1 (2842/4362) D:\\Predict\\test_video.mp4: 384x640 1 person, 5.0ms\n",
      "video 1/1 (2843/4362) D:\\Predict\\test_video.mp4: 384x640 1 person, 5.0ms\n",
      "video 1/1 (2844/4362) D:\\Predict\\test_video.mp4: 384x640 1 person, 5.0ms\n",
      "video 1/1 (2845/4362) D:\\Predict\\test_video.mp4: 384x640 1 person, 5.0ms\n",
      "video 1/1 (2846/4362) D:\\Predict\\test_video.mp4: 384x640 1 person, 5.0ms\n",
      "video 1/1 (2847/4362) D:\\Predict\\test_video.mp4: 384x640 1 person, 5.0ms\n",
      "video 1/1 (2848/4362) D:\\Predict\\test_video.mp4: 384x640 1 person, 5.0ms\n",
      "video 1/1 (2849/4362) D:\\Predict\\test_video.mp4: 384x640 1 person, 7.0ms\n",
      "video 1/1 (2850/4362) D:\\Predict\\test_video.mp4: 384x640 1 person, 5.0ms\n",
      "video 1/1 (2851/4362) D:\\Predict\\test_video.mp4: 384x640 1 person, 7.0ms\n",
      "video 1/1 (2852/4362) D:\\Predict\\test_video.mp4: 384x640 1 person, 6.0ms\n",
      "video 1/1 (2853/4362) D:\\Predict\\test_video.mp4: 384x640 1 person, 9.0ms\n",
      "video 1/1 (2854/4362) D:\\Predict\\test_video.mp4: 384x640 1 person, 7.0ms\n",
      "video 1/1 (2855/4362) D:\\Predict\\test_video.mp4: 384x640 1 person, 8.0ms\n",
      "video 1/1 (2856/4362) D:\\Predict\\test_video.mp4: 384x640 1 person, 7.0ms\n",
      "video 1/1 (2857/4362) D:\\Predict\\test_video.mp4: 384x640 1 person, 7.0ms\n",
      "video 1/1 (2858/4362) D:\\Predict\\test_video.mp4: 384x640 1 person, 7.0ms\n",
      "video 1/1 (2859/4362) D:\\Predict\\test_video.mp4: 384x640 1 guns, 1 person, 5.0ms\n",
      "video 1/1 (2860/4362) D:\\Predict\\test_video.mp4: 384x640 1 person, 6.0ms\n",
      "video 1/1 (2861/4362) D:\\Predict\\test_video.mp4: 384x640 (no detections), 6.0ms\n",
      "video 1/1 (2862/4362) D:\\Predict\\test_video.mp4: 384x640 (no detections), 5.0ms\n",
      "video 1/1 (2863/4362) D:\\Predict\\test_video.mp4: 384x640 (no detections), 5.0ms\n",
      "video 1/1 (2864/4362) D:\\Predict\\test_video.mp4: 384x640 1 person, 6.0ms\n",
      "video 1/1 (2865/4362) D:\\Predict\\test_video.mp4: 384x640 1 person, 7.0ms\n",
      "video 1/1 (2866/4362) D:\\Predict\\test_video.mp4: 384x640 1 person, 6.0ms\n",
      "video 1/1 (2867/4362) D:\\Predict\\test_video.mp4: 384x640 1 person, 7.0ms\n",
      "video 1/1 (2868/4362) D:\\Predict\\test_video.mp4: 384x640 1 person, 7.0ms\n",
      "video 1/1 (2869/4362) D:\\Predict\\test_video.mp4: 384x640 1 person, 8.0ms\n",
      "video 1/1 (2870/4362) D:\\Predict\\test_video.mp4: 384x640 1 person, 5.0ms\n",
      "video 1/1 (2871/4362) D:\\Predict\\test_video.mp4: 384x640 1 person, 5.0ms\n",
      "video 1/1 (2872/4362) D:\\Predict\\test_video.mp4: 384x640 1 person, 6.0ms\n",
      "video 1/1 (2873/4362) D:\\Predict\\test_video.mp4: 384x640 1 person, 8.0ms\n",
      "video 1/1 (2874/4362) D:\\Predict\\test_video.mp4: 384x640 1 person, 6.0ms\n",
      "video 1/1 (2875/4362) D:\\Predict\\test_video.mp4: 384x640 1 person, 8.0ms\n",
      "video 1/1 (2876/4362) D:\\Predict\\test_video.mp4: 384x640 1 person, 6.0ms\n",
      "video 1/1 (2877/4362) D:\\Predict\\test_video.mp4: 384x640 1 person, 8.0ms\n",
      "video 1/1 (2878/4362) D:\\Predict\\test_video.mp4: 384x640 1 person, 6.0ms\n",
      "video 1/1 (2879/4362) D:\\Predict\\test_video.mp4: 384x640 1 person, 7.0ms\n",
      "video 1/1 (2880/4362) D:\\Predict\\test_video.mp4: 384x640 1 person, 6.0ms\n",
      "video 1/1 (2881/4362) D:\\Predict\\test_video.mp4: 384x640 1 person, 8.0ms\n",
      "video 1/1 (2882/4362) D:\\Predict\\test_video.mp4: 384x640 1 person, 5.0ms\n",
      "video 1/1 (2883/4362) D:\\Predict\\test_video.mp4: 384x640 1 person, 6.0ms\n",
      "video 1/1 (2884/4362) D:\\Predict\\test_video.mp4: 384x640 1 person, 8.0ms\n",
      "video 1/1 (2885/4362) D:\\Predict\\test_video.mp4: 384x640 1 person, 7.0ms\n",
      "video 1/1 (2886/4362) D:\\Predict\\test_video.mp4: 384x640 1 person, 5.0ms\n",
      "video 1/1 (2887/4362) D:\\Predict\\test_video.mp4: 384x640 1 person, 6.0ms\n",
      "video 1/1 (2888/4362) D:\\Predict\\test_video.mp4: 384x640 (no detections), 7.0ms\n",
      "video 1/1 (2889/4362) D:\\Predict\\test_video.mp4: 384x640 (no detections), 7.0ms\n",
      "video 1/1 (2890/4362) D:\\Predict\\test_video.mp4: 384x640 1 person, 7.0ms\n",
      "video 1/1 (2891/4362) D:\\Predict\\test_video.mp4: 384x640 1 person, 6.0ms\n",
      "video 1/1 (2892/4362) D:\\Predict\\test_video.mp4: 384x640 1 person, 16.0ms\n",
      "video 1/1 (2893/4362) D:\\Predict\\test_video.mp4: 384x640 1 person, 6.0ms\n",
      "video 1/1 (2894/4362) D:\\Predict\\test_video.mp4: 384x640 1 person, 6.0ms\n",
      "video 1/1 (2895/4362) D:\\Predict\\test_video.mp4: 384x640 1 person, 6.0ms\n",
      "video 1/1 (2896/4362) D:\\Predict\\test_video.mp4: 384x640 1 person, 21.0ms\n",
      "video 1/1 (2897/4362) D:\\Predict\\test_video.mp4: 384x640 1 person, 8.0ms\n",
      "video 1/1 (2898/4362) D:\\Predict\\test_video.mp4: 384x640 1 person, 6.0ms\n",
      "video 1/1 (2899/4362) D:\\Predict\\test_video.mp4: 384x640 1 person, 7.0ms\n",
      "video 1/1 (2900/4362) D:\\Predict\\test_video.mp4: 384x640 1 person, 7.0ms\n",
      "video 1/1 (2901/4362) D:\\Predict\\test_video.mp4: 384x640 1 person, 8.0ms\n",
      "video 1/1 (2902/4362) D:\\Predict\\test_video.mp4: 384x640 1 person, 6.0ms\n",
      "video 1/1 (2903/4362) D:\\Predict\\test_video.mp4: 384x640 1 person, 8.0ms\n",
      "video 1/1 (2904/4362) D:\\Predict\\test_video.mp4: 384x640 1 person, 8.0ms\n",
      "video 1/1 (2905/4362) D:\\Predict\\test_video.mp4: 384x640 1 person, 6.0ms\n",
      "video 1/1 (2906/4362) D:\\Predict\\test_video.mp4: 384x640 1 person, 5.0ms\n",
      "video 1/1 (2907/4362) D:\\Predict\\test_video.mp4: 384x640 1 person, 5.0ms\n",
      "video 1/1 (2908/4362) D:\\Predict\\test_video.mp4: 384x640 1 person, 6.0ms\n",
      "video 1/1 (2909/4362) D:\\Predict\\test_video.mp4: 384x640 1 person, 5.0ms\n",
      "video 1/1 (2910/4362) D:\\Predict\\test_video.mp4: 384x640 1 person, 5.0ms\n",
      "video 1/1 (2911/4362) D:\\Predict\\test_video.mp4: 384x640 1 person, 5.0ms\n",
      "video 1/1 (2912/4362) D:\\Predict\\test_video.mp4: 384x640 1 person, 5.0ms\n",
      "video 1/1 (2913/4362) D:\\Predict\\test_video.mp4: 384x640 1 person, 5.0ms\n",
      "video 1/1 (2914/4362) D:\\Predict\\test_video.mp4: 384x640 1 person, 5.0ms\n",
      "video 1/1 (2915/4362) D:\\Predict\\test_video.mp4: 384x640 1 person, 5.0ms\n",
      "video 1/1 (2916/4362) D:\\Predict\\test_video.mp4: 384x640 1 person, 5.0ms\n",
      "video 1/1 (2917/4362) D:\\Predict\\test_video.mp4: 384x640 1 person, 7.0ms\n",
      "video 1/1 (2918/4362) D:\\Predict\\test_video.mp4: 384x640 1 person, 5.0ms\n",
      "video 1/1 (2919/4362) D:\\Predict\\test_video.mp4: 384x640 1 person, 5.0ms\n",
      "video 1/1 (2920/4362) D:\\Predict\\test_video.mp4: 384x640 1 person, 6.0ms\n",
      "video 1/1 (2921/4362) D:\\Predict\\test_video.mp4: 384x640 1 person, 6.0ms\n",
      "video 1/1 (2922/4362) D:\\Predict\\test_video.mp4: 384x640 1 person, 6.0ms\n",
      "video 1/1 (2923/4362) D:\\Predict\\test_video.mp4: 384x640 1 person, 6.0ms\n",
      "video 1/1 (2924/4362) D:\\Predict\\test_video.mp4: 384x640 1 person, 6.0ms\n",
      "video 1/1 (2925/4362) D:\\Predict\\test_video.mp4: 384x640 1 person, 7.0ms\n",
      "video 1/1 (2926/4362) D:\\Predict\\test_video.mp4: 384x640 1 person, 6.0ms\n",
      "video 1/1 (2927/4362) D:\\Predict\\test_video.mp4: 384x640 (no detections), 6.0ms\n",
      "video 1/1 (2928/4362) D:\\Predict\\test_video.mp4: 384x640 1 person, 8.0ms\n",
      "video 1/1 (2929/4362) D:\\Predict\\test_video.mp4: 384x640 1 person, 7.0ms\n",
      "video 1/1 (2930/4362) D:\\Predict\\test_video.mp4: 384x640 1 person, 7.0ms\n",
      "video 1/1 (2931/4362) D:\\Predict\\test_video.mp4: 384x640 (no detections), 5.0ms\n",
      "video 1/1 (2932/4362) D:\\Predict\\test_video.mp4: 384x640 (no detections), 5.0ms\n",
      "video 1/1 (2933/4362) D:\\Predict\\test_video.mp4: 384x640 (no detections), 7.0ms\n",
      "video 1/1 (2934/4362) D:\\Predict\\test_video.mp4: 384x640 (no detections), 8.0ms\n",
      "video 1/1 (2935/4362) D:\\Predict\\test_video.mp4: 384x640 (no detections), 6.0ms\n",
      "video 1/1 (2936/4362) D:\\Predict\\test_video.mp4: 384x640 (no detections), 5.0ms\n",
      "video 1/1 (2937/4362) D:\\Predict\\test_video.mp4: 384x640 (no detections), 5.0ms\n",
      "video 1/1 (2938/4362) D:\\Predict\\test_video.mp4: 384x640 (no detections), 5.0ms\n",
      "video 1/1 (2939/4362) D:\\Predict\\test_video.mp4: 384x640 (no detections), 5.0ms\n",
      "video 1/1 (2940/4362) D:\\Predict\\test_video.mp4: 384x640 (no detections), 6.0ms\n",
      "video 1/1 (2941/4362) D:\\Predict\\test_video.mp4: 384x640 (no detections), 7.0ms\n",
      "video 1/1 (2942/4362) D:\\Predict\\test_video.mp4: 384x640 (no detections), 7.0ms\n",
      "video 1/1 (2943/4362) D:\\Predict\\test_video.mp4: 384x640 (no detections), 6.0ms\n",
      "video 1/1 (2944/4362) D:\\Predict\\test_video.mp4: 384x640 (no detections), 6.0ms\n",
      "video 1/1 (2945/4362) D:\\Predict\\test_video.mp4: 384x640 (no detections), 5.0ms\n",
      "video 1/1 (2946/4362) D:\\Predict\\test_video.mp4: 384x640 (no detections), 5.0ms\n",
      "video 1/1 (2947/4362) D:\\Predict\\test_video.mp4: 384x640 (no detections), 8.0ms\n",
      "video 1/1 (2948/4362) D:\\Predict\\test_video.mp4: 384x640 (no detections), 7.0ms\n",
      "video 1/1 (2949/4362) D:\\Predict\\test_video.mp4: 384x640 (no detections), 5.0ms\n",
      "video 1/1 (2950/4362) D:\\Predict\\test_video.mp4: 384x640 1 person, 5.0ms\n",
      "video 1/1 (2951/4362) D:\\Predict\\test_video.mp4: 384x640 1 person, 6.0ms\n",
      "video 1/1 (2952/4362) D:\\Predict\\test_video.mp4: 384x640 1 person, 6.0ms\n",
      "video 1/1 (2953/4362) D:\\Predict\\test_video.mp4: 384x640 1 person, 6.0ms\n",
      "video 1/1 (2954/4362) D:\\Predict\\test_video.mp4: 384x640 1 person, 8.0ms\n",
      "video 1/1 (2955/4362) D:\\Predict\\test_video.mp4: 384x640 1 person, 10.0ms\n",
      "video 1/1 (2956/4362) D:\\Predict\\test_video.mp4: 384x640 1 person, 6.0ms\n",
      "video 1/1 (2957/4362) D:\\Predict\\test_video.mp4: 384x640 1 person, 9.0ms\n",
      "video 1/1 (2958/4362) D:\\Predict\\test_video.mp4: 384x640 1 person, 5.0ms\n",
      "video 1/1 (2959/4362) D:\\Predict\\test_video.mp4: 384x640 1 person, 15.0ms\n",
      "video 1/1 (2960/4362) D:\\Predict\\test_video.mp4: 384x640 1 person, 5.0ms\n",
      "video 1/1 (2961/4362) D:\\Predict\\test_video.mp4: 384x640 1 person, 5.0ms\n",
      "video 1/1 (2962/4362) D:\\Predict\\test_video.mp4: 384x640 1 person, 6.0ms\n",
      "video 1/1 (2963/4362) D:\\Predict\\test_video.mp4: 384x640 1 person, 8.0ms\n",
      "video 1/1 (2964/4362) D:\\Predict\\test_video.mp4: 384x640 1 person, 5.0ms\n",
      "video 1/1 (2965/4362) D:\\Predict\\test_video.mp4: 384x640 1 person, 5.0ms\n",
      "video 1/1 (2966/4362) D:\\Predict\\test_video.mp4: 384x640 1 person, 6.0ms\n",
      "video 1/1 (2967/4362) D:\\Predict\\test_video.mp4: 384x640 1 person, 5.0ms\n",
      "video 1/1 (2968/4362) D:\\Predict\\test_video.mp4: 384x640 1 person, 5.0ms\n",
      "video 1/1 (2969/4362) D:\\Predict\\test_video.mp4: 384x640 1 person, 5.0ms\n",
      "video 1/1 (2970/4362) D:\\Predict\\test_video.mp4: 384x640 1 person, 6.0ms\n",
      "video 1/1 (2971/4362) D:\\Predict\\test_video.mp4: 384x640 1 person, 5.0ms\n",
      "video 1/1 (2972/4362) D:\\Predict\\test_video.mp4: 384x640 1 person, 7.0ms\n",
      "video 1/1 (2973/4362) D:\\Predict\\test_video.mp4: 384x640 1 person, 7.0ms\n",
      "video 1/1 (2974/4362) D:\\Predict\\test_video.mp4: 384x640 1 person, 6.0ms\n",
      "video 1/1 (2975/4362) D:\\Predict\\test_video.mp4: 384x640 1 person, 5.0ms\n",
      "video 1/1 (2976/4362) D:\\Predict\\test_video.mp4: 384x640 1 person, 8.0ms\n",
      "video 1/1 (2977/4362) D:\\Predict\\test_video.mp4: 384x640 1 person, 6.0ms\n",
      "video 1/1 (2978/4362) D:\\Predict\\test_video.mp4: 384x640 1 person, 6.0ms\n",
      "video 1/1 (2979/4362) D:\\Predict\\test_video.mp4: 384x640 1 person, 8.0ms\n",
      "video 1/1 (2980/4362) D:\\Predict\\test_video.mp4: 384x640 1 person, 6.0ms\n",
      "video 1/1 (2981/4362) D:\\Predict\\test_video.mp4: 384x640 1 person, 8.0ms\n",
      "video 1/1 (2982/4362) D:\\Predict\\test_video.mp4: 384x640 1 person, 7.0ms\n",
      "video 1/1 (2983/4362) D:\\Predict\\test_video.mp4: 384x640 1 person, 8.0ms\n",
      "video 1/1 (2984/4362) D:\\Predict\\test_video.mp4: 384x640 1 person, 7.0ms\n",
      "video 1/1 (2985/4362) D:\\Predict\\test_video.mp4: 384x640 1 person, 8.0ms\n",
      "video 1/1 (2986/4362) D:\\Predict\\test_video.mp4: 384x640 1 person, 7.0ms\n",
      "video 1/1 (2987/4362) D:\\Predict\\test_video.mp4: 384x640 1 person, 8.0ms\n",
      "video 1/1 (2988/4362) D:\\Predict\\test_video.mp4: 384x640 1 person, 6.0ms\n",
      "video 1/1 (2989/4362) D:\\Predict\\test_video.mp4: 384x640 1 person, 7.0ms\n",
      "video 1/1 (2990/4362) D:\\Predict\\test_video.mp4: 384x640 1 person, 5.0ms\n",
      "video 1/1 (2991/4362) D:\\Predict\\test_video.mp4: 384x640 1 person, 6.0ms\n",
      "video 1/1 (2992/4362) D:\\Predict\\test_video.mp4: 384x640 (no detections), 7.0ms\n",
      "video 1/1 (2993/4362) D:\\Predict\\test_video.mp4: 384x640 (no detections), 8.0ms\n",
      "video 1/1 (2994/4362) D:\\Predict\\test_video.mp4: 384x640 (no detections), 5.0ms\n",
      "video 1/1 (2995/4362) D:\\Predict\\test_video.mp4: 384x640 (no detections), 5.0ms\n",
      "video 1/1 (2996/4362) D:\\Predict\\test_video.mp4: 384x640 (no detections), 5.0ms\n",
      "video 1/1 (2997/4362) D:\\Predict\\test_video.mp4: 384x640 (no detections), 5.0ms\n",
      "video 1/1 (2998/4362) D:\\Predict\\test_video.mp4: 384x640 (no detections), 8.0ms\n",
      "video 1/1 (2999/4362) D:\\Predict\\test_video.mp4: 384x640 (no detections), 8.0ms\n",
      "video 1/1 (3000/4362) D:\\Predict\\test_video.mp4: 384x640 (no detections), 6.0ms\n",
      "video 1/1 (3001/4362) D:\\Predict\\test_video.mp4: 384x640 1 person, 5.0ms\n",
      "video 1/1 (3002/4362) D:\\Predict\\test_video.mp4: 384x640 1 person, 5.0ms\n",
      "video 1/1 (3003/4362) D:\\Predict\\test_video.mp4: 384x640 1 person, 5.0ms\n",
      "video 1/1 (3004/4362) D:\\Predict\\test_video.mp4: 384x640 2 persons, 5.0ms\n",
      "video 1/1 (3005/4362) D:\\Predict\\test_video.mp4: 384x640 2 persons, 5.0ms\n",
      "video 1/1 (3006/4362) D:\\Predict\\test_video.mp4: 384x640 2 persons, 5.0ms\n",
      "video 1/1 (3007/4362) D:\\Predict\\test_video.mp4: 384x640 1 person, 5.0ms\n",
      "video 1/1 (3008/4362) D:\\Predict\\test_video.mp4: 384x640 1 person, 6.0ms\n",
      "video 1/1 (3009/4362) D:\\Predict\\test_video.mp4: 384x640 1 person, 7.0ms\n",
      "video 1/1 (3010/4362) D:\\Predict\\test_video.mp4: 384x640 1 person, 7.0ms\n",
      "video 1/1 (3011/4362) D:\\Predict\\test_video.mp4: 384x640 (no detections), 7.0ms\n",
      "video 1/1 (3012/4362) D:\\Predict\\test_video.mp4: 384x640 (no detections), 8.0ms\n",
      "video 1/1 (3013/4362) D:\\Predict\\test_video.mp4: 384x640 (no detections), 6.0ms\n",
      "video 1/1 (3014/4362) D:\\Predict\\test_video.mp4: 384x640 (no detections), 8.0ms\n",
      "video 1/1 (3015/4362) D:\\Predict\\test_video.mp4: 384x640 (no detections), 8.0ms\n",
      "video 1/1 (3016/4362) D:\\Predict\\test_video.mp4: 384x640 (no detections), 7.0ms\n",
      "video 1/1 (3017/4362) D:\\Predict\\test_video.mp4: 384x640 (no detections), 8.0ms\n",
      "video 1/1 (3018/4362) D:\\Predict\\test_video.mp4: 384x640 (no detections), 25.0ms\n",
      "video 1/1 (3019/4362) D:\\Predict\\test_video.mp4: 384x640 (no detections), 7.0ms\n",
      "video 1/1 (3020/4362) D:\\Predict\\test_video.mp4: 384x640 (no detections), 24.0ms\n",
      "video 1/1 (3021/4362) D:\\Predict\\test_video.mp4: 384x640 (no detections), 7.0ms\n",
      "video 1/1 (3022/4362) D:\\Predict\\test_video.mp4: 384x640 (no detections), 6.0ms\n",
      "video 1/1 (3023/4362) D:\\Predict\\test_video.mp4: 384x640 (no detections), 6.0ms\n",
      "video 1/1 (3024/4362) D:\\Predict\\test_video.mp4: 384x640 (no detections), 5.0ms\n",
      "video 1/1 (3025/4362) D:\\Predict\\test_video.mp4: 384x640 (no detections), 6.0ms\n",
      "video 1/1 (3026/4362) D:\\Predict\\test_video.mp4: 384x640 (no detections), 8.0ms\n",
      "video 1/1 (3027/4362) D:\\Predict\\test_video.mp4: 384x640 1 person, 7.0ms\n",
      "video 1/1 (3028/4362) D:\\Predict\\test_video.mp4: 384x640 1 person, 5.0ms\n",
      "video 1/1 (3029/4362) D:\\Predict\\test_video.mp4: 384x640 1 person, 5.0ms\n",
      "video 1/1 (3030/4362) D:\\Predict\\test_video.mp4: 384x640 1 person, 6.0ms\n",
      "video 1/1 (3031/4362) D:\\Predict\\test_video.mp4: 384x640 1 person, 6.0ms\n",
      "video 1/1 (3032/4362) D:\\Predict\\test_video.mp4: 384x640 1 person, 5.0ms\n",
      "video 1/1 (3033/4362) D:\\Predict\\test_video.mp4: 384x640 1 person, 6.0ms\n",
      "video 1/1 (3034/4362) D:\\Predict\\test_video.mp4: 384x640 1 person, 5.0ms\n",
      "video 1/1 (3035/4362) D:\\Predict\\test_video.mp4: 384x640 1 person, 5.0ms\n",
      "video 1/1 (3036/4362) D:\\Predict\\test_video.mp4: 384x640 1 person, 6.0ms\n",
      "video 1/1 (3037/4362) D:\\Predict\\test_video.mp4: 384x640 1 person, 5.0ms\n",
      "video 1/1 (3038/4362) D:\\Predict\\test_video.mp4: 384x640 1 person, 5.0ms\n",
      "video 1/1 (3039/4362) D:\\Predict\\test_video.mp4: 384x640 1 person, 7.0ms\n",
      "video 1/1 (3040/4362) D:\\Predict\\test_video.mp4: 384x640 1 person, 5.0ms\n",
      "video 1/1 (3041/4362) D:\\Predict\\test_video.mp4: 384x640 1 person, 5.0ms\n",
      "video 1/1 (3042/4362) D:\\Predict\\test_video.mp4: 384x640 1 person, 5.0ms\n",
      "video 1/1 (3043/4362) D:\\Predict\\test_video.mp4: 384x640 1 person, 5.0ms\n",
      "video 1/1 (3044/4362) D:\\Predict\\test_video.mp4: 384x640 1 person, 5.0ms\n",
      "video 1/1 (3045/4362) D:\\Predict\\test_video.mp4: 384x640 3 persons, 6.0ms\n",
      "video 1/1 (3046/4362) D:\\Predict\\test_video.mp4: 384x640 (no detections), 5.0ms\n",
      "video 1/1 (3047/4362) D:\\Predict\\test_video.mp4: 384x640 1 person, 6.0ms\n",
      "video 1/1 (3048/4362) D:\\Predict\\test_video.mp4: 384x640 1 person, 7.0ms\n",
      "video 1/1 (3049/4362) D:\\Predict\\test_video.mp4: 384x640 1 person, 5.0ms\n",
      "video 1/1 (3050/4362) D:\\Predict\\test_video.mp4: 384x640 1 person, 5.0ms\n",
      "video 1/1 (3051/4362) D:\\Predict\\test_video.mp4: 384x640 1 person, 5.0ms\n",
      "video 1/1 (3052/4362) D:\\Predict\\test_video.mp4: 384x640 1 person, 5.0ms\n",
      "video 1/1 (3053/4362) D:\\Predict\\test_video.mp4: 384x640 (no detections), 5.0ms\n",
      "video 1/1 (3054/4362) D:\\Predict\\test_video.mp4: 384x640 (no detections), 5.0ms\n",
      "video 1/1 (3055/4362) D:\\Predict\\test_video.mp4: 384x640 1 person, 5.0ms\n",
      "video 1/1 (3056/4362) D:\\Predict\\test_video.mp4: 384x640 2 persons, 5.0ms\n",
      "video 1/1 (3057/4362) D:\\Predict\\test_video.mp4: 384x640 1 person, 7.0ms\n",
      "video 1/1 (3058/4362) D:\\Predict\\test_video.mp4: 384x640 1 person, 7.0ms\n",
      "video 1/1 (3059/4362) D:\\Predict\\test_video.mp4: 384x640 1 person, 6.0ms\n",
      "video 1/1 (3060/4362) D:\\Predict\\test_video.mp4: 384x640 1 person, 7.0ms\n",
      "video 1/1 (3061/4362) D:\\Predict\\test_video.mp4: 384x640 1 person, 6.0ms\n",
      "video 1/1 (3062/4362) D:\\Predict\\test_video.mp4: 384x640 2 persons, 7.0ms\n",
      "video 1/1 (3063/4362) D:\\Predict\\test_video.mp4: 384x640 1 person, 7.0ms\n",
      "video 1/1 (3064/4362) D:\\Predict\\test_video.mp4: 384x640 1 person, 6.0ms\n",
      "video 1/1 (3065/4362) D:\\Predict\\test_video.mp4: 384x640 1 person, 7.0ms\n",
      "video 1/1 (3066/4362) D:\\Predict\\test_video.mp4: 384x640 1 person, 7.0ms\n",
      "video 1/1 (3067/4362) D:\\Predict\\test_video.mp4: 384x640 1 person, 8.0ms\n",
      "video 1/1 (3068/4362) D:\\Predict\\test_video.mp4: 384x640 1 person, 6.0ms\n",
      "video 1/1 (3069/4362) D:\\Predict\\test_video.mp4: 384x640 1 person, 8.0ms\n",
      "video 1/1 (3070/4362) D:\\Predict\\test_video.mp4: 384x640 1 person, 7.0ms\n",
      "video 1/1 (3071/4362) D:\\Predict\\test_video.mp4: 384x640 1 person, 8.0ms\n",
      "video 1/1 (3072/4362) D:\\Predict\\test_video.mp4: 384x640 1 person, 7.0ms\n",
      "video 1/1 (3073/4362) D:\\Predict\\test_video.mp4: 384x640 1 person, 8.0ms\n",
      "video 1/1 (3074/4362) D:\\Predict\\test_video.mp4: 384x640 (no detections), 6.0ms\n",
      "video 1/1 (3075/4362) D:\\Predict\\test_video.mp4: 384x640 (no detections), 8.0ms\n",
      "video 1/1 (3076/4362) D:\\Predict\\test_video.mp4: 384x640 (no detections), 14.0ms\n",
      "video 1/1 (3077/4362) D:\\Predict\\test_video.mp4: 384x640 (no detections), 9.0ms\n",
      "video 1/1 (3078/4362) D:\\Predict\\test_video.mp4: 384x640 (no detections), 6.0ms\n",
      "video 1/1 (3079/4362) D:\\Predict\\test_video.mp4: 384x640 (no detections), 24.0ms\n",
      "video 1/1 (3080/4362) D:\\Predict\\test_video.mp4: 384x640 (no detections), 6.0ms\n",
      "video 1/1 (3081/4362) D:\\Predict\\test_video.mp4: 384x640 (no detections), 6.0ms\n",
      "video 1/1 (3082/4362) D:\\Predict\\test_video.mp4: 384x640 (no detections), 6.0ms\n",
      "video 1/1 (3083/4362) D:\\Predict\\test_video.mp4: 384x640 (no detections), 6.0ms\n",
      "video 1/1 (3084/4362) D:\\Predict\\test_video.mp4: 384x640 1 person, 5.0ms\n",
      "video 1/1 (3085/4362) D:\\Predict\\test_video.mp4: 384x640 1 person, 5.0ms\n",
      "video 1/1 (3086/4362) D:\\Predict\\test_video.mp4: 384x640 3 persons, 5.0ms\n",
      "video 1/1 (3087/4362) D:\\Predict\\test_video.mp4: 384x640 3 persons, 7.0ms\n",
      "video 1/1 (3088/4362) D:\\Predict\\test_video.mp4: 384x640 3 persons, 6.0ms\n",
      "video 1/1 (3089/4362) D:\\Predict\\test_video.mp4: 384x640 1 person, 6.0ms\n",
      "video 1/1 (3090/4362) D:\\Predict\\test_video.mp4: 384x640 1 person, 5.0ms\n",
      "video 1/1 (3091/4362) D:\\Predict\\test_video.mp4: 384x640 1 person, 8.0ms\n",
      "video 1/1 (3092/4362) D:\\Predict\\test_video.mp4: 384x640 1 person, 7.0ms\n",
      "video 1/1 (3093/4362) D:\\Predict\\test_video.mp4: 384x640 1 person, 8.0ms\n",
      "video 1/1 (3094/4362) D:\\Predict\\test_video.mp4: 384x640 1 person, 8.0ms\n",
      "video 1/1 (3095/4362) D:\\Predict\\test_video.mp4: 384x640 1 person, 8.0ms\n",
      "video 1/1 (3096/4362) D:\\Predict\\test_video.mp4: 384x640 1 person, 7.0ms\n",
      "video 1/1 (3097/4362) D:\\Predict\\test_video.mp4: 384x640 1 person, 8.0ms\n",
      "video 1/1 (3098/4362) D:\\Predict\\test_video.mp4: 384x640 (no detections), 7.0ms\n",
      "video 1/1 (3099/4362) D:\\Predict\\test_video.mp4: 384x640 (no detections), 8.0ms\n",
      "video 1/1 (3100/4362) D:\\Predict\\test_video.mp4: 384x640 (no detections), 5.0ms\n",
      "video 1/1 (3101/4362) D:\\Predict\\test_video.mp4: 384x640 (no detections), 6.0ms\n",
      "video 1/1 (3102/4362) D:\\Predict\\test_video.mp4: 384x640 1 person, 5.0ms\n",
      "video 1/1 (3103/4362) D:\\Predict\\test_video.mp4: 384x640 1 person, 5.0ms\n",
      "video 1/1 (3104/4362) D:\\Predict\\test_video.mp4: 384x640 1 person, 5.0ms\n",
      "video 1/1 (3105/4362) D:\\Predict\\test_video.mp4: 384x640 1 person, 6.0ms\n",
      "video 1/1 (3106/4362) D:\\Predict\\test_video.mp4: 384x640 1 person, 8.0ms\n",
      "video 1/1 (3107/4362) D:\\Predict\\test_video.mp4: 384x640 1 person, 7.0ms\n",
      "video 1/1 (3108/4362) D:\\Predict\\test_video.mp4: 384x640 1 person, 8.0ms\n",
      "video 1/1 (3109/4362) D:\\Predict\\test_video.mp4: 384x640 1 person, 8.0ms\n",
      "video 1/1 (3110/4362) D:\\Predict\\test_video.mp4: 384x640 1 person, 7.0ms\n",
      "video 1/1 (3111/4362) D:\\Predict\\test_video.mp4: 384x640 1 person, 7.0ms\n",
      "video 1/1 (3112/4362) D:\\Predict\\test_video.mp4: 384x640 1 person, 7.0ms\n",
      "video 1/1 (3113/4362) D:\\Predict\\test_video.mp4: 384x640 1 person, 7.0ms\n",
      "video 1/1 (3114/4362) D:\\Predict\\test_video.mp4: 384x640 1 person, 8.0ms\n",
      "video 1/1 (3115/4362) D:\\Predict\\test_video.mp4: 384x640 1 person, 7.0ms\n",
      "video 1/1 (3116/4362) D:\\Predict\\test_video.mp4: 384x640 2 persons, 8.0ms\n",
      "video 1/1 (3117/4362) D:\\Predict\\test_video.mp4: 384x640 1 person, 6.0ms\n",
      "video 1/1 (3118/4362) D:\\Predict\\test_video.mp4: 384x640 1 person, 7.0ms\n",
      "video 1/1 (3119/4362) D:\\Predict\\test_video.mp4: 384x640 1 person, 6.0ms\n",
      "video 1/1 (3120/4362) D:\\Predict\\test_video.mp4: 384x640 1 person, 7.0ms\n",
      "video 1/1 (3121/4362) D:\\Predict\\test_video.mp4: 384x640 1 person, 6.0ms\n",
      "video 1/1 (3122/4362) D:\\Predict\\test_video.mp4: 384x640 1 person, 5.0ms\n",
      "video 1/1 (3123/4362) D:\\Predict\\test_video.mp4: 384x640 1 person, 5.0ms\n",
      "video 1/1 (3124/4362) D:\\Predict\\test_video.mp4: 384x640 1 person, 5.0ms\n",
      "video 1/1 (3125/4362) D:\\Predict\\test_video.mp4: 384x640 1 guns, 1 person, 5.0ms\n",
      "video 1/1 (3126/4362) D:\\Predict\\test_video.mp4: 384x640 1 guns, 1 person, 6.0ms\n",
      "video 1/1 (3127/4362) D:\\Predict\\test_video.mp4: 384x640 1 guns, 1 person, 6.0ms\n",
      "video 1/1 (3128/4362) D:\\Predict\\test_video.mp4: 384x640 1 person, 5.0ms\n",
      "video 1/1 (3129/4362) D:\\Predict\\test_video.mp4: 384x640 1 guns, 1 person, 5.0ms\n",
      "video 1/1 (3130/4362) D:\\Predict\\test_video.mp4: 384x640 1 guns, 1 person, 5.0ms\n",
      "video 1/1 (3131/4362) D:\\Predict\\test_video.mp4: 384x640 1 person, 7.0ms\n",
      "video 1/1 (3132/4362) D:\\Predict\\test_video.mp4: 384x640 1 person, 7.0ms\n",
      "video 1/1 (3133/4362) D:\\Predict\\test_video.mp4: 384x640 1 person, 7.0ms\n",
      "video 1/1 (3134/4362) D:\\Predict\\test_video.mp4: 384x640 1 person, 6.0ms\n",
      "video 1/1 (3135/4362) D:\\Predict\\test_video.mp4: 384x640 1 person, 7.0ms\n",
      "video 1/1 (3136/4362) D:\\Predict\\test_video.mp4: 384x640 1 person, 13.0ms\n",
      "video 1/1 (3137/4362) D:\\Predict\\test_video.mp4: 384x640 1 person, 6.0ms\n",
      "video 1/1 (3138/4362) D:\\Predict\\test_video.mp4: 384x640 1 person, 15.0ms\n",
      "video 1/1 (3139/4362) D:\\Predict\\test_video.mp4: 384x640 1 person, 9.0ms\n",
      "video 1/1 (3140/4362) D:\\Predict\\test_video.mp4: 384x640 1 person, 5.0ms\n",
      "video 1/1 (3141/4362) D:\\Predict\\test_video.mp4: 384x640 1 person, 16.0ms\n",
      "video 1/1 (3142/4362) D:\\Predict\\test_video.mp4: 384x640 1 person, 6.0ms\n",
      "video 1/1 (3143/4362) D:\\Predict\\test_video.mp4: 384x640 1 person, 5.0ms\n",
      "video 1/1 (3144/4362) D:\\Predict\\test_video.mp4: 384x640 1 person, 6.0ms\n",
      "video 1/1 (3145/4362) D:\\Predict\\test_video.mp4: 384x640 1 person, 7.0ms\n",
      "video 1/1 (3146/4362) D:\\Predict\\test_video.mp4: 384x640 1 person, 7.0ms\n",
      "video 1/1 (3147/4362) D:\\Predict\\test_video.mp4: 384x640 1 person, 5.0ms\n",
      "video 1/1 (3148/4362) D:\\Predict\\test_video.mp4: 384x640 1 person, 6.0ms\n",
      "video 1/1 (3149/4362) D:\\Predict\\test_video.mp4: 384x640 1 person, 5.0ms\n",
      "video 1/1 (3150/4362) D:\\Predict\\test_video.mp4: 384x640 1 person, 6.0ms\n",
      "video 1/1 (3151/4362) D:\\Predict\\test_video.mp4: 384x640 1 person, 6.0ms\n",
      "video 1/1 (3152/4362) D:\\Predict\\test_video.mp4: 384x640 1 person, 6.0ms\n",
      "video 1/1 (3153/4362) D:\\Predict\\test_video.mp4: 384x640 1 person, 6.0ms\n",
      "video 1/1 (3154/4362) D:\\Predict\\test_video.mp4: 384x640 1 person, 5.0ms\n",
      "video 1/1 (3155/4362) D:\\Predict\\test_video.mp4: 384x640 1 person, 5.0ms\n",
      "video 1/1 (3156/4362) D:\\Predict\\test_video.mp4: 384x640 1 person, 5.0ms\n",
      "video 1/1 (3157/4362) D:\\Predict\\test_video.mp4: 384x640 1 person, 6.0ms\n",
      "video 1/1 (3158/4362) D:\\Predict\\test_video.mp4: 384x640 1 person, 6.0ms\n",
      "video 1/1 (3159/4362) D:\\Predict\\test_video.mp4: 384x640 1 person, 6.0ms\n",
      "video 1/1 (3160/4362) D:\\Predict\\test_video.mp4: 384x640 1 person, 5.0ms\n",
      "video 1/1 (3161/4362) D:\\Predict\\test_video.mp4: 384x640 1 person, 5.0ms\n",
      "video 1/1 (3162/4362) D:\\Predict\\test_video.mp4: 384x640 1 person, 6.0ms\n",
      "video 1/1 (3163/4362) D:\\Predict\\test_video.mp4: 384x640 1 person, 6.0ms\n",
      "video 1/1 (3164/4362) D:\\Predict\\test_video.mp4: 384x640 1 guns, 1 person, 5.0ms\n",
      "video 1/1 (3165/4362) D:\\Predict\\test_video.mp4: 384x640 1 guns, 1 person, 5.0ms\n",
      "video 1/1 (3166/4362) D:\\Predict\\test_video.mp4: 384x640 1 guns, 1 person, 5.0ms\n",
      "video 1/1 (3167/4362) D:\\Predict\\test_video.mp4: 384x640 1 guns, 1 person, 5.0ms\n",
      "video 1/1 (3168/4362) D:\\Predict\\test_video.mp4: 384x640 1 guns, 1 person, 5.0ms\n",
      "video 1/1 (3169/4362) D:\\Predict\\test_video.mp4: 384x640 1 guns, 1 person, 5.0ms\n",
      "video 1/1 (3170/4362) D:\\Predict\\test_video.mp4: 384x640 1 person, 5.0ms\n",
      "video 1/1 (3171/4362) D:\\Predict\\test_video.mp4: 384x640 1 person, 5.0ms\n",
      "video 1/1 (3172/4362) D:\\Predict\\test_video.mp4: 384x640 1 person, 6.0ms\n",
      "video 1/1 (3173/4362) D:\\Predict\\test_video.mp4: 384x640 1 person, 5.0ms\n",
      "video 1/1 (3174/4362) D:\\Predict\\test_video.mp4: 384x640 1 person, 5.0ms\n",
      "video 1/1 (3175/4362) D:\\Predict\\test_video.mp4: 384x640 1 person, 6.0ms\n",
      "video 1/1 (3176/4362) D:\\Predict\\test_video.mp4: 384x640 1 guns, 1 person, 6.0ms\n",
      "video 1/1 (3177/4362) D:\\Predict\\test_video.mp4: 384x640 1 guns, 1 person, 5.0ms\n",
      "video 1/1 (3178/4362) D:\\Predict\\test_video.mp4: 384x640 1 guns, 1 person, 6.0ms\n",
      "video 1/1 (3179/4362) D:\\Predict\\test_video.mp4: 384x640 1 guns, 1 person, 5.0ms\n",
      "video 1/1 (3180/4362) D:\\Predict\\test_video.mp4: 384x640 1 person, 5.0ms\n",
      "video 1/1 (3181/4362) D:\\Predict\\test_video.mp4: 384x640 1 guns, 1 person, 5.0ms\n",
      "video 1/1 (3182/4362) D:\\Predict\\test_video.mp4: 384x640 1 guns, 1 person, 5.0ms\n",
      "video 1/1 (3183/4362) D:\\Predict\\test_video.mp4: 384x640 1 guns, 1 person, 6.0ms\n",
      "video 1/1 (3184/4362) D:\\Predict\\test_video.mp4: 384x640 1 person, 9.0ms\n",
      "video 1/1 (3185/4362) D:\\Predict\\test_video.mp4: 384x640 1 person, 5.0ms\n",
      "video 1/1 (3186/4362) D:\\Predict\\test_video.mp4: 384x640 1 person, 5.0ms\n",
      "video 1/1 (3187/4362) D:\\Predict\\test_video.mp4: 384x640 1 person, 6.0ms\n",
      "video 1/1 (3188/4362) D:\\Predict\\test_video.mp4: 384x640 1 person, 5.0ms\n",
      "video 1/1 (3189/4362) D:\\Predict\\test_video.mp4: 384x640 (no detections), 5.0ms\n",
      "video 1/1 (3190/4362) D:\\Predict\\test_video.mp4: 384x640 (no detections), 5.0ms\n",
      "video 1/1 (3191/4362) D:\\Predict\\test_video.mp4: 384x640 1 person, 5.0ms\n",
      "video 1/1 (3192/4362) D:\\Predict\\test_video.mp4: 384x640 (no detections), 5.0ms\n",
      "video 1/1 (3193/4362) D:\\Predict\\test_video.mp4: 384x640 (no detections), 5.0ms\n",
      "video 1/1 (3194/4362) D:\\Predict\\test_video.mp4: 384x640 (no detections), 5.0ms\n",
      "video 1/1 (3195/4362) D:\\Predict\\test_video.mp4: 384x640 (no detections), 5.0ms\n",
      "video 1/1 (3196/4362) D:\\Predict\\test_video.mp4: 384x640 (no detections), 5.0ms\n",
      "video 1/1 (3197/4362) D:\\Predict\\test_video.mp4: 384x640 (no detections), 6.0ms\n",
      "video 1/1 (3198/4362) D:\\Predict\\test_video.mp4: 384x640 (no detections), 10.0ms\n",
      "video 1/1 (3199/4362) D:\\Predict\\test_video.mp4: 384x640 (no detections), 6.0ms\n",
      "video 1/1 (3200/4362) D:\\Predict\\test_video.mp4: 384x640 (no detections), 6.0ms\n",
      "video 1/1 (3201/4362) D:\\Predict\\test_video.mp4: 384x640 (no detections), 6.0ms\n",
      "video 1/1 (3202/4362) D:\\Predict\\test_video.mp4: 384x640 (no detections), 6.0ms\n",
      "video 1/1 (3203/4362) D:\\Predict\\test_video.mp4: 384x640 (no detections), 9.0ms\n",
      "video 1/1 (3204/4362) D:\\Predict\\test_video.mp4: 384x640 (no detections), 7.0ms\n",
      "video 1/1 (3205/4362) D:\\Predict\\test_video.mp4: 384x640 (no detections), 7.0ms\n",
      "video 1/1 (3206/4362) D:\\Predict\\test_video.mp4: 384x640 (no detections), 7.0ms\n",
      "video 1/1 (3207/4362) D:\\Predict\\test_video.mp4: 384x640 (no detections), 7.0ms\n",
      "video 1/1 (3208/4362) D:\\Predict\\test_video.mp4: 384x640 1 person, 7.0ms\n",
      "video 1/1 (3209/4362) D:\\Predict\\test_video.mp4: 384x640 1 person, 6.0ms\n",
      "video 1/1 (3210/4362) D:\\Predict\\test_video.mp4: 384x640 1 person, 5.0ms\n",
      "video 1/1 (3211/4362) D:\\Predict\\test_video.mp4: 384x640 1 person, 5.0ms\n",
      "video 1/1 (3212/4362) D:\\Predict\\test_video.mp4: 384x640 (no detections), 5.0ms\n",
      "video 1/1 (3213/4362) D:\\Predict\\test_video.mp4: 384x640 (no detections), 6.0ms\n",
      "video 1/1 (3214/4362) D:\\Predict\\test_video.mp4: 384x640 (no detections), 7.0ms\n",
      "video 1/1 (3215/4362) D:\\Predict\\test_video.mp4: 384x640 (no detections), 7.0ms\n",
      "video 1/1 (3216/4362) D:\\Predict\\test_video.mp4: 384x640 1 person, 7.0ms\n",
      "video 1/1 (3217/4362) D:\\Predict\\test_video.mp4: 384x640 (no detections), 6.0ms\n",
      "video 1/1 (3218/4362) D:\\Predict\\test_video.mp4: 384x640 (no detections), 7.0ms\n",
      "video 1/1 (3219/4362) D:\\Predict\\test_video.mp4: 384x640 (no detections), 7.0ms\n",
      "video 1/1 (3220/4362) D:\\Predict\\test_video.mp4: 384x640 (no detections), 7.0ms\n",
      "video 1/1 (3221/4362) D:\\Predict\\test_video.mp4: 384x640 (no detections), 7.0ms\n",
      "video 1/1 (3222/4362) D:\\Predict\\test_video.mp4: 384x640 (no detections), 6.0ms\n",
      "video 1/1 (3223/4362) D:\\Predict\\test_video.mp4: 384x640 1 guns, 6.0ms\n",
      "video 1/1 (3224/4362) D:\\Predict\\test_video.mp4: 384x640 (no detections), 6.0ms\n",
      "video 1/1 (3225/4362) D:\\Predict\\test_video.mp4: 384x640 1 guns, 5.0ms\n",
      "video 1/1 (3226/4362) D:\\Predict\\test_video.mp4: 384x640 1 guns, 5.0ms\n",
      "video 1/1 (3227/4362) D:\\Predict\\test_video.mp4: 384x640 1 guns, 6.0ms\n",
      "video 1/1 (3228/4362) D:\\Predict\\test_video.mp4: 384x640 1 guns, 5.0ms\n",
      "video 1/1 (3229/4362) D:\\Predict\\test_video.mp4: 384x640 2 gunss, 5.0ms\n",
      "video 1/1 (3230/4362) D:\\Predict\\test_video.mp4: 384x640 (no detections), 6.0ms\n",
      "video 1/1 (3231/4362) D:\\Predict\\test_video.mp4: 384x640 (no detections), 7.0ms\n",
      "video 1/1 (3232/4362) D:\\Predict\\test_video.mp4: 384x640 1 guns, 7.0ms\n",
      "video 1/1 (3233/4362) D:\\Predict\\test_video.mp4: 384x640 1 guns, 6.0ms\n",
      "video 1/1 (3234/4362) D:\\Predict\\test_video.mp4: 384x640 1 guns, 5.0ms\n",
      "video 1/1 (3235/4362) D:\\Predict\\test_video.mp4: 384x640 (no detections), 5.0ms\n",
      "video 1/1 (3236/4362) D:\\Predict\\test_video.mp4: 384x640 (no detections), 5.0ms\n",
      "video 1/1 (3237/4362) D:\\Predict\\test_video.mp4: 384x640 (no detections), 6.0ms\n",
      "video 1/1 (3238/4362) D:\\Predict\\test_video.mp4: 384x640 (no detections), 6.0ms\n",
      "video 1/1 (3239/4362) D:\\Predict\\test_video.mp4: 384x640 (no detections), 7.0ms\n",
      "video 1/1 (3240/4362) D:\\Predict\\test_video.mp4: 384x640 (no detections), 6.0ms\n",
      "video 1/1 (3241/4362) D:\\Predict\\test_video.mp4: 384x640 1 guns, 7.0ms\n",
      "video 1/1 (3242/4362) D:\\Predict\\test_video.mp4: 384x640 (no detections), 6.0ms\n",
      "video 1/1 (3243/4362) D:\\Predict\\test_video.mp4: 384x640 1 guns, 6.0ms\n",
      "video 1/1 (3244/4362) D:\\Predict\\test_video.mp4: 384x640 1 guns, 6.0ms\n",
      "video 1/1 (3245/4362) D:\\Predict\\test_video.mp4: 384x640 (no detections), 5.0ms\n",
      "video 1/1 (3246/4362) D:\\Predict\\test_video.mp4: 384x640 (no detections), 5.0ms\n",
      "video 1/1 (3247/4362) D:\\Predict\\test_video.mp4: 384x640 (no detections), 5.0ms\n",
      "video 1/1 (3248/4362) D:\\Predict\\test_video.mp4: 384x640 (no detections), 5.0ms\n",
      "video 1/1 (3249/4362) D:\\Predict\\test_video.mp4: 384x640 (no detections), 5.0ms\n",
      "video 1/1 (3250/4362) D:\\Predict\\test_video.mp4: 384x640 (no detections), 5.0ms\n",
      "video 1/1 (3251/4362) D:\\Predict\\test_video.mp4: 384x640 (no detections), 5.0ms\n",
      "video 1/1 (3252/4362) D:\\Predict\\test_video.mp4: 384x640 1 guns, 5.0ms\n",
      "video 1/1 (3253/4362) D:\\Predict\\test_video.mp4: 384x640 1 guns, 5.0ms\n",
      "video 1/1 (3254/4362) D:\\Predict\\test_video.mp4: 384x640 (no detections), 5.0ms\n",
      "video 1/1 (3255/4362) D:\\Predict\\test_video.mp4: 384x640 (no detections), 5.0ms\n",
      "video 1/1 (3256/4362) D:\\Predict\\test_video.mp4: 384x640 1 guns, 5.0ms\n",
      "video 1/1 (3257/4362) D:\\Predict\\test_video.mp4: 384x640 1 guns, 6.0ms\n",
      "video 1/1 (3258/4362) D:\\Predict\\test_video.mp4: 384x640 1 guns, 6.0ms\n",
      "video 1/1 (3259/4362) D:\\Predict\\test_video.mp4: 384x640 1 guns, 6.0ms\n",
      "video 1/1 (3260/4362) D:\\Predict\\test_video.mp4: 384x640 1 guns, 19.0ms\n",
      "video 1/1 (3261/4362) D:\\Predict\\test_video.mp4: 384x640 1 guns, 18.0ms\n",
      "video 1/1 (3262/4362) D:\\Predict\\test_video.mp4: 384x640 1 guns, 6.0ms\n",
      "video 1/1 (3263/4362) D:\\Predict\\test_video.mp4: 384x640 1 guns, 13.7ms\n",
      "video 1/1 (3264/4362) D:\\Predict\\test_video.mp4: 384x640 1 guns, 6.0ms\n",
      "video 1/1 (3265/4362) D:\\Predict\\test_video.mp4: 384x640 1 guns, 6.0ms\n",
      "video 1/1 (3266/4362) D:\\Predict\\test_video.mp4: 384x640 1 guns, 6.0ms\n",
      "video 1/1 (3267/4362) D:\\Predict\\test_video.mp4: 384x640 1 guns, 6.0ms\n",
      "video 1/1 (3268/4362) D:\\Predict\\test_video.mp4: 384x640 1 guns, 5.0ms\n",
      "video 1/1 (3269/4362) D:\\Predict\\test_video.mp4: 384x640 1 guns, 6.0ms\n",
      "video 1/1 (3270/4362) D:\\Predict\\test_video.mp4: 384x640 1 guns, 6.0ms\n",
      "video 1/1 (3271/4362) D:\\Predict\\test_video.mp4: 384x640 1 guns, 5.0ms\n",
      "video 1/1 (3272/4362) D:\\Predict\\test_video.mp4: 384x640 1 guns, 4.6ms\n",
      "video 1/1 (3273/4362) D:\\Predict\\test_video.mp4: 384x640 1 guns, 5.0ms\n",
      "video 1/1 (3274/4362) D:\\Predict\\test_video.mp4: 384x640 1 guns, 6.0ms\n",
      "video 1/1 (3275/4362) D:\\Predict\\test_video.mp4: 384x640 1 guns, 4.9ms\n",
      "video 1/1 (3276/4362) D:\\Predict\\test_video.mp4: 384x640 1 guns, 7.0ms\n",
      "video 1/1 (3277/4362) D:\\Predict\\test_video.mp4: 384x640 1 guns, 7.0ms\n",
      "video 1/1 (3278/4362) D:\\Predict\\test_video.mp4: 384x640 1 guns, 6.0ms\n",
      "video 1/1 (3279/4362) D:\\Predict\\test_video.mp4: 384x640 1 guns, 7.0ms\n",
      "video 1/1 (3280/4362) D:\\Predict\\test_video.mp4: 384x640 1 guns, 8.0ms\n",
      "video 1/1 (3281/4362) D:\\Predict\\test_video.mp4: 384x640 1 guns, 5.0ms\n",
      "video 1/1 (3282/4362) D:\\Predict\\test_video.mp4: 384x640 1 guns, 5.0ms\n",
      "video 1/1 (3283/4362) D:\\Predict\\test_video.mp4: 384x640 1 guns, 6.0ms\n",
      "video 1/1 (3284/4362) D:\\Predict\\test_video.mp4: 384x640 1 guns, 5.0ms\n",
      "video 1/1 (3285/4362) D:\\Predict\\test_video.mp4: 384x640 1 guns, 5.0ms\n",
      "video 1/1 (3286/4362) D:\\Predict\\test_video.mp4: 384x640 1 guns, 5.0ms\n",
      "video 1/1 (3287/4362) D:\\Predict\\test_video.mp4: 384x640 1 guns, 5.6ms\n",
      "video 1/1 (3288/4362) D:\\Predict\\test_video.mp4: 384x640 1 guns, 5.5ms\n",
      "video 1/1 (3289/4362) D:\\Predict\\test_video.mp4: 384x640 (no detections), 5.0ms\n",
      "video 1/1 (3290/4362) D:\\Predict\\test_video.mp4: 384x640 (no detections), 5.0ms\n",
      "video 1/1 (3291/4362) D:\\Predict\\test_video.mp4: 384x640 (no detections), 5.7ms\n",
      "video 1/1 (3292/4362) D:\\Predict\\test_video.mp4: 384x640 (no detections), 5.0ms\n",
      "video 1/1 (3293/4362) D:\\Predict\\test_video.mp4: 384x640 (no detections), 5.0ms\n",
      "video 1/1 (3294/4362) D:\\Predict\\test_video.mp4: 384x640 (no detections), 5.0ms\n",
      "video 1/1 (3295/4362) D:\\Predict\\test_video.mp4: 384x640 (no detections), 7.9ms\n",
      "video 1/1 (3296/4362) D:\\Predict\\test_video.mp4: 384x640 (no detections), 7.0ms\n",
      "video 1/1 (3297/4362) D:\\Predict\\test_video.mp4: 384x640 (no detections), 8.0ms\n",
      "video 1/1 (3298/4362) D:\\Predict\\test_video.mp4: 384x640 (no detections), 5.0ms\n",
      "video 1/1 (3299/4362) D:\\Predict\\test_video.mp4: 384x640 (no detections), 5.0ms\n",
      "video 1/1 (3300/4362) D:\\Predict\\test_video.mp4: 384x640 (no detections), 5.0ms\n",
      "video 1/1 (3301/4362) D:\\Predict\\test_video.mp4: 384x640 (no detections), 5.0ms\n",
      "video 1/1 (3302/4362) D:\\Predict\\test_video.mp4: 384x640 (no detections), 6.5ms\n",
      "video 1/1 (3303/4362) D:\\Predict\\test_video.mp4: 384x640 (no detections), 7.0ms\n",
      "video 1/1 (3304/4362) D:\\Predict\\test_video.mp4: 384x640 (no detections), 8.0ms\n",
      "video 1/1 (3305/4362) D:\\Predict\\test_video.mp4: 384x640 (no detections), 7.6ms\n",
      "video 1/1 (3306/4362) D:\\Predict\\test_video.mp4: 384x640 (no detections), 6.0ms\n",
      "video 1/1 (3307/4362) D:\\Predict\\test_video.mp4: 384x640 (no detections), 7.0ms\n",
      "video 1/1 (3308/4362) D:\\Predict\\test_video.mp4: 384x640 (no detections), 7.0ms\n",
      "video 1/1 (3309/4362) D:\\Predict\\test_video.mp4: 384x640 (no detections), 7.7ms\n",
      "video 1/1 (3310/4362) D:\\Predict\\test_video.mp4: 384x640 (no detections), 8.0ms\n",
      "video 1/1 (3311/4362) D:\\Predict\\test_video.mp4: 384x640 (no detections), 7.0ms\n",
      "video 1/1 (3312/4362) D:\\Predict\\test_video.mp4: 384x640 (no detections), 6.6ms\n",
      "video 1/1 (3313/4362) D:\\Predict\\test_video.mp4: 384x640 (no detections), 7.0ms\n",
      "video 1/1 (3314/4362) D:\\Predict\\test_video.mp4: 384x640 (no detections), 7.0ms\n",
      "video 1/1 (3315/4362) D:\\Predict\\test_video.mp4: 384x640 (no detections), 5.0ms\n",
      "video 1/1 (3316/4362) D:\\Predict\\test_video.mp4: 384x640 (no detections), 6.0ms\n",
      "video 1/1 (3317/4362) D:\\Predict\\test_video.mp4: 384x640 (no detections), 5.0ms\n",
      "video 1/1 (3318/4362) D:\\Predict\\test_video.mp4: 384x640 (no detections), 5.0ms\n",
      "video 1/1 (3319/4362) D:\\Predict\\test_video.mp4: 384x640 (no detections), 5.0ms\n",
      "video 1/1 (3320/4362) D:\\Predict\\test_video.mp4: 384x640 (no detections), 7.0ms\n",
      "video 1/1 (3321/4362) D:\\Predict\\test_video.mp4: 384x640 (no detections), 7.0ms\n",
      "video 1/1 (3322/4362) D:\\Predict\\test_video.mp4: 384x640 (no detections), 16.0ms\n",
      "video 1/1 (3323/4362) D:\\Predict\\test_video.mp4: 384x640 (no detections), 5.8ms\n",
      "video 1/1 (3324/4362) D:\\Predict\\test_video.mp4: 384x640 (no detections), 9.3ms\n",
      "video 1/1 (3325/4362) D:\\Predict\\test_video.mp4: 384x640 (no detections), 6.0ms\n",
      "video 1/1 (3326/4362) D:\\Predict\\test_video.mp4: 384x640 (no detections), 16.2ms\n",
      "video 1/1 (3327/4362) D:\\Predict\\test_video.mp4: 384x640 (no detections), 6.7ms\n",
      "video 1/1 (3328/4362) D:\\Predict\\test_video.mp4: 384x640 (no detections), 5.0ms\n",
      "video 1/1 (3329/4362) D:\\Predict\\test_video.mp4: 384x640 (no detections), 6.0ms\n",
      "video 1/1 (3330/4362) D:\\Predict\\test_video.mp4: 384x640 (no detections), 8.0ms\n",
      "video 1/1 (3331/4362) D:\\Predict\\test_video.mp4: 384x640 (no detections), 8.6ms\n",
      "video 1/1 (3332/4362) D:\\Predict\\test_video.mp4: 384x640 (no detections), 8.0ms\n",
      "video 1/1 (3333/4362) D:\\Predict\\test_video.mp4: 384x640 (no detections), 8.0ms\n",
      "video 1/1 (3334/4362) D:\\Predict\\test_video.mp4: 384x640 (no detections), 6.0ms\n",
      "video 1/1 (3335/4362) D:\\Predict\\test_video.mp4: 384x640 (no detections), 8.0ms\n",
      "video 1/1 (3336/4362) D:\\Predict\\test_video.mp4: 384x640 (no detections), 8.0ms\n",
      "video 1/1 (3337/4362) D:\\Predict\\test_video.mp4: 384x640 (no detections), 6.0ms\n",
      "video 1/1 (3338/4362) D:\\Predict\\test_video.mp4: 384x640 (no detections), 5.0ms\n",
      "video 1/1 (3339/4362) D:\\Predict\\test_video.mp4: 384x640 (no detections), 6.0ms\n",
      "video 1/1 (3340/4362) D:\\Predict\\test_video.mp4: 384x640 (no detections), 7.0ms\n",
      "video 1/1 (3341/4362) D:\\Predict\\test_video.mp4: 384x640 (no detections), 9.0ms\n",
      "video 1/1 (3342/4362) D:\\Predict\\test_video.mp4: 384x640 (no detections), 8.0ms\n",
      "video 1/1 (3343/4362) D:\\Predict\\test_video.mp4: 384x640 (no detections), 5.0ms\n",
      "video 1/1 (3344/4362) D:\\Predict\\test_video.mp4: 384x640 (no detections), 5.0ms\n",
      "video 1/1 (3345/4362) D:\\Predict\\test_video.mp4: 384x640 (no detections), 5.0ms\n",
      "video 1/1 (3346/4362) D:\\Predict\\test_video.mp4: 384x640 (no detections), 5.0ms\n",
      "video 1/1 (3347/4362) D:\\Predict\\test_video.mp4: 384x640 (no detections), 5.0ms\n",
      "video 1/1 (3348/4362) D:\\Predict\\test_video.mp4: 384x640 (no detections), 8.0ms\n",
      "video 1/1 (3349/4362) D:\\Predict\\test_video.mp4: 384x640 (no detections), 5.0ms\n",
      "video 1/1 (3350/4362) D:\\Predict\\test_video.mp4: 384x640 (no detections), 6.0ms\n",
      "video 1/1 (3351/4362) D:\\Predict\\test_video.mp4: 384x640 (no detections), 6.0ms\n",
      "video 1/1 (3352/4362) D:\\Predict\\test_video.mp4: 384x640 (no detections), 6.0ms\n",
      "video 1/1 (3353/4362) D:\\Predict\\test_video.mp4: 384x640 (no detections), 5.0ms\n",
      "video 1/1 (3354/4362) D:\\Predict\\test_video.mp4: 384x640 (no detections), 5.0ms\n",
      "video 1/1 (3355/4362) D:\\Predict\\test_video.mp4: 384x640 1 person, 5.0ms\n",
      "video 1/1 (3356/4362) D:\\Predict\\test_video.mp4: 384x640 (no detections), 9.0ms\n",
      "video 1/1 (3357/4362) D:\\Predict\\test_video.mp4: 384x640 (no detections), 5.0ms\n",
      "video 1/1 (3358/4362) D:\\Predict\\test_video.mp4: 384x640 (no detections), 8.0ms\n",
      "video 1/1 (3359/4362) D:\\Predict\\test_video.mp4: 384x640 (no detections), 7.0ms\n",
      "video 1/1 (3360/4362) D:\\Predict\\test_video.mp4: 384x640 (no detections), 7.0ms\n",
      "video 1/1 (3361/4362) D:\\Predict\\test_video.mp4: 384x640 (no detections), 7.0ms\n",
      "video 1/1 (3362/4362) D:\\Predict\\test_video.mp4: 384x640 (no detections), 5.0ms\n",
      "video 1/1 (3363/4362) D:\\Predict\\test_video.mp4: 384x640 1 person, 8.0ms\n",
      "video 1/1 (3364/4362) D:\\Predict\\test_video.mp4: 384x640 1 person, 6.0ms\n",
      "video 1/1 (3365/4362) D:\\Predict\\test_video.mp4: 384x640 1 person, 7.0ms\n",
      "video 1/1 (3366/4362) D:\\Predict\\test_video.mp4: 384x640 (no detections), 7.0ms\n",
      "video 1/1 (3367/4362) D:\\Predict\\test_video.mp4: 384x640 1 person, 7.0ms\n",
      "video 1/1 (3368/4362) D:\\Predict\\test_video.mp4: 384x640 1 person, 7.0ms\n",
      "video 1/1 (3369/4362) D:\\Predict\\test_video.mp4: 384x640 (no detections), 6.0ms\n",
      "video 1/1 (3370/4362) D:\\Predict\\test_video.mp4: 384x640 (no detections), 5.0ms\n",
      "video 1/1 (3371/4362) D:\\Predict\\test_video.mp4: 384x640 (no detections), 7.0ms\n",
      "video 1/1 (3372/4362) D:\\Predict\\test_video.mp4: 384x640 (no detections), 5.0ms\n",
      "video 1/1 (3373/4362) D:\\Predict\\test_video.mp4: 384x640 (no detections), 5.0ms\n",
      "video 1/1 (3374/4362) D:\\Predict\\test_video.mp4: 384x640 (no detections), 7.0ms\n",
      "video 1/1 (3375/4362) D:\\Predict\\test_video.mp4: 384x640 (no detections), 5.0ms\n",
      "video 1/1 (3376/4362) D:\\Predict\\test_video.mp4: 384x640 (no detections), 5.0ms\n",
      "video 1/1 (3377/4362) D:\\Predict\\test_video.mp4: 384x640 (no detections), 5.0ms\n",
      "video 1/1 (3378/4362) D:\\Predict\\test_video.mp4: 384x640 (no detections), 5.0ms\n",
      "video 1/1 (3379/4362) D:\\Predict\\test_video.mp4: 384x640 (no detections), 5.0ms\n",
      "video 1/1 (3380/4362) D:\\Predict\\test_video.mp4: 384x640 (no detections), 9.0ms\n",
      "video 1/1 (3381/4362) D:\\Predict\\test_video.mp4: 384x640 1 guns, 2 persons, 12.0ms\n",
      "video 1/1 (3382/4362) D:\\Predict\\test_video.mp4: 384x640 1 guns, 2 persons, 8.0ms\n",
      "video 1/1 (3383/4362) D:\\Predict\\test_video.mp4: 384x640 1 guns, 2 persons, 7.0ms\n",
      "video 1/1 (3384/4362) D:\\Predict\\test_video.mp4: 384x640 1 person, 9.0ms\n",
      "video 1/1 (3385/4362) D:\\Predict\\test_video.mp4: 384x640 1 person, 7.0ms\n",
      "video 1/1 (3386/4362) D:\\Predict\\test_video.mp4: 384x640 1 person, 5.0ms\n",
      "video 1/1 (3387/4362) D:\\Predict\\test_video.mp4: 384x640 1 person, 5.0ms\n",
      "video 1/1 (3388/4362) D:\\Predict\\test_video.mp4: 384x640 1 person, 5.0ms\n",
      "video 1/1 (3389/4362) D:\\Predict\\test_video.mp4: 384x640 1 person, 5.0ms\n",
      "video 1/1 (3390/4362) D:\\Predict\\test_video.mp4: 384x640 1 person, 5.0ms\n",
      "video 1/1 (3391/4362) D:\\Predict\\test_video.mp4: 384x640 1 person, 5.0ms\n",
      "video 1/1 (3392/4362) D:\\Predict\\test_video.mp4: 384x640 1 person, 5.0ms\n",
      "video 1/1 (3393/4362) D:\\Predict\\test_video.mp4: 384x640 1 person, 5.0ms\n",
      "video 1/1 (3394/4362) D:\\Predict\\test_video.mp4: 384x640 1 person, 5.0ms\n",
      "video 1/1 (3395/4362) D:\\Predict\\test_video.mp4: 384x640 (no detections), 5.0ms\n",
      "video 1/1 (3396/4362) D:\\Predict\\test_video.mp4: 384x640 1 person, 5.0ms\n",
      "video 1/1 (3397/4362) D:\\Predict\\test_video.mp4: 384x640 1 person, 5.0ms\n",
      "video 1/1 (3398/4362) D:\\Predict\\test_video.mp4: 384x640 1 person, 5.0ms\n",
      "video 1/1 (3399/4362) D:\\Predict\\test_video.mp4: 384x640 1 person, 5.0ms\n",
      "video 1/1 (3400/4362) D:\\Predict\\test_video.mp4: 384x640 1 person, 5.0ms\n",
      "video 1/1 (3401/4362) D:\\Predict\\test_video.mp4: 384x640 1 person, 5.0ms\n",
      "video 1/1 (3402/4362) D:\\Predict\\test_video.mp4: 384x640 1 person, 5.0ms\n",
      "video 1/1 (3403/4362) D:\\Predict\\test_video.mp4: 384x640 1 person, 5.0ms\n",
      "video 1/1 (3404/4362) D:\\Predict\\test_video.mp4: 384x640 1 person, 6.0ms\n",
      "video 1/1 (3405/4362) D:\\Predict\\test_video.mp4: 384x640 1 person, 5.0ms\n",
      "video 1/1 (3406/4362) D:\\Predict\\test_video.mp4: 384x640 1 person, 5.0ms\n",
      "video 1/1 (3407/4362) D:\\Predict\\test_video.mp4: 384x640 1 person, 5.0ms\n",
      "video 1/1 (3408/4362) D:\\Predict\\test_video.mp4: 384x640 1 person, 8.0ms\n",
      "video 1/1 (3409/4362) D:\\Predict\\test_video.mp4: 384x640 1 person, 7.0ms\n",
      "video 1/1 (3410/4362) D:\\Predict\\test_video.mp4: 384x640 1 person, 6.0ms\n",
      "video 1/1 (3411/4362) D:\\Predict\\test_video.mp4: 384x640 1 person, 5.0ms\n",
      "video 1/1 (3412/4362) D:\\Predict\\test_video.mp4: 384x640 1 person, 5.0ms\n",
      "video 1/1 (3413/4362) D:\\Predict\\test_video.mp4: 384x640 1 person, 7.0ms\n",
      "video 1/1 (3414/4362) D:\\Predict\\test_video.mp4: 384x640 1 person, 8.0ms\n",
      "video 1/1 (3415/4362) D:\\Predict\\test_video.mp4: 384x640 1 person, 7.0ms\n",
      "video 1/1 (3416/4362) D:\\Predict\\test_video.mp4: 384x640 1 person, 7.0ms\n",
      "video 1/1 (3417/4362) D:\\Predict\\test_video.mp4: 384x640 1 person, 5.0ms\n",
      "video 1/1 (3418/4362) D:\\Predict\\test_video.mp4: 384x640 (no detections), 5.0ms\n",
      "video 1/1 (3419/4362) D:\\Predict\\test_video.mp4: 384x640 1 guns, 1 person, 7.0ms\n",
      "video 1/1 (3420/4362) D:\\Predict\\test_video.mp4: 384x640 1 guns, 1 person, 5.0ms\n",
      "video 1/1 (3421/4362) D:\\Predict\\test_video.mp4: 384x640 1 person, 5.0ms\n",
      "video 1/1 (3422/4362) D:\\Predict\\test_video.mp4: 384x640 1 person, 5.0ms\n",
      "video 1/1 (3423/4362) D:\\Predict\\test_video.mp4: 384x640 1 person, 5.0ms\n",
      "video 1/1 (3424/4362) D:\\Predict\\test_video.mp4: 384x640 1 person, 5.0ms\n",
      "video 1/1 (3425/4362) D:\\Predict\\test_video.mp4: 384x640 1 person, 8.0ms\n",
      "video 1/1 (3426/4362) D:\\Predict\\test_video.mp4: 384x640 1 person, 5.0ms\n",
      "video 1/1 (3427/4362) D:\\Predict\\test_video.mp4: 384x640 1 person, 5.0ms\n",
      "video 1/1 (3428/4362) D:\\Predict\\test_video.mp4: 384x640 1 person, 5.0ms\n",
      "video 1/1 (3429/4362) D:\\Predict\\test_video.mp4: 384x640 1 person, 5.0ms\n",
      "video 1/1 (3430/4362) D:\\Predict\\test_video.mp4: 384x640 1 person, 5.0ms\n",
      "video 1/1 (3431/4362) D:\\Predict\\test_video.mp4: 384x640 1 person, 5.0ms\n",
      "video 1/1 (3432/4362) D:\\Predict\\test_video.mp4: 384x640 (no detections), 6.0ms\n",
      "video 1/1 (3433/4362) D:\\Predict\\test_video.mp4: 384x640 (no detections), 5.0ms\n",
      "video 1/1 (3434/4362) D:\\Predict\\test_video.mp4: 384x640 (no detections), 5.0ms\n",
      "video 1/1 (3435/4362) D:\\Predict\\test_video.mp4: 384x640 (no detections), 5.0ms\n",
      "video 1/1 (3436/4362) D:\\Predict\\test_video.mp4: 384x640 (no detections), 7.0ms\n",
      "video 1/1 (3437/4362) D:\\Predict\\test_video.mp4: 384x640 (no detections), 7.0ms\n",
      "video 1/1 (3438/4362) D:\\Predict\\test_video.mp4: 384x640 1 person, 8.0ms\n",
      "video 1/1 (3439/4362) D:\\Predict\\test_video.mp4: 384x640 (no detections), 13.0ms\n",
      "video 1/1 (3440/4362) D:\\Predict\\test_video.mp4: 384x640 (no detections), 6.0ms\n",
      "video 1/1 (3441/4362) D:\\Predict\\test_video.mp4: 384x640 (no detections), 5.0ms\n",
      "video 1/1 (3442/4362) D:\\Predict\\test_video.mp4: 384x640 (no detections), 6.0ms\n",
      "video 1/1 (3443/4362) D:\\Predict\\test_video.mp4: 384x640 (no detections), 9.0ms\n",
      "video 1/1 (3444/4362) D:\\Predict\\test_video.mp4: 384x640 (no detections), 5.0ms\n",
      "video 1/1 (3445/4362) D:\\Predict\\test_video.mp4: 384x640 1 person, 6.0ms\n",
      "video 1/1 (3446/4362) D:\\Predict\\test_video.mp4: 384x640 (no detections), 12.0ms\n",
      "video 1/1 (3447/4362) D:\\Predict\\test_video.mp4: 384x640 (no detections), 6.0ms\n",
      "video 1/1 (3448/4362) D:\\Predict\\test_video.mp4: 384x640 (no detections), 6.0ms\n",
      "video 1/1 (3449/4362) D:\\Predict\\test_video.mp4: 384x640 (no detections), 6.0ms\n",
      "video 1/1 (3450/4362) D:\\Predict\\test_video.mp4: 384x640 (no detections), 6.0ms\n",
      "video 1/1 (3451/4362) D:\\Predict\\test_video.mp4: 384x640 (no detections), 6.0ms\n",
      "video 1/1 (3452/4362) D:\\Predict\\test_video.mp4: 384x640 (no detections), 5.0ms\n",
      "video 1/1 (3453/4362) D:\\Predict\\test_video.mp4: 384x640 (no detections), 7.0ms\n",
      "video 1/1 (3454/4362) D:\\Predict\\test_video.mp4: 384x640 (no detections), 8.0ms\n",
      "video 1/1 (3455/4362) D:\\Predict\\test_video.mp4: 384x640 (no detections), 7.0ms\n",
      "video 1/1 (3456/4362) D:\\Predict\\test_video.mp4: 384x640 (no detections), 7.0ms\n",
      "video 1/1 (3457/4362) D:\\Predict\\test_video.mp4: 384x640 (no detections), 6.0ms\n",
      "video 1/1 (3458/4362) D:\\Predict\\test_video.mp4: 384x640 (no detections), 8.0ms\n",
      "video 1/1 (3459/4362) D:\\Predict\\test_video.mp4: 384x640 (no detections), 5.0ms\n",
      "video 1/1 (3460/4362) D:\\Predict\\test_video.mp4: 384x640 (no detections), 6.0ms\n",
      "video 1/1 (3461/4362) D:\\Predict\\test_video.mp4: 384x640 (no detections), 6.0ms\n",
      "video 1/1 (3462/4362) D:\\Predict\\test_video.mp4: 384x640 (no detections), 6.0ms\n",
      "video 1/1 (3463/4362) D:\\Predict\\test_video.mp4: 384x640 (no detections), 5.0ms\n",
      "video 1/1 (3464/4362) D:\\Predict\\test_video.mp4: 384x640 (no detections), 5.0ms\n",
      "video 1/1 (3465/4362) D:\\Predict\\test_video.mp4: 384x640 (no detections), 5.0ms\n",
      "video 1/1 (3466/4362) D:\\Predict\\test_video.mp4: 384x640 1 person, 8.0ms\n",
      "video 1/1 (3467/4362) D:\\Predict\\test_video.mp4: 384x640 1 person, 5.0ms\n",
      "video 1/1 (3468/4362) D:\\Predict\\test_video.mp4: 384x640 (no detections), 6.0ms\n",
      "video 1/1 (3469/4362) D:\\Predict\\test_video.mp4: 384x640 (no detections), 5.0ms\n",
      "video 1/1 (3470/4362) D:\\Predict\\test_video.mp4: 384x640 (no detections), 5.0ms\n",
      "video 1/1 (3471/4362) D:\\Predict\\test_video.mp4: 384x640 (no detections), 6.0ms\n",
      "video 1/1 (3472/4362) D:\\Predict\\test_video.mp4: 384x640 (no detections), 6.0ms\n",
      "video 1/1 (3473/4362) D:\\Predict\\test_video.mp4: 384x640 (no detections), 8.0ms\n",
      "video 1/1 (3474/4362) D:\\Predict\\test_video.mp4: 384x640 (no detections), 8.0ms\n",
      "video 1/1 (3475/4362) D:\\Predict\\test_video.mp4: 384x640 (no detections), 8.0ms\n",
      "video 1/1 (3476/4362) D:\\Predict\\test_video.mp4: 384x640 (no detections), 6.0ms\n",
      "video 1/1 (3477/4362) D:\\Predict\\test_video.mp4: 384x640 (no detections), 9.0ms\n",
      "video 1/1 (3478/4362) D:\\Predict\\test_video.mp4: 384x640 (no detections), 7.0ms\n",
      "video 1/1 (3479/4362) D:\\Predict\\test_video.mp4: 384x640 (no detections), 6.0ms\n",
      "video 1/1 (3480/4362) D:\\Predict\\test_video.mp4: 384x640 (no detections), 7.0ms\n",
      "video 1/1 (3481/4362) D:\\Predict\\test_video.mp4: 384x640 (no detections), 5.0ms\n",
      "video 1/1 (3482/4362) D:\\Predict\\test_video.mp4: 384x640 (no detections), 5.0ms\n",
      "video 1/1 (3483/4362) D:\\Predict\\test_video.mp4: 384x640 (no detections), 8.0ms\n",
      "video 1/1 (3484/4362) D:\\Predict\\test_video.mp4: 384x640 (no detections), 7.0ms\n",
      "video 1/1 (3485/4362) D:\\Predict\\test_video.mp4: 384x640 (no detections), 8.0ms\n",
      "video 1/1 (3486/4362) D:\\Predict\\test_video.mp4: 384x640 (no detections), 8.0ms\n",
      "video 1/1 (3487/4362) D:\\Predict\\test_video.mp4: 384x640 (no detections), 9.0ms\n",
      "video 1/1 (3488/4362) D:\\Predict\\test_video.mp4: 384x640 (no detections), 8.0ms\n",
      "video 1/1 (3489/4362) D:\\Predict\\test_video.mp4: 384x640 (no detections), 9.0ms\n",
      "video 1/1 (3490/4362) D:\\Predict\\test_video.mp4: 384x640 (no detections), 6.0ms\n",
      "video 1/1 (3491/4362) D:\\Predict\\test_video.mp4: 384x640 (no detections), 6.0ms\n",
      "video 1/1 (3492/4362) D:\\Predict\\test_video.mp4: 384x640 (no detections), 5.0ms\n",
      "video 1/1 (3493/4362) D:\\Predict\\test_video.mp4: 384x640 (no detections), 5.0ms\n",
      "video 1/1 (3494/4362) D:\\Predict\\test_video.mp4: 384x640 (no detections), 5.0ms\n",
      "video 1/1 (3495/4362) D:\\Predict\\test_video.mp4: 384x640 (no detections), 5.0ms\n",
      "video 1/1 (3496/4362) D:\\Predict\\test_video.mp4: 384x640 (no detections), 8.0ms\n",
      "video 1/1 (3497/4362) D:\\Predict\\test_video.mp4: 384x640 (no detections), 8.0ms\n",
      "video 1/1 (3498/4362) D:\\Predict\\test_video.mp4: 384x640 (no detections), 8.0ms\n",
      "video 1/1 (3499/4362) D:\\Predict\\test_video.mp4: 384x640 (no detections), 8.0ms\n",
      "video 1/1 (3500/4362) D:\\Predict\\test_video.mp4: 384x640 (no detections), 8.0ms\n",
      "video 1/1 (3501/4362) D:\\Predict\\test_video.mp4: 384x640 (no detections), 8.0ms\n",
      "video 1/1 (3502/4362) D:\\Predict\\test_video.mp4: 384x640 (no detections), 8.0ms\n",
      "video 1/1 (3503/4362) D:\\Predict\\test_video.mp4: 384x640 (no detections), 7.0ms\n",
      "video 1/1 (3504/4362) D:\\Predict\\test_video.mp4: 384x640 (no detections), 5.0ms\n",
      "video 1/1 (3505/4362) D:\\Predict\\test_video.mp4: 384x640 (no detections), 6.0ms\n",
      "video 1/1 (3506/4362) D:\\Predict\\test_video.mp4: 384x640 (no detections), 6.0ms\n",
      "video 1/1 (3507/4362) D:\\Predict\\test_video.mp4: 384x640 (no detections), 6.0ms\n",
      "video 1/1 (3508/4362) D:\\Predict\\test_video.mp4: 384x640 (no detections), 9.0ms\n",
      "video 1/1 (3509/4362) D:\\Predict\\test_video.mp4: 384x640 (no detections), 6.0ms\n",
      "video 1/1 (3510/4362) D:\\Predict\\test_video.mp4: 384x640 (no detections), 9.0ms\n",
      "video 1/1 (3511/4362) D:\\Predict\\test_video.mp4: 384x640 (no detections), 6.0ms\n",
      "video 1/1 (3512/4362) D:\\Predict\\test_video.mp4: 384x640 (no detections), 9.0ms\n",
      "video 1/1 (3513/4362) D:\\Predict\\test_video.mp4: 384x640 (no detections), 6.0ms\n",
      "video 1/1 (3514/4362) D:\\Predict\\test_video.mp4: 384x640 (no detections), 6.0ms\n",
      "video 1/1 (3515/4362) D:\\Predict\\test_video.mp4: 384x640 (no detections), 15.0ms\n",
      "video 1/1 (3516/4362) D:\\Predict\\test_video.mp4: 384x640 (no detections), 6.0ms\n",
      "video 1/1 (3517/4362) D:\\Predict\\test_video.mp4: 384x640 (no detections), 5.0ms\n",
      "video 1/1 (3518/4362) D:\\Predict\\test_video.mp4: 384x640 (no detections), 5.0ms\n",
      "video 1/1 (3519/4362) D:\\Predict\\test_video.mp4: 384x640 (no detections), 5.0ms\n",
      "video 1/1 (3520/4362) D:\\Predict\\test_video.mp4: 384x640 (no detections), 5.0ms\n",
      "video 1/1 (3521/4362) D:\\Predict\\test_video.mp4: 384x640 (no detections), 5.0ms\n",
      "video 1/1 (3522/4362) D:\\Predict\\test_video.mp4: 384x640 (no detections), 8.0ms\n",
      "video 1/1 (3523/4362) D:\\Predict\\test_video.mp4: 384x640 (no detections), 8.0ms\n",
      "video 1/1 (3524/4362) D:\\Predict\\test_video.mp4: 384x640 (no detections), 6.0ms\n",
      "video 1/1 (3525/4362) D:\\Predict\\test_video.mp4: 384x640 (no detections), 5.0ms\n",
      "video 1/1 (3526/4362) D:\\Predict\\test_video.mp4: 384x640 (no detections), 5.0ms\n",
      "video 1/1 (3527/4362) D:\\Predict\\test_video.mp4: 384x640 (no detections), 5.0ms\n",
      "video 1/1 (3528/4362) D:\\Predict\\test_video.mp4: 384x640 (no detections), 7.0ms\n",
      "video 1/1 (3529/4362) D:\\Predict\\test_video.mp4: 384x640 (no detections), 8.0ms\n",
      "video 1/1 (3530/4362) D:\\Predict\\test_video.mp4: 384x640 (no detections), 7.0ms\n",
      "video 1/1 (3531/4362) D:\\Predict\\test_video.mp4: 384x640 (no detections), 7.0ms\n",
      "video 1/1 (3532/4362) D:\\Predict\\test_video.mp4: 384x640 (no detections), 8.0ms\n",
      "video 1/1 (3533/4362) D:\\Predict\\test_video.mp4: 384x640 (no detections), 7.0ms\n",
      "video 1/1 (3534/4362) D:\\Predict\\test_video.mp4: 384x640 (no detections), 6.0ms\n",
      "video 1/1 (3535/4362) D:\\Predict\\test_video.mp4: 384x640 (no detections), 5.0ms\n",
      "video 1/1 (3536/4362) D:\\Predict\\test_video.mp4: 384x640 (no detections), 5.0ms\n",
      "video 1/1 (3537/4362) D:\\Predict\\test_video.mp4: 384x640 (no detections), 8.0ms\n",
      "video 1/1 (3538/4362) D:\\Predict\\test_video.mp4: 384x640 (no detections), 7.0ms\n",
      "video 1/1 (3539/4362) D:\\Predict\\test_video.mp4: 384x640 (no detections), 9.0ms\n",
      "video 1/1 (3540/4362) D:\\Predict\\test_video.mp4: 384x640 (no detections), 6.0ms\n",
      "video 1/1 (3541/4362) D:\\Predict\\test_video.mp4: 384x640 (no detections), 6.0ms\n",
      "video 1/1 (3542/4362) D:\\Predict\\test_video.mp4: 384x640 (no detections), 5.0ms\n",
      "video 1/1 (3543/4362) D:\\Predict\\test_video.mp4: 384x640 (no detections), 5.0ms\n",
      "video 1/1 (3544/4362) D:\\Predict\\test_video.mp4: 384x640 (no detections), 6.0ms\n",
      "video 1/1 (3545/4362) D:\\Predict\\test_video.mp4: 384x640 (no detections), 6.0ms\n",
      "video 1/1 (3546/4362) D:\\Predict\\test_video.mp4: 384x640 (no detections), 8.0ms\n",
      "video 1/1 (3547/4362) D:\\Predict\\test_video.mp4: 384x640 (no detections), 8.0ms\n",
      "video 1/1 (3548/4362) D:\\Predict\\test_video.mp4: 384x640 (no detections), 8.0ms\n",
      "video 1/1 (3549/4362) D:\\Predict\\test_video.mp4: 384x640 (no detections), 7.0ms\n",
      "video 1/1 (3550/4362) D:\\Predict\\test_video.mp4: 384x640 (no detections), 8.0ms\n",
      "video 1/1 (3551/4362) D:\\Predict\\test_video.mp4: 384x640 (no detections), 8.0ms\n",
      "video 1/1 (3552/4362) D:\\Predict\\test_video.mp4: 384x640 (no detections), 5.0ms\n",
      "video 1/1 (3553/4362) D:\\Predict\\test_video.mp4: 384x640 (no detections), 5.0ms\n",
      "video 1/1 (3554/4362) D:\\Predict\\test_video.mp4: 384x640 (no detections), 7.0ms\n",
      "video 1/1 (3555/4362) D:\\Predict\\test_video.mp4: 384x640 (no detections), 7.0ms\n",
      "video 1/1 (3556/4362) D:\\Predict\\test_video.mp4: 384x640 (no detections), 6.0ms\n",
      "video 1/1 (3557/4362) D:\\Predict\\test_video.mp4: 384x640 (no detections), 5.0ms\n",
      "video 1/1 (3558/4362) D:\\Predict\\test_video.mp4: 384x640 (no detections), 7.0ms\n",
      "video 1/1 (3559/4362) D:\\Predict\\test_video.mp4: 384x640 (no detections), 6.0ms\n",
      "video 1/1 (3560/4362) D:\\Predict\\test_video.mp4: 384x640 (no detections), 6.0ms\n",
      "video 1/1 (3561/4362) D:\\Predict\\test_video.mp4: 384x640 (no detections), 6.0ms\n",
      "video 1/1 (3562/4362) D:\\Predict\\test_video.mp4: 384x640 (no detections), 7.0ms\n",
      "video 1/1 (3563/4362) D:\\Predict\\test_video.mp4: 384x640 (no detections), 7.0ms\n",
      "video 1/1 (3564/4362) D:\\Predict\\test_video.mp4: 384x640 (no detections), 7.0ms\n",
      "video 1/1 (3565/4362) D:\\Predict\\test_video.mp4: 384x640 (no detections), 8.0ms\n",
      "video 1/1 (3566/4362) D:\\Predict\\test_video.mp4: 384x640 (no detections), 8.0ms\n",
      "video 1/1 (3567/4362) D:\\Predict\\test_video.mp4: 384x640 (no detections), 8.0ms\n",
      "video 1/1 (3568/4362) D:\\Predict\\test_video.mp4: 384x640 (no detections), 5.0ms\n",
      "video 1/1 (3569/4362) D:\\Predict\\test_video.mp4: 384x640 (no detections), 6.0ms\n",
      "video 1/1 (3570/4362) D:\\Predict\\test_video.mp4: 384x640 (no detections), 7.0ms\n",
      "video 1/1 (3571/4362) D:\\Predict\\test_video.mp4: 384x640 (no detections), 7.0ms\n",
      "video 1/1 (3572/4362) D:\\Predict\\test_video.mp4: 384x640 (no detections), 8.0ms\n",
      "video 1/1 (3573/4362) D:\\Predict\\test_video.mp4: 384x640 (no detections), 17.0ms\n",
      "video 1/1 (3574/4362) D:\\Predict\\test_video.mp4: 384x640 (no detections), 6.0ms\n",
      "video 1/1 (3575/4362) D:\\Predict\\test_video.mp4: 384x640 (no detections), 6.0ms\n",
      "video 1/1 (3576/4362) D:\\Predict\\test_video.mp4: 384x640 (no detections), 6.0ms\n",
      "video 1/1 (3577/4362) D:\\Predict\\test_video.mp4: 384x640 (no detections), 6.8ms\n",
      "video 1/1 (3578/4362) D:\\Predict\\test_video.mp4: 384x640 (no detections), 6.0ms\n",
      "video 1/1 (3579/4362) D:\\Predict\\test_video.mp4: 384x640 (no detections), 6.0ms\n",
      "video 1/1 (3580/4362) D:\\Predict\\test_video.mp4: 384x640 (no detections), 6.0ms\n",
      "video 1/1 (3581/4362) D:\\Predict\\test_video.mp4: 384x640 1 person, 8.0ms\n",
      "video 1/1 (3582/4362) D:\\Predict\\test_video.mp4: 384x640 1 person, 6.0ms\n",
      "video 1/1 (3583/4362) D:\\Predict\\test_video.mp4: 384x640 (no detections), 6.0ms\n",
      "video 1/1 (3584/4362) D:\\Predict\\test_video.mp4: 384x640 (no detections), 6.0ms\n",
      "video 1/1 (3585/4362) D:\\Predict\\test_video.mp4: 384x640 1 person, 5.0ms\n",
      "video 1/1 (3586/4362) D:\\Predict\\test_video.mp4: 384x640 1 person, 5.6ms\n",
      "video 1/1 (3587/4362) D:\\Predict\\test_video.mp4: 384x640 1 person, 5.0ms\n",
      "video 1/1 (3588/4362) D:\\Predict\\test_video.mp4: 384x640 (no detections), 9.0ms\n",
      "video 1/1 (3589/4362) D:\\Predict\\test_video.mp4: 384x640 1 person, 6.0ms\n",
      "video 1/1 (3590/4362) D:\\Predict\\test_video.mp4: 384x640 1 person, 5.0ms\n",
      "video 1/1 (3591/4362) D:\\Predict\\test_video.mp4: 384x640 1 person, 6.0ms\n",
      "video 1/1 (3592/4362) D:\\Predict\\test_video.mp4: 384x640 1 person, 5.0ms\n",
      "video 1/1 (3593/4362) D:\\Predict\\test_video.mp4: 384x640 1 person, 5.0ms\n",
      "video 1/1 (3594/4362) D:\\Predict\\test_video.mp4: 384x640 1 person, 6.0ms\n",
      "video 1/1 (3595/4362) D:\\Predict\\test_video.mp4: 384x640 1 person, 5.0ms\n",
      "video 1/1 (3596/4362) D:\\Predict\\test_video.mp4: 384x640 1 person, 5.0ms\n",
      "video 1/1 (3597/4362) D:\\Predict\\test_video.mp4: 384x640 1 person, 5.0ms\n",
      "video 1/1 (3598/4362) D:\\Predict\\test_video.mp4: 384x640 1 person, 5.0ms\n",
      "video 1/1 (3599/4362) D:\\Predict\\test_video.mp4: 384x640 1 person, 5.0ms\n",
      "video 1/1 (3600/4362) D:\\Predict\\test_video.mp4: 384x640 1 person, 5.0ms\n",
      "video 1/1 (3601/4362) D:\\Predict\\test_video.mp4: 384x640 1 person, 5.0ms\n",
      "video 1/1 (3602/4362) D:\\Predict\\test_video.mp4: 384x640 1 person, 5.0ms\n",
      "video 1/1 (3603/4362) D:\\Predict\\test_video.mp4: 384x640 1 person, 6.0ms\n",
      "video 1/1 (3604/4362) D:\\Predict\\test_video.mp4: 384x640 1 person, 8.0ms\n",
      "video 1/1 (3605/4362) D:\\Predict\\test_video.mp4: 384x640 1 person, 5.0ms\n",
      "video 1/1 (3606/4362) D:\\Predict\\test_video.mp4: 384x640 1 person, 6.0ms\n",
      "video 1/1 (3607/4362) D:\\Predict\\test_video.mp4: 384x640 1 person, 5.0ms\n",
      "video 1/1 (3608/4362) D:\\Predict\\test_video.mp4: 384x640 1 person, 5.0ms\n",
      "video 1/1 (3609/4362) D:\\Predict\\test_video.mp4: 384x640 1 person, 5.0ms\n",
      "video 1/1 (3610/4362) D:\\Predict\\test_video.mp4: 384x640 1 person, 5.0ms\n",
      "video 1/1 (3611/4362) D:\\Predict\\test_video.mp4: 384x640 1 person, 7.0ms\n",
      "video 1/1 (3612/4362) D:\\Predict\\test_video.mp4: 384x640 1 person, 6.0ms\n",
      "video 1/1 (3613/4362) D:\\Predict\\test_video.mp4: 384x640 1 person, 5.0ms\n",
      "video 1/1 (3614/4362) D:\\Predict\\test_video.mp4: 384x640 1 person, 5.0ms\n",
      "video 1/1 (3615/4362) D:\\Predict\\test_video.mp4: 384x640 1 person, 6.0ms\n",
      "video 1/1 (3616/4362) D:\\Predict\\test_video.mp4: 384x640 1 person, 5.0ms\n",
      "video 1/1 (3617/4362) D:\\Predict\\test_video.mp4: 384x640 1 person, 5.0ms\n",
      "video 1/1 (3618/4362) D:\\Predict\\test_video.mp4: 384x640 1 person, 6.0ms\n",
      "video 1/1 (3619/4362) D:\\Predict\\test_video.mp4: 384x640 1 person, 5.0ms\n",
      "video 1/1 (3620/4362) D:\\Predict\\test_video.mp4: 384x640 1 person, 6.0ms\n",
      "video 1/1 (3621/4362) D:\\Predict\\test_video.mp4: 384x640 1 person, 6.0ms\n",
      "video 1/1 (3622/4362) D:\\Predict\\test_video.mp4: 384x640 1 person, 6.0ms\n",
      "video 1/1 (3623/4362) D:\\Predict\\test_video.mp4: 384x640 1 person, 7.0ms\n",
      "video 1/1 (3624/4362) D:\\Predict\\test_video.mp4: 384x640 1 person, 8.0ms\n",
      "video 1/1 (3625/4362) D:\\Predict\\test_video.mp4: 384x640 1 person, 7.0ms\n",
      "video 1/1 (3626/4362) D:\\Predict\\test_video.mp4: 384x640 1 person, 5.0ms\n",
      "video 1/1 (3627/4362) D:\\Predict\\test_video.mp4: 384x640 1 person, 6.0ms\n",
      "video 1/1 (3628/4362) D:\\Predict\\test_video.mp4: 384x640 1 person, 6.0ms\n",
      "video 1/1 (3629/4362) D:\\Predict\\test_video.mp4: 384x640 1 person, 5.0ms\n",
      "video 1/1 (3630/4362) D:\\Predict\\test_video.mp4: 384x640 1 person, 5.0ms\n",
      "video 1/1 (3631/4362) D:\\Predict\\test_video.mp4: 384x640 1 person, 6.0ms\n",
      "video 1/1 (3632/4362) D:\\Predict\\test_video.mp4: 384x640 1 person, 5.0ms\n",
      "video 1/1 (3633/4362) D:\\Predict\\test_video.mp4: 384x640 1 person, 6.0ms\n",
      "video 1/1 (3634/4362) D:\\Predict\\test_video.mp4: 384x640 1 person, 6.0ms\n",
      "video 1/1 (3635/4362) D:\\Predict\\test_video.mp4: 384x640 1 person, 6.0ms\n",
      "video 1/1 (3636/4362) D:\\Predict\\test_video.mp4: 384x640 1 person, 5.0ms\n",
      "video 1/1 (3637/4362) D:\\Predict\\test_video.mp4: 384x640 1 person, 14.0ms\n",
      "video 1/1 (3638/4362) D:\\Predict\\test_video.mp4: 384x640 1 person, 15.0ms\n",
      "video 1/1 (3639/4362) D:\\Predict\\test_video.mp4: 384x640 1 person, 7.0ms\n",
      "video 1/1 (3640/4362) D:\\Predict\\test_video.mp4: 384x640 1 person, 6.0ms\n",
      "video 1/1 (3641/4362) D:\\Predict\\test_video.mp4: 384x640 (no detections), 8.0ms\n",
      "video 1/1 (3642/4362) D:\\Predict\\test_video.mp4: 384x640 (no detections), 18.0ms\n",
      "video 1/1 (3643/4362) D:\\Predict\\test_video.mp4: 384x640 (no detections), 6.0ms\n",
      "video 1/1 (3644/4362) D:\\Predict\\test_video.mp4: 384x640 (no detections), 8.0ms\n",
      "video 1/1 (3645/4362) D:\\Predict\\test_video.mp4: 384x640 1 person, 5.0ms\n",
      "video 1/1 (3646/4362) D:\\Predict\\test_video.mp4: 384x640 1 person, 6.0ms\n",
      "video 1/1 (3647/4362) D:\\Predict\\test_video.mp4: 384x640 1 person, 6.0ms\n",
      "video 1/1 (3648/4362) D:\\Predict\\test_video.mp4: 384x640 1 person, 5.0ms\n",
      "video 1/1 (3649/4362) D:\\Predict\\test_video.mp4: 384x640 1 person, 5.0ms\n",
      "video 1/1 (3650/4362) D:\\Predict\\test_video.mp4: 384x640 1 person, 5.0ms\n",
      "video 1/1 (3651/4362) D:\\Predict\\test_video.mp4: 384x640 1 person, 5.0ms\n",
      "video 1/1 (3652/4362) D:\\Predict\\test_video.mp4: 384x640 1 person, 6.0ms\n",
      "video 1/1 (3653/4362) D:\\Predict\\test_video.mp4: 384x640 1 person, 7.0ms\n",
      "video 1/1 (3654/4362) D:\\Predict\\test_video.mp4: 384x640 1 person, 8.0ms\n",
      "video 1/1 (3655/4362) D:\\Predict\\test_video.mp4: 384x640 1 person, 7.0ms\n",
      "video 1/1 (3656/4362) D:\\Predict\\test_video.mp4: 384x640 1 person, 8.0ms\n",
      "video 1/1 (3657/4362) D:\\Predict\\test_video.mp4: 384x640 1 person, 6.0ms\n",
      "video 1/1 (3658/4362) D:\\Predict\\test_video.mp4: 384x640 (no detections), 8.1ms\n",
      "video 1/1 (3659/4362) D:\\Predict\\test_video.mp4: 384x640 (no detections), 6.0ms\n",
      "video 1/1 (3660/4362) D:\\Predict\\test_video.mp4: 384x640 (no detections), 5.0ms\n",
      "video 1/1 (3661/4362) D:\\Predict\\test_video.mp4: 384x640 (no detections), 5.0ms\n",
      "video 1/1 (3662/4362) D:\\Predict\\test_video.mp4: 384x640 1 person, 5.0ms\n",
      "video 1/1 (3663/4362) D:\\Predict\\test_video.mp4: 384x640 (no detections), 5.0ms\n",
      "video 1/1 (3664/4362) D:\\Predict\\test_video.mp4: 384x640 1 person, 5.0ms\n",
      "video 1/1 (3665/4362) D:\\Predict\\test_video.mp4: 384x640 (no detections), 5.0ms\n",
      "video 1/1 (3666/4362) D:\\Predict\\test_video.mp4: 384x640 1 person, 6.0ms\n",
      "video 1/1 (3667/4362) D:\\Predict\\test_video.mp4: 384x640 (no detections), 5.0ms\n",
      "video 1/1 (3668/4362) D:\\Predict\\test_video.mp4: 384x640 1 person, 8.0ms\n",
      "video 1/1 (3669/4362) D:\\Predict\\test_video.mp4: 384x640 1 person, 6.0ms\n",
      "video 1/1 (3670/4362) D:\\Predict\\test_video.mp4: 384x640 1 person, 7.0ms\n",
      "video 1/1 (3671/4362) D:\\Predict\\test_video.mp4: 384x640 1 person, 7.0ms\n",
      "video 1/1 (3672/4362) D:\\Predict\\test_video.mp4: 384x640 1 person, 6.0ms\n",
      "video 1/1 (3673/4362) D:\\Predict\\test_video.mp4: 384x640 1 person, 7.0ms\n",
      "video 1/1 (3674/4362) D:\\Predict\\test_video.mp4: 384x640 1 person, 5.0ms\n",
      "video 1/1 (3675/4362) D:\\Predict\\test_video.mp4: 384x640 1 person, 7.0ms\n",
      "video 1/1 (3676/4362) D:\\Predict\\test_video.mp4: 384x640 1 person, 7.0ms\n",
      "video 1/1 (3677/4362) D:\\Predict\\test_video.mp4: 384x640 1 person, 7.0ms\n",
      "video 1/1 (3678/4362) D:\\Predict\\test_video.mp4: 384x640 1 person, 8.0ms\n",
      "video 1/1 (3679/4362) D:\\Predict\\test_video.mp4: 384x640 1 person, 7.0ms\n",
      "video 1/1 (3680/4362) D:\\Predict\\test_video.mp4: 384x640 1 person, 7.0ms\n",
      "video 1/1 (3681/4362) D:\\Predict\\test_video.mp4: 384x640 1 person, 5.0ms\n",
      "video 1/1 (3682/4362) D:\\Predict\\test_video.mp4: 384x640 1 person, 6.0ms\n",
      "video 1/1 (3683/4362) D:\\Predict\\test_video.mp4: 384x640 1 person, 8.0ms\n",
      "video 1/1 (3684/4362) D:\\Predict\\test_video.mp4: 384x640 1 person, 6.0ms\n",
      "video 1/1 (3685/4362) D:\\Predict\\test_video.mp4: 384x640 1 person, 5.0ms\n",
      "video 1/1 (3686/4362) D:\\Predict\\test_video.mp4: 384x640 1 person, 6.0ms\n",
      "video 1/1 (3687/4362) D:\\Predict\\test_video.mp4: 384x640 1 person, 5.0ms\n",
      "video 1/1 (3688/4362) D:\\Predict\\test_video.mp4: 384x640 1 person, 5.0ms\n",
      "video 1/1 (3689/4362) D:\\Predict\\test_video.mp4: 384x640 1 person, 5.0ms\n",
      "video 1/1 (3690/4362) D:\\Predict\\test_video.mp4: 384x640 1 person, 5.0ms\n",
      "video 1/1 (3691/4362) D:\\Predict\\test_video.mp4: 384x640 1 person, 5.0ms\n",
      "video 1/1 (3692/4362) D:\\Predict\\test_video.mp4: 384x640 1 person, 6.3ms\n",
      "video 1/1 (3693/4362) D:\\Predict\\test_video.mp4: 384x640 1 person, 6.0ms\n",
      "video 1/1 (3694/4362) D:\\Predict\\test_video.mp4: 384x640 1 person, 6.0ms\n",
      "video 1/1 (3695/4362) D:\\Predict\\test_video.mp4: 384x640 1 person, 5.0ms\n",
      "video 1/1 (3696/4362) D:\\Predict\\test_video.mp4: 384x640 1 person, 6.0ms\n",
      "video 1/1 (3697/4362) D:\\Predict\\test_video.mp4: 384x640 1 person, 6.0ms\n",
      "video 1/1 (3698/4362) D:\\Predict\\test_video.mp4: 384x640 1 person, 6.0ms\n",
      "video 1/1 (3699/4362) D:\\Predict\\test_video.mp4: 384x640 1 person, 7.0ms\n",
      "video 1/1 (3700/4362) D:\\Predict\\test_video.mp4: 384x640 1 person, 9.0ms\n",
      "video 1/1 (3701/4362) D:\\Predict\\test_video.mp4: 384x640 1 person, 8.0ms\n",
      "video 1/1 (3702/4362) D:\\Predict\\test_video.mp4: 384x640 1 person, 8.0ms\n",
      "video 1/1 (3703/4362) D:\\Predict\\test_video.mp4: 384x640 1 person, 13.0ms\n",
      "video 1/1 (3704/4362) D:\\Predict\\test_video.mp4: 384x640 1 person, 9.5ms\n",
      "video 1/1 (3705/4362) D:\\Predict\\test_video.mp4: 384x640 1 person, 6.0ms\n",
      "video 1/1 (3706/4362) D:\\Predict\\test_video.mp4: 384x640 1 person, 6.0ms\n",
      "video 1/1 (3707/4362) D:\\Predict\\test_video.mp4: 384x640 1 person, 6.0ms\n",
      "video 1/1 (3708/4362) D:\\Predict\\test_video.mp4: 384x640 1 person, 9.0ms\n",
      "video 1/1 (3709/4362) D:\\Predict\\test_video.mp4: 384x640 1 person, 6.0ms\n",
      "video 1/1 (3710/4362) D:\\Predict\\test_video.mp4: 384x640 1 person, 5.0ms\n",
      "video 1/1 (3711/4362) D:\\Predict\\test_video.mp4: 384x640 1 person, 5.0ms\n",
      "video 1/1 (3712/4362) D:\\Predict\\test_video.mp4: 384x640 1 person, 5.0ms\n",
      "video 1/1 (3713/4362) D:\\Predict\\test_video.mp4: 384x640 1 person, 5.0ms\n",
      "video 1/1 (3714/4362) D:\\Predict\\test_video.mp4: 384x640 1 person, 5.0ms\n",
      "video 1/1 (3715/4362) D:\\Predict\\test_video.mp4: 384x640 1 person, 9.0ms\n",
      "video 1/1 (3716/4362) D:\\Predict\\test_video.mp4: 384x640 1 person, 9.0ms\n",
      "video 1/1 (3717/4362) D:\\Predict\\test_video.mp4: 384x640 1 person, 8.0ms\n",
      "video 1/1 (3718/4362) D:\\Predict\\test_video.mp4: 384x640 1 person, 8.0ms\n",
      "video 1/1 (3719/4362) D:\\Predict\\test_video.mp4: 384x640 1 person, 8.0ms\n",
      "video 1/1 (3720/4362) D:\\Predict\\test_video.mp4: 384x640 1 person, 7.0ms\n",
      "video 1/1 (3721/4362) D:\\Predict\\test_video.mp4: 384x640 1 person, 8.0ms\n",
      "video 1/1 (3722/4362) D:\\Predict\\test_video.mp4: 384x640 1 person, 5.0ms\n",
      "video 1/1 (3723/4362) D:\\Predict\\test_video.mp4: 384x640 1 person, 6.0ms\n",
      "video 1/1 (3724/4362) D:\\Predict\\test_video.mp4: 384x640 1 person, 8.0ms\n",
      "video 1/1 (3725/4362) D:\\Predict\\test_video.mp4: 384x640 1 person, 7.0ms\n",
      "video 1/1 (3726/4362) D:\\Predict\\test_video.mp4: 384x640 1 person, 8.0ms\n",
      "video 1/1 (3727/4362) D:\\Predict\\test_video.mp4: 384x640 1 person, 7.0ms\n",
      "video 1/1 (3728/4362) D:\\Predict\\test_video.mp4: 384x640 1 person, 5.0ms\n",
      "video 1/1 (3729/4362) D:\\Predict\\test_video.mp4: 384x640 1 person, 5.0ms\n",
      "video 1/1 (3730/4362) D:\\Predict\\test_video.mp4: 384x640 1 person, 6.0ms\n",
      "video 1/1 (3731/4362) D:\\Predict\\test_video.mp4: 384x640 1 person, 5.0ms\n",
      "video 1/1 (3732/4362) D:\\Predict\\test_video.mp4: 384x640 1 person, 6.0ms\n",
      "video 1/1 (3733/4362) D:\\Predict\\test_video.mp4: 384x640 1 person, 5.0ms\n",
      "video 1/1 (3734/4362) D:\\Predict\\test_video.mp4: 384x640 1 person, 5.0ms\n",
      "video 1/1 (3735/4362) D:\\Predict\\test_video.mp4: 384x640 1 person, 5.0ms\n",
      "video 1/1 (3736/4362) D:\\Predict\\test_video.mp4: 384x640 1 person, 5.0ms\n",
      "video 1/1 (3737/4362) D:\\Predict\\test_video.mp4: 384x640 1 person, 5.0ms\n",
      "video 1/1 (3738/4362) D:\\Predict\\test_video.mp4: 384x640 1 person, 5.0ms\n",
      "video 1/1 (3739/4362) D:\\Predict\\test_video.mp4: 384x640 1 person, 5.0ms\n",
      "video 1/1 (3740/4362) D:\\Predict\\test_video.mp4: 384x640 1 person, 6.0ms\n",
      "video 1/1 (3741/4362) D:\\Predict\\test_video.mp4: 384x640 1 person, 8.0ms\n",
      "video 1/1 (3742/4362) D:\\Predict\\test_video.mp4: 384x640 1 person, 7.0ms\n",
      "video 1/1 (3743/4362) D:\\Predict\\test_video.mp4: 384x640 1 person, 8.0ms\n",
      "video 1/1 (3744/4362) D:\\Predict\\test_video.mp4: 384x640 1 person, 8.0ms\n",
      "video 1/1 (3745/4362) D:\\Predict\\test_video.mp4: 384x640 1 person, 7.0ms\n",
      "video 1/1 (3746/4362) D:\\Predict\\test_video.mp4: 384x640 1 person, 5.0ms\n",
      "video 1/1 (3747/4362) D:\\Predict\\test_video.mp4: 384x640 1 person, 6.0ms\n",
      "video 1/1 (3748/4362) D:\\Predict\\test_video.mp4: 384x640 1 guns, 1 person, 5.0ms\n",
      "video 1/1 (3749/4362) D:\\Predict\\test_video.mp4: 384x640 1 person, 5.0ms\n",
      "video 1/1 (3750/4362) D:\\Predict\\test_video.mp4: 384x640 1 person, 5.0ms\n",
      "video 1/1 (3751/4362) D:\\Predict\\test_video.mp4: 384x640 1 person, 4.6ms\n",
      "video 1/1 (3752/4362) D:\\Predict\\test_video.mp4: 384x640 1 person, 6.0ms\n",
      "video 1/1 (3753/4362) D:\\Predict\\test_video.mp4: 384x640 1 person, 5.3ms\n",
      "video 1/1 (3754/4362) D:\\Predict\\test_video.mp4: 384x640 1 person, 8.0ms\n",
      "video 1/1 (3755/4362) D:\\Predict\\test_video.mp4: 384x640 1 person, 6.9ms\n",
      "video 1/1 (3756/4362) D:\\Predict\\test_video.mp4: 384x640 (no detections), 7.0ms\n",
      "video 1/1 (3757/4362) D:\\Predict\\test_video.mp4: 384x640 (no detections), 7.0ms\n",
      "video 1/1 (3758/4362) D:\\Predict\\test_video.mp4: 384x640 (no detections), 5.0ms\n",
      "video 1/1 (3759/4362) D:\\Predict\\test_video.mp4: 384x640 (no detections), 5.0ms\n",
      "video 1/1 (3760/4362) D:\\Predict\\test_video.mp4: 384x640 (no detections), 5.0ms\n",
      "video 1/1 (3761/4362) D:\\Predict\\test_video.mp4: 384x640 (no detections), 5.0ms\n",
      "video 1/1 (3762/4362) D:\\Predict\\test_video.mp4: 384x640 1 person, 5.0ms\n",
      "video 1/1 (3763/4362) D:\\Predict\\test_video.mp4: 384x640 1 person, 5.0ms\n",
      "video 1/1 (3764/4362) D:\\Predict\\test_video.mp4: 384x640 1 person, 13.0ms\n",
      "video 1/1 (3765/4362) D:\\Predict\\test_video.mp4: 384x640 1 person, 6.0ms\n",
      "video 1/1 (3766/4362) D:\\Predict\\test_video.mp4: 384x640 2 persons, 6.0ms\n",
      "video 1/1 (3767/4362) D:\\Predict\\test_video.mp4: 384x640 1 person, 6.6ms\n",
      "video 1/1 (3768/4362) D:\\Predict\\test_video.mp4: 384x640 1 person, 8.0ms\n",
      "video 1/1 (3769/4362) D:\\Predict\\test_video.mp4: 384x640 1 person, 10.0ms\n",
      "video 1/1 (3770/4362) D:\\Predict\\test_video.mp4: 384x640 1 person, 7.0ms\n",
      "video 1/1 (3771/4362) D:\\Predict\\test_video.mp4: 384x640 1 person, 8.0ms\n",
      "video 1/1 (3772/4362) D:\\Predict\\test_video.mp4: 384x640 1 person, 7.0ms\n",
      "video 1/1 (3773/4362) D:\\Predict\\test_video.mp4: 384x640 1 person, 7.0ms\n",
      "video 1/1 (3774/4362) D:\\Predict\\test_video.mp4: 384x640 1 person, 16.0ms\n",
      "video 1/1 (3775/4362) D:\\Predict\\test_video.mp4: 384x640 1 person, 6.0ms\n",
      "video 1/1 (3776/4362) D:\\Predict\\test_video.mp4: 384x640 1 person, 6.0ms\n",
      "video 1/1 (3777/4362) D:\\Predict\\test_video.mp4: 384x640 1 person, 8.0ms\n",
      "video 1/1 (3778/4362) D:\\Predict\\test_video.mp4: 384x640 1 person, 7.0ms\n",
      "video 1/1 (3779/4362) D:\\Predict\\test_video.mp4: 384x640 1 person, 12.0ms\n",
      "video 1/1 (3780/4362) D:\\Predict\\test_video.mp4: 384x640 1 person, 6.0ms\n",
      "video 1/1 (3781/4362) D:\\Predict\\test_video.mp4: 384x640 1 person, 13.0ms\n",
      "video 1/1 (3782/4362) D:\\Predict\\test_video.mp4: 384x640 1 person, 5.0ms\n",
      "video 1/1 (3783/4362) D:\\Predict\\test_video.mp4: 384x640 1 person, 6.0ms\n",
      "video 1/1 (3784/4362) D:\\Predict\\test_video.mp4: 384x640 1 person, 6.0ms\n",
      "video 1/1 (3785/4362) D:\\Predict\\test_video.mp4: 384x640 1 person, 5.0ms\n",
      "video 1/1 (3786/4362) D:\\Predict\\test_video.mp4: 384x640 1 person, 6.0ms\n",
      "video 1/1 (3787/4362) D:\\Predict\\test_video.mp4: 384x640 1 person, 6.0ms\n",
      "video 1/1 (3788/4362) D:\\Predict\\test_video.mp4: 384x640 1 person, 6.0ms\n",
      "video 1/1 (3789/4362) D:\\Predict\\test_video.mp4: 384x640 1 guns, 1 person, 6.0ms\n",
      "video 1/1 (3790/4362) D:\\Predict\\test_video.mp4: 384x640 1 guns, 1 person, 13.0ms\n",
      "video 1/1 (3791/4362) D:\\Predict\\test_video.mp4: 384x640 1 guns, 1 person, 5.0ms\n",
      "video 1/1 (3792/4362) D:\\Predict\\test_video.mp4: 384x640 1 person, 6.0ms\n",
      "video 1/1 (3793/4362) D:\\Predict\\test_video.mp4: 384x640 1 person, 6.0ms\n",
      "video 1/1 (3794/4362) D:\\Predict\\test_video.mp4: 384x640 1 person, 8.0ms\n",
      "video 1/1 (3795/4362) D:\\Predict\\test_video.mp4: 384x640 1 person, 6.0ms\n",
      "video 1/1 (3796/4362) D:\\Predict\\test_video.mp4: 384x640 1 person, 6.0ms\n",
      "video 1/1 (3797/4362) D:\\Predict\\test_video.mp4: 384x640 1 person, 5.0ms\n",
      "video 1/1 (3798/4362) D:\\Predict\\test_video.mp4: 384x640 1 person, 6.0ms\n",
      "video 1/1 (3799/4362) D:\\Predict\\test_video.mp4: 384x640 1 person, 6.0ms\n",
      "video 1/1 (3800/4362) D:\\Predict\\test_video.mp4: 384x640 1 person, 5.0ms\n",
      "video 1/1 (3801/4362) D:\\Predict\\test_video.mp4: 384x640 1 person, 6.0ms\n",
      "video 1/1 (3802/4362) D:\\Predict\\test_video.mp4: 384x640 1 person, 5.0ms\n",
      "video 1/1 (3803/4362) D:\\Predict\\test_video.mp4: 384x640 1 person, 5.0ms\n",
      "video 1/1 (3804/4362) D:\\Predict\\test_video.mp4: 384x640 1 person, 5.0ms\n",
      "video 1/1 (3805/4362) D:\\Predict\\test_video.mp4: 384x640 1 person, 6.0ms\n",
      "video 1/1 (3806/4362) D:\\Predict\\test_video.mp4: 384x640 1 person, 6.0ms\n",
      "video 1/1 (3807/4362) D:\\Predict\\test_video.mp4: 384x640 1 person, 7.0ms\n",
      "video 1/1 (3808/4362) D:\\Predict\\test_video.mp4: 384x640 1 person, 8.0ms\n",
      "video 1/1 (3809/4362) D:\\Predict\\test_video.mp4: 384x640 (no detections), 15.0ms\n",
      "video 1/1 (3810/4362) D:\\Predict\\test_video.mp4: 384x640 (no detections), 10.0ms\n",
      "video 1/1 (3811/4362) D:\\Predict\\test_video.mp4: 384x640 1 person, 6.0ms\n",
      "video 1/1 (3812/4362) D:\\Predict\\test_video.mp4: 384x640 2 persons, 7.0ms\n",
      "video 1/1 (3813/4362) D:\\Predict\\test_video.mp4: 384x640 1 person, 5.0ms\n",
      "video 1/1 (3814/4362) D:\\Predict\\test_video.mp4: 384x640 (no detections), 5.0ms\n",
      "video 1/1 (3815/4362) D:\\Predict\\test_video.mp4: 384x640 1 person, 5.0ms\n",
      "video 1/1 (3816/4362) D:\\Predict\\test_video.mp4: 384x640 (no detections), 6.0ms\n",
      "video 1/1 (3817/4362) D:\\Predict\\test_video.mp4: 384x640 (no detections), 7.0ms\n",
      "video 1/1 (3818/4362) D:\\Predict\\test_video.mp4: 384x640 1 person, 7.0ms\n",
      "video 1/1 (3819/4362) D:\\Predict\\test_video.mp4: 384x640 1 person, 7.0ms\n",
      "video 1/1 (3820/4362) D:\\Predict\\test_video.mp4: 384x640 1 person, 7.0ms\n",
      "video 1/1 (3821/4362) D:\\Predict\\test_video.mp4: 384x640 1 person, 6.0ms\n",
      "video 1/1 (3822/4362) D:\\Predict\\test_video.mp4: 384x640 1 person, 6.0ms\n",
      "video 1/1 (3823/4362) D:\\Predict\\test_video.mp4: 384x640 1 person, 6.0ms\n",
      "video 1/1 (3824/4362) D:\\Predict\\test_video.mp4: 384x640 1 person, 7.0ms\n",
      "video 1/1 (3825/4362) D:\\Predict\\test_video.mp4: 384x640 1 person, 5.0ms\n",
      "video 1/1 (3826/4362) D:\\Predict\\test_video.mp4: 384x640 1 person, 8.0ms\n",
      "video 1/1 (3827/4362) D:\\Predict\\test_video.mp4: 384x640 1 person, 8.0ms\n",
      "video 1/1 (3828/4362) D:\\Predict\\test_video.mp4: 384x640 1 person, 7.0ms\n",
      "video 1/1 (3829/4362) D:\\Predict\\test_video.mp4: 384x640 1 person, 8.0ms\n",
      "video 1/1 (3830/4362) D:\\Predict\\test_video.mp4: 384x640 1 person, 6.0ms\n",
      "video 1/1 (3831/4362) D:\\Predict\\test_video.mp4: 384x640 1 person, 6.0ms\n",
      "video 1/1 (3832/4362) D:\\Predict\\test_video.mp4: 384x640 1 person, 6.0ms\n",
      "video 1/1 (3833/4362) D:\\Predict\\test_video.mp4: 384x640 1 person, 8.0ms\n",
      "video 1/1 (3834/4362) D:\\Predict\\test_video.mp4: 384x640 1 person, 5.0ms\n",
      "video 1/1 (3835/4362) D:\\Predict\\test_video.mp4: 384x640 1 person, 7.0ms\n",
      "video 1/1 (3836/4362) D:\\Predict\\test_video.mp4: 384x640 1 person, 8.0ms\n",
      "video 1/1 (3837/4362) D:\\Predict\\test_video.mp4: 384x640 1 person, 9.0ms\n",
      "video 1/1 (3838/4362) D:\\Predict\\test_video.mp4: 384x640 1 person, 5.0ms\n",
      "video 1/1 (3839/4362) D:\\Predict\\test_video.mp4: 384x640 1 person, 8.0ms\n",
      "video 1/1 (3840/4362) D:\\Predict\\test_video.mp4: 384x640 1 person, 6.0ms\n",
      "video 1/1 (3841/4362) D:\\Predict\\test_video.mp4: 384x640 1 person, 8.0ms\n",
      "video 1/1 (3842/4362) D:\\Predict\\test_video.mp4: 384x640 1 person, 6.0ms\n",
      "video 1/1 (3843/4362) D:\\Predict\\test_video.mp4: 384x640 1 person, 6.0ms\n",
      "video 1/1 (3844/4362) D:\\Predict\\test_video.mp4: 384x640 1 person, 6.0ms\n",
      "video 1/1 (3845/4362) D:\\Predict\\test_video.mp4: 384x640 1 person, 14.0ms\n",
      "video 1/1 (3846/4362) D:\\Predict\\test_video.mp4: 384x640 1 person, 7.0ms\n",
      "video 1/1 (3847/4362) D:\\Predict\\test_video.mp4: 384x640 1 person, 6.0ms\n",
      "video 1/1 (3848/4362) D:\\Predict\\test_video.mp4: 384x640 1 person, 7.0ms\n",
      "video 1/1 (3849/4362) D:\\Predict\\test_video.mp4: 384x640 1 person, 8.0ms\n",
      "video 1/1 (3850/4362) D:\\Predict\\test_video.mp4: 384x640 1 person, 10.0ms\n",
      "video 1/1 (3851/4362) D:\\Predict\\test_video.mp4: 384x640 1 person, 7.0ms\n",
      "video 1/1 (3852/4362) D:\\Predict\\test_video.mp4: 384x640 1 person, 5.0ms\n",
      "video 1/1 (3853/4362) D:\\Predict\\test_video.mp4: 384x640 1 person, 5.0ms\n",
      "video 1/1 (3854/4362) D:\\Predict\\test_video.mp4: 384x640 1 person, 6.0ms\n",
      "video 1/1 (3855/4362) D:\\Predict\\test_video.mp4: 384x640 1 person, 5.0ms\n",
      "video 1/1 (3856/4362) D:\\Predict\\test_video.mp4: 384x640 1 person, 5.0ms\n",
      "video 1/1 (3857/4362) D:\\Predict\\test_video.mp4: 384x640 1 person, 7.0ms\n",
      "video 1/1 (3858/4362) D:\\Predict\\test_video.mp4: 384x640 1 person, 6.0ms\n",
      "video 1/1 (3859/4362) D:\\Predict\\test_video.mp4: 384x640 1 person, 15.0ms\n",
      "video 1/1 (3860/4362) D:\\Predict\\test_video.mp4: 384x640 1 person, 14.4ms\n",
      "video 1/1 (3861/4362) D:\\Predict\\test_video.mp4: 384x640 1 person, 5.7ms\n",
      "video 1/1 (3862/4362) D:\\Predict\\test_video.mp4: 384x640 (no detections), 7.0ms\n",
      "video 1/1 (3863/4362) D:\\Predict\\test_video.mp4: 384x640 (no detections), 6.0ms\n",
      "video 1/1 (3864/4362) D:\\Predict\\test_video.mp4: 384x640 (no detections), 6.0ms\n",
      "video 1/1 (3865/4362) D:\\Predict\\test_video.mp4: 384x640 (no detections), 5.0ms\n",
      "video 1/1 (3866/4362) D:\\Predict\\test_video.mp4: 384x640 1 person, 6.0ms\n",
      "video 1/1 (3867/4362) D:\\Predict\\test_video.mp4: 384x640 (no detections), 13.0ms\n",
      "video 1/1 (3868/4362) D:\\Predict\\test_video.mp4: 384x640 1 person, 6.0ms\n",
      "video 1/1 (3869/4362) D:\\Predict\\test_video.mp4: 384x640 1 person, 6.0ms\n",
      "video 1/1 (3870/4362) D:\\Predict\\test_video.mp4: 384x640 1 person, 13.0ms\n",
      "video 1/1 (3871/4362) D:\\Predict\\test_video.mp4: 384x640 1 person, 6.0ms\n",
      "video 1/1 (3872/4362) D:\\Predict\\test_video.mp4: 384x640 1 person, 5.0ms\n",
      "video 1/1 (3873/4362) D:\\Predict\\test_video.mp4: 384x640 1 person, 7.0ms\n",
      "video 1/1 (3874/4362) D:\\Predict\\test_video.mp4: 384x640 1 person, 10.0ms\n",
      "video 1/1 (3875/4362) D:\\Predict\\test_video.mp4: 384x640 1 person, 4.5ms\n",
      "video 1/1 (3876/4362) D:\\Predict\\test_video.mp4: 384x640 1 person, 4.3ms\n",
      "video 1/1 (3877/4362) D:\\Predict\\test_video.mp4: 384x640 1 person, 5.0ms\n",
      "video 1/1 (3878/4362) D:\\Predict\\test_video.mp4: 384x640 1 person, 5.0ms\n",
      "video 1/1 (3879/4362) D:\\Predict\\test_video.mp4: 384x640 2 persons, 5.0ms\n",
      "video 1/1 (3880/4362) D:\\Predict\\test_video.mp4: 384x640 2 persons, 6.0ms\n",
      "video 1/1 (3881/4362) D:\\Predict\\test_video.mp4: 384x640 2 persons, 5.0ms\n",
      "video 1/1 (3882/4362) D:\\Predict\\test_video.mp4: 384x640 1 person, 5.0ms\n",
      "video 1/1 (3883/4362) D:\\Predict\\test_video.mp4: 384x640 1 person, 6.0ms\n",
      "video 1/1 (3884/4362) D:\\Predict\\test_video.mp4: 384x640 1 person, 5.0ms\n",
      "video 1/1 (3885/4362) D:\\Predict\\test_video.mp4: 384x640 1 person, 5.0ms\n",
      "video 1/1 (3886/4362) D:\\Predict\\test_video.mp4: 384x640 1 person, 8.0ms\n",
      "video 1/1 (3887/4362) D:\\Predict\\test_video.mp4: 384x640 1 person, 8.0ms\n",
      "video 1/1 (3888/4362) D:\\Predict\\test_video.mp4: 384x640 1 person, 6.0ms\n",
      "video 1/1 (3889/4362) D:\\Predict\\test_video.mp4: 384x640 1 person, 5.0ms\n",
      "video 1/1 (3890/4362) D:\\Predict\\test_video.mp4: 384x640 1 person, 5.0ms\n",
      "video 1/1 (3891/4362) D:\\Predict\\test_video.mp4: 384x640 1 person, 5.0ms\n",
      "video 1/1 (3892/4362) D:\\Predict\\test_video.mp4: 384x640 1 person, 5.0ms\n",
      "video 1/1 (3893/4362) D:\\Predict\\test_video.mp4: 384x640 1 person, 5.0ms\n",
      "video 1/1 (3894/4362) D:\\Predict\\test_video.mp4: 384x640 1 person, 6.0ms\n",
      "video 1/1 (3895/4362) D:\\Predict\\test_video.mp4: 384x640 1 person, 6.0ms\n",
      "video 1/1 (3896/4362) D:\\Predict\\test_video.mp4: 384x640 1 person, 5.0ms\n",
      "video 1/1 (3897/4362) D:\\Predict\\test_video.mp4: 384x640 1 person, 5.0ms\n",
      "video 1/1 (3898/4362) D:\\Predict\\test_video.mp4: 384x640 1 person, 5.0ms\n",
      "video 1/1 (3899/4362) D:\\Predict\\test_video.mp4: 384x640 1 person, 5.0ms\n",
      "video 1/1 (3900/4362) D:\\Predict\\test_video.mp4: 384x640 1 person, 5.0ms\n",
      "video 1/1 (3901/4362) D:\\Predict\\test_video.mp4: 384x640 (no detections), 5.0ms\n",
      "video 1/1 (3902/4362) D:\\Predict\\test_video.mp4: 384x640 1 person, 5.0ms\n",
      "video 1/1 (3903/4362) D:\\Predict\\test_video.mp4: 384x640 (no detections), 6.0ms\n",
      "video 1/1 (3904/4362) D:\\Predict\\test_video.mp4: 384x640 (no detections), 7.0ms\n",
      "video 1/1 (3905/4362) D:\\Predict\\test_video.mp4: 384x640 1 person, 7.0ms\n",
      "video 1/1 (3906/4362) D:\\Predict\\test_video.mp4: 384x640 (no detections), 6.0ms\n",
      "video 1/1 (3907/4362) D:\\Predict\\test_video.mp4: 384x640 (no detections), 8.0ms\n",
      "video 1/1 (3908/4362) D:\\Predict\\test_video.mp4: 384x640 1 person, 8.0ms\n",
      "video 1/1 (3909/4362) D:\\Predict\\test_video.mp4: 384x640 1 person, 8.0ms\n",
      "video 1/1 (3910/4362) D:\\Predict\\test_video.mp4: 384x640 1 person, 6.8ms\n",
      "video 1/1 (3911/4362) D:\\Predict\\test_video.mp4: 384x640 1 person, 7.0ms\n",
      "video 1/1 (3912/4362) D:\\Predict\\test_video.mp4: 384x640 1 person, 6.0ms\n",
      "video 1/1 (3913/4362) D:\\Predict\\test_video.mp4: 384x640 1 person, 7.0ms\n",
      "video 1/1 (3914/4362) D:\\Predict\\test_video.mp4: 384x640 1 person, 5.0ms\n",
      "video 1/1 (3915/4362) D:\\Predict\\test_video.mp4: 384x640 1 person, 5.0ms\n",
      "video 1/1 (3916/4362) D:\\Predict\\test_video.mp4: 384x640 1 person, 6.0ms\n",
      "video 1/1 (3917/4362) D:\\Predict\\test_video.mp4: 384x640 1 person, 5.0ms\n",
      "video 1/1 (3918/4362) D:\\Predict\\test_video.mp4: 384x640 1 person, 6.0ms\n",
      "video 1/1 (3919/4362) D:\\Predict\\test_video.mp4: 384x640 1 person, 7.0ms\n",
      "video 1/1 (3920/4362) D:\\Predict\\test_video.mp4: 384x640 1 person, 6.0ms\n",
      "video 1/1 (3921/4362) D:\\Predict\\test_video.mp4: 384x640 1 person, 6.0ms\n",
      "video 1/1 (3922/4362) D:\\Predict\\test_video.mp4: 384x640 1 person, 7.0ms\n",
      "video 1/1 (3923/4362) D:\\Predict\\test_video.mp4: 384x640 1 person, 5.0ms\n",
      "video 1/1 (3924/4362) D:\\Predict\\test_video.mp4: 384x640 1 person, 6.0ms\n",
      "video 1/1 (3925/4362) D:\\Predict\\test_video.mp4: 384x640 1 person, 7.0ms\n",
      "video 1/1 (3926/4362) D:\\Predict\\test_video.mp4: 384x640 1 person, 5.0ms\n",
      "video 1/1 (3927/4362) D:\\Predict\\test_video.mp4: 384x640 1 person, 6.0ms\n",
      "video 1/1 (3928/4362) D:\\Predict\\test_video.mp4: 384x640 1 person, 27.0ms\n",
      "video 1/1 (3929/4362) D:\\Predict\\test_video.mp4: 384x640 1 person, 6.0ms\n",
      "video 1/1 (3930/4362) D:\\Predict\\test_video.mp4: 384x640 1 person, 6.0ms\n",
      "video 1/1 (3931/4362) D:\\Predict\\test_video.mp4: 384x640 1 person, 6.0ms\n",
      "video 1/1 (3932/4362) D:\\Predict\\test_video.mp4: 384x640 1 person, 28.0ms\n",
      "video 1/1 (3933/4362) D:\\Predict\\test_video.mp4: 384x640 1 person, 9.0ms\n",
      "video 1/1 (3934/4362) D:\\Predict\\test_video.mp4: 384x640 1 person, 6.0ms\n",
      "video 1/1 (3935/4362) D:\\Predict\\test_video.mp4: 384x640 1 person, 6.0ms\n",
      "video 1/1 (3936/4362) D:\\Predict\\test_video.mp4: 384x640 1 person, 6.0ms\n",
      "video 1/1 (3937/4362) D:\\Predict\\test_video.mp4: 384x640 1 person, 6.0ms\n",
      "video 1/1 (3938/4362) D:\\Predict\\test_video.mp4: 384x640 (no detections), 8.0ms\n",
      "video 1/1 (3939/4362) D:\\Predict\\test_video.mp4: 384x640 (no detections), 7.0ms\n",
      "video 1/1 (3940/4362) D:\\Predict\\test_video.mp4: 384x640 (no detections), 5.0ms\n",
      "video 1/1 (3941/4362) D:\\Predict\\test_video.mp4: 384x640 (no detections), 7.5ms\n",
      "video 1/1 (3942/4362) D:\\Predict\\test_video.mp4: 384x640 1 person, 6.0ms\n",
      "video 1/1 (3943/4362) D:\\Predict\\test_video.mp4: 384x640 (no detections), 10.0ms\n",
      "video 1/1 (3944/4362) D:\\Predict\\test_video.mp4: 384x640 (no detections), 6.0ms\n",
      "video 1/1 (3945/4362) D:\\Predict\\test_video.mp4: 384x640 (no detections), 5.0ms\n",
      "video 1/1 (3946/4362) D:\\Predict\\test_video.mp4: 384x640 (no detections), 7.0ms\n",
      "video 1/1 (3947/4362) D:\\Predict\\test_video.mp4: 384x640 (no detections), 7.0ms\n",
      "video 1/1 (3948/4362) D:\\Predict\\test_video.mp4: 384x640 (no detections), 6.0ms\n",
      "video 1/1 (3949/4362) D:\\Predict\\test_video.mp4: 384x640 1 person, 13.0ms\n",
      "video 1/1 (3950/4362) D:\\Predict\\test_video.mp4: 384x640 (no detections), 6.0ms\n",
      "video 1/1 (3951/4362) D:\\Predict\\test_video.mp4: 384x640 (no detections), 16.0ms\n",
      "video 1/1 (3952/4362) D:\\Predict\\test_video.mp4: 384x640 (no detections), 6.0ms\n",
      "video 1/1 (3953/4362) D:\\Predict\\test_video.mp4: 384x640 (no detections), 6.0ms\n",
      "video 1/1 (3954/4362) D:\\Predict\\test_video.mp4: 384x640 1 person, 6.0ms\n",
      "video 1/1 (3955/4362) D:\\Predict\\test_video.mp4: 384x640 1 person, 6.0ms\n",
      "video 1/1 (3956/4362) D:\\Predict\\test_video.mp4: 384x640 1 person, 16.0ms\n",
      "video 1/1 (3957/4362) D:\\Predict\\test_video.mp4: 384x640 1 person, 6.0ms\n",
      "video 1/1 (3958/4362) D:\\Predict\\test_video.mp4: 384x640 1 person, 20.0ms\n",
      "video 1/1 (3959/4362) D:\\Predict\\test_video.mp4: 384x640 (no detections), 15.0ms\n",
      "video 1/1 (3960/4362) D:\\Predict\\test_video.mp4: 384x640 1 person, 15.0ms\n",
      "video 1/1 (3961/4362) D:\\Predict\\test_video.mp4: 384x640 1 person, 6.0ms\n",
      "video 1/1 (3962/4362) D:\\Predict\\test_video.mp4: 384x640 1 guns, 1 person, 19.0ms\n",
      "video 1/1 (3963/4362) D:\\Predict\\test_video.mp4: 384x640 1 guns, 1 person, 16.0ms\n",
      "video 1/1 (3964/4362) D:\\Predict\\test_video.mp4: 384x640 1 guns, 1 person, 17.5ms\n",
      "video 1/1 (3965/4362) D:\\Predict\\test_video.mp4: 384x640 1 guns, 19.0ms\n",
      "video 1/1 (3966/4362) D:\\Predict\\test_video.mp4: 384x640 (no detections), 9.0ms\n",
      "video 1/1 (3967/4362) D:\\Predict\\test_video.mp4: 384x640 (no detections), 12.0ms\n",
      "video 1/1 (3968/4362) D:\\Predict\\test_video.mp4: 384x640 (no detections), 7.0ms\n",
      "video 1/1 (3969/4362) D:\\Predict\\test_video.mp4: 384x640 (no detections), 7.0ms\n",
      "video 1/1 (3970/4362) D:\\Predict\\test_video.mp4: 384x640 1 person, 8.0ms\n",
      "video 1/1 (3971/4362) D:\\Predict\\test_video.mp4: 384x640 1 person, 8.0ms\n",
      "video 1/1 (3972/4362) D:\\Predict\\test_video.mp4: 384x640 (no detections), 11.0ms\n",
      "video 1/1 (3973/4362) D:\\Predict\\test_video.mp4: 384x640 (no detections), 7.0ms\n",
      "video 1/1 (3974/4362) D:\\Predict\\test_video.mp4: 384x640 (no detections), 13.0ms\n",
      "video 1/1 (3975/4362) D:\\Predict\\test_video.mp4: 384x640 (no detections), 13.0ms\n",
      "video 1/1 (3976/4362) D:\\Predict\\test_video.mp4: 384x640 1 guns, 24.0ms\n",
      "video 1/1 (3977/4362) D:\\Predict\\test_video.mp4: 384x640 1 person, 9.0ms\n",
      "video 1/1 (3978/4362) D:\\Predict\\test_video.mp4: 384x640 1 person, 17.0ms\n",
      "video 1/1 (3979/4362) D:\\Predict\\test_video.mp4: 384x640 1 person, 9.0ms\n",
      "video 1/1 (3980/4362) D:\\Predict\\test_video.mp4: 384x640 1 person, 21.0ms\n",
      "video 1/1 (3981/4362) D:\\Predict\\test_video.mp4: 384x640 1 person, 8.0ms\n",
      "video 1/1 (3982/4362) D:\\Predict\\test_video.mp4: 384x640 (no detections), 16.0ms\n",
      "video 1/1 (3983/4362) D:\\Predict\\test_video.mp4: 384x640 (no detections), 13.0ms\n",
      "video 1/1 (3984/4362) D:\\Predict\\test_video.mp4: 384x640 (no detections), 10.0ms\n",
      "video 1/1 (3985/4362) D:\\Predict\\test_video.mp4: 384x640 (no detections), 8.0ms\n",
      "video 1/1 (3986/4362) D:\\Predict\\test_video.mp4: 384x640 (no detections), 16.0ms\n",
      "video 1/1 (3987/4362) D:\\Predict\\test_video.mp4: 384x640 (no detections), 16.0ms\n",
      "video 1/1 (3988/4362) D:\\Predict\\test_video.mp4: 384x640 (no detections), 9.0ms\n",
      "video 1/1 (3989/4362) D:\\Predict\\test_video.mp4: 384x640 (no detections), 8.0ms\n",
      "video 1/1 (3990/4362) D:\\Predict\\test_video.mp4: 384x640 (no detections), 16.0ms\n",
      "video 1/1 (3991/4362) D:\\Predict\\test_video.mp4: 384x640 (no detections), 11.0ms\n",
      "video 1/1 (3992/4362) D:\\Predict\\test_video.mp4: 384x640 (no detections), 15.0ms\n",
      "video 1/1 (3993/4362) D:\\Predict\\test_video.mp4: 384x640 (no detections), 16.0ms\n",
      "video 1/1 (3994/4362) D:\\Predict\\test_video.mp4: 384x640 (no detections), 10.0ms\n",
      "video 1/1 (3995/4362) D:\\Predict\\test_video.mp4: 384x640 (no detections), 9.0ms\n",
      "video 1/1 (3996/4362) D:\\Predict\\test_video.mp4: 384x640 (no detections), 9.0ms\n",
      "video 1/1 (3997/4362) D:\\Predict\\test_video.mp4: 384x640 (no detections), 8.0ms\n",
      "video 1/1 (3998/4362) D:\\Predict\\test_video.mp4: 384x640 (no detections), 7.0ms\n",
      "video 1/1 (3999/4362) D:\\Predict\\test_video.mp4: 384x640 (no detections), 7.0ms\n",
      "video 1/1 (4000/4362) D:\\Predict\\test_video.mp4: 384x640 (no detections), 6.0ms\n",
      "video 1/1 (4001/4362) D:\\Predict\\test_video.mp4: 384x640 (no detections), 16.0ms\n",
      "video 1/1 (4002/4362) D:\\Predict\\test_video.mp4: 384x640 (no detections), 18.0ms\n",
      "video 1/1 (4003/4362) D:\\Predict\\test_video.mp4: 384x640 (no detections), 20.0ms\n",
      "video 1/1 (4004/4362) D:\\Predict\\test_video.mp4: 384x640 (no detections), 9.0ms\n",
      "video 1/1 (4005/4362) D:\\Predict\\test_video.mp4: 384x640 (no detections), 8.0ms\n",
      "video 1/1 (4006/4362) D:\\Predict\\test_video.mp4: 384x640 (no detections), 15.0ms\n",
      "video 1/1 (4007/4362) D:\\Predict\\test_video.mp4: 384x640 (no detections), 16.0ms\n",
      "video 1/1 (4008/4362) D:\\Predict\\test_video.mp4: 384x640 (no detections), 9.0ms\n",
      "video 1/1 (4009/4362) D:\\Predict\\test_video.mp4: 384x640 (no detections), 16.0ms\n",
      "video 1/1 (4010/4362) D:\\Predict\\test_video.mp4: 384x640 (no detections), 8.0ms\n",
      "video 1/1 (4011/4362) D:\\Predict\\test_video.mp4: 384x640 (no detections), 6.0ms\n",
      "video 1/1 (4012/4362) D:\\Predict\\test_video.mp4: 384x640 (no detections), 9.0ms\n",
      "video 1/1 (4013/4362) D:\\Predict\\test_video.mp4: 384x640 (no detections), 17.0ms\n",
      "video 1/1 (4014/4362) D:\\Predict\\test_video.mp4: 384x640 (no detections), 13.0ms\n",
      "video 1/1 (4015/4362) D:\\Predict\\test_video.mp4: 384x640 (no detections), 16.0ms\n",
      "video 1/1 (4016/4362) D:\\Predict\\test_video.mp4: 384x640 (no detections), 18.0ms\n",
      "video 1/1 (4017/4362) D:\\Predict\\test_video.mp4: 384x640 (no detections), 11.0ms\n",
      "video 1/1 (4018/4362) D:\\Predict\\test_video.mp4: 384x640 (no detections), 19.0ms\n",
      "video 1/1 (4019/4362) D:\\Predict\\test_video.mp4: 384x640 (no detections), 14.0ms\n",
      "video 1/1 (4020/4362) D:\\Predict\\test_video.mp4: 384x640 (no detections), 21.0ms\n",
      "video 1/1 (4021/4362) D:\\Predict\\test_video.mp4: 384x640 (no detections), 7.0ms\n",
      "video 1/1 (4022/4362) D:\\Predict\\test_video.mp4: 384x640 (no detections), 16.0ms\n",
      "video 1/1 (4023/4362) D:\\Predict\\test_video.mp4: 384x640 (no detections), 14.0ms\n",
      "video 1/1 (4024/4362) D:\\Predict\\test_video.mp4: 384x640 (no detections), 16.0ms\n",
      "video 1/1 (4025/4362) D:\\Predict\\test_video.mp4: 384x640 (no detections), 12.0ms\n",
      "video 1/1 (4026/4362) D:\\Predict\\test_video.mp4: 384x640 (no detections), 22.0ms\n",
      "video 1/1 (4027/4362) D:\\Predict\\test_video.mp4: 384x640 (no detections), 17.0ms\n",
      "video 1/1 (4028/4362) D:\\Predict\\test_video.mp4: 384x640 (no detections), 16.0ms\n",
      "video 1/1 (4029/4362) D:\\Predict\\test_video.mp4: 384x640 (no detections), 21.0ms\n",
      "video 1/1 (4030/4362) D:\\Predict\\test_video.mp4: 384x640 (no detections), 9.0ms\n",
      "video 1/1 (4031/4362) D:\\Predict\\test_video.mp4: 384x640 (no detections), 12.0ms\n",
      "video 1/1 (4032/4362) D:\\Predict\\test_video.mp4: 384x640 (no detections), 14.0ms\n",
      "video 1/1 (4033/4362) D:\\Predict\\test_video.mp4: 384x640 (no detections), 17.0ms\n",
      "video 1/1 (4034/4362) D:\\Predict\\test_video.mp4: 384x640 (no detections), 17.0ms\n",
      "video 1/1 (4035/4362) D:\\Predict\\test_video.mp4: 384x640 (no detections), 16.0ms\n",
      "video 1/1 (4036/4362) D:\\Predict\\test_video.mp4: 384x640 (no detections), 22.0ms\n",
      "video 1/1 (4037/4362) D:\\Predict\\test_video.mp4: 384x640 (no detections), 8.0ms\n",
      "video 1/1 (4038/4362) D:\\Predict\\test_video.mp4: 384x640 (no detections), 12.0ms\n",
      "video 1/1 (4039/4362) D:\\Predict\\test_video.mp4: 384x640 (no detections), 9.0ms\n",
      "video 1/1 (4040/4362) D:\\Predict\\test_video.mp4: 384x640 (no detections), 11.5ms\n",
      "video 1/1 (4041/4362) D:\\Predict\\test_video.mp4: 384x640 (no detections), 21.0ms\n",
      "video 1/1 (4042/4362) D:\\Predict\\test_video.mp4: 384x640 (no detections), 12.0ms\n",
      "video 1/1 (4043/4362) D:\\Predict\\test_video.mp4: 384x640 (no detections), 12.0ms\n",
      "video 1/1 (4044/4362) D:\\Predict\\test_video.mp4: 384x640 (no detections), 11.0ms\n",
      "video 1/1 (4045/4362) D:\\Predict\\test_video.mp4: 384x640 (no detections), 8.0ms\n",
      "video 1/1 (4046/4362) D:\\Predict\\test_video.mp4: 384x640 (no detections), 15.0ms\n",
      "video 1/1 (4047/4362) D:\\Predict\\test_video.mp4: 384x640 (no detections), 14.0ms\n",
      "video 1/1 (4048/4362) D:\\Predict\\test_video.mp4: 384x640 (no detections), 17.0ms\n",
      "video 1/1 (4049/4362) D:\\Predict\\test_video.mp4: 384x640 (no detections), 18.0ms\n",
      "video 1/1 (4050/4362) D:\\Predict\\test_video.mp4: 384x640 (no detections), 20.0ms\n",
      "video 1/1 (4051/4362) D:\\Predict\\test_video.mp4: 384x640 (no detections), 9.0ms\n",
      "video 1/1 (4052/4362) D:\\Predict\\test_video.mp4: 384x640 (no detections), 9.0ms\n",
      "video 1/1 (4053/4362) D:\\Predict\\test_video.mp4: 384x640 (no detections), 18.0ms\n",
      "video 1/1 (4054/4362) D:\\Predict\\test_video.mp4: 384x640 (no detections), 8.0ms\n",
      "video 1/1 (4055/4362) D:\\Predict\\test_video.mp4: 384x640 (no detections), 18.0ms\n",
      "video 1/1 (4056/4362) D:\\Predict\\test_video.mp4: 384x640 (no detections), 18.0ms\n",
      "video 1/1 (4057/4362) D:\\Predict\\test_video.mp4: 384x640 (no detections), 8.0ms\n",
      "video 1/1 (4058/4362) D:\\Predict\\test_video.mp4: 384x640 (no detections), 7.3ms\n",
      "video 1/1 (4059/4362) D:\\Predict\\test_video.mp4: 384x640 (no detections), 20.0ms\n",
      "video 1/1 (4060/4362) D:\\Predict\\test_video.mp4: 384x640 (no detections), 9.0ms\n",
      "video 1/1 (4061/4362) D:\\Predict\\test_video.mp4: 384x640 (no detections), 19.0ms\n",
      "video 1/1 (4062/4362) D:\\Predict\\test_video.mp4: 384x640 (no detections), 22.0ms\n",
      "video 1/1 (4063/4362) D:\\Predict\\test_video.mp4: 384x640 (no detections), 9.0ms\n",
      "video 1/1 (4064/4362) D:\\Predict\\test_video.mp4: 384x640 (no detections), 10.0ms\n",
      "video 1/1 (4065/4362) D:\\Predict\\test_video.mp4: 384x640 (no detections), 12.0ms\n",
      "video 1/1 (4066/4362) D:\\Predict\\test_video.mp4: 384x640 (no detections), 10.0ms\n",
      "video 1/1 (4067/4362) D:\\Predict\\test_video.mp4: 384x640 (no detections), 17.0ms\n",
      "video 1/1 (4068/4362) D:\\Predict\\test_video.mp4: 384x640 (no detections), 7.0ms\n",
      "video 1/1 (4069/4362) D:\\Predict\\test_video.mp4: 384x640 (no detections), 8.0ms\n",
      "video 1/1 (4070/4362) D:\\Predict\\test_video.mp4: 384x640 (no detections), 7.0ms\n",
      "video 1/1 (4071/4362) D:\\Predict\\test_video.mp4: 384x640 (no detections), 17.0ms\n",
      "video 1/1 (4072/4362) D:\\Predict\\test_video.mp4: 384x640 (no detections), 17.0ms\n",
      "video 1/1 (4073/4362) D:\\Predict\\test_video.mp4: 384x640 (no detections), 12.0ms\n",
      "video 1/1 (4074/4362) D:\\Predict\\test_video.mp4: 384x640 (no detections), 13.0ms\n",
      "video 1/1 (4075/4362) D:\\Predict\\test_video.mp4: 384x640 (no detections), 12.0ms\n",
      "video 1/1 (4076/4362) D:\\Predict\\test_video.mp4: 384x640 (no detections), 17.0ms\n",
      "video 1/1 (4077/4362) D:\\Predict\\test_video.mp4: 384x640 (no detections), 17.0ms\n",
      "video 1/1 (4078/4362) D:\\Predict\\test_video.mp4: 384x640 (no detections), 10.0ms\n",
      "video 1/1 (4079/4362) D:\\Predict\\test_video.mp4: 384x640 (no detections), 12.0ms\n",
      "video 1/1 (4080/4362) D:\\Predict\\test_video.mp4: 384x640 (no detections), 21.0ms\n",
      "video 1/1 (4081/4362) D:\\Predict\\test_video.mp4: 384x640 (no detections), 10.0ms\n",
      "video 1/1 (4082/4362) D:\\Predict\\test_video.mp4: 384x640 (no detections), 12.0ms\n",
      "video 1/1 (4083/4362) D:\\Predict\\test_video.mp4: 384x640 (no detections), 21.0ms\n",
      "video 1/1 (4084/4362) D:\\Predict\\test_video.mp4: 384x640 (no detections), 8.0ms\n",
      "video 1/1 (4085/4362) D:\\Predict\\test_video.mp4: 384x640 (no detections), 17.0ms\n",
      "video 1/1 (4086/4362) D:\\Predict\\test_video.mp4: 384x640 (no detections), 22.0ms\n",
      "video 1/1 (4087/4362) D:\\Predict\\test_video.mp4: 384x640 (no detections), 6.0ms\n",
      "video 1/1 (4088/4362) D:\\Predict\\test_video.mp4: 384x640 (no detections), 18.0ms\n",
      "video 1/1 (4089/4362) D:\\Predict\\test_video.mp4: 384x640 (no detections), 21.0ms\n",
      "video 1/1 (4090/4362) D:\\Predict\\test_video.mp4: 384x640 (no detections), 7.0ms\n",
      "video 1/1 (4091/4362) D:\\Predict\\test_video.mp4: 384x640 (no detections), 8.0ms\n",
      "video 1/1 (4092/4362) D:\\Predict\\test_video.mp4: 384x640 (no detections), 17.0ms\n",
      "video 1/1 (4093/4362) D:\\Predict\\test_video.mp4: 384x640 (no detections), 9.0ms\n",
      "video 1/1 (4094/4362) D:\\Predict\\test_video.mp4: 384x640 (no detections), 17.0ms\n",
      "video 1/1 (4095/4362) D:\\Predict\\test_video.mp4: 384x640 (no detections), 9.0ms\n",
      "video 1/1 (4096/4362) D:\\Predict\\test_video.mp4: 384x640 (no detections), 10.0ms\n",
      "video 1/1 (4097/4362) D:\\Predict\\test_video.mp4: 384x640 (no detections), 17.0ms\n",
      "video 1/1 (4098/4362) D:\\Predict\\test_video.mp4: 384x640 (no detections), 10.0ms\n",
      "video 1/1 (4099/4362) D:\\Predict\\test_video.mp4: 384x640 (no detections), 12.0ms\n",
      "video 1/1 (4100/4362) D:\\Predict\\test_video.mp4: 384x640 (no detections), 22.0ms\n",
      "video 1/1 (4101/4362) D:\\Predict\\test_video.mp4: 384x640 (no detections), 7.1ms\n",
      "video 1/1 (4102/4362) D:\\Predict\\test_video.mp4: 384x640 (no detections), 7.0ms\n",
      "video 1/1 (4103/4362) D:\\Predict\\test_video.mp4: 384x640 (no detections), 9.0ms\n",
      "video 1/1 (4104/4362) D:\\Predict\\test_video.mp4: 384x640 (no detections), 15.0ms\n",
      "video 1/1 (4105/4362) D:\\Predict\\test_video.mp4: 384x640 (no detections), 13.0ms\n",
      "video 1/1 (4106/4362) D:\\Predict\\test_video.mp4: 384x640 (no detections), 9.0ms\n",
      "video 1/1 (4107/4362) D:\\Predict\\test_video.mp4: 384x640 (no detections), 7.0ms\n",
      "video 1/1 (4108/4362) D:\\Predict\\test_video.mp4: 384x640 (no detections), 13.0ms\n",
      "video 1/1 (4109/4362) D:\\Predict\\test_video.mp4: 384x640 (no detections), 8.0ms\n",
      "video 1/1 (4110/4362) D:\\Predict\\test_video.mp4: 384x640 (no detections), 11.0ms\n",
      "video 1/1 (4111/4362) D:\\Predict\\test_video.mp4: 384x640 (no detections), 7.0ms\n",
      "video 1/1 (4112/4362) D:\\Predict\\test_video.mp4: 384x640 (no detections), 7.0ms\n",
      "video 1/1 (4113/4362) D:\\Predict\\test_video.mp4: 384x640 (no detections), 12.0ms\n",
      "video 1/1 (4114/4362) D:\\Predict\\test_video.mp4: 384x640 (no detections), 18.0ms\n",
      "video 1/1 (4115/4362) D:\\Predict\\test_video.mp4: 384x640 (no detections), 11.0ms\n",
      "video 1/1 (4116/4362) D:\\Predict\\test_video.mp4: 384x640 (no detections), 7.0ms\n",
      "video 1/1 (4117/4362) D:\\Predict\\test_video.mp4: 384x640 (no detections), 25.0ms\n",
      "video 1/1 (4118/4362) D:\\Predict\\test_video.mp4: 384x640 (no detections), 12.0ms\n",
      "video 1/1 (4119/4362) D:\\Predict\\test_video.mp4: 384x640 (no detections), 7.0ms\n",
      "video 1/1 (4120/4362) D:\\Predict\\test_video.mp4: 384x640 (no detections), 7.0ms\n",
      "video 1/1 (4121/4362) D:\\Predict\\test_video.mp4: 384x640 (no detections), 28.0ms\n",
      "video 1/1 (4122/4362) D:\\Predict\\test_video.mp4: 384x640 (no detections), 17.5ms\n",
      "video 1/1 (4123/4362) D:\\Predict\\test_video.mp4: 384x640 1 person, 9.0ms\n",
      "video 1/1 (4124/4362) D:\\Predict\\test_video.mp4: 384x640 1 person, 10.0ms\n",
      "video 1/1 (4125/4362) D:\\Predict\\test_video.mp4: 384x640 1 person, 18.0ms\n",
      "video 1/1 (4126/4362) D:\\Predict\\test_video.mp4: 384x640 1 person, 7.0ms\n",
      "video 1/1 (4127/4362) D:\\Predict\\test_video.mp4: 384x640 1 person, 7.0ms\n",
      "video 1/1 (4128/4362) D:\\Predict\\test_video.mp4: 384x640 1 person, 7.0ms\n",
      "video 1/1 (4129/4362) D:\\Predict\\test_video.mp4: 384x640 1 person, 17.0ms\n",
      "video 1/1 (4130/4362) D:\\Predict\\test_video.mp4: 384x640 1 person, 8.0ms\n",
      "video 1/1 (4131/4362) D:\\Predict\\test_video.mp4: 384x640 (no detections), 12.0ms\n",
      "video 1/1 (4132/4362) D:\\Predict\\test_video.mp4: 384x640 (no detections), 24.0ms\n",
      "video 1/1 (4133/4362) D:\\Predict\\test_video.mp4: 384x640 (no detections), 14.0ms\n",
      "video 1/1 (4134/4362) D:\\Predict\\test_video.mp4: 384x640 (no detections), 6.0ms\n",
      "video 1/1 (4135/4362) D:\\Predict\\test_video.mp4: 384x640 (no detections), 26.0ms\n",
      "video 1/1 (4136/4362) D:\\Predict\\test_video.mp4: 384x640 (no detections), 21.0ms\n",
      "video 1/1 (4137/4362) D:\\Predict\\test_video.mp4: 384x640 (no detections), 10.0ms\n",
      "video 1/1 (4138/4362) D:\\Predict\\test_video.mp4: 384x640 1 person, 7.0ms\n",
      "video 1/1 (4139/4362) D:\\Predict\\test_video.mp4: 384x640 1 person, 8.0ms\n",
      "video 1/1 (4140/4362) D:\\Predict\\test_video.mp4: 384x640 1 person, 7.0ms\n",
      "video 1/1 (4141/4362) D:\\Predict\\test_video.mp4: 384x640 1 person, 6.0ms\n",
      "video 1/1 (4142/4362) D:\\Predict\\test_video.mp4: 384x640 1 person, 6.0ms\n",
      "video 1/1 (4143/4362) D:\\Predict\\test_video.mp4: 384x640 1 person, 7.0ms\n",
      "video 1/1 (4144/4362) D:\\Predict\\test_video.mp4: 384x640 1 person, 6.0ms\n",
      "video 1/1 (4145/4362) D:\\Predict\\test_video.mp4: 384x640 1 person, 9.0ms\n",
      "video 1/1 (4146/4362) D:\\Predict\\test_video.mp4: 384x640 1 person, 9.0ms\n",
      "video 1/1 (4147/4362) D:\\Predict\\test_video.mp4: 384x640 1 person, 7.0ms\n",
      "video 1/1 (4148/4362) D:\\Predict\\test_video.mp4: 384x640 1 person, 6.0ms\n",
      "video 1/1 (4149/4362) D:\\Predict\\test_video.mp4: 384x640 1 person, 8.0ms\n",
      "video 1/1 (4150/4362) D:\\Predict\\test_video.mp4: 384x640 1 person, 7.0ms\n",
      "video 1/1 (4151/4362) D:\\Predict\\test_video.mp4: 384x640 (no detections), 7.0ms\n",
      "video 1/1 (4152/4362) D:\\Predict\\test_video.mp4: 384x640 (no detections), 6.0ms\n",
      "video 1/1 (4153/4362) D:\\Predict\\test_video.mp4: 384x640 1 person, 7.0ms\n",
      "video 1/1 (4154/4362) D:\\Predict\\test_video.mp4: 384x640 1 person, 8.0ms\n",
      "video 1/1 (4155/4362) D:\\Predict\\test_video.mp4: 384x640 1 person, 8.0ms\n",
      "video 1/1 (4156/4362) D:\\Predict\\test_video.mp4: 384x640 1 person, 6.0ms\n",
      "video 1/1 (4157/4362) D:\\Predict\\test_video.mp4: 384x640 1 person, 7.0ms\n",
      "video 1/1 (4158/4362) D:\\Predict\\test_video.mp4: 384x640 1 person, 8.0ms\n",
      "video 1/1 (4159/4362) D:\\Predict\\test_video.mp4: 384x640 1 person, 8.0ms\n",
      "video 1/1 (4160/4362) D:\\Predict\\test_video.mp4: 384x640 1 person, 9.0ms\n",
      "video 1/1 (4161/4362) D:\\Predict\\test_video.mp4: 384x640 1 person, 5.0ms\n",
      "video 1/1 (4162/4362) D:\\Predict\\test_video.mp4: 384x640 1 person, 6.0ms\n",
      "video 1/1 (4163/4362) D:\\Predict\\test_video.mp4: 384x640 1 person, 7.0ms\n",
      "video 1/1 (4164/4362) D:\\Predict\\test_video.mp4: 384x640 1 person, 6.0ms\n",
      "video 1/1 (4165/4362) D:\\Predict\\test_video.mp4: 384x640 1 person, 7.0ms\n",
      "video 1/1 (4166/4362) D:\\Predict\\test_video.mp4: 384x640 1 person, 9.0ms\n",
      "video 1/1 (4167/4362) D:\\Predict\\test_video.mp4: 384x640 1 person, 5.0ms\n",
      "video 1/1 (4168/4362) D:\\Predict\\test_video.mp4: 384x640 1 person, 8.0ms\n",
      "video 1/1 (4169/4362) D:\\Predict\\test_video.mp4: 384x640 1 person, 8.0ms\n",
      "video 1/1 (4170/4362) D:\\Predict\\test_video.mp4: 384x640 1 person, 6.0ms\n",
      "video 1/1 (4171/4362) D:\\Predict\\test_video.mp4: 384x640 1 person, 8.0ms\n",
      "video 1/1 (4172/4362) D:\\Predict\\test_video.mp4: 384x640 1 person, 9.0ms\n",
      "video 1/1 (4173/4362) D:\\Predict\\test_video.mp4: 384x640 1 person, 6.0ms\n",
      "video 1/1 (4174/4362) D:\\Predict\\test_video.mp4: 384x640 1 person, 9.0ms\n",
      "video 1/1 (4175/4362) D:\\Predict\\test_video.mp4: 384x640 1 person, 9.0ms\n",
      "video 1/1 (4176/4362) D:\\Predict\\test_video.mp4: 384x640 1 person, 20.0ms\n",
      "video 1/1 (4177/4362) D:\\Predict\\test_video.mp4: 384x640 1 person, 8.0ms\n",
      "video 1/1 (4178/4362) D:\\Predict\\test_video.mp4: 384x640 1 person, 8.0ms\n",
      "video 1/1 (4179/4362) D:\\Predict\\test_video.mp4: 384x640 1 person, 18.0ms\n",
      "video 1/1 (4180/4362) D:\\Predict\\test_video.mp4: 384x640 1 person, 8.0ms\n",
      "video 1/1 (4181/4362) D:\\Predict\\test_video.mp4: 384x640 1 person, 20.0ms\n",
      "video 1/1 (4182/4362) D:\\Predict\\test_video.mp4: 384x640 1 person, 9.0ms\n",
      "video 1/1 (4183/4362) D:\\Predict\\test_video.mp4: 384x640 1 person, 12.0ms\n",
      "video 1/1 (4184/4362) D:\\Predict\\test_video.mp4: 384x640 1 person, 11.0ms\n",
      "video 1/1 (4185/4362) D:\\Predict\\test_video.mp4: 384x640 1 person, 19.0ms\n",
      "video 1/1 (4186/4362) D:\\Predict\\test_video.mp4: 384x640 1 person, 14.0ms\n",
      "video 1/1 (4187/4362) D:\\Predict\\test_video.mp4: 384x640 1 person, 21.0ms\n",
      "video 1/1 (4188/4362) D:\\Predict\\test_video.mp4: 384x640 1 person, 9.0ms\n",
      "video 1/1 (4189/4362) D:\\Predict\\test_video.mp4: 384x640 1 person, 7.0ms\n",
      "video 1/1 (4190/4362) D:\\Predict\\test_video.mp4: 384x640 1 person, 7.0ms\n",
      "video 1/1 (4191/4362) D:\\Predict\\test_video.mp4: 384x640 1 person, 8.0ms\n",
      "video 1/1 (4192/4362) D:\\Predict\\test_video.mp4: 384x640 1 person, 8.0ms\n",
      "video 1/1 (4193/4362) D:\\Predict\\test_video.mp4: 384x640 1 person, 10.0ms\n",
      "video 1/1 (4194/4362) D:\\Predict\\test_video.mp4: 384x640 1 person, 5.0ms\n",
      "video 1/1 (4195/4362) D:\\Predict\\test_video.mp4: 384x640 1 person, 6.0ms\n",
      "video 1/1 (4196/4362) D:\\Predict\\test_video.mp4: 384x640 1 person, 8.0ms\n",
      "video 1/1 (4197/4362) D:\\Predict\\test_video.mp4: 384x640 1 person, 6.0ms\n",
      "video 1/1 (4198/4362) D:\\Predict\\test_video.mp4: 384x640 1 person, 6.0ms\n",
      "video 1/1 (4199/4362) D:\\Predict\\test_video.mp4: 384x640 1 person, 8.0ms\n",
      "video 1/1 (4200/4362) D:\\Predict\\test_video.mp4: 384x640 1 person, 8.0ms\n",
      "video 1/1 (4201/4362) D:\\Predict\\test_video.mp4: 384x640 1 person, 7.0ms\n",
      "video 1/1 (4202/4362) D:\\Predict\\test_video.mp4: 384x640 1 person, 7.0ms\n",
      "video 1/1 (4203/4362) D:\\Predict\\test_video.mp4: 384x640 1 person, 5.0ms\n",
      "video 1/1 (4204/4362) D:\\Predict\\test_video.mp4: 384x640 1 person, 6.0ms\n",
      "video 1/1 (4205/4362) D:\\Predict\\test_video.mp4: 384x640 1 person, 7.0ms\n",
      "video 1/1 (4206/4362) D:\\Predict\\test_video.mp4: 384x640 1 person, 5.0ms\n",
      "video 1/1 (4207/4362) D:\\Predict\\test_video.mp4: 384x640 1 person, 7.0ms\n",
      "video 1/1 (4208/4362) D:\\Predict\\test_video.mp4: 384x640 1 person, 6.0ms\n",
      "video 1/1 (4209/4362) D:\\Predict\\test_video.mp4: 384x640 1 person, 6.0ms\n",
      "video 1/1 (4210/4362) D:\\Predict\\test_video.mp4: 384x640 1 person, 5.0ms\n",
      "video 1/1 (4211/4362) D:\\Predict\\test_video.mp4: 384x640 1 person, 7.0ms\n",
      "video 1/1 (4212/4362) D:\\Predict\\test_video.mp4: 384x640 1 person, 9.0ms\n",
      "video 1/1 (4213/4362) D:\\Predict\\test_video.mp4: 384x640 1 person, 10.0ms\n",
      "video 1/1 (4214/4362) D:\\Predict\\test_video.mp4: 384x640 1 person, 7.0ms\n",
      "video 1/1 (4215/4362) D:\\Predict\\test_video.mp4: 384x640 1 person, 8.0ms\n",
      "video 1/1 (4216/4362) D:\\Predict\\test_video.mp4: 384x640 1 person, 5.0ms\n",
      "video 1/1 (4217/4362) D:\\Predict\\test_video.mp4: 384x640 1 person, 7.0ms\n",
      "video 1/1 (4218/4362) D:\\Predict\\test_video.mp4: 384x640 1 person, 8.0ms\n",
      "video 1/1 (4219/4362) D:\\Predict\\test_video.mp4: 384x640 1 person, 9.0ms\n",
      "video 1/1 (4220/4362) D:\\Predict\\test_video.mp4: 384x640 1 person, 7.0ms\n",
      "video 1/1 (4221/4362) D:\\Predict\\test_video.mp4: 384x640 1 person, 8.0ms\n",
      "video 1/1 (4222/4362) D:\\Predict\\test_video.mp4: 384x640 1 person, 7.0ms\n",
      "video 1/1 (4223/4362) D:\\Predict\\test_video.mp4: 384x640 1 person, 7.0ms\n",
      "video 1/1 (4224/4362) D:\\Predict\\test_video.mp4: 384x640 1 person, 7.0ms\n",
      "video 1/1 (4225/4362) D:\\Predict\\test_video.mp4: 384x640 1 person, 8.0ms\n",
      "video 1/1 (4226/4362) D:\\Predict\\test_video.mp4: 384x640 1 person, 7.0ms\n",
      "video 1/1 (4227/4362) D:\\Predict\\test_video.mp4: 384x640 1 person, 9.0ms\n",
      "video 1/1 (4228/4362) D:\\Predict\\test_video.mp4: 384x640 1 person, 9.0ms\n",
      "video 1/1 (4229/4362) D:\\Predict\\test_video.mp4: 384x640 1 person, 6.0ms\n",
      "video 1/1 (4230/4362) D:\\Predict\\test_video.mp4: 384x640 1 person, 14.0ms\n",
      "video 1/1 (4231/4362) D:\\Predict\\test_video.mp4: 384x640 1 person, 7.0ms\n",
      "video 1/1 (4232/4362) D:\\Predict\\test_video.mp4: 384x640 1 person, 16.0ms\n",
      "video 1/1 (4233/4362) D:\\Predict\\test_video.mp4: 384x640 (no detections), 12.0ms\n",
      "video 1/1 (4234/4362) D:\\Predict\\test_video.mp4: 384x640 (no detections), 8.0ms\n",
      "video 1/1 (4235/4362) D:\\Predict\\test_video.mp4: 384x640 (no detections), 23.0ms\n",
      "video 1/1 (4236/4362) D:\\Predict\\test_video.mp4: 384x640 1 person, 7.0ms\n",
      "video 1/1 (4237/4362) D:\\Predict\\test_video.mp4: 384x640 1 person, 6.0ms\n",
      "video 1/1 (4238/4362) D:\\Predict\\test_video.mp4: 384x640 1 person, 12.0ms\n",
      "video 1/1 (4239/4362) D:\\Predict\\test_video.mp4: 384x640 1 person, 12.0ms\n",
      "video 1/1 (4240/4362) D:\\Predict\\test_video.mp4: 384x640 1 person, 6.0ms\n",
      "video 1/1 (4241/4362) D:\\Predict\\test_video.mp4: 384x640 1 person, 12.0ms\n",
      "video 1/1 (4242/4362) D:\\Predict\\test_video.mp4: 384x640 1 person, 9.0ms\n",
      "video 1/1 (4243/4362) D:\\Predict\\test_video.mp4: 384x640 1 person, 6.0ms\n",
      "video 1/1 (4244/4362) D:\\Predict\\test_video.mp4: 384x640 1 person, 7.0ms\n",
      "video 1/1 (4245/4362) D:\\Predict\\test_video.mp4: 384x640 1 person, 17.0ms\n",
      "video 1/1 (4246/4362) D:\\Predict\\test_video.mp4: 384x640 (no detections), 13.0ms\n",
      "video 1/1 (4247/4362) D:\\Predict\\test_video.mp4: 384x640 1 person, 12.0ms\n",
      "video 1/1 (4248/4362) D:\\Predict\\test_video.mp4: 384x640 1 person, 9.0ms\n",
      "video 1/1 (4249/4362) D:\\Predict\\test_video.mp4: 384x640 1 person, 9.0ms\n",
      "video 1/1 (4250/4362) D:\\Predict\\test_video.mp4: 384x640 1 person, 16.0ms\n",
      "video 1/1 (4251/4362) D:\\Predict\\test_video.mp4: 384x640 1 person, 7.0ms\n",
      "video 1/1 (4252/4362) D:\\Predict\\test_video.mp4: 384x640 1 person, 7.0ms\n",
      "video 1/1 (4253/4362) D:\\Predict\\test_video.mp4: 384x640 1 person, 11.0ms\n",
      "video 1/1 (4254/4362) D:\\Predict\\test_video.mp4: 384x640 1 person, 12.0ms\n",
      "video 1/1 (4255/4362) D:\\Predict\\test_video.mp4: 384x640 1 person, 14.0ms\n",
      "video 1/1 (4256/4362) D:\\Predict\\test_video.mp4: 384x640 1 person, 6.0ms\n",
      "video 1/1 (4257/4362) D:\\Predict\\test_video.mp4: 384x640 1 person, 10.0ms\n",
      "video 1/1 (4258/4362) D:\\Predict\\test_video.mp4: 384x640 1 person, 21.0ms\n",
      "video 1/1 (4259/4362) D:\\Predict\\test_video.mp4: 384x640 1 person, 9.0ms\n",
      "video 1/1 (4260/4362) D:\\Predict\\test_video.mp4: 384x640 1 person, 8.0ms\n",
      "video 1/1 (4261/4362) D:\\Predict\\test_video.mp4: 384x640 1 person, 8.0ms\n",
      "video 1/1 (4262/4362) D:\\Predict\\test_video.mp4: 384x640 1 person, 11.0ms\n",
      "video 1/1 (4263/4362) D:\\Predict\\test_video.mp4: 384x640 1 person, 14.0ms\n",
      "video 1/1 (4264/4362) D:\\Predict\\test_video.mp4: 384x640 1 person, 12.0ms\n",
      "video 1/1 (4265/4362) D:\\Predict\\test_video.mp4: 384x640 1 person, 22.0ms\n",
      "video 1/1 (4266/4362) D:\\Predict\\test_video.mp4: 384x640 1 person, 11.0ms\n",
      "video 1/1 (4267/4362) D:\\Predict\\test_video.mp4: 384x640 1 person, 22.0ms\n",
      "video 1/1 (4268/4362) D:\\Predict\\test_video.mp4: 384x640 1 person, 7.0ms\n",
      "video 1/1 (4269/4362) D:\\Predict\\test_video.mp4: 384x640 1 person, 14.0ms\n",
      "video 1/1 (4270/4362) D:\\Predict\\test_video.mp4: 384x640 1 person, 14.0ms\n",
      "video 1/1 (4271/4362) D:\\Predict\\test_video.mp4: 384x640 1 person, 12.0ms\n",
      "video 1/1 (4272/4362) D:\\Predict\\test_video.mp4: 384x640 1 person, 16.0ms\n",
      "video 1/1 (4273/4362) D:\\Predict\\test_video.mp4: 384x640 1 person, 16.0ms\n",
      "video 1/1 (4274/4362) D:\\Predict\\test_video.mp4: 384x640 1 person, 5.0ms\n",
      "video 1/1 (4275/4362) D:\\Predict\\test_video.mp4: 384x640 1 person, 8.0ms\n",
      "video 1/1 (4276/4362) D:\\Predict\\test_video.mp4: 384x640 1 person, 12.0ms\n",
      "video 1/1 (4277/4362) D:\\Predict\\test_video.mp4: 384x640 1 person, 11.0ms\n",
      "video 1/1 (4278/4362) D:\\Predict\\test_video.mp4: 384x640 1 person, 16.0ms\n",
      "video 1/1 (4279/4362) D:\\Predict\\test_video.mp4: 384x640 1 person, 15.0ms\n",
      "video 1/1 (4280/4362) D:\\Predict\\test_video.mp4: 384x640 1 person, 16.0ms\n",
      "video 1/1 (4281/4362) D:\\Predict\\test_video.mp4: 384x640 1 person, 9.0ms\n",
      "video 1/1 (4282/4362) D:\\Predict\\test_video.mp4: 384x640 1 person, 6.0ms\n",
      "video 1/1 (4283/4362) D:\\Predict\\test_video.mp4: 384x640 1 guns, 1 person, 17.0ms\n",
      "video 1/1 (4284/4362) D:\\Predict\\test_video.mp4: 384x640 1 person, 8.0ms\n",
      "video 1/1 (4285/4362) D:\\Predict\\test_video.mp4: 384x640 1 person, 12.0ms\n",
      "video 1/1 (4286/4362) D:\\Predict\\test_video.mp4: 384x640 1 person, 13.0ms\n",
      "video 1/1 (4287/4362) D:\\Predict\\test_video.mp4: 384x640 1 person, 12.0ms\n",
      "video 1/1 (4288/4362) D:\\Predict\\test_video.mp4: 384x640 1 person, 12.0ms\n",
      "video 1/1 (4289/4362) D:\\Predict\\test_video.mp4: 384x640 1 person, 9.0ms\n",
      "video 1/1 (4290/4362) D:\\Predict\\test_video.mp4: 384x640 1 person, 17.0ms\n",
      "video 1/1 (4291/4362) D:\\Predict\\test_video.mp4: 384x640 1 person, 21.0ms\n",
      "video 1/1 (4292/4362) D:\\Predict\\test_video.mp4: 384x640 1 person, 6.0ms\n",
      "video 1/1 (4293/4362) D:\\Predict\\test_video.mp4: 384x640 1 person, 16.0ms\n",
      "video 1/1 (4294/4362) D:\\Predict\\test_video.mp4: 384x640 1 person, 11.0ms\n",
      "video 1/1 (4295/4362) D:\\Predict\\test_video.mp4: 384x640 1 person, 11.0ms\n",
      "video 1/1 (4296/4362) D:\\Predict\\test_video.mp4: 384x640 1 person, 13.4ms\n",
      "video 1/1 (4297/4362) D:\\Predict\\test_video.mp4: 384x640 1 person, 12.0ms\n",
      "video 1/1 (4298/4362) D:\\Predict\\test_video.mp4: 384x640 1 person, 12.0ms\n",
      "video 1/1 (4299/4362) D:\\Predict\\test_video.mp4: 384x640 1 person, 11.0ms\n",
      "video 1/1 (4300/4362) D:\\Predict\\test_video.mp4: 384x640 1 person, 16.0ms\n",
      "video 1/1 (4301/4362) D:\\Predict\\test_video.mp4: 384x640 1 person, 16.5ms\n",
      "video 1/1 (4302/4362) D:\\Predict\\test_video.mp4: 384x640 1 person, 12.0ms\n",
      "video 1/1 (4303/4362) D:\\Predict\\test_video.mp4: 384x640 1 person, 16.0ms\n",
      "video 1/1 (4304/4362) D:\\Predict\\test_video.mp4: 384x640 1 person, 11.0ms\n",
      "video 1/1 (4305/4362) D:\\Predict\\test_video.mp4: 384x640 1 person, 9.0ms\n",
      "video 1/1 (4306/4362) D:\\Predict\\test_video.mp4: 384x640 1 person, 8.0ms\n",
      "video 1/1 (4307/4362) D:\\Predict\\test_video.mp4: 384x640 1 person, 12.0ms\n",
      "video 1/1 (4308/4362) D:\\Predict\\test_video.mp4: 384x640 1 person, 12.0ms\n",
      "video 1/1 (4309/4362) D:\\Predict\\test_video.mp4: 384x640 1 person, 22.0ms\n",
      "video 1/1 (4310/4362) D:\\Predict\\test_video.mp4: 384x640 1 person, 22.0ms\n",
      "video 1/1 (4311/4362) D:\\Predict\\test_video.mp4: 384x640 1 person, 6.0ms\n",
      "video 1/1 (4312/4362) D:\\Predict\\test_video.mp4: 384x640 1 person, 15.0ms\n",
      "video 1/1 (4313/4362) D:\\Predict\\test_video.mp4: 384x640 1 person, 16.0ms\n",
      "video 1/1 (4314/4362) D:\\Predict\\test_video.mp4: 384x640 1 person, 16.0ms\n",
      "video 1/1 (4315/4362) D:\\Predict\\test_video.mp4: 384x640 1 person, 10.0ms\n",
      "video 1/1 (4316/4362) D:\\Predict\\test_video.mp4: 384x640 1 person, 16.0ms\n",
      "video 1/1 (4317/4362) D:\\Predict\\test_video.mp4: 384x640 1 person, 16.0ms\n",
      "video 1/1 (4318/4362) D:\\Predict\\test_video.mp4: 384x640 1 person, 15.0ms\n",
      "video 1/1 (4319/4362) D:\\Predict\\test_video.mp4: 384x640 1 person, 19.0ms\n",
      "video 1/1 (4320/4362) D:\\Predict\\test_video.mp4: 384x640 1 person, 16.0ms\n",
      "video 1/1 (4321/4362) D:\\Predict\\test_video.mp4: 384x640 1 person, 6.0ms\n",
      "video 1/1 (4322/4362) D:\\Predict\\test_video.mp4: 384x640 1 person, 9.0ms\n",
      "video 1/1 (4323/4362) D:\\Predict\\test_video.mp4: 384x640 1 person, 13.0ms\n",
      "video 1/1 (4324/4362) D:\\Predict\\test_video.mp4: 384x640 1 person, 8.0ms\n",
      "video 1/1 (4325/4362) D:\\Predict\\test_video.mp4: 384x640 1 person, 12.0ms\n",
      "video 1/1 (4326/4362) D:\\Predict\\test_video.mp4: 384x640 1 person, 20.0ms\n",
      "video 1/1 (4327/4362) D:\\Predict\\test_video.mp4: 384x640 1 person, 7.0ms\n",
      "video 1/1 (4328/4362) D:\\Predict\\test_video.mp4: 384x640 1 person, 12.0ms\n",
      "video 1/1 (4329/4362) D:\\Predict\\test_video.mp4: 384x640 1 person, 7.0ms\n",
      "video 1/1 (4330/4362) D:\\Predict\\test_video.mp4: 384x640 1 person, 9.0ms\n",
      "video 1/1 (4331/4362) D:\\Predict\\test_video.mp4: 384x640 1 person, 21.0ms\n",
      "video 1/1 (4332/4362) D:\\Predict\\test_video.mp4: 384x640 1 person, 6.0ms\n",
      "video 1/1 (4333/4362) D:\\Predict\\test_video.mp4: 384x640 1 person, 10.0ms\n",
      "video 1/1 (4334/4362) D:\\Predict\\test_video.mp4: 384x640 1 person, 7.0ms\n",
      "video 1/1 (4335/4362) D:\\Predict\\test_video.mp4: 384x640 1 person, 17.0ms\n",
      "video 1/1 (4336/4362) D:\\Predict\\test_video.mp4: 384x640 1 person, 13.0ms\n",
      "video 1/1 (4337/4362) D:\\Predict\\test_video.mp4: 384x640 1 person, 6.0ms\n",
      "video 1/1 (4338/4362) D:\\Predict\\test_video.mp4: 384x640 1 person, 6.0ms\n",
      "video 1/1 (4339/4362) D:\\Predict\\test_video.mp4: 384x640 1 person, 6.0ms\n",
      "video 1/1 (4340/4362) D:\\Predict\\test_video.mp4: 384x640 1 person, 10.0ms\n",
      "video 1/1 (4341/4362) D:\\Predict\\test_video.mp4: 384x640 1 person, 6.0ms\n",
      "video 1/1 (4342/4362) D:\\Predict\\test_video.mp4: 384x640 1 person, 6.0ms\n",
      "video 1/1 (4343/4362) D:\\Predict\\test_video.mp4: 384x640 1 person, 5.0ms\n",
      "video 1/1 (4344/4362) D:\\Predict\\test_video.mp4: 384x640 1 person, 6.0ms\n",
      "video 1/1 (4345/4362) D:\\Predict\\test_video.mp4: 384x640 1 person, 9.0ms\n",
      "video 1/1 (4346/4362) D:\\Predict\\test_video.mp4: 384x640 1 person, 6.0ms\n",
      "video 1/1 (4347/4362) D:\\Predict\\test_video.mp4: 384x640 1 person, 8.0ms\n",
      "video 1/1 (4348/4362) D:\\Predict\\test_video.mp4: 384x640 1 person, 8.0ms\n",
      "video 1/1 (4349/4362) D:\\Predict\\test_video.mp4: 384x640 1 person, 7.0ms\n",
      "video 1/1 (4350/4362) D:\\Predict\\test_video.mp4: 384x640 1 person, 7.0ms\n",
      "video 1/1 (4351/4362) D:\\Predict\\test_video.mp4: 384x640 1 person, 7.0ms\n",
      "video 1/1 (4352/4362) D:\\Predict\\test_video.mp4: 384x640 1 person, 8.0ms\n",
      "video 1/1 (4353/4362) D:\\Predict\\test_video.mp4: 384x640 1 person, 8.0ms\n",
      "video 1/1 (4354/4362) D:\\Predict\\test_video.mp4: 384x640 1 person, 8.0ms\n",
      "video 1/1 (4355/4362) D:\\Predict\\test_video.mp4: 384x640 1 person, 6.0ms\n",
      "video 1/1 (4356/4362) D:\\Predict\\test_video.mp4: 384x640 1 person, 5.0ms\n",
      "video 1/1 (4357/4362) D:\\Predict\\test_video.mp4: 384x640 1 person, 6.0ms\n",
      "video 1/1 (4358/4362) D:\\Predict\\test_video.mp4: 384x640 1 person, 8.0ms\n",
      "video 1/1 (4359/4362) D:\\Predict\\test_video.mp4: 384x640 1 person, 7.0ms\n",
      "video 1/1 (4360/4362) D:\\Predict\\test_video.mp4: 384x640 1 person, 8.0ms\n",
      "video 1/1 (4361/4362) D:\\Predict\\test_video.mp4: 384x640 1 person, 7.0ms\n",
      "video 1/1 (4362/4362) D:\\Predict\\test_video.mp4: 384x640 1 person, 6.0ms\n",
      "Speed: 2.0ms preprocess, 8.1ms inference, 1.4ms postprocess per image at shape (1, 3, 384, 640)\n",
      "Results saved to \u001B[1mruns\\detect\\predict\u001B[0m\n",
      "рџ’Ў Learn more at https://docs.ultralytics.com/modes/predict\n"
     ]
    }
   ],
   "source": [
    "!yolo task=detect mode=predict model=$model source=$source show=True conf=0.6 imgsz=640"
   ],
   "metadata": {
    "collapsed": false,
    "pycharm": {
     "name": "#%%\n"
    }
   }
  },
  {
   "cell_type": "code",
   "execution_count": 12,
   "outputs": [
    {
     "data": {
      "text/plain": "True"
     },
     "execution_count": 12,
     "metadata": {},
     "output_type": "execute_result"
    }
   ],
   "source": [
    "task.upload_artifact(name='test_video_predict', artifact_object='C:\\\\Users\\gibad\\PycharmProjects\\Yolo8nGD\\\\runs\\detect\\predict\\\\test_video.avi')"
   ],
   "metadata": {
    "collapsed": false,
    "pycharm": {
     "name": "#%%\n"
    }
   }
  },
  {
   "cell_type": "code",
   "execution_count": 13,
   "outputs": [],
   "source": [
    "task.close()"
   ],
   "metadata": {
    "collapsed": false,
    "pycharm": {
     "name": "#%%\n"
    }
   }
  }
 ],
 "metadata": {
  "kernelspec": {
   "display_name": "Python 3",
   "language": "python",
   "name": "python3"
  },
  "language_info": {
   "codemirror_mode": {
    "name": "ipython",
    "version": 2
   },
   "file_extension": ".py",
   "mimetype": "text/x-python",
   "name": "python",
   "nbconvert_exporter": "python",
   "pygments_lexer": "ipython2",
   "version": "2.7.6"
  }
 },
 "nbformat": 4,
 "nbformat_minor": 0
}